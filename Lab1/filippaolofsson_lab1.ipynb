{
  "nbformat": 4,
  "nbformat_minor": 0,
  "metadata": {
    "colab": {
      "name": "FilippaOlofsson_Lab1",
      "provenance": [],
      "include_colab_link": true
    },
    "kernelspec": {
      "name": "python3",
      "display_name": "Python 3"
    }
  },
  "cells": [
    {
      "cell_type": "markdown",
      "metadata": {
        "id": "view-in-github",
        "colab_type": "text"
      },
      "source": [
        "<a href=\"https://colab.research.google.com/github/johanhoffman/DD2363_VT22/blob/filippaolofsson-lab1/Lab1/filippaolofsson_lab1.ipynb\" target=\"_parent\"><img src=\"https://colab.research.google.com/assets/colab-badge.svg\" alt=\"Open In Colab\"/></a>"
      ]
    },
    {
      "cell_type": "markdown",
      "metadata": {
        "id": "6RgtXlfYO_i7"
      },
      "source": [
        "# **Lab 1: Introduction**\n",
        "**Filippa Olofsson**"
      ]
    },
    {
      "cell_type": "markdown",
      "metadata": {
        "id": "9x_J5FVuPzbm"
      },
      "source": [
        "# **Abstract**"
      ]
    },
    {
      "cell_type": "markdown",
      "metadata": {
        "id": "yJipbXtnjrJZ"
      },
      "source": [
        "This introductive lab in Scientific computing is covering some basic operations in Linear Algebra. Scalar product, matrix-vector product, matrix-matrix product, euclidean norm and distance."
      ]
    },
    {
      "cell_type": "markdown",
      "metadata": {
        "id": "OkT8J7uOWpT3"
      },
      "source": [
        "#**About the code**"
      ]
    },
    {
      "cell_type": "markdown",
      "metadata": {
        "id": "HmB2noTr1Oyo"
      },
      "source": [
        "A short statement on who is the author of the file, and if the code is distributed under a certain license. "
      ]
    },
    {
      "cell_type": "code",
      "metadata": {
        "id": "Pdll1Xc9WP0e",
        "colab": {
          "base_uri": "https://localhost:8080/",
          "height": 35
        },
        "outputId": "b2f77d03-7922-4669-9694-2e32a4207913"
      },
      "source": [
        "\"\"\"This program is a template for lab reports in the course\"\"\"\n",
        "\"\"\"DD2363 Methods in Scientific Computing, \"\"\"\n",
        "\"\"\"KTH Royal Institute of Technology, Stockholm, Sweden.\"\"\"\n",
        "\n",
        "# Copyright (C) 2020 Johan Hoffman (jhoffman@kth.se)\n",
        "\n",
        "# This file is part of the course DD2365 Advanced Computation in Fluid Mechanics\n",
        "# KTH Royal Institute of Technology, Stockholm, Sweden\n",
        "#\n",
        "# This is free software: you can redistribute it and/or modify\n",
        "# it under the terms of the GNU Lesser General Public License as published by\n",
        "# the Free Software Foundation, either version 3 of the License, or\n",
        "# (at your option) any later version.\n",
        "\n",
        "# This template is maintained by Johan Hoffman\n",
        "# Please report problems to jhoffman@kth.se"
      ],
      "execution_count": null,
      "outputs": [
        {
          "output_type": "execute_result",
          "data": {
            "application/vnd.google.colaboratory.intrinsic+json": {
              "type": "string"
            },
            "text/plain": [
              "'KTH Royal Institute of Technology, Stockholm, Sweden.'"
            ]
          },
          "metadata": {},
          "execution_count": 30
        }
      ]
    },
    {
      "cell_type": "markdown",
      "metadata": {
        "id": "28xLGz8JX3Hh"
      },
      "source": [
        "# **Set up environment**"
      ]
    },
    {
      "cell_type": "markdown",
      "metadata": {
        "id": "D2PYNusD08Wa"
      },
      "source": [
        "To have access to the neccessary modules you have to run this cell. If you need additional modules, this is where you add them. "
      ]
    },
    {
      "cell_type": "code",
      "metadata": {
        "id": "Xw7VlErAX7NS"
      },
      "source": [
        "# Load neccessary modules.\n",
        "from google.colab import files\n",
        "\n",
        "import time\n",
        "import numpy as np\n",
        "\n",
        "#try:\n",
        "#    from dolfin import *; from mshr import *\n",
        "#except ImportError as e:\n",
        "#    !apt-get install -y -qq software-properties-common \n",
        "#    !add-apt-repository -y ppa:fenics-packages/fenics\n",
        "#    !apt-get update -qq\n",
        "#    !apt install -y --no-install-recommends fenics\n",
        "#    from dolfin import *; from mshr import *\n",
        "    \n",
        "#import dolfin.common.plotting as fenicsplot\n",
        "\n",
        "from matplotlib import pyplot as plt\n",
        "from matplotlib import tri\n",
        "from matplotlib import axes\n",
        "from mpl_toolkits.mplot3d import Axes3D"
      ],
      "execution_count": null,
      "outputs": []
    },
    {
      "cell_type": "markdown",
      "metadata": {
        "id": "gnO3lhAigLev"
      },
      "source": [
        "# **Introduction**"
      ]
    },
    {
      "cell_type": "markdown",
      "metadata": {
        "id": "l5zMzgPlRAF6"
      },
      "source": [
        "The lab consists of 5 different assignments: Scalar product, matrix-vector product, matrix-matrix product, euclidean norm and distance. Each assignment should be solved with a given form of input and output. All code is tested with some basic matrices and vectors. Some error-handeling has been made. \n"
      ]
    },
    {
      "cell_type": "markdown",
      "metadata": {
        "id": "jOQvukXZq5U5"
      },
      "source": [
        "# **Method**"
      ]
    },
    {
      "cell_type": "markdown",
      "metadata": {
        "id": "I5Kf3qRyY5J5"
      },
      "source": [
        "###1. Scalar product"
      ]
    },
    {
      "cell_type": "markdown",
      "source": [
        "The scalar product of two arrays are calculated trough\n",
        "\n",
        "$x \\cdot y = \\sum_{i=1}^{n}x_iy_y$\n",
        "If the two vectors are of different sizes, the function return \"No answer\". "
      ],
      "metadata": {
        "id": "TtycAgDiuNkM"
      }
    },
    {
      "cell_type": "code",
      "source": [
        "#Input: vectors x, y\n",
        "#Output: scalar product (x, y)\n",
        "\n",
        "def scalar_product(x, y):\n",
        "  s_x = np.shape(x)\n",
        "  s_y = np.shape(y)\n",
        "  if s_x[0] == s_y[0]:\n",
        "    scalar = 0\n",
        "    for i in range(len(x)):\n",
        "      scalar += x[i]*y[i]\n",
        "    return scalar\n",
        "  else:\n",
        "    return \"No answer\"\n"
      ],
      "metadata": {
        "id": "fLyWb9V49cHg"
      },
      "execution_count": null,
      "outputs": []
    },
    {
      "cell_type": "markdown",
      "source": [
        "###2. Matrix-vector product"
      ],
      "metadata": {
        "id": "Y_tcWxEC9neV"
      }
    },
    {
      "cell_type": "markdown",
      "source": [
        "b = Ax, where A has the shape of (m x n) and x (n x 1). The matrix vector multiplication will result in an vector with m rows and 1 column.\n",
        "\\begin{equation}\n",
        "Ax=\n",
        "\\begin{bmatrix}\n",
        "    a_{11} & a_{12} & a_{13} & \\dots  & a_{1n} \\\\\n",
        "    a_{21} & a_{22} & a_{23} & \\dots  & a_{2n} \\\\\n",
        "    \\vdots & \\vdots & \\vdots & \\ddots & \\vdots \\\\\n",
        "    a_{m1} & a_{m2} & a_{m3} & \\dots  & a_{mn}\n",
        "\\end{bmatrix}\n",
        "\\begin{bmatrix}\n",
        "    x_{1}\\\\\n",
        "    x_{2}\\\\\n",
        "    \\vdots\\\\\n",
        "    x_{n} \n",
        "\\end{bmatrix}\n",
        "=\n",
        "\\begin{bmatrix}\n",
        "    a_{11}\\cdot x_1 + ... +a_{1n}\\cdot x_n\\\\\n",
        "    a_{21} \\cdot x_1 +...+ a_{2n}\\cdot x_n \\\\\n",
        "    \\vdots \\\\\n",
        "    a_{m1} \\cdot x_{1} +...+ a_{mn}\\cdot x_n \n",
        "\\end{bmatrix}\n",
        "\\end{equation}"
      ],
      "metadata": {
        "id": "I_IbXPfqwiW3"
      }
    },
    {
      "cell_type": "code",
      "source": [
        "#Input: vector x, matrix A\n",
        "#Output: matrix-vector product b=Ax\n",
        "\n",
        "def matrix_vector_product(x, A):\n",
        "  m, n = np.shape(A)  # row, column\n",
        "  nx = np.shape(x) \n",
        "  if n == nx[0]:\n",
        "    b = np.zeros((m, 1))\n",
        "    for i in range(m): \n",
        "      sum = 0\n",
        "      for j in range(n):\n",
        "        sum += A[i][j]*x[j]\n",
        "      b[i] = sum\n",
        "    return b\n",
        "  else:\n",
        "    return \"No answer\""
      ],
      "metadata": {
        "id": "VWFkYe1-9w4D"
      },
      "execution_count": null,
      "outputs": []
    },
    {
      "cell_type": "markdown",
      "source": [
        "### 3. Matrix-matrix product\n",
        "\n"
      ],
      "metadata": {
        "id": "ztar2EeJ_DNx"
      }
    },
    {
      "cell_type": "markdown",
      "source": [
        "C = AB, where A has shape (m x n) and B (n x k). This will result in a matrix C with shape (m x k)\n",
        "\\begin{equation}\n",
        "AB=\n",
        "\\begin{bmatrix}\n",
        "    a_{11} & a_{12} & \\dots  & a_{1n} \\\\\n",
        "    a_{21} & a_{22} & \\dots  & a_{2n} \\\\\n",
        "    \\vdots & \\vdots & \\ddots & \\vdots \\\\\n",
        "    a_{m1} & a_{m2} & \\dots  & a_{mn}\n",
        "\\end{bmatrix}\n",
        "\\begin{bmatrix}\n",
        "    b_{11} & b_{12} & \\dots  & b_{1k} \\\\\n",
        "    a_{21} & a_{22} & \\dots  & a_{2k} \\\\\n",
        "    \\vdots & \\vdots & \\ddots & \\vdots \\\\\n",
        "    b_{n1} & b_{n2} & \\dots  & b_{nk}\n",
        "\\end{bmatrix}\n",
        "= C \n",
        "\\end{equation}"
      ],
      "metadata": {
        "id": "afLD66ZQ50ux"
      }
    },
    {
      "cell_type": "code",
      "source": [
        "#Input: matrices A, B\n",
        "#Output: matrix-matrix product C=AB\n",
        "\n",
        "def matrix_matrix_product(A, B):\n",
        "  m_a, n_a = np.shape(A)\n",
        "  m_b, n_b = np.shape(B)\n",
        "  C = np.zeros((m_a, n_b))\n",
        "  if n_a != m_b:\n",
        "    return \"No answer\"\n",
        "  else:\n",
        "    for i in range(m_a): # for each row in A\n",
        "      for j in range(n_b): # for each column i B\n",
        "        sum = 0\n",
        "        for k in range(n_a): # for each column in A\n",
        "          sum += A[i][k] * B[k][j]\n",
        "        C[i][j] = sum\n",
        "    return C\n"
      ],
      "metadata": {
        "id": "ijXmXwaq_KKH"
      },
      "execution_count": null,
      "outputs": []
    },
    {
      "cell_type": "markdown",
      "source": [
        "### 4. Euclidean norm"
      ],
      "metadata": {
        "id": "idftJ3Zy_vOb"
      }
    },
    {
      "cell_type": "markdown",
      "source": [
        "To calculate the euclidean norm (2-norm) we take the each element in the array squared + each other and then the square root of that. Return a scalar, the euclidean norm.\n",
        "\n",
        "∥x∥ = $\\sqrt{(x_1^2 + x_2^2 + ... + x_n^2)}$\n"
      ],
      "metadata": {
        "id": "CzNDpETXALtw"
      }
    },
    {
      "cell_type": "code",
      "source": [
        "#Input: vector x \n",
        "#Output: Euclidian norm ||x||\n",
        "\n",
        "def euclidian_norm(x):\n",
        "  sq_sum = 0\n",
        "  for i in range(len(x)):\n",
        "    sq_sum += x[i]**2\n",
        "  e_norm = sq_sum**(1/2)\n",
        "  return e_norm\n"
      ],
      "metadata": {
        "id": "ePfpol7s_3cL"
      },
      "execution_count": null,
      "outputs": []
    },
    {
      "cell_type": "markdown",
      "source": [
        "### 5. Euclidean distance"
      ],
      "metadata": {
        "id": "0Kj7KJ7ABak0"
      }
    },
    {
      "cell_type": "markdown",
      "source": [
        "The Euclidean distance between two vectors are calculated through:\n",
        "\n",
        "∥x-y∥ = $\\sqrt{(x_1 -y_1)^2 + (x_2-y_2)^2 + ... + (x_n - y_n)^2}$"
      ],
      "metadata": {
        "id": "rmyy0ykoAb4W"
      }
    },
    {
      "cell_type": "code",
      "source": [
        "#Input: vectors x and y\n",
        "#Output: Euclidian distance ||x-y||\n",
        "\n",
        "def euclidian_dist(x, y):\n",
        "  if len(x) != len(y):\n",
        "    return \"No answer\"\n",
        "  else:\n",
        "    sum_dist = 0\n",
        "    for i in range(len(x)):\n",
        "      sum_dist += (x[i] - y[i])**2\n",
        "    e_dist = sum_dist**(1/2)\n",
        "    return e_dist"
      ],
      "metadata": {
        "id": "qdnNC2djBZv5"
      },
      "execution_count": null,
      "outputs": []
    },
    {
      "cell_type": "markdown",
      "metadata": {
        "id": "SsQLT38gVbn_"
      },
      "source": [
        "# **Results**"
      ]
    },
    {
      "cell_type": "markdown",
      "source": [
        "In order to test the accuracy of my algorithms I have constructed some basic tests. A few that should work and a few where an error should be raised. "
      ],
      "metadata": {
        "id": "C9ZE7M3BE8pn"
      }
    },
    {
      "cell_type": "code",
      "source": [
        "# 4 test arrays\n",
        "a1 = np.array([1, 2])\n",
        "a2 = np.array([2, 8, 1])\n",
        "a3 = np.array([5, 1, 2, 3])\n",
        "a4 = np.array([5, 1, 3])\n",
        "\n",
        "# 4 test matrices\n",
        "m1 = np.array([[1, 2], [3, 4]])\n",
        "m2 = np.array([[2, 3], [1, 1]])\n",
        "m3 = np.array([[3, 3],\n",
        "              [2, 1],\n",
        "              [1, 1]])\n",
        "m4 = np.ones((3, 6))\n",
        "\n",
        "# Tests 1: scalar product\n",
        "assert scalar_product(a1, a2) == \"No answer\", \"Should be 'No answer'\"\n",
        "assert scalar_product(a2, a4) == 21, \"Should be 21\"\n",
        "\n",
        "# Tests 2: matrix-vector product\n",
        "assert (matrix_vector_product(a1, m3) == np.array([[9], [4], [3]])).all()\n",
        "assert (matrix_vector_product(a1, m1) == np.array([[5], [11]])).all()\n",
        "assert matrix_vector_product(a2, m3) == \"No answer\"\n",
        "\n",
        "# Tests 3: matrix-matrix product\n",
        "assert (matrix_matrix_product(m1, m2) == np.array([[4, 5], [10, 13]])).all()\n",
        "assert (matrix_matrix_product(m1, m3) == \"No answer\")\n",
        "\n",
        "# Tests 4: euclidean norm\n",
        "assert euclidian_norm(a2) == (69)**(1/2), \"Should be (69)**(1/2)\"\n",
        "assert euclidian_norm(a1) == (5)**(1/2), \"Should be (69)**(1/2)\"\n",
        "\n",
        "# Tests 5: euclidean distance\n",
        "assert euclidian_dist(a2, a4) == (62)**(1/2), \"Should be (62)**(1/2)\"\n",
        "assert euclidian_dist(a1, a3) == \"No answer\", \"Should be 'No answer'\""
      ],
      "metadata": {
        "id": "oXuTp5yguJ_t"
      },
      "execution_count": null,
      "outputs": []
    },
    {
      "cell_type": "markdown",
      "metadata": {
        "id": "_4GLBv0zWr7m"
      },
      "source": [
        "# **Discussion**"
      ]
    },
    {
      "cell_type": "markdown",
      "metadata": {
        "id": "6bcsDSoRXHZe"
      },
      "source": [
        "The results were expected.\n"
      ]
    }
  ]
}