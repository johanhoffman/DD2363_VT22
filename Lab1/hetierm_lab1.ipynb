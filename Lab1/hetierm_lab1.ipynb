{
  "cells": [
    {
      "cell_type": "markdown",
      "metadata": {
        "id": "view-in-github"
      },
      "source": [
        "<a href=\"https://colab.research.google.com/github/johanhoffman/DD2363_VT22/blob/main/template-report-lab-X.ipynb\" target=\"_parent\"><img src=\"https://colab.research.google.com/assets/colab-badge.svg\" alt=\"Open In Colab\"/></a>"
      ]
    },
    {
      "cell_type": "markdown",
      "metadata": {
        "id": "6RgtXlfYO_i7"
      },
      "source": [
        "# **Lab 1: Introduction**\n",
        "**Marc Hétier**"
      ]
    },
    {
      "cell_type": "markdown",
      "metadata": {
        "id": "28xLGz8JX3Hh"
      },
      "source": [
        "# **Set up environment**"
      ]
    },
    {
      "cell_type": "markdown",
      "metadata": {
        "id": "D2PYNusD08Wa"
      },
      "source": [
        "To have access to the neccessary modules you have to run this cell. If you need additional modules, this is where you add them. "
      ]
    },
    {
      "cell_type": "code",
      "execution_count": 1,
      "metadata": {
        "id": "Xw7VlErAX7NS"
      },
      "outputs": [],
      "source": [
        "# Load neccessary modules.\n",
        "from google.colab import files\n",
        "import numpy as np"
      ]
    },
    {
      "cell_type": "markdown",
      "metadata": {
        "id": "gnO3lhAigLev"
      },
      "source": [
        "# **Introduction**"
      ]
    },
    {
      "cell_type": "markdown",
      "metadata": {
        "id": "jOQvukXZq5U5"
      },
      "source": [
        "# **Method**"
      ]
    },
    {
      "cell_type": "markdown",
      "metadata": {
        "id": "GSgKXoPJAgtQ"
      },
      "source": [
        "## Function : scalar product\n",
        "We implement a basic scalar product, which is able to make some verification on the input before processing to any computation."
      ]
    },
    {
      "cell_type": "code",
      "execution_count": 2,
      "metadata": {
        "id": "hrBfksXuAgtR"
      },
      "outputs": [],
      "source": [
        "def scalar_product(a,b, test=False):\n",
        "    \"\"\"\n",
        "    input : two vectors of same length, and b\n",
        "    output : scalar product of a and b\n",
        "    \"\"\"\n",
        "    size_a = np.shape(a)\n",
        "    size_b = np.shape(b)\n",
        "\n",
        "    if test:\n",
        "        assert len(size_a) == 1, \"a must be a one dimension vector\"\n",
        "        assert len(size_b) == 1, \"b must be a one dimension vector\"\n",
        "        assert size_a == size_b, \"a and b must have the same dimension\"\n",
        "\n",
        "    rslt = 0\n",
        "    for ind in range(0, size_a[0]):\n",
        "        rslt += a[ind]*b[ind]\n",
        "    \n",
        "    return rslt\n",
        "\n"
      ]
    },
    {
      "cell_type": "markdown",
      "metadata": {
        "id": "OHIv0TCKAgtT"
      },
      "source": [
        "## Function : Matrix vector product\n",
        "We implement a basic matrix-vector product, which is able to make some verification on the input's sizes. This function uses the previous scalar_product function.\n"
      ]
    },
    {
      "cell_type": "code",
      "execution_count": 3,
      "metadata": {
        "id": "dDvkapNEAgtT"
      },
      "outputs": [],
      "source": [
        "def matrix_vector_product(A, b, test=False):\n",
        "    \"\"\"\n",
        "    input : a matrix A, a vector b\n",
        "    output : matrix-vector product A*b\n",
        "    \"\"\"\n",
        "    size_A = np.shape(A)\n",
        "    size_b = np.shape(b)\n",
        "\n",
        "    if test:\n",
        "        assert len(size_A) == 2, \"A must be a two dimension vector\"\n",
        "        assert len(size_b) == 1, \"b must be a one dimension vector\"\n",
        "        assert size_A[1] == size_b[0], \"Number of columns of A must be equal at number of row of b\"\n",
        "\n",
        "    rslt = np.zeros(size_A[0])\n",
        "    for ind in range(0, size_A[0]):\n",
        "        rslt[ind] = scalar_product(A[ind, :], b)\n",
        "        \n",
        "    \n",
        "    return rslt"
      ]
    },
    {
      "cell_type": "markdown",
      "metadata": {
        "id": "V6K83DCPAgtV"
      },
      "source": [
        "## Function : Matrix-matrix product\n",
        "We implement a basic matrix-product product, which is able to make some verification on the input's sizes. This function uses the previous matrix-vector function."
      ]
    },
    {
      "cell_type": "code",
      "execution_count": 4,
      "metadata": {
        "id": "cdmynlFIAgtV"
      },
      "outputs": [],
      "source": [
        "def matrix_matrix_product(A, B, test=False):\n",
        "    \"\"\"\n",
        "    input : two matrices A and B\n",
        "    output : matrix-matrix product A*B\n",
        "    \"\"\"\n",
        "    size_A = np.shape(A)\n",
        "    size_B = np.shape(B)\n",
        "    if test:\n",
        "        assert len(size_A) == 2, \"A must be a two dimension vector\"\n",
        "        assert len(size_B) == 2, \"B must be a two dimension vector\"\n",
        "        assert size_A[1] == size_B[0], \"Number of columns of A must be equal at number of row of B\"\n",
        "\n",
        "    rslt = np.zeros((size_A[0], size_B[1]))\n",
        "    for ind in range(0, size_B[1]):\n",
        "        rslt[:, ind] = matrix_vector_product(A, B[:, ind])\n",
        "        \n",
        "    \n",
        "    return rslt"
      ]
    },
    {
      "cell_type": "markdown",
      "metadata": {
        "id": "pIBDda27AgtW"
      },
      "source": [
        "## Function : Euclidian norm\n",
        "We implement the euclidian norm, which uses the scalar product function implemented."
      ]
    },
    {
      "cell_type": "code",
      "execution_count": 5,
      "metadata": {
        "id": "pQUMTZXLAgtW"
      },
      "outputs": [],
      "source": [
        "def euclidian_norm(a, test=False):\n",
        "    \"\"\"\n",
        "    input : a one dimension vector a\n",
        "    output : euclidian norm of a\n",
        "    \"\"\"\n",
        "\n",
        "    rslt = scalar_product(a, a, test)\n",
        "    if test :\n",
        "        assert rslt >= 0, \"Something went wrong ((a,a) <0)\"\n",
        "    return np.sqrt(rslt)"
      ]
    },
    {
      "cell_type": "markdown",
      "metadata": {
        "id": "WRJhNx1rAgtY"
      },
      "source": [
        "## Function : Euclidian distance\n",
        "We implement the euclidian distance, which uses the function euclidian norm."
      ]
    },
    {
      "cell_type": "code",
      "execution_count": 6,
      "metadata": {
        "id": "BVXXCS_fAgtZ"
      },
      "outputs": [],
      "source": [
        "def euclidian_distance(a, b, test=False):\n",
        "    \"\"\"\n",
        "    input : two one-dimension vector a and b\n",
        "    output : euclidian distance between a and b\n",
        "    \"\"\"\n",
        "    if test :\n",
        "        size_a = np.shape(a)\n",
        "        size_b = np.shape(b)\n",
        "\n",
        "        assert len(size_a) == 1, \"a must be a one dimension vector\"\n",
        "        assert len(size_b) == 1, \"b must be a one dimension vector\"\n",
        "        assert size_a == size_b, \"a and b must have the same dimension\"\n",
        "\n",
        "    return euclidian_norm(a-b)"
      ]
    },
    {
      "cell_type": "markdown",
      "metadata": {
        "id": "SsQLT38gVbn_"
      },
      "source": [
        "# **Results**"
      ]
    },
    {
      "cell_type": "markdown",
      "metadata": {
        "id": "RLwlnOzuV-Cd"
      },
      "source": [
        "We implement some tests to check that each function correctly work.\n",
        "\n",
        "## Testing scalar product\n",
        "\n",
        "We use two random vectors, and compare our own implementation of the scalar product with the python implementation. Then, we check what occures when the size of vectors are different."
      ]
    },
    {
      "cell_type": "code",
      "execution_count": 7,
      "metadata": {
        "colab": {
          "base_uri": "https://localhost:8080/",
          "height": 376
        },
        "id": "dEELEJe3Agtc",
        "outputId": "5f859827-d9d6-426d-f5c2-05506bcf312e"
      },
      "outputs": [
        {
          "output_type": "stream",
          "name": "stdout",
          "text": [
            "Difference between our implementation and python implementation : 8.881784197001252e-16\n",
            "\n",
            " If a and b have different sizes : \n"
          ]
        },
        {
          "output_type": "error",
          "ename": "AssertionError",
          "evalue": "ignored",
          "traceback": [
            "\u001b[0;31m---------------------------------------------------------------------------\u001b[0m",
            "\u001b[0;31mAssertionError\u001b[0m                            Traceback (most recent call last)",
            "\u001b[0;32m<ipython-input-7-dd7ad9a5017c>\u001b[0m in \u001b[0;36m<module>\u001b[0;34m()\u001b[0m\n\u001b[1;32m      6\u001b[0m \u001b[0mprint\u001b[0m\u001b[0;34m(\u001b[0m\u001b[0;34m\"\\n If a and b have different sizes : \"\u001b[0m\u001b[0;34m)\u001b[0m\u001b[0;34m\u001b[0m\u001b[0;34m\u001b[0m\u001b[0m\n\u001b[1;32m      7\u001b[0m \u001b[0mb\u001b[0m \u001b[0;34m=\u001b[0m \u001b[0mnp\u001b[0m\u001b[0;34m.\u001b[0m\u001b[0mappend\u001b[0m\u001b[0;34m(\u001b[0m\u001b[0mb\u001b[0m\u001b[0;34m,\u001b[0m \u001b[0;36m12\u001b[0m\u001b[0;34m)\u001b[0m\u001b[0;34m\u001b[0m\u001b[0;34m\u001b[0m\u001b[0m\n\u001b[0;32m----> 8\u001b[0;31m \u001b[0mscalar_product\u001b[0m\u001b[0;34m(\u001b[0m\u001b[0ma\u001b[0m\u001b[0;34m,\u001b[0m\u001b[0mb\u001b[0m\u001b[0;34m,\u001b[0m \u001b[0;32mTrue\u001b[0m\u001b[0;34m)\u001b[0m\u001b[0;34m\u001b[0m\u001b[0;34m\u001b[0m\u001b[0m\n\u001b[0m",
            "\u001b[0;32m<ipython-input-2-28d122225d83>\u001b[0m in \u001b[0;36mscalar_product\u001b[0;34m(a, b, test)\u001b[0m\n\u001b[1;32m     10\u001b[0m         \u001b[0;32massert\u001b[0m \u001b[0mlen\u001b[0m\u001b[0;34m(\u001b[0m\u001b[0msize_a\u001b[0m\u001b[0;34m)\u001b[0m \u001b[0;34m==\u001b[0m \u001b[0;36m1\u001b[0m\u001b[0;34m,\u001b[0m \u001b[0;34m\"a must be a one dimension vector\"\u001b[0m\u001b[0;34m\u001b[0m\u001b[0;34m\u001b[0m\u001b[0m\n\u001b[1;32m     11\u001b[0m         \u001b[0;32massert\u001b[0m \u001b[0mlen\u001b[0m\u001b[0;34m(\u001b[0m\u001b[0msize_b\u001b[0m\u001b[0;34m)\u001b[0m \u001b[0;34m==\u001b[0m \u001b[0;36m1\u001b[0m\u001b[0;34m,\u001b[0m \u001b[0;34m\"b must be a one dimension vector\"\u001b[0m\u001b[0;34m\u001b[0m\u001b[0;34m\u001b[0m\u001b[0m\n\u001b[0;32m---> 12\u001b[0;31m         \u001b[0;32massert\u001b[0m \u001b[0msize_a\u001b[0m \u001b[0;34m==\u001b[0m \u001b[0msize_b\u001b[0m\u001b[0;34m,\u001b[0m \u001b[0;34m\"a and b must have the same dimension\"\u001b[0m\u001b[0;34m\u001b[0m\u001b[0;34m\u001b[0m\u001b[0m\n\u001b[0m\u001b[1;32m     13\u001b[0m \u001b[0;34m\u001b[0m\u001b[0m\n\u001b[1;32m     14\u001b[0m     \u001b[0mrslt\u001b[0m \u001b[0;34m=\u001b[0m \u001b[0;36m0\u001b[0m\u001b[0;34m\u001b[0m\u001b[0;34m\u001b[0m\u001b[0m\n",
            "\u001b[0;31mAssertionError\u001b[0m: a and b must have the same dimension"
          ]
        }
      ],
      "source": [
        "a = np.random.random(10)\n",
        "b = np.random.random(10)\n",
        "\n",
        "print(\"Difference between our implementation and python implementation :\",  abs(scalar_product(a,b, True) - a.dot(b)))\n",
        "\n",
        "print(\"\\n If a and b have different sizes : \")\n",
        "b = np.append(b, 12)\n",
        "scalar_product(a,b, True)"
      ]
    },
    {
      "cell_type": "markdown",
      "metadata": {
        "id": "ArenRNH4Agtd"
      },
      "source": [
        "## Testing matrix-vector product\n",
        "\n",
        "We use a random vector and a random matrix, and compare our own implementation of the product with the python implementation. Then, we check what occures when the size are not coherent."
      ]
    },
    {
      "cell_type": "code",
      "execution_count": 8,
      "metadata": {
        "colab": {
          "base_uri": "https://localhost:8080/",
          "height": 376
        },
        "id": "PYEFVwATAgte",
        "outputId": "dd01e08d-5aae-4a06-d71a-dc08db34d74d"
      },
      "outputs": [
        {
          "output_type": "stream",
          "name": "stdout",
          "text": [
            "Difference between our implementation and python implementation : 3.1401849173675503e-16\n",
            "\n",
            " If A and b do not have correct sizes : \n"
          ]
        },
        {
          "output_type": "error",
          "ename": "AssertionError",
          "evalue": "ignored",
          "traceback": [
            "\u001b[0;31m---------------------------------------------------------------------------\u001b[0m",
            "\u001b[0;31mAssertionError\u001b[0m                            Traceback (most recent call last)",
            "\u001b[0;32m<ipython-input-8-e72071786ad5>\u001b[0m in \u001b[0;36m<module>\u001b[0;34m()\u001b[0m\n\u001b[1;32m      6\u001b[0m \u001b[0mprint\u001b[0m\u001b[0;34m(\u001b[0m\u001b[0;34m\"\\n If A and b do not have correct sizes : \"\u001b[0m\u001b[0;34m)\u001b[0m\u001b[0;34m\u001b[0m\u001b[0;34m\u001b[0m\u001b[0m\n\u001b[1;32m      7\u001b[0m \u001b[0mb\u001b[0m \u001b[0;34m=\u001b[0m \u001b[0mnp\u001b[0m\u001b[0;34m.\u001b[0m\u001b[0mappend\u001b[0m\u001b[0;34m(\u001b[0m\u001b[0mb\u001b[0m\u001b[0;34m,\u001b[0m \u001b[0;36m12\u001b[0m\u001b[0;34m)\u001b[0m\u001b[0;34m\u001b[0m\u001b[0;34m\u001b[0m\u001b[0m\n\u001b[0;32m----> 8\u001b[0;31m \u001b[0mmatrix_vector_product\u001b[0m\u001b[0;34m(\u001b[0m\u001b[0mA\u001b[0m\u001b[0;34m,\u001b[0m\u001b[0mb\u001b[0m\u001b[0;34m,\u001b[0m \u001b[0;32mTrue\u001b[0m\u001b[0;34m)\u001b[0m\u001b[0;34m\u001b[0m\u001b[0;34m\u001b[0m\u001b[0m\n\u001b[0m",
            "\u001b[0;32m<ipython-input-3-33a3f6c87a39>\u001b[0m in \u001b[0;36mmatrix_vector_product\u001b[0;34m(A, b, test)\u001b[0m\n\u001b[1;32m     10\u001b[0m         \u001b[0;32massert\u001b[0m \u001b[0mlen\u001b[0m\u001b[0;34m(\u001b[0m\u001b[0msize_A\u001b[0m\u001b[0;34m)\u001b[0m \u001b[0;34m==\u001b[0m \u001b[0;36m2\u001b[0m\u001b[0;34m,\u001b[0m \u001b[0;34m\"A must be a two dimension vector\"\u001b[0m\u001b[0;34m\u001b[0m\u001b[0;34m\u001b[0m\u001b[0m\n\u001b[1;32m     11\u001b[0m         \u001b[0;32massert\u001b[0m \u001b[0mlen\u001b[0m\u001b[0;34m(\u001b[0m\u001b[0msize_b\u001b[0m\u001b[0;34m)\u001b[0m \u001b[0;34m==\u001b[0m \u001b[0;36m1\u001b[0m\u001b[0;34m,\u001b[0m \u001b[0;34m\"b must be a one dimension vector\"\u001b[0m\u001b[0;34m\u001b[0m\u001b[0;34m\u001b[0m\u001b[0m\n\u001b[0;32m---> 12\u001b[0;31m         \u001b[0;32massert\u001b[0m \u001b[0msize_A\u001b[0m\u001b[0;34m[\u001b[0m\u001b[0;36m1\u001b[0m\u001b[0;34m]\u001b[0m \u001b[0;34m==\u001b[0m \u001b[0msize_b\u001b[0m\u001b[0;34m[\u001b[0m\u001b[0;36m0\u001b[0m\u001b[0;34m]\u001b[0m\u001b[0;34m,\u001b[0m \u001b[0;34m\"Number of columns of A must be equal at number of row of b\"\u001b[0m\u001b[0;34m\u001b[0m\u001b[0;34m\u001b[0m\u001b[0m\n\u001b[0m\u001b[1;32m     13\u001b[0m \u001b[0;34m\u001b[0m\u001b[0m\n\u001b[1;32m     14\u001b[0m     \u001b[0mrslt\u001b[0m \u001b[0;34m=\u001b[0m \u001b[0mnp\u001b[0m\u001b[0;34m.\u001b[0m\u001b[0mzeros\u001b[0m\u001b[0;34m(\u001b[0m\u001b[0msize_A\u001b[0m\u001b[0;34m[\u001b[0m\u001b[0;36m0\u001b[0m\u001b[0;34m]\u001b[0m\u001b[0;34m)\u001b[0m\u001b[0;34m\u001b[0m\u001b[0;34m\u001b[0m\u001b[0m\n",
            "\u001b[0;31mAssertionError\u001b[0m: Number of columns of A must be equal at number of row of b"
          ]
        }
      ],
      "source": [
        "A = np.random.random((5, 7))\n",
        "b = np.random.random(7)\n",
        "\n",
        "print(\"Difference between our implementation and python implementation :\",  np.linalg.norm(matrix_vector_product(A, b, True) - A@b))\n",
        "\n",
        "print(\"\\n If A and b do not have correct sizes : \")\n",
        "b = np.append(b, 12)\n",
        "matrix_vector_product(A,b, True)"
      ]
    },
    {
      "cell_type": "markdown",
      "metadata": {
        "id": "rB7crZsdAgtf"
      },
      "source": [
        "## Testing matrix-matrix product\n",
        "\n",
        "We use two random matrices, and compare our own implementation of the product with the python implementation. Then, we check what occures when the size are not coherent."
      ]
    },
    {
      "cell_type": "code",
      "execution_count": 9,
      "metadata": {
        "colab": {
          "base_uri": "https://localhost:8080/",
          "height": 376
        },
        "id": "mAXh0v7vAgtg",
        "outputId": "09d671ec-16db-4f48-9bcb-4662d9ab2a2e"
      },
      "outputs": [
        {
          "output_type": "stream",
          "name": "stdout",
          "text": [
            "Difference between our implementation and python implementation : 9.485749680535094e-16\n",
            "\n",
            " If A and B do not have correct sizes : \n"
          ]
        },
        {
          "output_type": "error",
          "ename": "AssertionError",
          "evalue": "ignored",
          "traceback": [
            "\u001b[0;31m---------------------------------------------------------------------------\u001b[0m",
            "\u001b[0;31mAssertionError\u001b[0m                            Traceback (most recent call last)",
            "\u001b[0;32m<ipython-input-9-8b7aa39e3b71>\u001b[0m in \u001b[0;36m<module>\u001b[0;34m()\u001b[0m\n\u001b[1;32m      6\u001b[0m \u001b[0mprint\u001b[0m\u001b[0;34m(\u001b[0m\u001b[0;34m\"\\n If A and B do not have correct sizes : \"\u001b[0m\u001b[0;34m)\u001b[0m\u001b[0;34m\u001b[0m\u001b[0;34m\u001b[0m\u001b[0m\n\u001b[1;32m      7\u001b[0m \u001b[0mB\u001b[0m \u001b[0;34m=\u001b[0m \u001b[0mnp\u001b[0m\u001b[0;34m.\u001b[0m\u001b[0mtranspose\u001b[0m\u001b[0;34m(\u001b[0m\u001b[0mB\u001b[0m\u001b[0;34m)\u001b[0m\u001b[0;34m\u001b[0m\u001b[0;34m\u001b[0m\u001b[0m\n\u001b[0;32m----> 8\u001b[0;31m \u001b[0mmatrix_matrix_product\u001b[0m\u001b[0;34m(\u001b[0m\u001b[0mA\u001b[0m\u001b[0;34m,\u001b[0m\u001b[0mB\u001b[0m\u001b[0;34m,\u001b[0m \u001b[0;32mTrue\u001b[0m\u001b[0;34m)\u001b[0m\u001b[0;34m\u001b[0m\u001b[0;34m\u001b[0m\u001b[0m\n\u001b[0m",
            "\u001b[0;32m<ipython-input-4-0a92b250a3b7>\u001b[0m in \u001b[0;36mmatrix_matrix_product\u001b[0;34m(A, B, test)\u001b[0m\n\u001b[1;32m      9\u001b[0m         \u001b[0;32massert\u001b[0m \u001b[0mlen\u001b[0m\u001b[0;34m(\u001b[0m\u001b[0msize_A\u001b[0m\u001b[0;34m)\u001b[0m \u001b[0;34m==\u001b[0m \u001b[0;36m2\u001b[0m\u001b[0;34m,\u001b[0m \u001b[0;34m\"A must be a two dimension vector\"\u001b[0m\u001b[0;34m\u001b[0m\u001b[0;34m\u001b[0m\u001b[0m\n\u001b[1;32m     10\u001b[0m         \u001b[0;32massert\u001b[0m \u001b[0mlen\u001b[0m\u001b[0;34m(\u001b[0m\u001b[0msize_B\u001b[0m\u001b[0;34m)\u001b[0m \u001b[0;34m==\u001b[0m \u001b[0;36m2\u001b[0m\u001b[0;34m,\u001b[0m \u001b[0;34m\"B must be a two dimension vector\"\u001b[0m\u001b[0;34m\u001b[0m\u001b[0;34m\u001b[0m\u001b[0m\n\u001b[0;32m---> 11\u001b[0;31m         \u001b[0;32massert\u001b[0m \u001b[0msize_A\u001b[0m\u001b[0;34m[\u001b[0m\u001b[0;36m1\u001b[0m\u001b[0;34m]\u001b[0m \u001b[0;34m==\u001b[0m \u001b[0msize_B\u001b[0m\u001b[0;34m[\u001b[0m\u001b[0;36m0\u001b[0m\u001b[0;34m]\u001b[0m\u001b[0;34m,\u001b[0m \u001b[0;34m\"Number of columns of A must be equal at number of row of B\"\u001b[0m\u001b[0;34m\u001b[0m\u001b[0;34m\u001b[0m\u001b[0m\n\u001b[0m\u001b[1;32m     12\u001b[0m \u001b[0;34m\u001b[0m\u001b[0m\n\u001b[1;32m     13\u001b[0m     \u001b[0mrslt\u001b[0m \u001b[0;34m=\u001b[0m \u001b[0mnp\u001b[0m\u001b[0;34m.\u001b[0m\u001b[0mzeros\u001b[0m\u001b[0;34m(\u001b[0m\u001b[0;34m(\u001b[0m\u001b[0msize_A\u001b[0m\u001b[0;34m[\u001b[0m\u001b[0;36m0\u001b[0m\u001b[0;34m]\u001b[0m\u001b[0;34m,\u001b[0m \u001b[0msize_B\u001b[0m\u001b[0;34m[\u001b[0m\u001b[0;36m1\u001b[0m\u001b[0;34m]\u001b[0m\u001b[0;34m)\u001b[0m\u001b[0;34m)\u001b[0m\u001b[0;34m\u001b[0m\u001b[0;34m\u001b[0m\u001b[0m\n",
            "\u001b[0;31mAssertionError\u001b[0m: Number of columns of A must be equal at number of row of B"
          ]
        }
      ],
      "source": [
        "A = np.random.random((5, 7))\n",
        "B = np.random.random((7, 9))\n",
        "\n",
        "print(\"Difference between our implementation and python implementation :\",  np.linalg.norm(matrix_matrix_product(A, B, True) - A@B))\n",
        "\n",
        "print(\"\\n If A and B do not have correct sizes : \")\n",
        "B = np.transpose(B)\n",
        "matrix_matrix_product(A,B, True)"
      ]
    },
    {
      "cell_type": "markdown",
      "metadata": {
        "id": "TnaCVAiyAgth"
      },
      "source": [
        "## Testing euclidian norm\n",
        "\n",
        "We use a random vector, and compare our own implementation of the norm with the python implementation. We also check triangular inequalities"
      ]
    },
    {
      "cell_type": "code",
      "execution_count": null,
      "metadata": {
        "id": "a70ktUZ0Agth"
      },
      "outputs": [],
      "source": [
        "a = np.random.random(107)\n",
        "\n",
        "print(\"Difference between our implementation and python implementation :\",  abs(euclidian_norm(a) - np.linalg.norm(a)))\n",
        "b = np.random.random(107)\n",
        "print(\"Norm of a+b : \" ,euclidian_norm(a+b), \"\\nNorm of a + Norm of b : \", euclidian_norm(a) + euclidian_norm(b))\n"
      ]
    },
    {
      "cell_type": "markdown",
      "metadata": {
        "id": "vVcVIVUIAgth"
      },
      "source": [
        "## Testing euclidian distance\n",
        "\n",
        "We use two random vector, and compare our own implementation of the distance with the python implementation. We also check that the distance is symmetric and equal at zero when a = b"
      ]
    },
    {
      "cell_type": "code",
      "execution_count": null,
      "metadata": {
        "id": "J1Z_BozGAgth"
      },
      "outputs": [],
      "source": [
        "a = np.random.random(107)\n",
        "b = np.random.random(107)\n",
        "\n",
        "print(\"Difference between our implementation and python implementation :\",  abs(euclidian_distance(a,b)) - np.linalg.norm(a-b))\n",
        "print(\"Distance btw a,b : \" ,euclidian_distance(a,b), \"\\nDistance btw b, a : \", euclidian_distance(b,a))\n",
        "print(\"Distance btw a,a\", euclidian_distance(a,a))\n"
      ]
    },
    {
      "cell_type": "markdown",
      "metadata": {
        "id": "_4GLBv0zWr7m"
      },
      "source": [
        "# **Conclusion**\n",
        "We have implemented different basics operations of linear algera, in a \"recursive way\". Each function can be used with test, preventing the user to misuse them. We finally test their output, comparing them with the built in function of python, and testing some of their properties. All the tests are coherent with the implementation."
      ]
    }
  ],
  "metadata": {
    "colab": {
      "name": "hetierm_lab1.ipynb",
      "provenance": [],
      "collapsed_sections": []
    },
    "kernelspec": {
      "display_name": "Python 3",
      "name": "python3"
    },
    "language_info": {
      "codemirror_mode": {
        "name": "ipython",
        "version": 3
      },
      "file_extension": ".py",
      "mimetype": "text/x-python",
      "name": "python",
      "nbconvert_exporter": "python",
      "pygments_lexer": "ipython3",
      "version": "3.8.10"
    }
  },
  "nbformat": 4,
  "nbformat_minor": 0
}