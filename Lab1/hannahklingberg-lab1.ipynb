{
  "nbformat": 4,
  "nbformat_minor": 0,
  "metadata": {
    "colab": {
      "name": "Lab-1 Hanna Klingberg.ipynb",
      "provenance": [],
      "include_colab_link": true
    },
    "kernelspec": {
      "name": "python3",
      "display_name": "Python 3"
    }
  },
  "cells": [
    {
      "cell_type": "markdown",
      "metadata": {
        "id": "view-in-github",
        "colab_type": "text"
      },
      "source": [
        "<a href=\"https://colab.research.google.com/github/johanhoffman/DD2363_VT22/blob/hannahklingberg-Lab1/Lab1/hannahklingberg-lab1.ipynb\" target=\"_parent\"><img src=\"https://colab.research.google.com/assets/colab-badge.svg\" alt=\"Open In Colab\"/></a>"
      ]
    },
    {
      "cell_type": "markdown",
      "metadata": {
        "id": "6RgtXlfYO_i7"
      },
      "source": [
        "# **Lab 1: Introduction**\n",
        "**Hanna Klingberg**"
      ]
    },
    {
      "cell_type": "markdown",
      "metadata": {
        "id": "9x_J5FVuPzbm"
      },
      "source": [
        "# **Abstract**"
      ]
    },
    {
      "cell_type": "markdown",
      "metadata": {
        "id": "6UFTSzW7P8kL"
      },
      "source": [
        "This lab aims to define functions of linear algebra, more specifically vector and matrix operations such as inner product and matrix-vector product. The functions are defined using python and tested with test-cases.  "
      ]
    },
    {
      "cell_type": "markdown",
      "metadata": {
        "id": "OkT8J7uOWpT3"
      },
      "source": [
        "#**About the code**"
      ]
    },
    {
      "cell_type": "code",
      "metadata": {
        "id": "Pdll1Xc9WP0e",
        "colab": {
          "base_uri": "https://localhost:8080/",
          "height": 36
        },
        "outputId": "7b01d405-992f-4633-e0d8-32df2504201b"
      },
      "source": [
        "\"\"\"This program is a template for lab reports in the course\"\"\"\n",
        "\"\"\"DD2363 Methods in Scientific Computing, \"\"\"\n",
        "\"\"\"KTH Royal Institute of Technology, Stockholm, Sweden.\"\"\"\n",
        "\n",
        "# Copyright (C) 2022 Hanna Klingberg (hannakl@kth.se)\n",
        "\n",
        "# This file is part of the course DD2363 Methods in Scientific Computing\n",
        "# KTH Royal Institute of Technology, Stockholm, Sweden\n",
        "#\n",
        "# This is free software: you can redistribute it and/or modify\n",
        "# it under the terms of the GNU Lesser General Public License as published by\n",
        "# the Free Software Foundation, either version 3 of the License, or\n",
        "# (at your option) any later version.\n",
        "\n",
        "# This template is maintained by Johan Hoffman\n",
        "# Please report problems to jhoffman@kth.se"
      ],
      "execution_count": null,
      "outputs": [
        {
          "output_type": "execute_result",
          "data": {
            "application/vnd.google.colaboratory.intrinsic+json": {
              "type": "string"
            },
            "text/plain": [
              "'KTH Royal Institute of Technology, Stockholm, Sweden.'"
            ]
          },
          "metadata": {},
          "execution_count": 41
        }
      ]
    },
    {
      "cell_type": "markdown",
      "metadata": {
        "id": "28xLGz8JX3Hh"
      },
      "source": [
        "# **Set up environment**"
      ]
    },
    {
      "cell_type": "markdown",
      "metadata": {
        "id": "D2PYNusD08Wa"
      },
      "source": [
        "To have access to the neccessary modules you have to run this cell. If you need additional modules, this is where you add them. "
      ]
    },
    {
      "cell_type": "code",
      "metadata": {
        "id": "Xw7VlErAX7NS"
      },
      "source": [
        "# Load neccessary modules.\n",
        "from google.colab import files\n",
        "\n",
        "import time\n",
        "import numpy as np\n",
        "import math\n",
        "#try:\n",
        "#    from dolfin import *; from mshr import *\n",
        "#except ImportError as e:\n",
        "#    !apt-get install -y -qq software-properties-common \n",
        "#    !add-apt-repository -y ppa:fenics-packages/fenics\n",
        "#    !apt-get update -qq\n",
        "#    !apt install -y --no-install-recommends fenics\n",
        "#    from dolfin import *; from mshr import *\n",
        "    \n",
        "#import dolfin.common.plotting as fenicsplot\n",
        "\n",
        "from matplotlib import pyplot as plt\n",
        "from matplotlib import tri\n",
        "from matplotlib import axes\n",
        "from mpl_toolkits.mplot3d import Axes3D"
      ],
      "execution_count": null,
      "outputs": []
    },
    {
      "cell_type": "markdown",
      "metadata": {
        "id": "gnO3lhAigLev"
      },
      "source": [
        "# **Introduction**"
      ]
    },
    {
      "cell_type": "markdown",
      "metadata": {
        "id": "l5zMzgPlRAF6"
      },
      "source": [
        "This lab explores fundamental functions in linear algebra. The functions are defined using basic python, giving a deeper understanding to working with matrices and vectors in programming. External libraries such as numpy are used only for minor things. The theory behind each function is given above every function definition. "
      ]
    },
    {
      "cell_type": "markdown",
      "metadata": {
        "id": "jOQvukXZq5U5"
      },
      "source": [
        "# **Method**"
      ]
    },
    {
      "cell_type": "markdown",
      "metadata": {
        "id": "zF4iBj5VURZx"
      },
      "source": [
        "# **Scalar Product**\n",
        "The scalar product, also referred to as the Euclidian inner prooduct, is defined as:\n",
        "for two vectors x and y, \n",
        "$(x,y) = x ⋅ y = x_1 \\cdot y_1 + ... + x_n \\cdot y_n$\n",
        "\n",
        "The function returns a scalar, which also describes the angle $ \\theta $ between the two vectors as:\n",
        "\n",
        "\n",
        "$ x \\cdot y = \\lvert x \\rvert \\lvert y \\rvert cos \\theta $\n",
        "\n",
        "(reference: Chapter 1.4, example 1.6 in course book)\n",
        "\n",
        "The algorithm takes two vectors x and y as input. Error handling is done by checking that the dimensions of the vectors are correct and that they are of the same size. Then the scalar product is calculated according to the formula above and returned. \n",
        "\n",
        "The test cases include both checking whether the algorithm calculates correctly, and also that the error handling works as intended. "
      ]
    },
    {
      "cell_type": "code",
      "source": [
        "def scalar_product(x,y):\n",
        "  if x.ndim != 1:\n",
        "    return \"x is not a vector\"\n",
        "  elif y.ndim != 1:\n",
        "    return \"y is not a vector\"\n",
        "  elif x.shape != y.shape:\n",
        "    return \"x and y are not the same size\"\n",
        "  sum = 0\n",
        "  for i in range(len(x)):\n",
        "    sum += x[i] * y[i] #calculate scalar product\n",
        "  return sum "
      ],
      "metadata": {
        "id": "hTl-61Ct8jm6"
      },
      "execution_count": null,
      "outputs": []
    },
    {
      "cell_type": "code",
      "source": [
        "#test scalar product\n",
        "def test_scalar_prod():\n",
        "  v1 = np.array([1,2,3,4])\n",
        "  v2 = np.array([4,3,2,1])\n",
        "  result = scalar_product(v1,v2)\n",
        "  passed = False #introducing variable passed that is returned further down where test cases are concluded\n",
        "  try:\n",
        "    scalar = int(result) #if the algorithm doesn't return an int iit has failed\n",
        "    if scalar == 20:\n",
        "      passed = True #if the algorithm returns 20 it has passed this test\n",
        "    else:\n",
        "      passed = False\n",
        "      return passed\n",
        "  except ValueError:\n",
        "    passed = False\n",
        "    return passed\n",
        "\n",
        "  v3 = np.array([1,2,3])\n",
        "  v4 = np.array([1,2])\n",
        "  result1 = scalar_product(v3,v4)\n",
        "  try:\n",
        "    scalar = int(result1)\n",
        "    passed = False #the given vectors are not of the same size, and the algorithm should throw an error\n",
        "    return passed\n",
        "  except ValueError:\n",
        "    return passed\n"
      ],
      "metadata": {
        "id": "pLXclyCE9Z8M"
      },
      "execution_count": null,
      "outputs": []
    },
    {
      "cell_type": "markdown",
      "source": [
        "# **Matrix Vector Product**\n",
        "The matrix-vector product Ax between an $mxn$ matrix A and an $nx1$ vector x is defined as an m dimensional vector y where:\n",
        "\n",
        "$y_i = \\sum_{j=1}^{n} a_{ij} x_j, $      $ i = 1,...,m $\n",
        "\n",
        "(Reference: Chapter 2.2, page 24 in course book)\n",
        "\n",
        "The algorithm takes a vector x and a matrix A as input. Error handling is done by checking that x is truly a vector and that the sizes of the vector and matrix are compatible for multiplication (if A is $m x n$ then x has to be $n x 1$ and resulting vector y is $m x 1$)\n",
        "\n",
        "The matrix vector product is then calculated according to the formula above, and the resulting vector is returned. The test cases test both that the algorithm is correct and that the error handling works properly. "
      ],
      "metadata": {
        "id": "UEcFIi8nB-rI"
      }
    },
    {
      "cell_type": "code",
      "source": [
        "def matrix_vector_product(x, A):\n",
        "  if x.ndim != 1:\n",
        "    return \"x is not a vector\"\n",
        "  res_matrix = np.zeros((len(A), 1))\n",
        "  if len(A) != len(x):\n",
        "    if len(A) != len(np.transpose(x)):\n",
        "      return \"Matrix and vector sizes are not compatible\"\n",
        "    x = np.transpose(x)\n",
        "  for i in range(len(A)):\n",
        "    for j in range(len(A[0])):\n",
        "      res_matrix[j] += A[i][j] * x[j]\n",
        "  return res_matrix\n"
      ],
      "metadata": {
        "id": "Wz6gp9jKCCIl"
      },
      "execution_count": null,
      "outputs": []
    },
    {
      "cell_type": "code",
      "source": [
        "def test_mat_vec_prod():\n",
        "  passed = False\n",
        "  v1 = np.array([1,1,1])\n",
        "  m1 = np.ones((3,3))\n",
        "  result1 = matrix_vector_product(v1,m1)\n",
        "  correct =  3* (np.ones((3,1)))\n",
        "  try:\n",
        "    res = result1.dtype\n",
        "    if np.array_equal(result1,correct):\n",
        "      passed = True #algorithms calculations are correct\n",
        "    else:\n",
        "      passed = False\n",
        "      return passed\n",
        "  except AttributeError:\n",
        "    passed = False\n",
        "    return passed\n",
        "\n",
        "\n",
        "  v2 = np.array([2,2])\n",
        "  m2 = np.ones((4,4))\n",
        "  result2 = matrix_vector_product(v2, m2)\n",
        "  try:\n",
        "    res1 = result2.dtype\n",
        "    passed = False #vector and matrix sizes are not compatible, error should be thrown\n",
        "    return passed\n",
        "  except AttributeError:\n",
        "    passed = True\n",
        "  return passed\n"
      ],
      "metadata": {
        "id": "SLwRRmIRDmRt"
      },
      "execution_count": null,
      "outputs": []
    },
    {
      "cell_type": "markdown",
      "source": [
        "# **Matrix-Matrix Product**\n",
        "\n",
        "The matrix-matrix product C = AB the result of taking the product of an $m x l$ matrix A and $l x n$ matrix B, resulting in an $m x n$ matrix C. It is defined as:\n",
        "$C_{ij} = \\sum_{k=1}^{l} A_{ik}B_{kj} $\n",
        "\n",
        "(Reference: Theorem 2.2, Chapter 2.3 in course book)\n",
        "\n",
        "The algorithm takes matrices A and B as input. It checks whether the matrices are of compatible sizes (given the order of multiplication defined in the assignment description). Using three for-loops the matrix-matrix product is then calculated accordning to the formula above, and then returned. \n",
        "\n",
        "The test cases test both the correctness of the algorithm and the error handling, by supplying incompatbible matrices and expecting an error. "
      ],
      "metadata": {
        "id": "kRFRNMZQH9c0"
      }
    },
    {
      "cell_type": "code",
      "source": [
        "def mat_mat_product(A,B):\n",
        "  if len(A[0]) != len(B):\n",
        "    return \"Matrix sizes are not compatible\"\n",
        "  C = np.zeros((len(A), len(B[0])))\n",
        "  for i in range(len(C)):\n",
        "    for j in range(len(C[0])):\n",
        "      for k in range(len(A[0])):\n",
        "              C[i][j] += A[i][k] * B[k][j]\n",
        "  return C\n",
        "\n",
        "\n"
      ],
      "metadata": {
        "id": "basUUPNIH_v9"
      },
      "execution_count": null,
      "outputs": []
    },
    {
      "cell_type": "code",
      "source": [
        "def test_mat_mat():\n",
        "  passed = False\n",
        "  A1 = np.array([[1,2,3],[1,2,3],[1,2,3]])\n",
        "  B1 = np.array([[1,2],[1,2],[1,2]])\n",
        "  correct1 = np.array([[ 6, 12],[ 6, 12],[ 6, 12]])\n",
        "  result1 = mat_mat_product(A1,B1)\n",
        "  if np.array_equal(correct1,result1): #using np.array_equal to determine if the output from algorithm is equal to the expected output\n",
        "    passed = True\n",
        "  else:\n",
        "    passed = False\n",
        "    return passed\n",
        "\n",
        "  A2 = np.ones((4,3))\n",
        "  B2 = np.zeros((3,2))\n",
        "  correct2 = np.zeros((4,2))\n",
        "  result2 = mat_mat_product(A2,B2)\n",
        "  if np.array_equal(correct2, result2): #checking for correct answer again\n",
        "    passed = True\n",
        "  else:\n",
        "    passed = False\n",
        "    return passed\n",
        "\n",
        "  A3 = np.ones((4,4))\n",
        "  B3 = np.ones((2,2))\n",
        "  result = mat_mat_product(A3, B3)\n",
        "  try:\n",
        "    result.dtype\n",
        "    passed = False #incompatible sizes should throw an error, which is checked with result.dtype\n",
        "    return passed\n",
        "  except AttributeError:\n",
        "    passed = True\n",
        "  return passed"
      ],
      "metadata": {
        "id": "c8El2EExLUvJ"
      },
      "execution_count": null,
      "outputs": []
    },
    {
      "cell_type": "markdown",
      "source": [
        "# **Euclidian Norm**\n",
        "The Euclidian norm of a vector x, also defined as the square root of its inner product with itself, $(x, x)^{\\frac{1}{2}}$, is the euclidian length of the vector in its vector space. It is calculated as:\n",
        "$\\sqrt[2]{(x_1^2 + ... + x_n ^2)} $\n",
        "\n",
        "(Reference: Example 1.3, Chapter 1.4 of course book)\n",
        "\n",
        "The algorithm takes a vector x as input, and returns the Euclidian norm calculated as above. Error handling checks whether x is truly a vector. \n",
        "The test cases check both for correct output and also for correct error handling. "
      ],
      "metadata": {
        "id": "SqpUFfy9_k8F"
      }
    },
    {
      "cell_type": "code",
      "source": [
        "def euclidian_norm(x):\n",
        "  if x.ndim != 1:\n",
        "    return \"not a vector\"\n",
        "  norm = 0\n",
        "  for i in x:\n",
        "    norm += i**2\n",
        "  norm = math.sqrt(norm)\n",
        "  return norm "
      ],
      "metadata": {
        "id": "ZK5CO_DG_nGX"
      },
      "execution_count": null,
      "outputs": []
    },
    {
      "cell_type": "code",
      "source": [
        "def test_euclidian_norm():\n",
        "  passed = False\n",
        "  x1 = np.array([1,1])\n",
        "  result1 = euclidian_norm(x1)\n",
        "  if result1 == math.sqrt(2):\n",
        "    passed = True #algorithm has given correct output if the euclidian norm of [1,1] is sqrt(2)\n",
        "  else:\n",
        "    passed = False\n",
        "    return passed\n",
        "\n",
        "  v2 = np.ones((2, 2))\n",
        "  result2 = euclidian_norm(v2)\n",
        "  try:\n",
        "    float(result2)\n",
        "    passed = False #since a matrix is given as input, algorithm should return a string which cannot be converted to float\n",
        "    return passed\n",
        "  except ValueError:\n",
        "    passed = True\n",
        "\n",
        "  v3 = np.array([3, 4, 5])\n",
        "  result3 = euclidian_norm(v3)\n",
        "  if result3 == math.sqrt(50):\n",
        "    passed = True #checking again to see that the algorithm calculates correctly. \n",
        "  else:\n",
        "    passed = False\n",
        "  return passed\n"
      ],
      "metadata": {
        "id": "DeCI_layACZa"
      },
      "execution_count": null,
      "outputs": []
    },
    {
      "cell_type": "markdown",
      "source": [
        "# **Euclidian Distance**\n",
        "Euclidian distance is the distance between two vectors x and y. It can also be described as $\\lvert x - y \\rvert $ It is calculated as:\n",
        "$\\sqrt[2]{(x_1 - y_1)^2 + ... + (x_n - y_n)^2} $\n",
        "The function returns a scalar. \n",
        "\n",
        "( Reference: Chapter 1.4, page 7 of course book and https://en.wikipedia.org/wiki/Euclidean_distance )\n",
        "\n",
        "The algorithm takes two vectorsx and y as input. Error handling is done by checking that both x and y are vectors and that they have the same shape. The euclidian distance is calculated in a for-loop according to the formula above. The test cases test that the calculations are correct and that the error handling works as intended. "
      ],
      "metadata": {
        "id": "qudITA7vBatX"
      }
    },
    {
      "cell_type": "code",
      "source": [
        "def euclidian_distance(x,y):\n",
        "  if x.ndim != 1 or y.ndim != 1:\n",
        "    return \"input has wrong format\"\n",
        "  elif x.shape != y.shape:\n",
        "    return \"vectors do not have the same shape\"\n",
        "  dist = 0\n",
        "  for i in range(len(x)):\n",
        "    dist += (x[i] - y[i])**2\n",
        "  return math.sqrt(dist)"
      ],
      "metadata": {
        "id": "hMpRdOZxBeO1"
      },
      "execution_count": null,
      "outputs": []
    },
    {
      "cell_type": "code",
      "source": [
        "def test_euclidian_dist():\n",
        "  passed = False\n",
        "  v1 = np.array([1,0,1])\n",
        "  v2 = np.array([0,1,0])\n",
        "  result1 = euclidian_distance(v1,v2)\n",
        "  if result1 == math.sqrt(3):\n",
        "    passed = True #testing that the calculations are correct\n",
        "  else:\n",
        "    passed = False\n",
        "    return passed\n",
        "\n",
        "  v3 = np.array([4,0,0])\n",
        "  v4 = np.array([0,0,3])\n",
        "  result2 = euclidian_distance(v3, v4)\n",
        "  if result2 == 5:\n",
        "    passed = True #testing again that calculations are correct\n",
        "  else:\n",
        "    passed = False\n",
        "    return passed\n",
        "\n",
        "  v5 = np.array([1,0,0])\n",
        "  v6 = np.array([1,2,3,4,5])\n",
        "  result3 = euclidian_distance(v5, v6)\n",
        "  try:\n",
        "    int(result3)\n",
        "    passed = False #since vectors are of incompatible sizes, a string should be returned. \n",
        "  except ValueError:\n",
        "    passed = True\n",
        "  return passed\n"
      ],
      "metadata": {
        "id": "kZe548DsCnnJ"
      },
      "execution_count": null,
      "outputs": []
    },
    {
      "cell_type": "markdown",
      "metadata": {
        "id": "SsQLT38gVbn_"
      },
      "source": [
        "# **Results**"
      ]
    },
    {
      "cell_type": "markdown",
      "metadata": {
        "id": "RLwlnOzuV-Cd"
      },
      "source": [
        "Suitable tests for all functions are defined directly after the function definitions. Here I conclude the tests and make sure that all functions have passed their tests. All function passed their provided test cases. "
      ]
    },
    {
      "cell_type": "code",
      "source": [
        "passed = 0\n",
        "scalar = test_scalar_prod()\n",
        "if scalar:\n",
        "  print(\"Scalar Product passed all tests\")\n",
        "  passed +=1\n",
        "mat_vec = test_mat_vec_prod()\n",
        "if mat_vec:\n",
        "  print(\"Matrix-Vector product passed all tests\")\n",
        "  passed +=1\n",
        "mat_mat = test_mat_mat()\n",
        "if mat_mat:\n",
        "  print(\"Matrix-Matrix product passed all tests\")\n",
        "  passed +=1\n",
        "eucl_norm = test_euclidian_norm()\n",
        "if eucl_norm:\n",
        "  print(\"Euclidian Norm passed all tests\")\n",
        "  passed +=1\n",
        "euclidian_dist = test_euclidian_dist()\n",
        "if euclidian_dist:\n",
        "  print(\"Euclidian Distance passed all tests\")\n",
        "  passed +=1\n",
        "\n",
        "print(\"%d of 5 functions passed their tests\"% (passed)) \n"
      ],
      "metadata": {
        "id": "j1WWPC84UZFh",
        "outputId": "ae29abea-95fa-4069-c4ad-f746a5295938",
        "colab": {
          "base_uri": "https://localhost:8080/"
        }
      },
      "execution_count": null,
      "outputs": [
        {
          "output_type": "stream",
          "name": "stdout",
          "text": [
            "Scalar Product passed all tests\n",
            "Matrix-Vector product passed all tests\n",
            "Matrix-Matrix product passed all tests\n",
            "Euclidian Norm passed all tests\n",
            "Euclidian Distance passed all tests\n",
            "5 of 5 functions passed their tests\n"
          ]
        }
      ]
    },
    {
      "cell_type": "markdown",
      "metadata": {
        "id": "_4GLBv0zWr7m"
      },
      "source": [
        "# **Discussion**"
      ]
    },
    {
      "cell_type": "markdown",
      "metadata": {
        "id": "6bcsDSoRXHZe"
      },
      "source": [
        "All algorithms passed their testcases, although the tests were a bit simple since it can be time consuming to calculate the correct results by hand. The tests could have been written more efficiently. All functions written in this lab have equivalent methods in the numpy library for python. Using these pre-existing functions is of course more convenient and might be faster, but it is also good to understand how they work. "
      ]
    }
  ]
}