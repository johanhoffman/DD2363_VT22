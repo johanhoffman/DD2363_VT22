{
  "nbformat": 4,
  "nbformat_minor": 0,
  "metadata": {
    "colab": {
      "name": "template-report-lab-X.ipynb",
      "provenance": [],
      "include_colab_link": true
    },
    "kernelspec": {
      "name": "python3",
      "display_name": "Python 3"
    }
  },
  "cells": [
    {
      "cell_type": "markdown",
      "metadata": {
        "id": "view-in-github",
        "colab_type": "text"
      },
      "source": [
        "<a href=\"https://colab.research.google.com/github/johanhoffman/DD2363_VT22/blob/PeterTKovacs_lab1/Lab1/PeterTKovacs-lab1.ipynb\" target=\"_parent\"><img src=\"https://colab.research.google.com/assets/colab-badge.svg\" alt=\"Open In Colab\"/></a>"
      ]
    },
    {
      "cell_type": "markdown",
      "metadata": {
        "id": "6RgtXlfYO_i7"
      },
      "source": [
        "# **Lab 1: Introduction**\n",
        "**Péter Kovács**"
      ]
    },
    {
      "cell_type": "markdown",
      "metadata": {
        "id": "9x_J5FVuPzbm"
      },
      "source": [
        "# **Abstract**"
      ]
    },
    {
      "cell_type": "markdown",
      "metadata": {
        "id": "6UFTSzW7P8kL"
      },
      "source": [
        "\n",
        "\n",
        "Short summary of the lab report. State the objectives, methods used, main results and conlusions. "
      ]
    },
    {
      "cell_type": "markdown",
      "metadata": {
        "id": "yJipbXtnjrJZ"
      },
      "source": [
        ""
      ]
    },
    {
      "cell_type": "markdown",
      "metadata": {
        "id": "OkT8J7uOWpT3"
      },
      "source": [
        "#**About the code**"
      ]
    },
    {
      "cell_type": "markdown",
      "metadata": {
        "id": "HmB2noTr1Oyo"
      },
      "source": [
        "A short statement on who is the author of the file, and if the code is distributed under a certain license. "
      ]
    },
    {
      "cell_type": "code",
      "metadata": {
        "id": "Pdll1Xc9WP0e",
        "colab": {
          "base_uri": "https://localhost:8080/",
          "height": 35
        },
        "outputId": "8821e881-c8b4-4948-ef26-f1f263d8e44f"
      },
      "source": [
        "\"\"\"This program is a template for lab reports in the course\"\"\"\n",
        "\"\"\"DD2363 Methods in Scientific Computing, \"\"\"\n",
        "\"\"\"KTH Royal Institute of Technology, Stockholm, Sweden.\"\"\"\n",
        "\n",
        "# Copyright (C) 2022 Péter Kovács (ptkovacs@kth.se)\n",
        "\n",
        "# This file is part of the course DD2363 Methods in Scientific Computing\n",
        "# KTH Royal Institute of Technology, Stockholm, Sweden\n",
        "#\n",
        "# This is free software: you can redistribute it and/or modify\n",
        "# it under the terms of the GNU Lesser General Public License as published by\n",
        "# the Free Software Foundation, either version 3 of the License, or\n",
        "# (at your option) any later version.\n",
        "\n",
        "# This template is maintained by Johan Hoffman\n",
        "# Please report problems to jhoffman@kth.se"
      ],
      "execution_count": 2,
      "outputs": [
        {
          "output_type": "execute_result",
          "data": {
            "application/vnd.google.colaboratory.intrinsic+json": {
              "type": "string"
            },
            "text/plain": [
              "'KTH Royal Institute of Technology, Stockholm, Sweden.'"
            ]
          },
          "metadata": {},
          "execution_count": 2
        }
      ]
    },
    {
      "cell_type": "markdown",
      "metadata": {
        "id": "28xLGz8JX3Hh"
      },
      "source": [
        "# **Set up environment**"
      ]
    },
    {
      "cell_type": "markdown",
      "metadata": {
        "id": "D2PYNusD08Wa"
      },
      "source": [
        "To have access to the neccessary modules you have to run this cell. If you need additional modules, this is where you add them. "
      ]
    },
    {
      "cell_type": "code",
      "metadata": {
        "id": "Xw7VlErAX7NS"
      },
      "source": [
        "# Load neccessary modules.\n",
        "from google.colab import files\n",
        "import numpy as np\n"
      ],
      "execution_count": 3,
      "outputs": []
    },
    {
      "cell_type": "markdown",
      "metadata": {
        "id": "gnO3lhAigLev"
      },
      "source": [
        "# **Introduction**"
      ]
    },
    {
      "cell_type": "markdown",
      "metadata": {
        "id": "l5zMzgPlRAF6"
      },
      "source": [
        "In this submission, I solve some introductory problems in linear algebra. Since it is just implementing well-known concepts, I will keep explanatory text to the minimal necessary amount.\n",
        "\n",
        "In most cases, I will rely on the numpy package for python, which is just designed to work with tensors of any dimension (vectors, matrices, etc.)\n",
        "\n",
        "[Hyperlink to DD2363 course website.](https://kth.instructure.com/courses/17068)\n",
        "\n",
        "$\n",
        "{\\displaystyle \\frac{\\partial u}{\\partial t}} + u\\cdot \\nabla u +\\nabla p = f, \\quad \\nabla \\cdot u=0$\n",
        "\n"
      ]
    },
    {
      "cell_type": "markdown",
      "metadata": {
        "id": "jOQvukXZq5U5"
      },
      "source": [
        "# **Method**"
      ]
    },
    {
      "cell_type": "markdown",
      "metadata": {
        "id": "zF4iBj5VURZx"
      },
      "source": [
        "My solution will be organized according to the problem statements. I felt that the testing should be placed right after the code for different problems so I organized my submission accordingly.\n",
        "\n",
        "Since we are required to include testing protocols in our functions, I implement them first. I check for having float inputs and matching dimensions."
      ]
    },
    {
      "cell_type": "markdown",
      "source": [
        "### 0) preliminary testing routines"
      ],
      "metadata": {
        "id": "z7-Crlw4KyFp"
      }
    },
    {
      "cell_type": "code",
      "source": [
        "def is_float_64_array(array):\n",
        "  if not type(array)==np.ndarray:\n",
        "    return False\n",
        "  if array.dtype==np.float64:\n",
        "    return True\n",
        "  else:\n",
        "    return False"
      ],
      "metadata": {
        "id": "Sd6Tt9aaE9Zb"
      },
      "execution_count": 17,
      "outputs": []
    },
    {
      "cell_type": "code",
      "source": [
        "def matching_dimensions(a,b):\n",
        "\n",
        "  '''\n",
        "  Check if the input objects are ndarrays and if their dimensions match in a sense that a*b would be a valid operation\n",
        "  '''\n",
        "\n",
        "  if type(a)==np.ndarray and type(b)==np.ndarray:\n",
        "    if a.shape[-1]==b.shape[0]:\n",
        "      return True\n",
        "  else:\n",
        "    return False"
      ],
      "metadata": {
        "id": "1DtCqhuPGJoV"
      },
      "execution_count": 18,
      "outputs": []
    },
    {
      "cell_type": "code",
      "source": [
        "def test_input_of_two(a,b):\n",
        "  '''\n",
        "  test dtype for np.float64 and matching dimensions\n",
        "  '''\n",
        "  if is_float_64_array(a) and is_float_64_array(b) and matching_dimensions(a,b):\n",
        "    return True\n",
        "  else:\n",
        "    return False"
      ],
      "metadata": {
        "id": "J4BKbDK6HeIN"
      },
      "execution_count": 33,
      "outputs": []
    },
    {
      "cell_type": "markdown",
      "source": [
        "With these preparations, we are ready to implement our functions\n",
        "\n",
        "### 1) scalar product"
      ],
      "metadata": {
        "id": "Mkjafi9-HTJv"
      }
    },
    {
      "cell_type": "code",
      "source": [
        "def scalar_product(a,b):\n",
        "\n",
        "  '''\n",
        "  scalar product of a and b, which are supposed to be given with their coordinates in an orthonormal base\n",
        "  also, they shall be np.float64 vectors\n",
        "  '''\n",
        "\n",
        "  if not test_input_of_two(a,b):\n",
        "    print('dtype not float64 or non-matching dimensions')\n",
        "    return None\n",
        "  if len(a.shape)>1:\n",
        "    print('not a vector')\n",
        "    return None\n",
        "  \n",
        "  result=0\n",
        "  for i in range(a.shape[0]):\n",
        "    result+=a[i]*b[i]\n",
        "  return result"
      ],
      "metadata": {
        "id": "4YefFtpgHMpX"
      },
      "execution_count": 30,
      "outputs": []
    },
    {
      "cell_type": "code",
      "source": [
        "# let us test no.1 \n",
        "a=np.array([1,2,3],dtype=np.float64)\n",
        "b=np.array([1,-2,0],dtype=np.float64)\n",
        "\n",
        "print(scalar_product(a,b))"
      ],
      "metadata": {
        "id": "0afJ176xJDLv",
        "outputId": "5194ff98-1016-40cc-957d-9b894c8d51f8",
        "colab": {
          "base_uri": "https://localhost:8080/"
        }
      },
      "execution_count": 31,
      "outputs": [
        {
          "output_type": "stream",
          "name": "stdout",
          "text": [
            "-3.0\n"
          ]
        }
      ]
    },
    {
      "cell_type": "code",
      "source": [
        "# let us test no.2 \n",
        "a=np.random.standard_normal(3)\n",
        "b=np.random.standard_normal(3)\n",
        "\n",
        "print(scalar_product(a,b))\n",
        "print(a.dot(b))"
      ],
      "metadata": {
        "id": "8uEJwHi7JW6I",
        "outputId": "cc0cc202-4c1d-4865-f16d-229bc78674c9",
        "colab": {
          "base_uri": "https://localhost:8080/"
        }
      },
      "execution_count": 32,
      "outputs": [
        {
          "output_type": "stream",
          "name": "stdout",
          "text": [
            "1.023704289799302\n",
            "1.023704289799302\n"
          ]
        }
      ]
    },
    {
      "cell_type": "markdown",
      "source": [
        "So it seems we are good this time (one 'obvious for human' and one 'check with builtin' test)\n",
        "\n",
        "### 2) matrix-vector product"
      ],
      "metadata": {
        "id": "UWjkh0J_KDyK"
      }
    },
    {
      "cell_type": "code",
      "source": [
        "def matrix_vector_product(A,b):\n",
        "\n",
        "  '''\n",
        "  matrix-vector product of A and b, coordinates are supposed to be given in an orthonormal basis\n",
        "  also, they shall be np.float64 arrays\n",
        "  '''\n",
        "\n",
        "  if not test_input_of_two(A,b):\n",
        "    print('dtype not float64 or non-matching dimensions')\n",
        "    return None\n",
        "  if len(A.shape)!=2 or len(b.shape)!=1:\n",
        "    print('not a matrix-vector pair')\n",
        "    return None\n",
        "  \n",
        "  r=np.zeros(A.shape[0],np.float64)\n",
        "  for i in range(A.shape[0]):\n",
        "    for j in range(A.shape[1]):\n",
        "      r[i]+=A[i,j]*b[j]\n",
        "  return r"
      ],
      "metadata": {
        "id": "0A5DiBXdKsiK"
      },
      "execution_count": 48,
      "outputs": []
    },
    {
      "cell_type": "code",
      "source": [
        "# let us test no.1 \n",
        "A=np.array([[1,2,3],[1,2,3]],dtype=np.float64)\n",
        "b=np.array([1,-2,0],dtype=np.float64)\n",
        "\n",
        "print(matrix_vector_product(A,b))"
      ],
      "metadata": {
        "id": "Clva5lhJMZOD",
        "outputId": "465108cf-e15b-4fb9-84c1-61bc52559e37",
        "colab": {
          "base_uri": "https://localhost:8080/"
        }
      },
      "execution_count": 49,
      "outputs": [
        {
          "output_type": "stream",
          "name": "stdout",
          "text": [
            "[-3. -3.]\n"
          ]
        }
      ]
    },
    {
      "cell_type": "code",
      "source": [
        "# let us test no.2 \n",
        "A=np.random.standard_normal((3,2))\n",
        "b=np.random.standard_normal(2)\n",
        "\n",
        "print(matrix_vector_product(A,b))\n",
        "print(A.dot(b))"
      ],
      "metadata": {
        "id": "POZCp9AFMuzU",
        "outputId": "9d8d0c43-bbba-491a-a841-8e7132f8bc79",
        "colab": {
          "base_uri": "https://localhost:8080/"
        }
      },
      "execution_count": 50,
      "outputs": [
        {
          "output_type": "stream",
          "name": "stdout",
          "text": [
            "[-1.107584   -1.01837195 -0.45849762]\n",
            "[-1.107584   -1.01837195 -0.45849762]\n"
          ]
        }
      ]
    },
    {
      "cell_type": "markdown",
      "source": [
        "We are just fine again\n",
        "\n",
        "### 3) matrix-matrix product\n"
      ],
      "metadata": {
        "id": "loPYEIh6Mt-u"
      }
    },
    {
      "cell_type": "code",
      "source": [
        "def matrix_matrix_product(A,B):\n",
        "\n",
        "  '''\n",
        "  matrix-matrix product of A and B, coordinates are supposed to be given in an orthonormal basis\n",
        "  also, they shall be np.float64 arrays\n",
        "  '''\n",
        "\n",
        "  if not test_input_of_two(A,B):\n",
        "    print('dtype not float64 or non-matching dimensions')\n",
        "    return None\n",
        "  if len(A.shape)!=2 or len(B.shape)!=2:\n",
        "    print('not a matrix-matrix pair')\n",
        "    return None\n",
        "  \n",
        "  r=np.zeros((A.shape[0],B.shape[-1]),np.float64)\n",
        "  for i in range(A.shape[0]):\n",
        "    for j in range(B.shape[-1]):\n",
        "      for k in range(A.shape[-1]):\n",
        "        r[i,j]+=A[i,k]*B[k,j]\n",
        "  return r"
      ],
      "metadata": {
        "id": "TRN_X09HNgi_"
      },
      "execution_count": 51,
      "outputs": []
    },
    {
      "cell_type": "code",
      "source": [
        "# let us test no.1 \n",
        "A=np.array([[1,2,3],[1,2,3]],dtype=np.float64)\n",
        "\n",
        "print(matrix_matrix_product(A,A.T))"
      ],
      "metadata": {
        "id": "42xzoZTbOTE8",
        "outputId": "21c62ff2-6928-4d92-cc18-c54f111ef5eb",
        "colab": {
          "base_uri": "https://localhost:8080/"
        }
      },
      "execution_count": 53,
      "outputs": [
        {
          "output_type": "stream",
          "name": "stdout",
          "text": [
            "[[14. 14.]\n",
            " [14. 14.]]\n"
          ]
        }
      ]
    },
    {
      "cell_type": "code",
      "source": [
        "# let us test no.2 \n",
        "A=np.random.standard_normal((3,2))\n",
        "B=np.random.standard_normal((2,3))\n",
        "\n",
        "print(matrix_matrix_product(A,B))\n",
        "print(A.dot(B))"
      ],
      "metadata": {
        "id": "d7m9VdOgOeiZ",
        "outputId": "ea229963-2f02-448d-8f0b-fca43e552497",
        "colab": {
          "base_uri": "https://localhost:8080/"
        }
      },
      "execution_count": 55,
      "outputs": [
        {
          "output_type": "stream",
          "name": "stdout",
          "text": [
            "[[-2.42345483  1.39392167 -1.96723258]\n",
            " [ 0.02670036  0.70007857 -1.16786384]\n",
            " [ 0.4205414  -0.50375425  0.77677377]]\n",
            "[[-2.42345483  1.39392167 -1.96723258]\n",
            " [ 0.02670036  0.70007857 -1.16786384]\n",
            " [ 0.4205414  -0.50375425  0.77677377]]\n"
          ]
        }
      ]
    },
    {
      "cell_type": "markdown",
      "source": [
        "We are fine again\n",
        "\n",
        "### 4) Euclidean norm"
      ],
      "metadata": {
        "id": "tItUbf3MOP6P"
      }
    },
    {
      "cell_type": "code",
      "source": [
        "def euclidean_norm(x):\n",
        "\n",
        "  '''\n",
        "  calculate eulidean (L2) norm of np.float64 array x\n",
        "  '''\n",
        "\n",
        "  if not is_float_64_array(x) or len(x.shape)>1:\n",
        "    print('not float vector')\n",
        "    return None\n",
        "  else:\n",
        "    return np.sqrt(scalar_product(x,x))\n"
      ],
      "metadata": {
        "id": "XjeBKOLHOyzF"
      },
      "execution_count": 56,
      "outputs": []
    },
    {
      "cell_type": "code",
      "source": [
        "# let us test no.1 \n",
        "x=np.array([1,2,3],dtype=np.float64)\n",
        "\n",
        "print(euclidean_norm(x))"
      ],
      "metadata": {
        "id": "o6oAt-nhPimO",
        "outputId": "5a41dd8f-5157-445e-db65-9965fe1d4b11",
        "colab": {
          "base_uri": "https://localhost:8080/"
        }
      },
      "execution_count": 57,
      "outputs": [
        {
          "output_type": "stream",
          "name": "stdout",
          "text": [
            "3.7416573867739413\n"
          ]
        }
      ]
    },
    {
      "cell_type": "code",
      "source": [
        "# let us test no.1 \n",
        "x=np.random.standard_normal(5)\n",
        "\n",
        "print(euclidean_norm(x))\n",
        "print(np.linalg.norm(x))"
      ],
      "metadata": {
        "id": "eymjC1BHPu16",
        "outputId": "34ca9cdb-09d2-4d3b-9753-780665e21cb2",
        "colab": {
          "base_uri": "https://localhost:8080/"
        }
      },
      "execution_count": 58,
      "outputs": [
        {
          "output_type": "stream",
          "name": "stdout",
          "text": [
            "4.995656513031302\n",
            "4.995656513031302\n"
          ]
        }
      ]
    },
    {
      "cell_type": "markdown",
      "source": [
        "OK again\n",
        "\n",
        "### 5) Euclidean distance"
      ],
      "metadata": {
        "id": "Tplf-U25Ph8w"
      }
    },
    {
      "cell_type": "code",
      "source": [
        "def euclidean_distance(a,b):\n",
        "\n",
        "  '''\n",
        "  calculate eucliean distance of two np.float64 vectors\n",
        "  '''\n",
        "\n",
        "\n",
        "  if not test_input_of_two(a,b):\n",
        "    print('dtype not float64 or non-matching dimensions')\n",
        "    return None\n",
        "  if len(a.shape)>1:\n",
        "    print('not a vector')\n",
        "    return None\n",
        "\n",
        "  return euclidean_norm(a-b)\n"
      ],
      "metadata": {
        "id": "1i8ffDjKQFZW"
      },
      "execution_count": 59,
      "outputs": []
    },
    {
      "cell_type": "code",
      "source": [
        "# let us test no.1 \n",
        "a=np.array([1,2,3],dtype=np.float64)\n",
        "b=np.array([1,-2,0],dtype=np.float64)\n",
        "\n",
        "print(euclidean_distance(a,b))"
      ],
      "metadata": {
        "id": "5AZZG3gwQru5",
        "outputId": "2001ad3c-14ef-4420-942d-2bb0f6b523dc",
        "colab": {
          "base_uri": "https://localhost:8080/"
        }
      },
      "execution_count": 60,
      "outputs": [
        {
          "output_type": "stream",
          "name": "stdout",
          "text": [
            "5.0\n"
          ]
        }
      ]
    },
    {
      "cell_type": "code",
      "source": [
        "# let us test no.2 \n",
        "a=np.random.standard_normal(3)\n",
        "b=np.random.standard_normal(3)\n",
        "\n",
        "print(euclidean_distance(a,b))\n",
        "print(np.linalg.norm(a-b))"
      ],
      "metadata": {
        "id": "sqNa45hFQxyP",
        "outputId": "a167f71e-50d3-4890-a611-f7d7da20f908",
        "colab": {
          "base_uri": "https://localhost:8080/"
        }
      },
      "execution_count": 61,
      "outputs": [
        {
          "output_type": "stream",
          "name": "stdout",
          "text": [
            "3.7308491181957057\n",
            "3.7308491181957057\n"
          ]
        }
      ]
    },
    {
      "cell_type": "markdown",
      "metadata": {
        "id": "SsQLT38gVbn_"
      },
      "source": [
        "so OK again\n",
        "\n",
        "# **Summary, discussion**"
      ]
    },
    {
      "cell_type": "markdown",
      "metadata": {
        "id": "RLwlnOzuV-Cd"
      },
      "source": [
        "To sum up, our methods just work as expected, which is kind of non-surprising for such basic tasks."
      ]
    }
  ]
}