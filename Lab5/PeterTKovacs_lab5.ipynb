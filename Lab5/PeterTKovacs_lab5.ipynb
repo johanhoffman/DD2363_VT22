{
  "nbformat": 4,
  "nbformat_minor": 0,
  "metadata": {
    "colab": {
      "name": "PeterTKovacs_lab5.ipynb",
      "provenance": [],
      "collapsed_sections": [],
      "include_colab_link": true
    },
    "kernelspec": {
      "name": "python3",
      "display_name": "Python 3"
    }
  },
  "cells": [
    {
      "cell_type": "markdown",
      "metadata": {
        "id": "view-in-github",
        "colab_type": "text"
      },
      "source": [
        "<a href=\"https://colab.research.google.com/github/johanhoffman/DD2363_VT22/blob/PeterTKovacs_lab5/Lab5/PeterTKovacs_lab5.ipynb\" target=\"_parent\"><img src=\"https://colab.research.google.com/assets/colab-badge.svg\" alt=\"Open In Colab\"/></a>"
      ]
    },
    {
      "cell_type": "markdown",
      "metadata": {
        "id": "6RgtXlfYO_i7"
      },
      "source": [
        "**Lab 5: integration**\n",
        "\n",
        "\n",
        "**Péter Kovács**"
      ]
    },
    {
      "cell_type": "markdown",
      "metadata": {
        "id": "9x_J5FVuPzbm"
      },
      "source": [
        "# **Abstract**"
      ]
    },
    {
      "cell_type": "markdown",
      "metadata": {
        "id": "yJipbXtnjrJZ"
      },
      "source": [
        "In this lab assignment, we implement some basic quadrature rules for numerical integration.\n",
        "\n",
        "We experiment with Gauss and Monte Carlo quadratures on reference 1D and 2D elements. "
      ]
    },
    {
      "cell_type": "markdown",
      "metadata": {
        "id": "OkT8J7uOWpT3"
      },
      "source": [
        "#**About the code**"
      ]
    },
    {
      "cell_type": "markdown",
      "metadata": {
        "id": "HmB2noTr1Oyo"
      },
      "source": [
        "A short statement on who is the author of the file, and if the code is distributed under a certain license. "
      ]
    },
    {
      "cell_type": "code",
      "metadata": {
        "id": "Pdll1Xc9WP0e",
        "colab": {
          "base_uri": "https://localhost:8080/",
          "height": 35
        },
        "outputId": "37f5d759-b868-48eb-fdf5-39d8a677f038"
      },
      "source": [
        "\"\"\"This program is a template for lab reports in the course\"\"\"\n",
        "\"\"\"DD2363 Methods in Scientific Computing, \"\"\"\n",
        "\"\"\"KTH Royal Institute of Technology, Stockholm, Sweden.\"\"\"\n",
        "\n",
        "# Copyright (C) 2022 Péter Kovács (ptkovacs@kth.se)\n",
        "\n",
        "# This file is part of the course DD2363 Methods in Scientific Computing\n",
        "# KTH Royal Institute of Technology, Stockholm, Sweden\n",
        "#\n",
        "# This is free software: you can redistribute it and/or modify\n",
        "# it under the terms of the GNU Lesser General Public License as published by\n",
        "# the Free Software Foundation, either version 3 of the License, or\n",
        "# (at your option) any later version.\n",
        "\n",
        "# This template is maintained by Johan Hoffman\n",
        "# Please report problems to jhoffman@kth.se"
      ],
      "execution_count": 1,
      "outputs": [
        {
          "output_type": "execute_result",
          "data": {
            "application/vnd.google.colaboratory.intrinsic+json": {
              "type": "string"
            },
            "text/plain": [
              "'KTH Royal Institute of Technology, Stockholm, Sweden.'"
            ]
          },
          "metadata": {},
          "execution_count": 1
        }
      ]
    },
    {
      "cell_type": "markdown",
      "metadata": {
        "id": "28xLGz8JX3Hh"
      },
      "source": [
        "# **Set up environment**"
      ]
    },
    {
      "cell_type": "code",
      "metadata": {
        "id": "Xw7VlErAX7NS"
      },
      "source": [
        "# Load neccessary modules.\n",
        "from google.colab import files\n",
        "import numpy as np\n",
        "from scipy import integrate\n",
        "import random\n"
      ],
      "execution_count": 2,
      "outputs": []
    },
    {
      "cell_type": "markdown",
      "metadata": {
        "id": "gnO3lhAigLev"
      },
      "source": [
        "# **Introduction**"
      ]
    },
    {
      "cell_type": "markdown",
      "metadata": {
        "id": "l5zMzgPlRAF6"
      },
      "source": [
        "Approximation integrals is a very important task in numerical analysis, enough to think of the FEM method, where we usually need to integrate arbitrary source terms against basis functions to assemble the linear system we solve at the end.\n",
        "\n",
        "The idea of approximating integrals as weighted sums of function values sampled at appropriate points is quite a fundamental one, since the very notion of integral is usually introduced as the limit of such sums.\n",
        "\n",
        "In the case of Gaussian quadrature, we choose our quadrature points in such a way that the approximation of the integral is exact to the highest possible order polynomials. At this point, this startegy is just vaguely defined but this concept is the lead for the in all dimensions, and in fact determines quadrature points and weights.\n",
        "\n",
        "\n",
        "During coding, we will directly rely on the results presented in chapter 11 of Johan's book, so we won't numerically calculate (Gauss) quadrature weights and points, just use them in the approximating algorithms.\n",
        "\n",
        "Monte Carlo integration is a way to approximate integrals in higher dimensions or in settings where the integrand 'misbehaves'. It rests on the observation that if we randomize on the integration domain uniformly by some X random variable, then E(f(X)) is precisely the integral we want to approximate. (We just need to make sure that the measure by which we integrate is the probability measure by which we randomize - we may need to readjust by the measure of the domain: see problem 4) \n",
        "\n",
        "\n"
      ]
    },
    {
      "cell_type": "markdown",
      "metadata": {
        "id": "jOQvukXZq5U5"
      },
      "source": [
        "##**Code**\n",
        "\n",
        "### 1) 2-point Gauss quadrature on [0,1]\n",
        "\n",
        "Note that deriving weights and points is in the problem assignment, so we just use them:\n",
        "\n",
        "$x_0 = \\frac{1+\\sqrt{3}}{2 \\sqrt{3}}$\n",
        "\n",
        "$x_1= \\frac{-1+\\sqrt{3}}{2 \\sqrt{3}}$\n",
        "\n",
        "$w_0 = w_1 = 1/2$"
      ]
    },
    {
      "cell_type": "code",
      "source": [
        "def gauss_2_point(f):\n",
        "  \"\"\"\n",
        "  Implementing 2-point Gaussian quadrature on the [0,1] interval\n",
        "\n",
        "  argument: f function (callable)\n",
        "  returns: approximation of the integral\n",
        "  \n",
        "  \"\"\"\n",
        "\n",
        "  w=0.5\n",
        "  x0=0.5+1/np.sqrt(3)/2\n",
        "  x1=0.5-1/np.sqrt(3)/2\n",
        "\n",
        "  return w*(f(x0)+f(x1))"
      ],
      "metadata": {
        "id": "D7ZKg-TYGBae"
      },
      "execution_count": 3,
      "outputs": []
    },
    {
      "cell_type": "markdown",
      "source": [
        "### 2) 3 edge midpoint rule on reference triangle\n",
        "\n",
        "Following example 11.5, we apply this quadrature rule on a reference triangle (vertices: (0,0), (0,1), (1,0))\n",
        "\n",
        "The quadrature weights are all 1/6"
      ],
      "metadata": {
        "id": "eKEunDkWGtgM"
      }
    },
    {
      "cell_type": "code",
      "source": [
        "def gauss_3_point_triangle(f):\n",
        "  \"\"\"\n",
        "  Implementing 3-point Gaussian quadrature on the (0,0), (0,1), (1,0) reference triangle\n",
        "\n",
        "  argument: f function (callable)\n",
        "  returns: approximation of the integral\n",
        "  \n",
        "  \"\"\"\n",
        "\n",
        "  w=1/6\n",
        "  x0=np.array([0.5,0.5],float)\n",
        "  x1=np.array([0.,0.5],float)\n",
        "  x2=np.array([0.5,0.],float)\n",
        "\n",
        "  return w*(f(x0)+f(x1)+f(x2))"
      ],
      "metadata": {
        "id": "9n8LlRWkGtNl"
      },
      "execution_count": 4,
      "outputs": []
    },
    {
      "cell_type": "markdown",
      "source": [
        "### 3) Monte Carlo quadrature on [0,1]\n",
        "\n",
        "In this section, no additional comments are needed.\n",
        "\n"
      ],
      "metadata": {
        "id": "hZ-bFkwoIWSq"
      }
    },
    {
      "cell_type": "code",
      "source": [
        "def monte_carlo_1d(f,n):\n",
        "\n",
        "  '''\n",
        "  Monte Carlo quadrature of f callable on [0,1], evaluated n times\n",
        "  '''\n",
        "\n",
        "  sum=0\n",
        "\n",
        "  for i in range(n):\n",
        "    sum+=f(random.random())\n",
        "\n",
        "  return sum/n"
      ],
      "metadata": {
        "id": "ioxLgSRpIWjN"
      },
      "execution_count": 5,
      "outputs": []
    },
    {
      "cell_type": "markdown",
      "source": [
        "### 4) Monte Carlo quadrature over a refernce triangle\n",
        "\n",
        "The only nontrivial part is to generate uniform distribution on a triangle. \n",
        "\n",
        "We proceed by a nasty trick: we randomize over the unit square and only accept those points that are inside the triangle. Hence we sample from a conditional distribution, but that is uniform as well.\n",
        "\n"
      ],
      "metadata": {
        "id": "9rh4otawM6na"
      }
    },
    {
      "cell_type": "code",
      "source": [
        "def monte_carlo_2d(f,n,maxiter=1e9):\n",
        "\n",
        "  '''\n",
        "  Monte Carlo quadrature of f callable over the unit reference triangle, evaluated n times\n",
        "\n",
        "  if number of iterations exceeds maxiter (astronomically small probability), return the interim result\n",
        "\n",
        "  note that since the area of the triangle is not 1 but 1/2, we have to renormalize!\n",
        "  '''\n",
        "\n",
        "  sum=0\n",
        "  points=0\n",
        "  i=0\n",
        "\n",
        "  while(i<maxiter):\n",
        "    x=random.random()\n",
        "    y=random.random()\n",
        "\n",
        "    if x+y<=1:\n",
        "      sum+=f(np.array([x,y],float))\n",
        "      points+=1\n",
        "    if points==n:\n",
        "      return sum/n/2\n",
        "    \n",
        "    i+=1\n",
        "\n",
        "  return sum/points/2"
      ],
      "metadata": {
        "id": "o0rZ-LsmM6Qk"
      },
      "execution_count": 6,
      "outputs": []
    },
    {
      "cell_type": "markdown",
      "source": [
        "### Testing code\n",
        "\n",
        "a) test for 2-point Gauss quadrature on [0,1]\n",
        "\n",
        "Verify against $f(x)=ax^3+bx^2+cx+d$, its integral should be $a/4+b/3+c/2+d$"
      ],
      "metadata": {
        "id": "C0wr9DGgOnZt"
      }
    },
    {
      "cell_type": "code",
      "source": [
        "coeffs=np.random.standard_normal(4)\n",
        "f = lambda x: np.sum(np.array([coeffs[i]*x**i for i in range(4)],float))\n",
        "\n",
        "print(\"exact value: %f\\napproximate value: %f\" %(np.sum(np.array([coeffs[i]/(i+1) for i in range(4)],float)),gauss_2_point(f)))"
      ],
      "metadata": {
        "colab": {
          "base_uri": "https://localhost:8080/"
        },
        "id": "5SJhfMfcOmyE",
        "outputId": "cb8123e0-c71a-4efa-f233-cea0aa15b7a2"
      },
      "execution_count": 7,
      "outputs": [
        {
          "output_type": "stream",
          "name": "stdout",
          "text": [
            "exact value: 0.001626\n",
            "approximate value: 0.001626\n"
          ]
        }
      ]
    },
    {
      "cell_type": "markdown",
      "source": [
        "b) Monte Carlo quadrature on [0,1]"
      ],
      "metadata": {
        "id": "GonzPgUUudau"
      }
    },
    {
      "cell_type": "code",
      "source": [
        "import matplotlib.pyplot as plt"
      ],
      "metadata": {
        "id": "3Zy2LPvHvMZm"
      },
      "execution_count": 8,
      "outputs": []
    },
    {
      "cell_type": "code",
      "source": [
        "coeffs=np.random.standard_normal(4)\n",
        "f = lambda x: np.sum(np.array([coeffs[i]*x**i for i in range(4)],float))\n",
        "n=[15,25,40,80,150,250,400,600,800,1000,1300,2500,5000,10000]\n",
        "\n",
        "exact=np.sum(np.array([coeffs[i]/(i+1) for i in range(4)],float))\n",
        "\n",
        "plt.figure()\n",
        "plt.plot([1/np.sqrt(x) for x in n],[np.abs(exact-monte_carlo_1d(f,x)) for x in n])\n",
        "plt.xlabel('1/$\\sqrt{n}$')\n",
        "plt.ylabel('deviation from exact value')\n",
        "plt.show()\n"
      ],
      "metadata": {
        "colab": {
          "base_uri": "https://localhost:8080/",
          "height": 283
        },
        "id": "qtnGgw4Qudkl",
        "outputId": "c992888e-6300-4f41-b408-74ea9f4bb518"
      },
      "execution_count": 9,
      "outputs": [
        {
          "output_type": "display_data",
          "data": {
            "image/png": "[encoded data removed]",
            "text/plain": [
              "<Figure size 432x288 with 1 Axes>"
            ]
          },
          "metadata": {
            "needs_background": "light"
          }
        }
      ]
    },
    {
      "cell_type": "markdown",
      "source": [
        "c) Gauss on unit triangle\n",
        "\n",
        "Verify against $f(x)=ax^2+by^2+cxy+dx+ey+f$, its integral should be $a/12+b/12+c/24+d/6+e/6+f/2$\n",
        "\n"
      ],
      "metadata": {
        "id": "Xy0cPywswXp7"
      }
    },
    {
      "cell_type": "code",
      "source": [
        "_c=np.random.standard_normal(6)\n",
        "\n",
        "f=lambda x: _c[0]*x[0]**2+_c[1]*x[1]**2+_c[2]*x[0]*x[1]+_c[3]*x[0]+_c[4]*x[1]+_c[5]\n",
        "\n",
        "print(\"exact value: %f\\napproximate value: %f\" %\n",
        "      (_c[0]/12+_c[1]/12+_c[2]/24+_c[3]/6+_c[4]/6+_c[5]/2,\n",
        "       gauss_3_point_triangle(f)))\n",
        "\n"
      ],
      "metadata": {
        "colab": {
          "base_uri": "https://localhost:8080/"
        },
        "id": "cw0kgskYwXTH",
        "outputId": "ce3ceee6-c2ea-402b-fcd8-ebd65cae444c"
      },
      "execution_count": 10,
      "outputs": [
        {
          "output_type": "stream",
          "name": "stdout",
          "text": [
            "exact value: -0.677188\n",
            "approximate value: -0.677188\n"
          ]
        }
      ]
    },
    {
      "cell_type": "markdown",
      "source": [
        "d) Monte Carlo on triangle"
      ],
      "metadata": {
        "id": "lCSODye300Sq"
      }
    },
    {
      "cell_type": "code",
      "source": [
        "_c=np.random.standard_normal(6)\n",
        "\n",
        "f=lambda x: _c[0]*x[0]**2+_c[1]*x[1]**2+_c[2]*x[0]*x[1]+_c[3]*x[0]+_c[4]*x[1]+_c[5]\n",
        "n=[15,25,40,80,150,250,400,600,800,1000,1300,2500]\n",
        "\n",
        "exact=_c[0]/12+_c[1]/12+_c[2]/24+_c[3]/6+_c[4]/6+_c[5]/2\n",
        "\n",
        "plt.figure()\n",
        "plt.plot([1/np.sqrt(x) for x in n],[np.abs(exact-monte_carlo_2d(f,x)) for x in n])\n",
        "plt.xlabel('1/$\\sqrt{n}$')\n",
        "plt.ylabel('deviation from exact value')\n",
        "plt.show()"
      ],
      "metadata": {
        "colab": {
          "base_uri": "https://localhost:8080/",
          "height": 283
        },
        "id": "WPR-XiLA00zI",
        "outputId": "f008fbc9-5ded-47c5-d4a1-841289ea4a7e"
      },
      "execution_count": 11,
      "outputs": [
        {
          "output_type": "display_data",
          "data": {
            "image/png": "[encoded data removed]",
            "text/plain": [
              "<Figure size 432x288 with 1 Axes>"
            ]
          },
          "metadata": {
            "needs_background": "light"
          }
        }
      ]
    },
    {
      "cell_type": "markdown",
      "metadata": {
        "id": "SsQLT38gVbn_"
      },
      "source": [
        "\n",
        "# **Summary, discussion**"
      ]
    },
    {
      "cell_type": "markdown",
      "metadata": {
        "id": "RLwlnOzuV-Cd"
      },
      "source": [
        "Methods work as expected.\n",
        "\n",
        "In a more genral setting, book-keeping Gauss quadrature may be tedious and even extremely hard for general 'misbehaving' multifimensional domains, whereas Monte Carlo seamlessly generalizes, as long as we can apply the trick I did in problem 4"
      ]
    },
    {
      "cell_type": "code",
      "source": [
        ""
      ],
      "metadata": {
        "id": "G6dWmBvRnGYm"
      },
      "execution_count": 11,
      "outputs": []
    }
  ]
}