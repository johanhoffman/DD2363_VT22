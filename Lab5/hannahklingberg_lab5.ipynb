{
  "nbformat": 4,
  "nbformat_minor": 0,
  "metadata": {
    "colab": {
      "name": "Lab 5.ipynb",
      "provenance": [],
      "include_colab_link": true
    },
    "kernelspec": {
      "name": "python3",
      "display_name": "Python 3"
    }
  },
  "cells": [
    {
      "cell_type": "markdown",
      "metadata": {
        "id": "view-in-github",
        "colab_type": "text"
      },
      "source": [
        "<a href=\"https://colab.research.google.com/github/johanhoffman/DD2363_VT22/blob/hannahklingberg-lab5/Lab5/hannahklingberg_lab5.ipynb\" target=\"_parent\"><img src=\"https://colab.research.google.com/assets/colab-badge.svg\" alt=\"Open In Colab\"/></a>"
      ]
    },
    {
      "cell_type": "markdown",
      "metadata": {
        "id": "6RgtXlfYO_i7"
      },
      "source": [
        "# **Lab 5: Integration**\n",
        "**Hanna Klingberg**"
      ]
    },
    {
      "cell_type": "markdown",
      "metadata": {
        "id": "9x_J5FVuPzbm"
      },
      "source": [
        "# **Abstract**"
      ]
    },
    {
      "cell_type": "markdown",
      "metadata": {
        "id": "yJipbXtnjrJZ"
      },
      "source": [
        "This lab explores the quadrature method for approximating integrals. Both the Gauss quadrature and the Monte Carlo quadrature are implemented and tested. The theory behind each algorithm is described in its corresponding section. All functions passed their tests, and the Monte Carlo quadratures can be seen to converge as expected in the plots. \n",
        "\n"
      ]
    },
    {
      "cell_type": "markdown",
      "metadata": {
        "id": "OkT8J7uOWpT3"
      },
      "source": [
        "#**About the code**"
      ]
    },
    {
      "cell_type": "markdown",
      "metadata": {
        "id": "HmB2noTr1Oyo"
      },
      "source": [
        "A short statement on who is the author of the file, and if the code is distributed under a certain license. "
      ]
    },
    {
      "cell_type": "code",
      "metadata": {
        "id": "Pdll1Xc9WP0e",
        "colab": {
          "base_uri": "https://localhost:8080/",
          "height": 35
        },
        "outputId": "fbf06ef1-86c2-4c86-8cc7-aeaf9203f4cd"
      },
      "source": [
        "\"\"\"This program is a template for lab reports in the course\"\"\"\n",
        "\"\"\"DD2363 Methods in Scientific Computing, \"\"\"\n",
        "\"\"\"KTH Royal Institute of Technology, Stockholm, Sweden.\"\"\"\n",
        "\n",
        "# Copyright (C) 2020 Johan Hoffman (jhoffman@kth.se)\n",
        "\n",
        "# This file is part of the course DD2365 Advanced Computation in Fluid Mechanics\n",
        "# KTH Royal Institute of Technology, Stockholm, Sweden\n",
        "#\n",
        "# This is free software: you can redistribute it and/or modify\n",
        "# it under the terms of the GNU Lesser General Public License as published by\n",
        "# the Free Software Foundation, either version 3 of the License, or\n",
        "# (at your option) any later version.\n",
        "\n",
        "# This template is maintained by Johan Hoffman\n",
        "# Please report problems to jhoffman@kth.se"
      ],
      "execution_count": null,
      "outputs": [
        {
          "output_type": "execute_result",
          "data": {
            "application/vnd.google.colaboratory.intrinsic+json": {
              "type": "string"
            },
            "text/plain": [
              "'KTH Royal Institute of Technology, Stockholm, Sweden.'"
            ]
          },
          "metadata": {},
          "execution_count": 33
        }
      ]
    },
    {
      "cell_type": "markdown",
      "metadata": {
        "id": "28xLGz8JX3Hh"
      },
      "source": [
        "# **Set up environment**"
      ]
    },
    {
      "cell_type": "markdown",
      "metadata": {
        "id": "D2PYNusD08Wa"
      },
      "source": [
        "To have access to the neccessary modules you have to run this cell. If you need additional modules, this is where you add them. "
      ]
    },
    {
      "cell_type": "code",
      "metadata": {
        "id": "Xw7VlErAX7NS"
      },
      "source": [
        "# Load neccessary modules.\n",
        "from google.colab import files\n",
        "\n",
        "import time\n",
        "import numpy as np\n",
        "import math \n",
        "import random\n",
        "import scipy.integrate as integrate\n",
        "import matplotlib.pyplot as plt\n",
        "\n",
        "#try:\n",
        "#    from dolfin import *; from mshr import *\n",
        "#except ImportError as e:\n",
        "#    !apt-get install -y -qq software-properties-common \n",
        "#    !add-apt-repository -y ppa:fenics-packages/fenics\n",
        "#    !apt-get update -qq\n",
        "#    !apt install -y --no-install-recommends fenics\n",
        "#    from dolfin import *; from mshr import *\n",
        "    \n",
        "#import dolfin.common.plotting as fenicsplot\n",
        "\n",
        "from matplotlib import pyplot as plt\n",
        "from matplotlib import tri\n",
        "from matplotlib import axes\n",
        "from mpl_toolkits.mplot3d import Axes3D"
      ],
      "execution_count": null,
      "outputs": []
    },
    {
      "cell_type": "markdown",
      "metadata": {
        "id": "gnO3lhAigLev"
      },
      "source": [
        "# **Introduction**"
      ]
    },
    {
      "cell_type": "markdown",
      "metadata": {
        "id": "l5zMzgPlRAF6"
      },
      "source": [
        "This lab investigates approximation of integrals by using quadrature rules. Both determinisitc quadratures, namely Gauss quadrature, and non-deterministic quadrature i.e. the Monte Carlo method are implemented and tested. The theory behind each algorithm is described in its corresponding section in the method. \n",
        "\n"
      ]
    },
    {
      "cell_type": "markdown",
      "metadata": {
        "id": "jOQvukXZq5U5"
      },
      "source": [
        "# **Method**"
      ]
    },
    {
      "cell_type": "markdown",
      "metadata": {
        "id": "zF4iBj5VURZx"
      },
      "source": [
        "# **2-point Gauss quadrature over a unit interval**\n",
        "\n",
        "The Gauss quadrature rule is the approximation of the integral of a function f(x) in the interval [a,b]: \n",
        "$ \\int_{a}^b f(x) dx = \\sum_{i=0}^q p(x_i)w_i$ such that it is exact for polynomial integrands up to degree $2q+1$. \n",
        "\n",
        "In example 11.2 (chapter 11.3, course boook), it is igven that the 2-point Gauss rule on tthe interval [-1,1] is determinet such that:\n",
        "$\\int_{-1}^1 p(x) dx = p(x_0)w_0 + p(x_1)w_1 $\n",
        "and that $w_0 = w_1 = 1$, $x_0 = \\frac{1}{\\sqrt{3}} $, $ x_1 = \\frac{1}{\\sqrt{3}} $ \n",
        "\n",
        "Using a coordinate map $F: I \\rightarrow \\hat{I} $ where $I = [-1,1]$ and $\\hat{I} = [0,1]$:\n",
        "\n",
        "$x_0, x_1, w_0, w_1$ can be recalculated such that:\n",
        "\n",
        "$x_0 = \\frac{\\sqrt{3} + 1}{2 \\sqrt{3}} $, \n",
        "$x_1 = \\frac{\\sqrt{3} - 1}{2 \\sqrt{3}} $, \n",
        "$w_0 = w_1 = \\frac{1}{2} $\n",
        "(used calculations from problem 11.3)\n",
        "\n",
        "The formula $\\sum_{i=0}^1 p(x_i)w_i $ is then used with the calculated values. \n",
        "\n",
        "The algorithm takes as input a function f, and returns the approximated integral in the interval [0,1] according to the formula above. The equation is tested by generating a random polynomial of the form $ax^3 + bx^2 + cx + d$, calculating the real integral and comparing it with the one calculated by the algorithm.\n"
      ]
    },
    {
      "cell_type": "code",
      "source": [
        "def gauss_quad(f):\n",
        "  w0 = 1/2\n",
        "  w1 = 1/2\n",
        "  x0 = (math.sqrt(3) + 1)/(2*math.sqrt(3))\n",
        "  x1 = (math.sqrt(3) - 1)/(2*math.sqrt(3))\n",
        "  return w0*f(x0) + w1*f(x1)"
      ],
      "metadata": {
        "id": "PhLl9URhPnLX"
      },
      "execution_count": null,
      "outputs": []
    },
    {
      "cell_type": "code",
      "source": [
        "def test_gauss():\n",
        "  #verify exact integration of cubic polynomials ax^3 + bx^2 + cx + d\n",
        "  a = random.randint(0,100)\n",
        "  b = random.randint(0,100)\n",
        "  c = random.randint(0,100)\n",
        "  d = random.randint(0,100)\n",
        "\n",
        "  f = lambda x: a*x**3 + b*x**2 + c*x + d\n",
        "  verification = integrate.quad(f, 0, 1)[0]\n",
        "  result = gauss_quad(f)\n",
        "  return np.isclose(verification, result, 10**-8)\n",
        "\n",
        "test_gauss()\n",
        "\n"
      ],
      "metadata": {
        "colab": {
          "base_uri": "https://localhost:8080/"
        },
        "id": "HZ4CEUOso2lJ",
        "outputId": "b68b0437-5415-464e-8288-e1940d323d0f"
      },
      "execution_count": null,
      "outputs": [
        {
          "output_type": "execute_result",
          "data": {
            "text/plain": [
              "True"
            ]
          },
          "metadata": {},
          "execution_count": 36
        }
      ]
    },
    {
      "cell_type": "markdown",
      "source": [
        "# **3-point edge midpoint quadrature over a reference triangle**\n",
        "A 3-point quadrature rule over the reference triangle has the vertices (0,0) (1,0) and (1,1). \n",
        "\n",
        "As stated in example 11.5, the quadrature points are chosen as the midpoints of the three edges of the reference triangle, i.e. $(0, \\frac{1}{2}), (\\frac{1}{2}, 0), (\\frac{1}{2}, \\frac{1}{2}) $. The weights are defined as $w_0 = w_1 = w_2 = \\frac{1}{6}$.\n",
        "\n",
        "The quadrature rule is then simply defined as the weighted sum of the functioon evaluated at the quadrature points.\n",
        "\n",
        "The testing is done by randomly generating a two variable polynomial $ax^2 + by^2 + cxy + dx + ey + f$, and calculating the true integral of the function and comparing it to the approximated result. "
      ],
      "metadata": {
        "id": "mBP7aelfPwPw"
      }
    },
    {
      "cell_type": "code",
      "source": [
        "def mid_quad(f):\n",
        "  w = 1/6\n",
        "  return w*(f(0.5,0.5) + f(0.5, 0) + f(0, 0.5))\n"
      ],
      "metadata": {
        "id": "g2gL9jcIP3Gs"
      },
      "execution_count": null,
      "outputs": []
    },
    {
      "cell_type": "code",
      "source": [
        "def test_mid_quad():\n",
        "  a = random.randint(0,100)\n",
        "  b = random.randint(0,100)\n",
        "  c = random.randint(0,100)\n",
        "  d = random.randint(0,100)\n",
        "  e = random.randint(0,100)\n",
        "  f = random.randint(0,100)\n",
        "  func = lambda x,y: a*x**2 + b*y**2 + c*x*y + d*x + e*y + f\n",
        "  verification = integrate.dblquad(func, 0, 1, lambda x: 0, lambda x: 1-x)[0]\n",
        "  result = mid_quad(func)\n",
        "  return np.isclose(result, verification, 10**-8)\n",
        "\n",
        "test_mid_quad()"
      ],
      "metadata": {
        "colab": {
          "base_uri": "https://localhost:8080/"
        },
        "id": "tDAT2SD_t0vP",
        "outputId": "5d7ed2f4-31c7-415b-fa14-1a415789e131"
      },
      "execution_count": null,
      "outputs": [
        {
          "output_type": "execute_result",
          "data": {
            "text/plain": [
              "True"
            ]
          },
          "metadata": {},
          "execution_count": 38
        }
      ]
    },
    {
      "cell_type": "markdown",
      "source": [
        "# **Monte Carlo quadrature over a unit interval**\n",
        "\n",
        "Monte Carlo quadrature is a non-deterministic approach to approximating integrals. \n",
        "The integral is approximated by randomly sampling quadrature points, and taking the mean of those. By the law of large numbers, as n increases, the mean of the samples approaches the true value of the integral, such that: \n",
        "\n",
        "$\\int_D g(x) dx \\approx \\frac{|D|}{n} \\sum_{i=1}^n g(x_i) $\n",
        "In an integral over the unit interval, $|D|$ is simply 1, so the integral is approximated as\n",
        "\n",
        "$\\frac{1}{n}\\sum_{i=1}^n g(x_i)$\n",
        "\n",
        "The algorithm takes a function f and number of iterations n as input, and returns the mean of the n random samples. \n",
        "\n",
        "The testing is done by calculating the error $\\int_0^1 g(x) dx - \\sum_{i=0}^{n} g(x_i)$ and plotting it against $\\frac{1}{\\sqrt{n}}$"
      ],
      "metadata": {
        "id": "XVWng6GYP6A3"
      }
    },
    {
      "cell_type": "code",
      "source": [
        "def monte_carlo_quad(f, n):\n",
        "  x = [f(random.random()) for i in range(n)]\n",
        "  return sum(x)/n"
      ],
      "metadata": {
        "id": "rj4zAqRRP-bL"
      },
      "execution_count": null,
      "outputs": []
    },
    {
      "cell_type": "code",
      "source": [
        "def test_monte_carlo():\n",
        "  f = lambda x: x**2\n",
        "  ver= integrate.quad(f, 0, 1)[0]\n",
        "  n = np.array(range(5,100))*10\n",
        "  error = [np.abs(ver - monte_carlo_quad(f, i)) for i in n ] \n",
        "  plt.plot(n, error)\n",
        "  plt.plot(n, 1/np.sqrt(n))\n",
        "  plt.xlabel(\"number of samples\")\n",
        "  plt.ylabel(\"error\")\n",
        "  plt.title(\"Monte Carlo quadrature over a unit interval\")\n",
        "  plt.show()\n",
        "\n"
      ],
      "metadata": {
        "id": "SoTOmjfp388E"
      },
      "execution_count": null,
      "outputs": []
    },
    {
      "cell_type": "markdown",
      "source": [
        "# **Monte Carlo quadrature over a reference triangle**\n",
        "\n",
        "Monte Carlo quadrature over a reference triangle is based on sampling quadrature points uniformly random from within the refrence triangle. \n",
        "\n",
        "As per the formula explained in the algorithm above:\n",
        "\n",
        "$\\int_D g(x) dx \\approx \\frac{|D|}{n} \\sum_{i=1}^n g(x_i) $\n",
        "\n",
        "And since the size of the triangle $|D| = \\frac{1}{2}$. Since the sampled quadrature points have to be within the reference triangle, if the sampled node $(x,y)$ is outside the triangle such that $x + y > 1$, the reflection of x and y are used such that $ x = 1 - y, y = 1-x$. \n",
        "\n",
        "The testing is done by calculating the approximation with an increasing amount of sampling ponts $n$, and calculating the true value of the integral. The error\n",
        "$ \\int_D g(x) dx - \\frac{1}{2n} \\sum_{i=0}^n g(x_i) $ is then calculated for each n and plotted against the function $\\frac{1}{\\sqrt{n}}$. "
      ],
      "metadata": {
        "id": "o7TgeKRQ39ml"
      }
    },
    {
      "cell_type": "code",
      "source": [
        "def monte_carlo_ref(f, n):\n",
        "  sum = 0\n",
        "  for i in range(n): \n",
        "    x, y = random.random(), random.random()\n",
        "    if x + y > 1:\n",
        "      sum += f(1-y, 1-x)\n",
        "    else:\n",
        "      sum += f(x,y)\n",
        "  return sum/(2*n)"
      ],
      "metadata": {
        "id": "NhopdYFh4Btr"
      },
      "execution_count": null,
      "outputs": []
    },
    {
      "cell_type": "code",
      "source": [
        "def test_monte_carlo_ref():\n",
        "  func = lambda x, y: x**2 + y**2\n",
        "  verification = integrate.dblquad(func, 0, 1, lambda x: 0, lambda x: 1-x)[0]\n",
        "  n = np.array(range(50,1000))*10\n",
        "  error = [np.abs(verification - monte_carlo_ref(func, i)) for i in n ] \n",
        "  plt.plot(n, error)\n",
        "  plt.plot(n, 1/np.sqrt(n))\n",
        "  plt.title(\"Monte Carlo quadrature over a reference triangle\")\n",
        "  plt.xlabel(\"n samples\")\n",
        "  plt.ylabel(\"error\")\n",
        "  plt.show()\n"
      ],
      "metadata": {
        "id": "APPPTGm05Vu6"
      },
      "execution_count": null,
      "outputs": []
    },
    {
      "cell_type": "markdown",
      "metadata": {
        "id": "SsQLT38gVbn_"
      },
      "source": [
        "# **Results**\n",
        "\n",
        "The results of the tests are presented below, as well as the plots. The methodology of the tests are described in the definition for each function. "
      ]
    },
    {
      "cell_type": "code",
      "source": [
        "def test():\n",
        "  passed = 0\n",
        "  if test_gauss():\n",
        "    passed +=1\n",
        "    print(\"2-point Gauss quadrature passed the test\")\n",
        "  if test_mid_quad():\n",
        "    passed += 1\n",
        "    print(\"3-point edge midpoint quadrature passed the test\")\n",
        "  print(\"%d of 2 functions passed their tests \\n\" %(passed))\n",
        "  test_monte_carlo()\n",
        "  test_monte_carlo_ref()\n",
        "\n",
        "test()"
      ],
      "metadata": {
        "colab": {
          "base_uri": "https://localhost:8080/",
          "height": 642
        },
        "id": "u4hO9_bsM8Vl",
        "outputId": "57c300c3-57b5-4ae5-c3b5-97facae38960"
      },
      "execution_count": null,
      "outputs": [
        {
          "output_type": "stream",
          "name": "stdout",
          "text": [
            "2-point Gauss quadrature passed the test\n",
            "3-point edge midpoint quadrature passed the test\n",
            "2 of 2 functions passed their tests \n",
            "\n"
          ]
        },
        {
          "output_type": "display_data",
          "data": {
            "image/png": "[encoded data removed]",
            "text/plain": [
              "<Figure size 432x288 with 1 Axes>"
            ]
          },
          "metadata": {
            "needs_background": "light"
          }
        },
        {
          "output_type": "display_data",
          "data": {
            "image/png": "[encoded data removed]",
            "text/plain": [
              "<Figure size 432x288 with 1 Axes>"
            ]
          },
          "metadata": {
            "needs_background": "light"
          }
        }
      ]
    },
    {
      "cell_type": "markdown",
      "metadata": {
        "id": "_4GLBv0zWr7m"
      },
      "source": [
        "# **Discussion**"
      ]
    },
    {
      "cell_type": "markdown",
      "metadata": {
        "id": "6bcsDSoRXHZe"
      },
      "source": [
        "All functions passed their tests. It can be seen in both the Monte Carlo functions that they do converge under $\\frac{1}{\\sqrt{n}}$. The result of the Monte Carlo quadrature over a reference triangle seem to be more under the convergence curve than the Monte Carlo quadrature over a unit interval, which surprised me. "
      ]
    }
  ]
}