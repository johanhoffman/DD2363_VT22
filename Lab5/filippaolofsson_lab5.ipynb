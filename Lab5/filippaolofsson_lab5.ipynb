{
  "nbformat": 4,
  "nbformat_minor": 0,
  "metadata": {
    "colab": {
      "name": "Filippa Olofsson Lab 5",
      "provenance": [],
      "include_colab_link": true
    },
    "kernelspec": {
      "name": "python3",
      "display_name": "Python 3"
    }
  },
  "cells": [
    {
      "cell_type": "markdown",
      "metadata": {
        "id": "view-in-github",
        "colab_type": "text"
      },
      "source": [
        "<a href=\"https://colab.research.google.com/github/johanhoffman/DD2363_VT22/blob/filippaolofsson-lab5/Lab5/filippaolofsson_lab5.ipynb\" target=\"_parent\"><img src=\"https://colab.research.google.com/assets/colab-badge.svg\" alt=\"Open In Colab\"/></a>"
      ]
    },
    {
      "cell_type": "markdown",
      "metadata": {
        "id": "6RgtXlfYO_i7"
      },
      "source": [
        "# **Lab 5: integration**\n",
        "**Filippa Olofsson**"
      ]
    },
    {
      "cell_type": "markdown",
      "metadata": {
        "id": "9x_J5FVuPzbm"
      },
      "source": [
        "# **Abstract**"
      ]
    },
    {
      "cell_type": "markdown",
      "source": [
        "This lab consists of 4 different ways of approximating integrals. The functions are 2-point Gauss quadrature, 3-point edge midpoint quadrature, the Monte Carlo quadrature over the unit interval, and the Monte Carlo quadrature over the reference triangle. \n",
        "\n",
        "The two first algorithms are tested by comparing the difference of the approximated integral with the real value of the integral. Both algorithms passed the test with a difference less than $10^{-10}$.\n",
        "\n",
        "The two Monte carlo algorithms are tested by plotting the convergence rate, which can be seen follows the curve $\\frac{1}{\\sqrt(n)}$."
      ],
      "metadata": {
        "id": "mX31Omqm__98"
      }
    },
    {
      "cell_type": "markdown",
      "metadata": {
        "id": "OkT8J7uOWpT3"
      },
      "source": [
        "#**About the code**"
      ]
    },
    {
      "cell_type": "code",
      "metadata": {
        "id": "Pdll1Xc9WP0e",
        "colab": {
          "base_uri": "https://localhost:8080/",
          "height": 35
        },
        "outputId": "8fb872f2-a633-4f1e-d55d-bdabaac1f30e"
      },
      "source": [
        "\"\"\"This program is a template for lab reports in the course\"\"\"\n",
        "\"\"\"DD2363 Methods in Scientific Computing, \"\"\"\n",
        "\"\"\"KTH Royal Institute of Technology, Stockholm, Sweden.\"\"\"\n",
        "\n",
        "# Copyright (C) 2020 Johan Hoffman (jhoffman@kth.se)\n",
        "\n",
        "# This file is part of the course DD2365 Advanced Computation in Fluid Mechanics\n",
        "# KTH Royal Institute of Technology, Stockholm, Sweden\n",
        "#\n",
        "# This is free software: you can redistribute it and/or modify\n",
        "# it under the terms of the GNU Lesser General Public License as published by\n",
        "# the Free Software Foundation, either version 3 of the License, or\n",
        "# (at your option) any later version.\n",
        "\n",
        "# This template is maintained by Johan Hoffman\n",
        "# Please report problems to jhoffman@kth.se"
      ],
      "execution_count": 42,
      "outputs": [
        {
          "output_type": "execute_result",
          "data": {
            "application/vnd.google.colaboratory.intrinsic+json": {
              "type": "string"
            },
            "text/plain": [
              "'KTH Royal Institute of Technology, Stockholm, Sweden.'"
            ]
          },
          "metadata": {},
          "execution_count": 42
        }
      ]
    },
    {
      "cell_type": "markdown",
      "metadata": {
        "id": "28xLGz8JX3Hh"
      },
      "source": [
        "# **Set up environment**"
      ]
    },
    {
      "cell_type": "code",
      "metadata": {
        "id": "Xw7VlErAX7NS"
      },
      "source": [
        "# Load neccessary modules.\n",
        "from google.colab import files\n",
        "import time\n",
        "import numpy as np\n",
        "import scipy.integrate as integrate\n",
        "from matplotlib import pyplot as plt\n",
        "from matplotlib import tri\n",
        "from matplotlib import axes\n",
        "from mpl_toolkits.mplot3d import Axes3D"
      ],
      "execution_count": 43,
      "outputs": []
    },
    {
      "cell_type": "markdown",
      "metadata": {
        "id": "gnO3lhAigLev"
      },
      "source": [
        "# **Introduction**\n",
        "Below, there are 4 different functions that approximate integrals. The functions are 2-point Gauss quadrature, 3-point edge midpoint quadrature, the Monte Carlo quadrature over the unit interval, and the Monte Carlo quadrature over the reference triangle. "
      ]
    },
    {
      "cell_type": "markdown",
      "metadata": {
        "id": "jOQvukXZq5U5"
      },
      "source": [
        "# **Method**"
      ]
    },
    {
      "cell_type": "markdown",
      "source": [
        "###1. Function: 2-point Gauss quadrature over a unit interval ###\n",
        "The 2-point Gauss quadrature over a unit interval can be calculated as:\n",
        "\n",
        "We have the coordinate map $F: [-1, 1] \\rightarrow [0, 1]$ and in example 11.3 in Chapter 11 we have that the 2-point gauss rule on the interval $[-1, 1]$ is given by: \n",
        "\\begin{equation}\\int_{-1}^1 f(x) dx = w_0 p(x_0) + w_1 p(x_1) \\ \\ (\\ast)\\end{equation}\n",
        "\\begin{equation}w_0 = w_1 = 1, x_0 = \\frac{1}{\\sqrt{3}} \\text{  and  } x_1 = -\\frac{1}{\\sqrt{3}}\\end{equation}\n",
        "We want to use the Gauss rule on the interval $[-1, 1]$: (Chapter 11, p. 244)\n",
        "\\begin{equation}\\int_{0}^1 f(x) dx = \\int_{-1}^1 f(F(\\hat{x})) |F'(\\hat{x})| d\\hat{x} = |F'(\\hat{x})| \\int_{-1}^1 f(F(\\hat{x})) d\\hat{x} \\ \\ (\\ast \\ast)\\end{equation}\n",
        "\n",
        "We have that $x = F(\\hat{x}) = \\frac{1}{2}\\hat{x} + \\frac{1}{2}$ (Wikipedia, Gaussian quadrature) and the equation ($\\ast$), we can therefore write ($\\ast \\ast$) as:\n",
        "\\begin{equation}\\frac{1}{2}\\int_{-1}^1 f(F(\\hat{x})) d\\hat{x} = \\frac{1}{2} \\left( f \\bigg(F(\\frac{1}{\\sqrt{3}})\\right) + f\\left(F(-\\frac{1}{\\sqrt{3}})\\right) \\bigg) = \\frac{1}{2} f\\bigg(\\frac{1 + \\sqrt{3}}{2\\sqrt{3}}\\bigg) + \\frac{1}{2}f\\bigg(\\frac{\\sqrt{3}-1}{2\\sqrt{3}}\\bigg) \\end{equation}\n",
        "\n",
        "The 2-point Gauss rule for the interval $[0, 1]$ is therefore given by:\n",
        "\\begin{equation}w_0 = w_1 = \\frac{1}{2}, \\ \\ x_0 = \\frac{1+\\sqrt{3}}{2\\sqrt{3}} \\text{  and  } x_1 = \\frac{\\sqrt{3}-1}{2\\sqrt{3}}\\end{equation}"
      ],
      "metadata": {
        "id": "IrsjeZ6k1Hwj"
      }
    },
    {
      "cell_type": "code",
      "source": [
        "#Input: function f(x) \n",
        "#Output: quadrature approximation of integral int_0^1 f(x) dx\n",
        "\n",
        "def two_point_Gauss(f):\n",
        "  a, b = 0, 1\n",
        "  w0, w1 = 1/2, 1/2\n",
        "  x0 = w0*(1/np.sqrt(3)) + ((b+a)/2)\n",
        "  x1 = w1*((-1)/np.sqrt(3)) + ((b+a)/2)\n",
        "  I = f(x0)*w0 + f(x1)*w1\n",
        "  return I"
      ],
      "metadata": {
        "id": "7Fko_oG-1OUA"
      },
      "execution_count": 44,
      "outputs": []
    },
    {
      "cell_type": "markdown",
      "source": [
        "###2. Function: 3-point edge midpoint quadrature over a reference triangle###\n",
        "In Example 11.5 it is stated that a 3-point rule is obtained by choosing the quadrature points as the midpoints of the three edges of the reference triangle, with weights w0 = w1 = w2 = 1/6. \n",
        " \n",
        "If we have the reference triangle with vertices in (0, 0), (1, 0) and (0, 1) the midpoint of each edge is given by: \n",
        "\\begin{equation}\n",
        "x_0 = \\left( 0, \\small{\\frac{1}{2}} \\right), \\ \\\n",
        "x_1 = \\left( \\small{\\frac{1}{2}}, 0 \\right), \\ \\\n",
        "x_ 2 = \\left( \\small{\\frac{1}{2}}, \\small{\\frac{1}{2}} \\right)\n",
        "\\end{equation}\n",
        "\n",
        "The integral can then be calculated exact for quadratic polynomials. "
      ],
      "metadata": {
        "id": "5ZDJ1gqA1O6O"
      }
    },
    {
      "cell_type": "code",
      "source": [
        "#Input: function f(x) \n",
        "#Output: quadrature approximation of integral int_ref-triangle f(x) dx\n",
        "\n",
        "def three_point_quad(f):\n",
        "  x0, x1, x2 = (0, 0.5), (0.5, 0), (0.5, 0.5)\n",
        "  w0, w1, w2 = 1/6, 1/6, 1/6\n",
        "  I = w0*f(x0[0], x0[1]) + w1*f(x1[0], x1[1]) + w2*f(x2[0], x2[1])\n",
        "  return I"
      ],
      "metadata": {
        "id": "fDG1fxcX1U6L"
      },
      "execution_count": 45,
      "outputs": []
    },
    {
      "cell_type": "markdown",
      "source": [
        "###3. Function: Monte Carlo quadrature over a unit interval###\n",
        "The Monte Carlo quadrature is based on random sampling. The integral over the unit interval $D = [0, 1]$ can be approximated by the equation (12.3):\n",
        "\\begin{equation} \\int_{D} g(x) dx \\approx \\frac{1}{n} \\sum_{i=1}^n g(x_i) |D| \\end{equation}\n",
        "Where n is the number of randomly sampled quadrature points and each $x_i$ are one of those points. "
      ],
      "metadata": {
        "id": "p9Co9Dmk1Vqi"
      }
    },
    {
      "cell_type": "code",
      "source": [
        "#Input: function f(x)\n",
        "#Output: MC quadrature approximation of integral int_0^1 f(x) dx\n",
        "def MC_quad(f, n):\n",
        "  xi = np.random.uniform(0, 1, n)\n",
        "  sum = 0\n",
        "  for x in xi: sum += f(x) \n",
        "  I = sum/n\n",
        "  return I"
      ],
      "metadata": {
        "id": "IlNdmV9u1cd_"
      },
      "execution_count": 46,
      "outputs": []
    },
    {
      "cell_type": "markdown",
      "source": [
        "###4. Function: Monte Carlo quadrature over a reference triangle###\n",
        "This function is similar to Monte Carlso over the unit interval with the main difference that instead of sampling a number the samples are a point on the 2D plain, inside the reference triangle (0, 0), (1, 0), (0, 1). \n",
        "\n",
        "The function **one_point** samples points in the unit square, and if the point is outside the reference triangle, it reflects that point to the triangle. This leads to a uniform distribution of randomly sampled quadrature points.\n",
        "\n",
        "The same equation as in previous function can be used, where D is the triangle with vertices (0, 0), (1, 0), (0, 1), and therefore |D| = 1/2\n",
        "\\begin{equation} \\int_{D} g(x) dx \\approx \\frac{1}{n} \\sum_{i=1}^n g(x_i, y_i) |D| \\end{equation}"
      ],
      "metadata": {
        "id": "L91BPaq8XuG3"
      }
    },
    {
      "cell_type": "code",
      "source": [
        "#Input: function f(x) \n",
        "#Output: MC quadrature approximation of  integral int_ref-triangle f(x) dx\n",
        "\n",
        "def one_point(a, b):\n",
        "  x, y = np.random.uniform(a, b), np.random.uniform(a, b)\n",
        "  if y > 1-x:\n",
        "    x, y = 1-y, 1-x\n",
        "  return x, y\n",
        "\n",
        "def MC_ref_triangle(f, n):\n",
        "  sum = 0\n",
        "  for i in range(n):\n",
        "    x, y = one_point(0, 1)\n",
        "    sum += f(x, y)\n",
        "  I = (1/(2*n)) * sum\n",
        "  return I\n"
      ],
      "metadata": {
        "id": "3Ql0OI2QX9y-"
      },
      "execution_count": 47,
      "outputs": []
    },
    {
      "cell_type": "markdown",
      "metadata": {
        "id": "SsQLT38gVbn_"
      },
      "source": [
        "# **Results**"
      ]
    },
    {
      "cell_type": "markdown",
      "metadata": {
        "id": "RLwlnOzuV-Cd"
      },
      "source": [
        "### **1. Test: 2-point Gauss quadrature over a unit interval** ###\n",
        "The first test consist of the simple test where the 2-point gauss function is tested against the integral value calculated from the scipy integrade.quad. If the two answers are equal up to 10 decimals, the test i passed. The function f consists of 4 random integers as coefficients for three different functions f. "
      ]
    },
    {
      "cell_type": "code",
      "source": [
        "# Test 1: verify exact integration of cubic polynomials a*x**3 + b*x**2 + c*x + d\n",
        "for i in range(3):\n",
        "  a, b, c, d = (np.random.randint(-100, 100), np.random.randint(-100, 100), \n",
        "                np.random.randint(-100, 100), np.random.randint(-100, 100))\n",
        "  \n",
        "  f = lambda x : a*x**3 + b*x**2 + c*x + d\n",
        "  np.testing.assert_almost_equal(two_point_Gauss(f), integrate.quad(f, 0, 1)[0], 10)\n",
        "\n",
        "print(\"Test 1 passed\")"
      ],
      "metadata": {
        "colab": {
          "base_uri": "https://localhost:8080/"
        },
        "id": "oalR-35bAbLU",
        "outputId": "741027ac-2124-4eec-9f7b-73b1ff91b02b"
      },
      "execution_count": 48,
      "outputs": [
        {
          "output_type": "stream",
          "name": "stdout",
          "text": [
            "Test 1 passed\n"
          ]
        }
      ]
    },
    {
      "cell_type": "markdown",
      "source": [
        "### **2. Test: 3-point edge midpoint quadrature over a reference triangle** ###\n",
        "The function is tested in the same way as the previous test. Test if the approximated integral value is almost equal to the real integral value calculated with the scipy integrate quad. The difference has to be lower than $10^{-10}$. "
      ],
      "metadata": {
        "id": "L8V7EpzgAdM3"
      }
    },
    {
      "cell_type": "code",
      "source": [
        "#Test 2: verify exact integration of quadratic polynomials ax^2 + by^2 + cxy + dx + ey + f\n",
        "for i in range(3):\n",
        "  a, b, c, d, e, g = (np.random.randint(-100, 100), np.random.randint(-100, 100), \n",
        "                      np.random.randint(-100, 100), np.random.randint(-100, 100),\n",
        "                      np.random.randint(-100, 100), np.random.randint(-100, 100))\n",
        "  \n",
        "  f = lambda x, y: a*x**2 + b*y**2 + c*x*y + d*x + e*y + g\n",
        "  np.testing.assert_almost_equal(three_point_quad(f), integrate.dblquad(f, 0, 1, lambda x: 0, lambda x: 1-x)[0], 10)\n",
        "\n",
        "print(\"Test 2 passed\")"
      ],
      "metadata": {
        "colab": {
          "base_uri": "https://localhost:8080/"
        },
        "id": "lj0IsIYAA83A",
        "outputId": "ef6d2f6f-70aa-4d51-9302-480245ae6cb0"
      },
      "execution_count": 49,
      "outputs": [
        {
          "output_type": "stream",
          "name": "stdout",
          "text": [
            "Test 2 passed\n"
          ]
        }
      ]
    },
    {
      "cell_type": "markdown",
      "source": [
        "### **3-4. Test: Monte Carlo quadrature over a unit interval and a reference triangle**  ###\n",
        "The tests are verified by the convergence rate $\\frac{1}{\\sqrt{n}}$ where n is the number of quadrature points. Each function is tested for different n, and the error is calculated as the difference between the real value of the integral and the approximated integral value. The results are plotted. \n"
      ],
      "metadata": {
        "id": "JFl3dIfiBUHP"
      }
    },
    {
      "cell_type": "code",
      "source": [
        "n = np.array(range(10, 5000, 100))\n",
        "\n",
        "#Test 3: verify convergence rate 1/sqrt(n) with respect to number of quadrature points n.\n",
        "f = lambda x: x**2 - 4*x + 5\n",
        "real_f = integrate.quad(f, 0, 1)[0]\n",
        "e = [abs(MC_quad(f, i) - real_f) for i in n]\n",
        "fig, (uni, tri) = plt.subplots(1, 2)\n",
        "uni.plot(n, e)\n",
        "uni.plot(n, 1/np.sqrt(n))\n",
        "uni.set_title(\"Test 3: convergence rate Monte Carlo (unit interval)\")\n",
        "\n",
        "# Test 4: verify convergence rate 1/sqrt(n) with respect to number of quadrature points n\n",
        "f1 = lambda x, y: x**2 - y**2 + 6\n",
        "real_f1 = integrate.dblquad(f1, 0, 1, lambda x: 0, lambda x: 1-x)[0]\n",
        "e1 = [abs(MC_ref_triangle(f1, i) - real_f1) for i in n]\n",
        "tri.plot(n, e1)\n",
        "tri.plot(n, 1/np.sqrt(n))\n",
        "tri.set_title(\"Test 4: convergence rate Monte Carlo (triangle)\")\n",
        "\n",
        "plt.subplots_adjust(left=0.3, bottom=0.1, right=1.9, top=0.9, wspace=0.1, hspace=7.4)\n",
        "plt.show()\n",
        "\n"
      ],
      "metadata": {
        "colab": {
          "base_uri": "https://localhost:8080/",
          "height": 294
        },
        "id": "1i5c8oryce9u",
        "outputId": "22eedef8-d7e6-47bb-c9d2-dd23e53ae0e8"
      },
      "execution_count": 50,
      "outputs": [
        {
          "output_type": "display_data",
          "data": {
            "image/png": "[encoded data removed]",
            "text/plain": [
              "<Figure size 432x288 with 2 Axes>"
            ]
          },
          "metadata": {
            "needs_background": "light"
          }
        }
      ]
    },
    {
      "cell_type": "markdown",
      "metadata": {
        "id": "_4GLBv0zWr7m"
      },
      "source": [
        "# **Discussion**"
      ]
    },
    {
      "cell_type": "markdown",
      "metadata": {
        "id": "6bcsDSoRXHZe"
      },
      "source": [
        "The two Gauss quadrature algorithms passed all tests. I experimented with higher-order polynomials as well and saw that the algorithms can approximate the integrals to integer values for 4th and 3rd order polynomials, which I think was kind of interesing.\n",
        "\n",
        "The convergence rate of the two Monte Carlo functions follow the curve $\\frac{1}{\\sqrt{n}}$ pretty well. We can clearly see that the error decresases with a higher number of samples. \n",
        "\n"
      ]
    }
  ]
}