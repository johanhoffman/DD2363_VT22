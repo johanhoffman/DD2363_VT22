{
  "cells": [
    {
      "cell_type": "markdown",
      "metadata": {
        "id": "view-in-github",
        "colab_type": "text"
      },
      "source": [
        "<a href=\"https://colab.research.google.com/github/johanhoffman/DD2363_VT22/blob/leogabac-Lab5/Lab5/leogabac_Lab5.ipynb\" target=\"_parent\"><img src=\"https://colab.research.google.com/assets/colab-badge.svg\" alt=\"Open In Colab\"/></a>"
      ]
    },
    {
      "cell_type": "markdown",
      "metadata": {
        "id": "6RgtXlfYO_i7"
      },
      "source": [
        "# **Lab 5: Integration**\n",
        "**Leonardo Gabriel Alanis Cantú**"
      ]
    },
    {
      "cell_type": "markdown",
      "metadata": {
        "id": "9x_J5FVuPzbm"
      },
      "source": [
        "# **Abstract**"
      ]
    },
    {
      "cell_type": "markdown",
      "metadata": {
        "id": "Qd1kcN0z8Eru"
      },
      "source": [
        "In this report we look at the integration techniques known as \"Gauss quadrature\" and \"Monte Carlo integration\". The first is an exact method of integration for polynomials, and approximate for any other type of functiones, whereas Monte Carlo integration is based on random quadrature points, and convergence due to the massive amount of points that are usually used. These methods, were implemented in code, and the results were acceptable. A brief discussion about performance of the Monte Carlo integration on 2D domains is made in the last section of this document."
      ]
    },
    {
      "cell_type": "code",
      "execution_count": 1,
      "metadata": {
        "colab": {
          "base_uri": "https://localhost:8080/",
          "height": 35
        },
        "id": "Pdll1Xc9WP0e",
        "outputId": "dd6cd4f1-a9f1-470f-cb09-7fd42770553d"
      },
      "outputs": [
        {
          "output_type": "execute_result",
          "data": {
            "application/vnd.google.colaboratory.intrinsic+json": {
              "type": "string"
            },
            "text/plain": [
              "'KTH Royal Institute of Technology, Stockholm, Sweden.'"
            ]
          },
          "metadata": {},
          "execution_count": 1
        }
      ],
      "source": [
        "\"\"\"This program is a template for lab reports in the course\"\"\"\n",
        "\"\"\"DD2363 Methods in Scientific Computing, \"\"\"\n",
        "\"\"\"KTH Royal Institute of Technology, Stockholm, Sweden.\"\"\"\n",
        "\n",
        "# Copyright (C) 2020 Johan Hoffman (jhoffman@kth.se)\n",
        "\n",
        "# This file is part of the course DD2365 Advanced Computation in Fluid Mechanics\n",
        "# KTH Royal Institute of Technology, Stockholm, Sweden\n",
        "#\n",
        "# This is free software: you can redistribute it and/or modify\n",
        "# it under the terms of the GNU Lesser General Public License as published by\n",
        "# the Free Software Foundation, either version 3 of the License, or\n",
        "# (at your option) any later version.\n",
        "\n",
        "# This template is maintained by Johan Hoffman\n",
        "# Please report problems to jhoffman@kth.se"
      ]
    },
    {
      "cell_type": "markdown",
      "metadata": {
        "id": "28xLGz8JX3Hh"
      },
      "source": [
        "# **Set up environment**"
      ]
    },
    {
      "cell_type": "code",
      "execution_count": 2,
      "metadata": {
        "id": "Xw7VlErAX7NS"
      },
      "outputs": [],
      "source": [
        "# Load neccessary modules.\n",
        "from google.colab import files\n",
        "\n",
        "import time\n",
        "import numpy as np\n",
        "from numpy import mean\n",
        "from math import *\n",
        "from random import random\n",
        "import matplotlib.pyplot as plt"
      ]
    },
    {
      "cell_type": "markdown",
      "metadata": {
        "id": "gnO3lhAigLev"
      },
      "source": [
        "# **Introduction**"
      ]
    },
    {
      "cell_type": "markdown",
      "metadata": {
        "id": "l5zMzgPlRAF6"
      },
      "source": [
        "One of the most common approximation methods for integrals is the Newton-Cotes scheme, which uses $q+1$ quadrature points is exact for polynomial integrans up to degree $q$. However, the Gauss quadrature scheme also uses $q+1$ quadrature points, but it is exact for polynomial integrands up to degree $2q+1$. The method relies on choosing polynomial $\\phi \\in \\mathcal{P}^{q+1}([a,b])$ which is orthogonal by the inner product\n",
        "\n",
        "$$\n",
        "\\int_a^b \\phi(x)s(x) \\text{ d}x = 0.\n",
        "$$\n",
        "\n",
        "Then we have (using the Lagrange basis)\n",
        "\n",
        "$$\n",
        "\\int_a^b p(x) \\text{ d}x = \\int_a^b [ \\phi(x) s(x) + r(x) ] \\text{ d}x = \\sum_{i=0}^q \\int_a^b \\lambda_i(x) \\text{ d}x = \\sum_{i=0}^q p(x_i) w_i\n",
        "$$\n",
        "\n",
        "Notice how we went from integrating a function, to just evaluating it in some 'magical' points and weights that need to be determined. The 'fun' part is to determine the quadrature points, and the weights that we need to use. Following equation (11.4) from the textbook we have\n",
        "\n",
        "$$\n",
        "\\sum_{j=0}^q \\varphi_i(x_j)w_j = \\int_a^b \\varphi_i(x) \\text{ d}x , \\quad i = 1, \\ldots, 2q+1\n",
        "$$\n",
        "\n",
        "Quadrature points and weights are typically found in tables e.g.[this Wikipedia article](https://en.wikipedia.org/wiki/Gaussian_quadrature#Gauss%E2%80%93Legendre_quadrature). The only problem with tables, it that they are usually given in the interval $[-1,1]$, for this report we want to integrate over interval $[0,1]$, to do this, we need a mapping (borrowed from my homework)\n",
        "\n",
        "$$\n",
        "F: [-1,1] \\to [a,b],\n",
        "$$\n",
        "\n",
        "and the integral will be given by\n",
        "\n",
        "$$\n",
        "\\int_{-1}^{1}f(x) \\text{ d}x = \\int_a^b f( F(\\hat{x}) ) ~ |\\det{F'}| \\text{ d}x \\approx |\\det(F(\\hat{x}))| \\sum_{i=0}^q f(F(\\hat{x}_i))w_i,\n",
        "$$\n",
        "here I will use the map $F(x) = (x+1)/2$. $F(-1) = 0, F(1) = 1$.\n",
        "\n",
        "$$\n",
        "\\int_0^1 f(x) \\text{ d}x = \\dfrac{1}{2}\\int_{-1}^1 f\\left[ \\dfrac{1}{2}(x+1)\\right] \\text{ d}x \\approx \\dfrac{1}{2}\\sum_{i=0}^1 w_i f\\left[ \\dfrac{1}{2}(x_i+1)\\right].\n",
        "$$\n",
        "\n",
        "The 2 point quadrature rule uses the weights and quadrature points\n",
        "\n",
        "$$\n",
        "x = \\pm \\dfrac{1}{\\sqrt{3}}, \\quad w_0 = w_1 = 1.\n",
        "$$\n",
        "\n",
        "Gauss quadrature can be extended to double integration. A 3-point rule which is exact for quadratic integrands is obtained by choosing the quadrature poitns as the midpoints of the three edges of the reference triangle, with weights $w_0 = w_1 = w_3 = 1/6$. The reference triangle is definde by the vertices $(0,0), (1,0), (0,1)$, i.e. the double integral\n",
        "\n",
        "$$\n",
        "\\int_{0}^{1} \\int_{0}^{1-x} f(x,y) \\text{ d}y \\text{ d}x.\n",
        "$$\n",
        "\n",
        "Therefore the weights and poins are\n",
        "$$\n",
        "w_0 = w_1 = w_2 = \\dfrac{1}{6}, \\quad x_0 = (1/2,0), x_1 = (0,1/2), x_2 = (1/2,1/2).\n",
        "$$\n",
        "\n",
        "Last but not least, _Monte Carlo integration_ also known as _integration by darts_. The idea is to sample quadrature points randomly in the domain of integration, and by the law of large numbers (see textbook Chapter 12.5) a definite integral can be approximated by averaging over them.\n",
        "\n",
        "$$\n",
        "\\int_D g(x) \\text{ d}x \\approx \\dfrac{|D|}{n}\\sum_{i=1}^ng(x_i)\n",
        "$$"
      ]
    },
    {
      "cell_type": "markdown",
      "metadata": {
        "id": "jOQvukXZq5U5"
      },
      "source": [
        "# **Method**"
      ]
    },
    {
      "cell_type": "markdown",
      "metadata": {
        "id": "zF4iBj5VURZx"
      },
      "source": [
        "Let us first implement the 2-point gaussian quadrature scheme."
      ]
    },
    {
      "cell_type": "code",
      "execution_count": 3,
      "metadata": {
        "id": "dZjtaup98Er2"
      },
      "outputs": [],
      "source": [
        "def twop_gaussq(f,a,b):\n",
        "    # ===== INPUT ===== #\n",
        "    # f: Integrand function\n",
        "    # a: start of interval\n",
        "    # b: end of interval\n",
        "    # ===== OUTPUT ===== #\n",
        "    # Approximation of integral \\int_a^b f(x) dx\n",
        "    \n",
        "    scale = (b-a)/2\n",
        "    w = [1,1]\n",
        "    x = [1/sqrt(3), -1/sqrt(3)]\n",
        "    offset = (a+b)/2\n",
        "    feval = [ f(scale*xi + offset ) for xi in x ]\n",
        "    return scale*np.dot(w,feval)"
      ]
    },
    {
      "cell_type": "markdown",
      "metadata": {
        "id": "xINT5nXg8Er3"
      },
      "source": [
        "3-point edge midpoint quadrature over the reference triangle"
      ]
    },
    {
      "cell_type": "code",
      "execution_count": 4,
      "metadata": {
        "id": "j3TvWhHm8Er3"
      },
      "outputs": [],
      "source": [
        "def threep_gaussq_reftriangle(f):\n",
        "    # ===== INPUT ===== #\n",
        "    # f: Integrand function\n",
        "    # ===== OUTPUT ===== #\n",
        "    # Approximation of integral \\int_reftriangle f(x,y) dx dy\n",
        "    \n",
        "    w = [1/6, 1/6, 1/6]\n",
        "    x = [ (1/2,0), (0,1/2), (1/2,1/2) ]\n",
        "    feval = [ f(*xi) for xi in x ]\n",
        "    return np.dot(w,feval)"
      ]
    },
    {
      "cell_type": "markdown",
      "metadata": {
        "id": "UMSfCkaZ8Er3"
      },
      "source": [
        "Last, but not least, Monte Carlo integration."
      ]
    },
    {
      "cell_type": "code",
      "execution_count": 5,
      "metadata": {
        "id": "55n-SeHV8Er4"
      },
      "outputs": [],
      "source": [
        "def integration_by_darts01(f, darts = int(1e5) ):\n",
        "    # ===== INPUT ===== #\n",
        "    # f: Integrand function\n",
        "    # darts: Number of quadrature points to generate\n",
        "    # b: end of interval\n",
        "    # ===== OUTPUT ===== #\n",
        "    # Approximation of integral \\int_0^1 f(x) dx\n",
        "    \n",
        "    x = np.random.rand(darts) # initialize\n",
        "    L = 1 # Length of the interval\n",
        "    \n",
        "    feval = mean( [ f(xi) for xi in x ] )\n",
        "    \n",
        "    return L*feval"
      ]
    },
    {
      "cell_type": "markdown",
      "metadata": {
        "id": "30mYeV__8Er4"
      },
      "source": [
        "And an extra assignment, because I did it by accident."
      ]
    },
    {
      "cell_type": "code",
      "execution_count": 6,
      "metadata": {
        "id": "rY6ELr-o8Er4"
      },
      "outputs": [],
      "source": [
        "def ref_triangle(x):\n",
        "    return 1-x\n",
        "\n",
        "def integration_by_darts(f, darts = int(1e5) ):\n",
        "    # ===== INPUT ===== #\n",
        "    # f: Integrand function\n",
        "    # darts: Number of quadrature points to generate\n",
        "    # b: end of interval\n",
        "    # ===== OUTPUT ===== #\n",
        "    # Approximation of integral \\int_a^b f(x) dx\n",
        "    \n",
        "    x = np.zeros(darts) # initialize\n",
        "    y = np.zeros(darts) # initialize\n",
        "    fill = 0;\n",
        "    # Generate points in mesh by trial and error :D (Inefficient, but it works, I guess?)\n",
        "    while fill < darts:\n",
        "        xi = random()\n",
        "        yi = random()\n",
        "        # make sure that point is in domain\n",
        "        if yi <= ref_triangle(xi):\n",
        "            x[fill] = xi\n",
        "            y[fill] = yi\n",
        "            fill += 1\n",
        "    \n",
        "    D = 1/2 # area of the reference triangle\n",
        "    \n",
        "    feval = mean( [ f(*p) for p in zip(x,y) ] )\n",
        "    \n",
        "    return D*feval"
      ]
    },
    {
      "cell_type": "markdown",
      "metadata": {
        "id": "SsQLT38gVbn_"
      },
      "source": [
        "# **Results**"
      ]
    },
    {
      "cell_type": "markdown",
      "metadata": {
        "id": "RLwlnOzuV-Cd"
      },
      "source": [
        "First, we are going to put to test the 2-point gauss quadrature method. In principle, this method integrates exactly any polynomial up to order three, so let us try with the following choices\n",
        "\n",
        "$$\n",
        "\\int_0^1 (2x^3 - 3x^2 + 2x -7) \\text{ d}x = -\\dfrac{13}{2} = - 6.5\\\\\n",
        "\\int_0^1 (x^3 + 4x^2 - 6x +5) \\text{ d}x = \\dfrac{43}{12} = 3.5833\\\\\n",
        "\\int_0^1 (x^2 - 2x +1) \\text{ d}x = \\dfrac{1}{3}\n",
        "$$"
      ]
    },
    {
      "cell_type": "code",
      "execution_count": 7,
      "metadata": {
        "colab": {
          "base_uri": "https://localhost:8080/"
        },
        "id": "GmemlDwh8Er5",
        "outputId": "71335007-7e71-4330-bfb8-7857152a60fc"
      },
      "outputs": [
        {
          "output_type": "stream",
          "name": "stdout",
          "text": [
            "First result: -6.5\n",
            "Second result: 3.583333333333334\n",
            "Third result: 0.3333333333333334\n"
          ]
        }
      ],
      "source": [
        "def f1(x):\n",
        "    return 2*x**3 - 3*x**2 + 2*x - 7\n",
        "\n",
        "def f2(x):\n",
        "    return x**3 + 4*x**2 - 6*x + 5\n",
        "\n",
        "def f3(x):\n",
        "    return x**2 - 2*x + 1\n",
        "\n",
        "approx1 = twop_gaussq(f1,0,1)\n",
        "approx2 = twop_gaussq(f2,0,1)\n",
        "approx3 = twop_gaussq(f3,0,1)\n",
        "print(\"First result:\", approx1)\n",
        "print(\"Second result:\", approx2)\n",
        "print(\"Third result:\", approx3)"
      ]
    },
    {
      "cell_type": "markdown",
      "metadata": {
        "id": "-u23klxg8Er6"
      },
      "source": [
        "Secondly, we will test our implementation against exact integration of surfaces over the reference triangle.\n",
        "\n",
        "$$\n",
        "\\int_{0}^{1} \\int_{0}^{1-x} (x^2 + y^2 + xy) \\text{ d}y \\text{ d}x = \\dfrac{5}{24} = 0.208333 \\\\\n",
        "\\int_{0}^{1} \\int_{0}^{1-x} (3x^2 - y^2 + 4x - y - 4) \\text{ d}y \\text{ d}x = -\\dfrac{4}{3} = -1.33333 \\\\\n",
        "$$"
      ]
    },
    {
      "cell_type": "code",
      "execution_count": 8,
      "metadata": {
        "scrolled": true,
        "colab": {
          "base_uri": "https://localhost:8080/"
        },
        "id": "-YZlOJfw8Er6",
        "outputId": "83dacf93-098b-4a23-9732-ea3c2e6cbdff"
      },
      "outputs": [
        {
          "output_type": "stream",
          "name": "stdout",
          "text": [
            "Fourth result: 0.20833333333333331\n",
            "Fifth result: -1.3333333333333333\n"
          ]
        }
      ],
      "source": [
        "def f4(x,y):\n",
        "    return x*y + x**2 + y**2\n",
        "\n",
        "def f5(x,y):\n",
        "    return 3*x**2 - y**2 + 4*x - y -4\n",
        "\n",
        "approx4 = threep_gaussq_reftriangle(f4)\n",
        "approx5 = threep_gaussq_reftriangle(f5)\n",
        "print(\"Fourth result:\", approx4)\n",
        "print(\"Fifth result:\", approx5)"
      ]
    },
    {
      "cell_type": "markdown",
      "metadata": {
        "id": "eeSjgjNf8Er7"
      },
      "source": [
        "Then we are going to try to integrate some functions using the Monte Carlo methods\n",
        "\n",
        "$$\n",
        "\\int_0^1 x\\sin(x) \\text{ d}x = \\sin(1) - \\cos(1) \\approx 0.301169\n",
        "$$"
      ]
    },
    {
      "cell_type": "code",
      "execution_count": 9,
      "metadata": {
        "scrolled": true,
        "colab": {
          "base_uri": "https://localhost:8080/",
          "height": 296
        },
        "id": "vzDLhQbo8Er7",
        "outputId": "ea6bf78a-74fe-466a-d758-3b6a328f4ba8"
      },
      "outputs": [
        {
          "output_type": "stream",
          "name": "stdout",
          "text": [
            "Sixth result: 0.3014850227695968\n"
          ]
        },
        {
          "output_type": "display_data",
          "data": {
            "image/png": "[encoded data removed]",
            "text/plain": [
              "<Figure size 432x288 with 1 Axes>"
            ]
          },
          "metadata": {
            "needs_background": "light"
          }
        }
      ],
      "source": [
        "def f6(x):\n",
        "    return x*sin(x)\n",
        "\n",
        "def verify_montecarlo(f, top = 1000):\n",
        "    exact = 0.301169\n",
        "    errors = [] # initialize\n",
        "    for k in range(top):\n",
        "        approx = integration_by_darts01(f, darts = k+1)\n",
        "        epsilon = abs(approx - exact)/abs(exact)\n",
        "        errors.append(epsilon)\n",
        "    return errors\n",
        "\n",
        "\n",
        "approx6 = integration_by_darts01(f6)\n",
        "print(\"Sixth result:\", approx6)\n",
        "\n",
        "max = int(1e3)\n",
        "n = [k+1 for k in range(max)]\n",
        "epsilon = verify_montecarlo(f6, top = max)\n",
        "plt.scatter(n,epsilon, s = 1)\n",
        "plt.xlabel(\"n\")\n",
        "plt.ylabel(\"Relative error\")\n",
        "plt.show()"
      ]
    },
    {
      "cell_type": "markdown",
      "metadata": {
        "id": "0-juTtO08Er7"
      },
      "source": [
        "Finally we are going to test Monte Carlo integration on the reference triangle.\n",
        "\n",
        "$$\n",
        "\\int_{0}^{1} \\int_{0}^{1-x} xy\\cos(x)\\sin(y) \\text{ d}y \\text{ d}x = \\dfrac{1}{12} (5\\cos(1) - 3 \\sin(1)) \\approx 0.0147582\n",
        "$$"
      ]
    },
    {
      "cell_type": "code",
      "execution_count": 10,
      "metadata": {
        "colab": {
          "base_uri": "https://localhost:8080/",
          "height": 296
        },
        "id": "TVXfW-MW8Er7",
        "outputId": "560a1601-3d7f-43f4-e3ce-6c0ccd9c75fa"
      },
      "outputs": [
        {
          "output_type": "stream",
          "name": "stdout",
          "text": [
            "Seventh result: 0.014780066286818152\n"
          ]
        },
        {
          "output_type": "display_data",
          "data": {
            "image/png": "[encoded data removed]",
            "text/plain": [
              "<Figure size 432x288 with 1 Axes>"
            ]
          },
          "metadata": {
            "needs_background": "light"
          }
        }
      ],
      "source": [
        "def f7(x,y):\n",
        "    return x*y*cos(x)*sin(y)\n",
        "\n",
        "def verify_montecarlo2(f, top = 1000):\n",
        "    exact = 0.0147582\n",
        "    errors = [] # initialize\n",
        "    for k in range(top):\n",
        "        approx = integration_by_darts(f, darts = k+1)\n",
        "        epsilon = abs(approx - exact)/abs(exact)\n",
        "        errors.append(epsilon)\n",
        "    return errors\n",
        "\n",
        "\n",
        "approx7 = integration_by_darts(f7)\n",
        "print(\"Seventh result:\", approx7)\n",
        "\n",
        "max = int(1e3)\n",
        "n = [k+1 for k in range(max)]\n",
        "epsilon = verify_montecarlo2(f7, top = max)\n",
        "plt.scatter(n,epsilon, s = 1)\n",
        "plt.xlabel(\"n\")\n",
        "plt.ylabel(\"Relative error\")\n",
        "plt.show()"
      ]
    },
    {
      "cell_type": "code",
      "execution_count": null,
      "metadata": {
        "id": "A_VknkdQ8Er8",
        "outputId": "e20aaeaf-4fa4-4715-cd48-4083dfda1a4e"
      },
      "outputs": [
        {
          "name": "stdout",
          "output_type": "stream",
          "text": [
            "--- 341.31490778923035 seconds ---\n"
          ]
        }
      ],
      "source": [
        "import time\n",
        "start_time = time.time()\n",
        "int_approx = integration_by_darts(f7, darts = int(1e8))\n",
        "print(\"--- %s seconds ---\" % (time.time() - start_time))"
      ]
    },
    {
      "cell_type": "markdown",
      "metadata": {
        "id": "_4GLBv0zWr7m"
      },
      "source": [
        "# **Discussion**"
      ]
    },
    {
      "cell_type": "markdown",
      "metadata": {
        "id": "6bcsDSoRXHZe"
      },
      "source": [
        "I was personally amazed at how well the algorithms permorm, which is expected, since these methods are exact for the tests that were given; however, there is still some amazement by just seeing them in action. All tasks were passed successfully with no further complication.\n",
        "\n",
        "The fun part comes from Monte Carlo integration over the reference triangle, the \"tricky\" part came from choosing random points in the given domain. The method implemented in this report was a \"discard\" scheme, i.e. a point is generated, and if it is not in the domain, we just discard it. \n",
        "\n",
        "Various problems arise when we start dealing with large amounts of points, as seen in the last test.It is uncertain whether there is a \"better\" way to code this idea in Python, but the same snippet of [code](https://drive.google.com/file/d/1k1JVBODf7TUAe9TcN2FpA0A83t_906qT/view?usp=sharing) is type-stable in Julia and is around 72 times faster (4.700729 s for the same task). \n",
        "\n",
        "I am open to read suggestions regarding python optimization in the peer-review.\n"
      ]
    }
  ],
  "metadata": {
    "colab": {
      "name": "leogabac_Lab5.ipynb",
      "provenance": [],
      "include_colab_link": true
    },
    "kernelspec": {
      "display_name": "Python 3",
      "language": "python",
      "name": "python3"
    },
    "language_info": {
      "codemirror_mode": {
        "name": "ipython",
        "version": 3
      },
      "file_extension": ".py",
      "mimetype": "text/x-python",
      "name": "python",
      "nbconvert_exporter": "python",
      "pygments_lexer": "ipython3",
      "version": "3.7.8"
    }
  },
  "nbformat": 4,
  "nbformat_minor": 0
}