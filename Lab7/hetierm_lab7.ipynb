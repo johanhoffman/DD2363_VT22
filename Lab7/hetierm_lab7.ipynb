{
  "cells": [
    {
      "cell_type": "markdown",
      "metadata": {
        "colab_type": "text",
        "id": "view-in-github"
      },
      "source": [
        "<a href=\"https://colab.research.google.com/github/johanhoffman/DD2363_VT22/blob/main/template-report-lab-X.ipynb\" target=\"_parent\"><img src=\"https://colab.research.google.com/assets/colab-badge.svg\" alt=\"Open In Colab\"/></a>"
      ]
    },
    {
      "cell_type": "markdown",
      "metadata": {
        "id": "6RgtXlfYO_i7"
      },
      "source": [
        "# **Lab 7 : Optimization learning**\n",
        "**Marc Hétier**"
      ]
    },
    {
      "cell_type": "markdown",
      "metadata": {
        "id": "9x_J5FVuPzbm"
      },
      "source": [
        "# **Abstract**"
      ]
    },
    {
      "cell_type": "markdown",
      "metadata": {},
      "source": [
        "On this lab, we implement a gradient descent algorithm in a general way, and test it for some particular case."
      ]
    },
    {
      "cell_type": "code",
      "execution_count": 1,
      "metadata": {
        "colab": {
          "base_uri": "https://localhost:8080/",
          "height": 37
        },
        "id": "Pdll1Xc9WP0e",
        "outputId": "9e782dc7-4ad0-48f9-d45c-2200e83dec4d"
      },
      "outputs": [
        {
          "data": {
            "text/plain": [
              "'KTH Royal Institute of Technology, Stockholm, Sweden.'"
            ]
          },
          "execution_count": 1,
          "metadata": {},
          "output_type": "execute_result"
        }
      ],
      "source": [
        "\"\"\"This program is a template for lab reports in the course\"\"\"\n",
        "\"\"\"DD2363 Methods in Scientific Computing, \"\"\"\n",
        "\"\"\"KTH Royal Institute of Technology, Stockholm, Sweden.\"\"\"\n",
        "\n",
        "# Copyright (C) 2020 Johan Hoffman (jhoffman@kth.se)\n",
        "\n",
        "# This file is part of the course DD2365 Advanced Computation in Fluid Mechanics\n",
        "# KTH Royal Institute of Technology, Stockholm, Sweden\n",
        "#\n",
        "# This is free software: you can redistribute it and/or modify\n",
        "# it under the terms of the GNU Lesser General Public License as published by\n",
        "# the Free Software Foundation, either version 3 of the License, or\n",
        "# (at your option) any later version.\n",
        "\n",
        "# This template is maintained by Johan Hoffman\n",
        "# Please report problems to jhoffman@kth.se"
      ]
    },
    {
      "cell_type": "markdown",
      "metadata": {
        "id": "28xLGz8JX3Hh"
      },
      "source": [
        "# **Set up environment**"
      ]
    },
    {
      "cell_type": "markdown",
      "metadata": {
        "id": "D2PYNusD08Wa"
      },
      "source": [
        "To have access to the neccessary modules you have to run this cell. If you need additional modules, this is where you add them. "
      ]
    },
    {
      "cell_type": "code",
      "execution_count": 2,
      "metadata": {
        "id": "Xw7VlErAX7NS"
      },
      "outputs": [],
      "source": [
        "# Load neccessary modules.\n",
        "from google.colab import files\n",
        "\n",
        "import numpy as np\n",
        "from matplotlib import pyplot as plt"
      ]
    },
    {
      "cell_type": "markdown",
      "metadata": {
        "id": "gnO3lhAigLev"
      },
      "source": [
        "# **Introduction**"
      ]
    },
    {
      "cell_type": "markdown",
      "metadata": {},
      "source": [
        "Being able to find critical point of a given function is at the center of many methods, in optimization theory, in data learning, or in the study of PDE. Gradient descent is an iterative method which has been built in this purpose. We can derive it from Taylor expasion for a function $f : \\mathbb{R}^n \\rightarrow \\mathbb{R}$ :\n",
        "$$f(x + \\Delta x) -f(x) = \\nabla f(x)^T \\Delta x + \\mathcal{O}(\\Delta x^2)$$\n",
        "Then, for small increment $\\Delta x$, the best way of reducing $f(x + \\Delta x)$ with respect to  $f(x)$ is to move in direction of $\\nabla f(x)$.\n",
        "From this remark, we can derive a first general algorithm. Given a first guess $x_0$ we construct the iteration :\n",
        "$$ x_{n+1} = x_n - \\alpha_n \\nabla f(x_n)$$\n",
        "where $\\alpha_n$ is a step. It exists different ways of computing $\\alpha_n$. Either we can take it as constant, given as an input but on some favorable cases, we are also able to update it in a clever way at each iteration. "
      ]
    },
    {
      "cell_type": "markdown",
      "metadata": {
        "id": "jOQvukXZq5U5"
      },
      "source": [
        "# **Method**"
      ]
    },
    {
      "cell_type": "markdown",
      "metadata": {},
      "source": [
        "## General gradient descent"
      ]
    },
    {
      "cell_type": "code",
      "execution_count": 3,
      "metadata": {},
      "outputs": [],
      "source": [
        "def gradient_descent(x0, grad_f, compute_alpha, Tol, ite_max):\n",
        "    \"\"\"\n",
        "    Input : initial guess x0, gradient of f, a way to compute alpha,\n",
        "             a tolerance Tol\n",
        "    Output : a point x such that norm(grad_f(x)) < Tol \n",
        "             (and all intermediate points)\n",
        "    \"\"\"\n",
        "    x_tab = np.array(x0)\n",
        "    x_n = x0\n",
        "    grad_x_n = grad_f(x_n)\n",
        "    test = np.linalg.norm(grad_x_n)\n",
        "    ite = 0\n",
        "    while test >= Tol and ite < ite_max:\n",
        "        alpha = compute_alpha(x_n)\n",
        "        x_n = x_n - alpha*grad_x_n\n",
        "        grad_x_n = grad_f(x_n)\n",
        "        test = np.linalg.norm(grad_x_n)\n",
        "        x_tab = np.concatenate((x_tab, x_n), axis=1)\n",
        "        ite += 1\n",
        "\n",
        "    if (test < Tol):\n",
        "        print('Convergence after : ', ite, 'iterations at value x = ', np.transpose(x_n))\n",
        "    if (test >= Tol):\n",
        "        print('Method did not reach the Tol : ', Tol, 'within ', ite_max, 'iterations. Last norm :', test)\n",
        "\n",
        "    return x_tab\n",
        "\n"
      ]
    },
    {
      "cell_type": "markdown",
      "metadata": {},
      "source": [
        "### Naive test :\n",
        "We can first test the algorithm for a basic case, using function $f(x,y) = x^2+y^2$ and constant step $\\alpha$."
      ]
    },
    {
      "cell_type": "code",
      "execution_count": 70,
      "metadata": {},
      "outputs": [
        {
          "name": "stdout",
          "output_type": "stream",
          "text": [
            "Convergence after :  35 iterations at value x =  [[0.00040565 0.00024339]]\n",
            "Convergence after :  16 iterations at value x =  [[0.00028211 0.00016927]]\n",
            "Convergence after :  1 iterations at value x =  [[0. 0.]]\n"
          ]
        },
        {
          "data": {
            "text/plain": [
              "[<matplotlib.lines.Line2D at 0x7fa02fdb11c0>]"
            ]
          },
          "execution_count": 70,
          "metadata": {},
          "output_type": "execute_result"
        },
        {
          "data": {
            "image/png": "[encoded data removed]",
            "text/plain": [
              "<Figure size 432x288 with 1 Axes>"
            ]
          },
          "metadata": {
            "needs_background": "light"
          },
          "output_type": "display_data"
        }
      ],
      "source": [
        "f = lambda x : x[0]**2 + x[1]**2\n",
        "grad_f = lambda x : np.array([2*x[0], 2*x[1]])\n",
        "alpha = 0.1\n",
        "compute_alpha = lambda x : alpha\n",
        "Tol = 1e-3\n",
        "\n",
        "x0 = np.array([[1],[0.6]])\n",
        "x_tab = gradient_descent(x0, grad_f, compute_alpha, Tol, 100)\n",
        "gradient_descent(x0, grad_f, lambda x : 0.8, Tol, 100)\n",
        "gradient_descent(x0, grad_f, lambda x : 0.5, Tol, 100)\n",
        "\n",
        "plt.plot(x_tab[0,:], x_tab[1,:], 'x-')\n"
      ]
    },
    {
      "cell_type": "markdown",
      "metadata": {},
      "source": [
        "The method converges to point $(0,0)$, as expected. Moreover, we can see that the value of $\\alpha$ obviously impact the number of iterations needed, but witout any logic. For $\\alpha = 0.1$, 35 iterations are needed, for $\\alpha = 0.8$ only 16. But if we continue to increase the values, the method can diverge (try with $\\alpha = 2$) or never converge (try with $\\alpha = 1)$. Moreover, there is a magical value, $\\alpha = 0.5$ for which the convergence is immediat and exact (and this does not depend on the intial condition)."
      ]
    },
    {
      "cell_type": "markdown",
      "metadata": {},
      "source": [
        "### Second test :\n",
        "The previous gradient descent made with $\\alpha = 0.5$ has reached the optimal point exactly, and in only 1 iterations. For the given function $f$ and for any initial point this will works, since the gradient of $f$ evaluated at point $x_0$ is precisely $2\\times x_0$.\n",
        "\n",
        "This can let us think that in some cases, we can find \"magic\" step $\\alpha_n$. They will probably not induces a convergence in one step, but we can expect that they will make it faster.\n",
        "\n",
        "For example, as explain on example 15.2, when the objective function is quadratic, we can compute optimal $\\alpha_n$ at each step : for \n",
        "$$ g(x) = \\dfrac{1}{2} x^T A x + bx + c $$\n",
        "with $A > 0$, the best step $\\alpha_n$ is given by\n",
        "$$\\alpha_n = \\dfrac{\\Vert -\\nabla g(x_n) \\Vert ^2_2}{\\Vert -\\nabla g(x_n) \\Vert ^2_A} $$"
      ]
    },
    {
      "cell_type": "code",
      "execution_count": 68,
      "metadata": {},
      "outputs": [
        {
          "name": "stdout",
          "output_type": "stream",
          "text": [
            "Convergence after :  10 iterations at value x =  [[2.00001784 1.50000446]]\n",
            "Method did not reach the Tol :  2e-05 within  40 iterations. Last norm : 0.11824825888505744\n"
          ]
        },
        {
          "data": {
            "text/plain": [
              "<matplotlib.legend.Legend at 0x7fa02fe517c0>"
            ]
          },
          "execution_count": 68,
          "metadata": {},
          "output_type": "execute_result"
        },
        {
          "data": {
            "image/png": "[encoded data removed]",
            "text/plain": [
              "<Figure size 432x288 with 1 Axes>"
            ]
          },
          "metadata": {
            "needs_background": "light"
          },
          "output_type": "display_data"
        }
      ],
      "source": [
        "A = np.array([[1,0],[0,2]])\n",
        "b = np.array([[2],[3]])\n",
        "c = 0\n",
        "\n",
        "g = lambda x : 1/2*np.dot(x.T, A@x) - np.dot(b.T,x) + c\n",
        "grad_g = lambda x : A@x - b\n",
        "\n",
        "def compute_alpha(x) :\n",
        "    r = b-A@x\n",
        "    Ar = A@r\n",
        "    denominateur = Ar.T @ r\n",
        "    if denominateur > 1e-8:\n",
        "        alpha = r.T @r / (Ar.T @ r)[0,0]\n",
        "    else:\n",
        "        alpha = 0\n",
        "    return alpha\n",
        "\n",
        "x0 = np.array([[10],[3.5]])\n",
        "Tol = 2e-5\n",
        "\n",
        "x_tab_adaptive = gradient_descent(x0, grad_g, compute_alpha, Tol, 40)\n",
        "x_tab_constant = gradient_descent(x0, grad_g, lambda x : 0.1, Tol, 40)\n",
        "\n",
        "## Plot\n",
        "### To compute the contour of g\n",
        "nbr_points = 100\n",
        "first_coordinate = np.linspace(0.5,10,nbr_points)\n",
        "second_coordinate = np.linspace(0,4.5,nbr_points)\n",
        "\n",
        "value = np.zeros((nbr_points,nbr_points))\n",
        "\n",
        "for x in range(nbr_points):\n",
        "    for y in range(nbr_points):\n",
        "        value[x,y] = g(np.array([[first_coordinate[x]], [second_coordinate[y]]]))\n",
        "\n",
        "graphe = plt.contour(first_coordinate, second_coordinate, value)\n",
        "plt.clabel(graphe, inline=1, fontsize=10,fmt='%3.2f')\n",
        "\n",
        "### Plot of the iterates\n",
        "plt.plot(x_tab_adaptive[0,:], x_tab_adaptive[1,:], 'x--', color='b')\n",
        "plt.plot(x_tab_constant[0,:], x_tab_constant[1,:], 'x--', color='r')\n",
        "\n",
        "### Title and legend\n",
        "plt.xlim([0,11])\n",
        "plt.title('Value of function g and gradient descent')\n",
        "plt.legend((\"Adaptive method\", \"Constant method\"))"
      ]
    },
    {
      "cell_type": "markdown",
      "metadata": {},
      "source": [
        "As we can see, the adaptive method, which compute a optimal value of $\\alpha$ is much more efficient than a constant method. The first one is able to reach a precision of $2e-5$ in 10 iterations, while the second one only reach a precision of $1e-1$ after 40 iterations. The plot illustrates the different steps in a $x,y$ plane.\n",
        "\n",
        "Moroever, let's note that both methods converge towards $b$, which is indeed the optimal point."
      ]
    },
    {
      "cell_type": "markdown",
      "metadata": {},
      "source": [
        "## Conclusion\n",
        "\n",
        "To conclude, our implementation of the gradient method is fully operational and can be adpated to compute $\\alpha$ in different way. I illustrate the advantages of clever computation of $\\alpha$ over a very favorabl case, where the function was quadratic and then convex.\n",
        "\n",
        "Even if the gradient descent is efficient, it's major point is its simplicity. Moreover, the convergence rate toward the optimal condition becomes smaller and smaller when we approach it (for example, the first iteration of the adaptive method allows to gain about $2\\times 10^1$ in precision, while the following allows a gain of $1\\times 10 ^{-1}$), it can be used as a way to find a first good guess. Then, if we want higher precision, other methods have to be used. "
      ]
    }
  ],
  "metadata": {
    "colab": {
      "include_colab_link": true,
      "name": "template-report-lab-X.ipynb",
      "provenance": []
    },
    "kernelspec": {
      "display_name": "Python 3",
      "name": "python3"
    },
    "language_info": {
      "codemirror_mode": {
        "name": "ipython",
        "version": 3
      },
      "file_extension": ".py",
      "mimetype": "text/x-python",
      "name": "python",
      "nbconvert_exporter": "python",
      "pygments_lexer": "ipython3",
      "version": "3.8.10"
    }
  },
  "nbformat": 4,
  "nbformat_minor": 0
}
