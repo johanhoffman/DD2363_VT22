{
  "cells": [
    {
      "cell_type": "markdown",
      "metadata": {
        "id": "view-in-github",
        "colab_type": "text"
      },
      "source": [
        "<a href=\"https://colab.research.google.com/github/johanhoffman/DD2363_VT22/blob/hannahklingberg-lab7/Lab7/hannahklingberg_lab7.ipynb\" target=\"_parent\"><img src=\"https://colab.research.google.com/assets/colab-badge.svg\" alt=\"Open In Colab\"/></a>"
      ]
    },
    {
      "cell_type": "markdown",
      "metadata": {
        "id": "6RgtXlfYO_i7"
      },
      "source": [
        "# **Lab 7: Optimization and Learning**\n",
        "**Hanna Klingberrg**"
      ]
    },
    {
      "cell_type": "markdown",
      "metadata": {
        "id": "9x_J5FVuPzbm"
      },
      "source": [
        "# **Abstract**"
      ]
    },
    {
      "cell_type": "markdown",
      "metadata": {
        "id": "6UFTSzW7P8kL"
      },
      "source": [
        "This lab explores iterative methods to solve minimization problems, aiming to find $x^* \\in D$ such that:\n",
        "\n",
        "$f(x^*) \\leq f(x)$ $\\forall x \\in D$\n",
        "\n",
        "The algorithms implemented are the Gradient Descent method and Newtons method. The result of the iterative methods are both printed and the iterations plotted, so that the procedure of the algorithms is visualized. Both algorithms performed quite well, however Newtons method was slightly more effective. "
      ]
    },
    {
      "cell_type": "markdown",
      "metadata": {
        "id": "OkT8J7uOWpT3"
      },
      "source": [
        "#**About the code**"
      ]
    },
    {
      "cell_type": "markdown",
      "metadata": {
        "id": "HmB2noTr1Oyo"
      },
      "source": [
        "A short statement on who is the author of the file, and if the code is distributed under a certain license. "
      ]
    },
    {
      "cell_type": "code",
      "execution_count": null,
      "metadata": {
        "colab": {
          "base_uri": "https://localhost:8080/",
          "height": 35
        },
        "id": "Pdll1Xc9WP0e",
        "outputId": "5e3c0284-0950-4186-91ca-116f7b1928bf"
      },
      "outputs": [
        {
          "output_type": "execute_result",
          "data": {
            "application/vnd.google.colaboratory.intrinsic+json": {
              "type": "string"
            },
            "text/plain": [
              "'KTH Royal Institute of Technology, Stockholm, Sweden.'"
            ]
          },
          "metadata": {},
          "execution_count": 2
        }
      ],
      "source": [
        "\"\"\"This program is a template for lab reports in the course\"\"\"\n",
        "\"\"\"DD2363 Methods in Scientific Computing, \"\"\"\n",
        "\"\"\"KTH Royal Institute of Technology, Stockholm, Sweden.\"\"\"\n",
        "\n",
        "# Copyright (C) 2020 Johan Hoffman (jhoffman@kth.se)\n",
        "\n",
        "# This file is part of the course DD2365 Advanced Computation in Fluid Mechanics\n",
        "# KTH Royal Institute of Technology, Stockholm, Sweden\n",
        "#\n",
        "# This is free software: you can redistribute it and/or modify\n",
        "# it under the terms of the GNU Lesser General Public License as published by\n",
        "# the Free Software Foundation, either version 3 of the License, or\n",
        "# (at your option) any later version.\n",
        "\n",
        "# This template is maintained by Johan Hoffman\n",
        "# Please report problems to jhoffman@kth.se"
      ]
    },
    {
      "cell_type": "markdown",
      "metadata": {
        "id": "28xLGz8JX3Hh"
      },
      "source": [
        "# **Set up environment**"
      ]
    },
    {
      "cell_type": "markdown",
      "metadata": {
        "id": "D2PYNusD08Wa"
      },
      "source": [
        "To have access to the neccessary modules you have to run this cell. If you need additional modules, this is where you add them. "
      ]
    },
    {
      "cell_type": "code",
      "execution_count": null,
      "metadata": {
        "id": "Xw7VlErAX7NS"
      },
      "outputs": [],
      "source": [
        "# Load neccessary modules.\n",
        "from google.colab import files\n",
        "\n",
        "import time\n",
        "import numpy as np\n",
        "import scipy.optimize as optimize\n",
        "from matplotlib import pyplot as plt\n",
        "\n",
        "#try:\n",
        "#    from dolfin import *; from mshr import *\n",
        "#except ImportError as e:\n",
        "#    !apt-get install -y -qq software-properties-common \n",
        "#    !add-apt-repository -y ppa:fenics-packages/fenics\n",
        "#    !apt-get update -qq\n",
        "#    !apt install -y --no-install-recommends fenics\n",
        "#    from dolfin import *; from mshr import *\n",
        "    \n",
        "#import dolfin.common.plotting as fenicsplot\n",
        "\n",
        "from matplotlib import pyplot as plt\n",
        "from matplotlib import tri\n",
        "from matplotlib import axes\n",
        "from mpl_toolkits.mplot3d import Axes3D"
      ]
    },
    {
      "cell_type": "markdown",
      "metadata": {
        "id": "gnO3lhAigLev"
      },
      "source": [
        "# **Introduction**"
      ]
    },
    {
      "cell_type": "markdown",
      "metadata": {
        "id": "l5zMzgPlRAF6"
      },
      "source": [
        "Finding the maximum or minimum of a function is called an optimization problem. The problems takes the form of finding $x^* \\in D$ s.t.\n",
        "\n",
        "$f(x^*) \\leq f(x)$     $∀x \\in D$\n",
        "\n",
        "In this lab, two different iterative methods to find such a minimum are implemented and tested: the gradient descent method and Newtons method. The theory behind each algorithm is described in its corresponding section. \n",
        "\n"
      ]
    },
    {
      "cell_type": "markdown",
      "metadata": {
        "id": "jOQvukXZq5U5"
      },
      "source": [
        "# **Method**"
      ]
    },
    {
      "cell_type": "markdown",
      "metadata": {
        "id": "zF4iBj5VURZx"
      },
      "source": [
        "# **Gradient descent method in Rn**\n",
        "To find the critical point of a function f(x), the gradient descent function iteratively searches for the critical point by searching in the direction opposite to the gradient of the objective function. At every iteration k the approximation $x^{(k+1)}$ is updated by the formula: \n",
        "\n",
        "$x^{(k+1)} = x^{(k)} \\alpha^{(k)} \\nabla f(x^{(k)}$\n",
        "\n",
        "(source: chapter 15.3 in course book). \n",
        "\n",
        "The algorithm is implemented based on the pseudo code given for algorithm 15.1 (chapter 15.3). The function utilizes the methods ```compute_gradient(f,x)``` and ```line_search(f,x)```. \n",
        "\n",
        "```compute_gradient(f,x)```is developed according to the formula given on https://en.wikipedia.org/wiki/Numerical_differentiation:\n",
        "\n",
        "$\\nabla f(x) = (\\frac{\\partial f}{\\partial x_1}, ..., \\frac{\\partial f}{\\partial x_n})$ where each $\\frac{\\partial f}{\\partial x_i} = \\frac{f(x+he_i) -f(x)}{h} $ where each $e_i$ is the standard basis vector for $R^n$\n",
        "\n",
        "For the line_search method, which provides the step length $\\alpha$ in which the search direction iterates, I had a bit of trouble implementing it. I ended up testing the function with three different values of $\\alpha$ : $[0.01, 0.1, 0.5]$ and plotting the convergence result for each of these. \n",
        "\n",
        "To avoid the algorithm getting stuck in a loop, the while loop is limited by both $||\\nabla f(x)|| > 10^{-8}$ and iterations < $10^5$.\n",
        "\n",
        "For the test I used the function $f(x) = x_1^2 + 2x_2^2$ (taken from course book) which has the critical point $(0,0)$. The convergence of the iterative method can be analyzed by saving the result of each iteration in a list and plotting the iterated values together with the true solution. "
      ]
    },
    {
      "cell_type": "code",
      "execution_count": null,
      "metadata": {
        "id": "pH3MKuSPM-kb"
      },
      "outputs": [],
      "source": [
        "def compute_gradient(f, x):\n",
        "  h_mat = np.identity(len(x))*10**-5\n",
        "  grad = np.array([(f(x+h) - f(x))/10**-5 for h in h_mat]) \n",
        "  return grad\n"
      ]
    },
    {
      "cell_type": "code",
      "execution_count": null,
      "metadata": {
        "id": "rHsokbMiKOva"
      },
      "outputs": [],
      "source": [
        "def grad_desc(f, x0, alpha):\n",
        "  iterations = [x0]\n",
        "  max_iter = 10**5\n",
        "  iter = 0\n",
        "  TOL = 10**-8\n",
        "  x = x0\n",
        "  df = compute_gradient(f, x)\n",
        "  while np.linalg.norm(df) > TOL and iter < max_iter:\n",
        "    df = compute_gradient(f,x)\n",
        "    x = x - alpha*df\n",
        "    iterations.append(x)\n",
        "    iter +=1\n",
        "  return x, iterations, iter \n"
      ]
    },
    {
      "cell_type": "code",
      "execution_count": null,
      "metadata": {
        "id": "E6_XI2lxrUnx"
      },
      "outputs": [],
      "source": [
        "def test_gradient_descent():\n",
        "  func = lambda x: x[0]**2 + 2*x[1]**2\n",
        "  x0 = np.array([1,1])\n",
        "  alphas = [0.01, 0.1, 0.4]\n",
        "  solutions = []\n",
        "  for a in alphas: \n",
        "    approx, test, iter = grad_desc(func, x0, a)\n",
        "    plt.plot([x[0] for x in test], label = \"approximation of x1\")\n",
        "    plt.plot([x[1] for x in test], label  = \"approximation of x2\")\n",
        "    plt.plot([0 for x in test], label = \"true value of both x1 and x2\")\n",
        "    plt.legend()\n",
        "    plt.xlabel(\"iterations\")\n",
        "    plt.ylabel(\"value\")\n",
        "    plt.title(\"gradient descent with alpha = \" + str(a) + \", \" + str(iter) + \" iterations\")\n",
        "    plt.show()\n",
        "    solutions.append(approx)\n",
        "  return solutions"
      ]
    },
    {
      "cell_type": "markdown",
      "source": [
        "# **Newtons Method in Rn**\n",
        "\n",
        "Newtons method is a minimization method based on the equation:\n",
        "\n",
        "$f(x) \\approx f(y)^T (x-y) + \\frac{1}{2}(x-y)^T Hf(y)(x-y)$\n",
        "\n",
        "where $Hf(y)$ is the Hessian matrix of f evaluated at y, $x = x^{(k+1)}$, and $ y = x^{(k)}$, which allows us to update x iteratively by:\n",
        "\n",
        "$x^{(k+1)} = x^{(k)} + \\nabla x $\n",
        "\n",
        "where\n",
        "\n",
        "$\\nabla x = -(Hf(x^{(k)}))^{-1} \\nabla f(x^{(k)})$\n",
        "\n",
        "We approximate the Hessian H so that the ith row of the Hessian is: \n",
        "\n",
        "$\\frac{\\nabla f(x+he_i) - \\nabla f(x)}{h} $ \n",
        "\n",
        "The same function is tested as in the gradient descent method, so that the methods can be compared. The iterative solution is plotted. \n"
      ],
      "metadata": {
        "id": "AiOHEJ2G91E8"
      }
    },
    {
      "cell_type": "code",
      "source": [
        "def compute_hessian(f, x):\n",
        "  h = 10**-5\n",
        "  hess = np.zeros((x.shape[0], x.shape[0]))\n",
        "  for i in range(x.shape[0]):\n",
        "    xi = list(x)\n",
        "    xi[i] += h\n",
        "    hess[i][:] = (compute_gradient(f, xi) - compute_gradient(f,x))/h\n",
        "  return np.array(hess)"
      ],
      "metadata": {
        "id": "-9QpSTEL-cQj"
      },
      "execution_count": null,
      "outputs": []
    },
    {
      "cell_type": "code",
      "source": [
        "def newton_minimization(f, x0):\n",
        "  approx = [x0]\n",
        "  iter = 0\n",
        "  max_iter = 10**7\n",
        "  TOL = 10**-8\n",
        "  x = np.zeros(x0.shape)\n",
        "  x[:] = x0[:]\n",
        "  df = compute_gradient(f, x)\n",
        "  while np.linalg.norm(df) > TOL and iter < max_iter:\n",
        "    df = compute_gradient(f,x)\n",
        "    hf = compute_hessian(f, x)\n",
        "    dx = np.linalg.solve(hf, -df)\n",
        "    x += dx\n",
        "    approx.append(x)\n",
        "    iter += 1\n",
        "  return x, approx, iter"
      ],
      "metadata": {
        "id": "JXs9vCN_95P_"
      },
      "execution_count": null,
      "outputs": []
    },
    {
      "cell_type": "code",
      "source": [
        "def test_newton():\n",
        "  func = lambda x: x[0]**2 + 2*x[1]**2\n",
        "  x0 = np.array([1,1])\n",
        "  sol, approx, iter = newton_minimization(func, x0)\n",
        "  plt.plot([x[0] for x in approx], label= \"iterative approximation of x1\")\n",
        "  plt.plot([x[1] for x in approx], label=\"iterative approximation of x2\")\n",
        "  plt.plot([0 for x in approx], label=\"true value of both x1 and x2\")\n",
        "  plt.legend()\n",
        "  plt.title(\"approximated solution convergence, \" + str(iter) + \" iterations\")\n",
        "  plt.show()\n",
        "  true = np.array([0,0])\n",
        "  return sol"
      ],
      "metadata": {
        "id": "Jfxewpux_bFR"
      },
      "execution_count": null,
      "outputs": []
    },
    {
      "cell_type": "markdown",
      "metadata": {
        "id": "SsQLT38gVbn_"
      },
      "source": [
        "# **Results**"
      ]
    },
    {
      "cell_type": "markdown",
      "metadata": {
        "id": "RLwlnOzuV-Cd"
      },
      "source": [
        "#**Gradient Descent**\n",
        "Below the iterated approximated values of $x_1$ and $x_2$ are plotted with the true critical point of $f(x)$. It can be seen that for a higher alpha, it takes fewer iterations to find the correct value. It is also clearly visualized how a larger value of $\\alpha$, i.e. a bigger search step, affects the iteration. \n",
        "\n",
        "The result of the approximation is printed, and it is clear that the values are close to the true answer, [0,0]."
      ]
    },
    {
      "cell_type": "code",
      "source": [
        "def tests():\n",
        "  passed = test_gradient_descent()\n",
        "  for i in passed:\n",
        "    print(i)\n",
        "tests()"
      ],
      "metadata": {
        "colab": {
          "base_uri": "https://localhost:8080/",
          "height": 903
        },
        "id": "2Oaka0fL4jRs",
        "outputId": "2a0152be-bee6-43a5-f0db-2c4123b8b1cf"
      },
      "execution_count": null,
      "outputs": [
        {
          "output_type": "display_data",
          "data": {
            "image/png": "[encoded data removed]",
            "text/plain": [
              "<Figure size 432x288 with 1 Axes>"
            ]
          },
          "metadata": {
            "needs_background": "light"
          }
        },
        {
          "output_type": "display_data",
          "data": {
            "image/png": "[encoded data removed]",
            "text/plain": [
              "<Figure size 432x288 with 1 Axes>"
            ]
          },
          "metadata": {
            "needs_background": "light"
          }
        },
        {
          "output_type": "display_data",
          "data": {
            "image/png": "[encoded data removed]",
            "text/plain": [
              "<Figure size 432x288 with 1 Axes>"
            ]
          },
          "metadata": {
            "needs_background": "light"
          }
        },
        {
          "output_type": "stream",
          "name": "stdout",
          "text": [
            "[-4.99518804e-06 -5.00000000e-06]\n",
            "[-4.99629463e-06 -5.00000000e-06]\n",
            "[-5.00000000e-06 -4.99866324e-06]\n"
          ]
        }
      ]
    },
    {
      "cell_type": "markdown",
      "source": [
        "# **Newtons Method**\n",
        "\n",
        "The convergence rate of Newtons Method is plotted below, and the value of the approximated solution is printed. It can be seen that the approximation converges after 3 iterations, and that the given solution is close to the true solution [0,0]. "
      ],
      "metadata": {
        "id": "U5YWyr5lLKDN"
      }
    },
    {
      "cell_type": "code",
      "source": [
        "def test():\n",
        "  passed = np.array(test_newton())\n",
        "  print(passed)\n",
        "test()"
      ],
      "metadata": {
        "colab": {
          "base_uri": "https://localhost:8080/",
          "height": 315
        },
        "id": "9VReyjUmLM83",
        "outputId": "ebe969d3-bfa6-4b85-e96a-373561c7df7d"
      },
      "execution_count": null,
      "outputs": [
        {
          "output_type": "display_data",
          "data": {
            "image/png": "[encoded data removed]",
            "text/plain": [
              "<Figure size 432x288 with 1 Axes>"
            ]
          },
          "metadata": {
            "needs_background": "light"
          }
        },
        {
          "output_type": "stream",
          "name": "stdout",
          "text": [
            "[-5.e-06 -5.e-06]\n",
            "bajs\n"
          ]
        }
      ]
    },
    {
      "cell_type": "markdown",
      "metadata": {
        "id": "_4GLBv0zWr7m"
      },
      "source": [
        "# **Discussion**"
      ]
    },
    {
      "cell_type": "markdown",
      "metadata": {
        "id": "6bcsDSoRXHZe"
      },
      "source": [
        "Both methods performed quite well, although it is clear that Newtons minimization method required a lot fewer iterations and thus has better performance. It also has the advantage that the alpha doesn't have to be approximated, although the Hessian is not exact either. \n",
        "In the gradient descent method, it is clearly visualized how the value of alpha affects the search method, which I found very interesting. There is also a correlation between the size of alpha and the number of iterations needed."
      ]
    }
  ],
  "metadata": {
    "colab": {
      "name": "Lab 7.ipynb",
      "provenance": [],
      "include_colab_link": true
    },
    "kernelspec": {
      "display_name": "Python 3",
      "name": "python3"
    }
  },
  "nbformat": 4,
  "nbformat_minor": 0
}