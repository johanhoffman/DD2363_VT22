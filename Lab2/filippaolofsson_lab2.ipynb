{
  "nbformat": 4,
  "nbformat_minor": 0,
  "metadata": {
    "colab": {
      "name": "FilippaOlofsson_Lab2",
      "provenance": [],
      "include_colab_link": true
    },
    "kernelspec": {
      "name": "python3",
      "display_name": "Python 3"
    }
  },
  "cells": [
    {
      "cell_type": "markdown",
      "metadata": {
        "id": "view-in-github",
        "colab_type": "text"
      },
      "source": [
        "<a href=\"https://colab.research.google.com/github/johanhoffman/DD2363_VT22/blob/filippaolofsson-lab2/Lab2/filippaolofsson_lab2.ipynb\" target=\"_parent\"><img src=\"https://colab.research.google.com/assets/colab-badge.svg\" alt=\"Open In Colab\"/></a>"
      ]
    },
    {
      "cell_type": "markdown",
      "metadata": {
        "id": "6RgtXlfYO_i7"
      },
      "source": [
        "# **Lab: matrix factorization**\n",
        "**Filippa Olofsson**"
      ]
    },
    {
      "cell_type": "markdown",
      "metadata": {
        "id": "9x_J5FVuPzbm"
      },
      "source": [
        "# **Abstract**"
      ]
    },
    {
      "cell_type": "markdown",
      "metadata": {
        "id": "yJipbXtnjrJZ"
      },
      "source": [
        "This lab consists of three problems. The problems being investigated in this report are sparse matrix-vector product, QR factorization and direct solver."
      ]
    },
    {
      "cell_type": "markdown",
      "metadata": {
        "id": "OkT8J7uOWpT3"
      },
      "source": [
        "#**About the code**"
      ]
    },
    {
      "cell_type": "markdown",
      "metadata": {
        "id": "HmB2noTr1Oyo"
      },
      "source": [
        "A short statement on who is the author of the file, and if the code is distributed under a certain license. "
      ]
    },
    {
      "cell_type": "code",
      "metadata": {
        "id": "Pdll1Xc9WP0e",
        "colab": {
          "base_uri": "https://localhost:8080/",
          "height": 35
        },
        "outputId": "846bf530-f28f-4eaa-ae32-3027733134a8"
      },
      "source": [
        "\"\"\"This program is a template for lab reports in the course\"\"\"\n",
        "\"\"\"DD2363 Methods in Scientific Computing, \"\"\"\n",
        "\"\"\"KTH Royal Institute of Technology, Stockholm, Sweden.\"\"\"\n",
        "\n",
        "# Copyright (C) 2020 Johan Hoffman (jhoffman@kth.se)\n",
        "\n",
        "# This file is part of the course DD2365 Advanced Computation in Fluid Mechanics\n",
        "# KTH Royal Institute of Technology, Stockholm, Sweden\n",
        "#\n",
        "# This is free software: you can redistribute it and/or modify\n",
        "# it under the terms of the GNU Lesser General Public License as published by\n",
        "# the Free Software Foundation, either version 3 of the License, or\n",
        "# (at your option) any later version.\n",
        "\n",
        "# This template is maintained by Johan Hoffman\n",
        "# Please report problems to jhoffman@kth.se"
      ],
      "execution_count": null,
      "outputs": [
        {
          "output_type": "execute_result",
          "data": {
            "application/vnd.google.colaboratory.intrinsic+json": {
              "type": "string"
            },
            "text/plain": [
              "'KTH Royal Institute of Technology, Stockholm, Sweden.'"
            ]
          },
          "metadata": {},
          "execution_count": 98
        }
      ]
    },
    {
      "cell_type": "markdown",
      "metadata": {
        "id": "28xLGz8JX3Hh"
      },
      "source": [
        "# **Set up environment**"
      ]
    },
    {
      "cell_type": "markdown",
      "metadata": {
        "id": "D2PYNusD08Wa"
      },
      "source": [
        "To have access to the neccessary modules you have to run this cell. If you need additional modules, this is where you add them. "
      ]
    },
    {
      "cell_type": "code",
      "metadata": {
        "id": "Xw7VlErAX7NS"
      },
      "source": [
        "# Load neccessary modules.\n",
        "from google.colab import files\n",
        "\n",
        "import time\n",
        "import numpy as np\n",
        "\n",
        "#try:\n",
        "#    from dolfin import *; from mshr import *\n",
        "#except ImportError as e:\n",
        "#    !apt-get install -y -qq software-properties-common \n",
        "#    !add-apt-repository -y ppa:fenics-packages/fenics\n",
        "#    !apt-get update -qq\n",
        "#    !apt install -y --no-install-recommends fenics\n",
        "#    from dolfin import *; from mshr import *\n",
        "    \n",
        "#import dolfin.common.plotting as fenicsplot\n",
        "\n",
        "from matplotlib import pyplot as plt\n",
        "from matplotlib import tri\n",
        "from matplotlib import axes\n",
        "from mpl_toolkits.mplot3d import Axes3D"
      ],
      "execution_count": null,
      "outputs": []
    },
    {
      "cell_type": "markdown",
      "metadata": {
        "id": "gnO3lhAigLev"
      },
      "source": [
        "# **Introduction**"
      ]
    },
    {
      "cell_type": "markdown",
      "metadata": {
        "id": "l5zMzgPlRAF6"
      },
      "source": [
        "The problems being investigated in this report are sparse matrix-vector product, QR factorization and direct solver.\n",
        "\n"
      ]
    },
    {
      "cell_type": "markdown",
      "metadata": {
        "id": "jOQvukXZq5U5"
      },
      "source": [
        "# **Method**"
      ]
    },
    {
      "cell_type": "markdown",
      "metadata": {
        "id": "zF4iBj5VURZx"
      },
      "source": [
        "I used some of the functions made in Lab: Introduction. "
      ]
    },
    {
      "cell_type": "code",
      "source": [
        "# Imported code fram Laboration: Introduction\n",
        "\n",
        "def scalar_product(x, y):\n",
        "  scalar = 0\n",
        "  for i in range(len(x)):\n",
        "    scalar += x[i]*y[i]\n",
        "  return scalar\n",
        "\n",
        "def norm(x):\n",
        "  x = scalar_product(x, x)\n",
        "  e_norm = x**(1/2)\n",
        "  return e_norm\n",
        "\n",
        "def matrix_vector_product(x, A):\n",
        "  m, n = np.shape(A)  # row, column\n",
        "  b = np.zeros((m, 1))\n",
        "  for i in range(m): \n",
        "    sum = 0\n",
        "    for j in range(n):\n",
        "      sum += A[i][j]*x[j]\n",
        "    b[i] = sum\n",
        "  return b\n",
        "\n",
        "def matrix_matrix_product(A, B):\n",
        "  m_a, n_a = np.shape(A)\n",
        "  m_b, n_b = np.shape(B)\n",
        "  C = np.zeros((m_a, n_b))\n",
        "  if n_a != m_b:\n",
        "    return \"No answer\"\n",
        "  else:\n",
        "    for i in range(m_a): # for each row in A\n",
        "      for j in range(n_b): # for each column i B\n",
        "        sum = 0\n",
        "        for k in range(n_a): # for each column in A\n",
        "          sum += A[i][k] * B[k][j]\n",
        "        C[i][j] = sum\n",
        "    return C\n",
        "\n",
        "def euclidian_dist(x, y):\n",
        "  if len(x) != len(y):\n",
        "    return \"No answer\"\n",
        "  else:\n",
        "    sum_dist = 0\n",
        "    for i in range(len(x)):\n",
        "      sum_dist += (x[i] - y[i])**2\n",
        "    e_dist = sum_dist**(1/2)\n",
        "    return e_dist"
      ],
      "metadata": {
        "id": "X_3eiYy4bBaV"
      },
      "execution_count": null,
      "outputs": []
    },
    {
      "cell_type": "markdown",
      "source": [
        "### **1. Function: sparse matrix-vector product**"
      ],
      "metadata": {
        "id": "amepNys_E1lG"
      }
    },
    {
      "cell_type": "markdown",
      "source": [
        "The sparse matrix-vector product is calculated thorugh Algorithm 5.9, Chapter 5. By first creating a vector b, which has the same size as the vector x. The outer for-loop is iterating over the number of rows n, and the inner for-loop can be seen iterating over the non-zero elements in each row. Each non-zero element is multiplied by corresponding element in the x-vector and added to the final element in b. \n",
        "\n",
        "The results are compared with the dense matrix-vector product. The function test_svmp builds the matrix A from the given vectors and calculates the dense matrix-vector product.   "
      ],
      "metadata": {
        "id": "jGvX5vvLpN8r"
      }
    },
    {
      "cell_type": "code",
      "source": [
        "# Input: vector x, sparse (real, quadratic) matrix A: CRS arrays val, col_idx, row_ptr\n",
        "# Output: matrix-vector product b=Ax\n",
        "\n",
        "def sparse_matrix_vector_product(x, val, col_idx, row_ptr):\n",
        "  b = np.zeros(x.shape)\n",
        "  n = len(b)\n",
        "  for i in range(0, n):\n",
        "    for j in range(row_ptr[i]-1, row_ptr[i+1]-1):\n",
        "      b[i]= b[i] + val[j]*x[col_idx[j]-1]\n",
        "  return b\n",
        "\n",
        "# Creating A from val, col_idx, row_ptr\n",
        "def test_smvp(x, val, col_idx, row_ptr):\n",
        "  A = np.zeros((len(x), len(x)))\n",
        "  num_rows = len(row_ptr) - 1\n",
        "  for i in range(num_rows):\n",
        "    num_columns = row_ptr[i+1] - row_ptr[i]\n",
        "    row_start = row_ptr[i] -1\n",
        "    slice_columns = col_idx[row_start:row_start + num_columns]\n",
        "    slice_val = val[row_start:row_start + num_columns]\n",
        "    k = 0\n",
        "    for j in slice_columns:\n",
        "      A[i][j-1] = slice_val[k]\n",
        "      k += 1\n",
        "  # Calculate the dense matrix-vector product\n",
        "  b = matrix_vector_product(x, A)\n",
        "  return b\n"
      ],
      "metadata": {
        "id": "2-c4Cz8vEy-8"
      },
      "execution_count": null,
      "outputs": []
    },
    {
      "cell_type": "markdown",
      "source": [
        "### **2. Function: QR factorization**"
      ],
      "metadata": {
        "id": "2LGB4wYjFCFW"
      }
    },
    {
      "cell_type": "markdown",
      "source": [
        "The QR factorization is calculated thorugh algorithm 5.3 (modified Gram Schmidt), Chapter 5.\n",
        "\n",
        "The frobenius norms is not calculated since both $Q^TQ - I$ and $QR - A$ should equal a matrix of zeros if the QR factorization was made successfully. Therefore, the function \"frobenius_norms\" is only checking if the equations result in a zero-matrix."
      ],
      "metadata": {
        "id": "T9ngwbTordcN"
      }
    },
    {
      "cell_type": "code",
      "source": [
        "from numpy.ma.core import shape\n",
        "# Input: (real quadratic) matrix A\n",
        "# Output: orthogonal matrix Q, upper triangular matrix R, such that A=QR\n",
        "\n",
        "def QR_fac(A):\n",
        "  n, n = np.shape(A)\n",
        "  v = np.zeros(shape=(1, n))\n",
        "  R = np.zeros((n,n))\n",
        "  Q = np.zeros((n,n))\n",
        "  for j in range(0, n):\n",
        "    v[:] = A[:,j]\n",
        "    for i in range(0, j):\n",
        "      R[i,j] = scalar_product(Q[:,i], np.transpose(v[:]))\n",
        "      v[:] = v[:] - R[i,j]*Q[:,i]\n",
        "    R[j,j] = norm(np.transpose(v))\n",
        "    Q[:,j] = (v[:]/R[j,j])\n",
        "  return Q, R\n",
        "\n",
        "# Not actually calculating frobenius norm, just see if F equals a zero-matrix\n",
        "def frobenius_norms(A, B, C): \n",
        "  D = matrix_matrix_product(A, B)\n",
        "  F = D - C \n",
        "  if F.all() == 0:\n",
        "    return 0\n",
        "  else:\n",
        "    return 1"
      ],
      "metadata": {
        "id": "jGPNA--kFI9K"
      },
      "execution_count": null,
      "outputs": []
    },
    {
      "cell_type": "markdown",
      "source": [
        "### **3. Function: direct solver Ax=b**"
      ],
      "metadata": {
        "id": "XJuabGkUFJkh"
      }
    },
    {
      "cell_type": "markdown",
      "source": [
        "The problem is solved by using the QR factorization of matrix A. With the QR factorization the problem can be rewritten as:\n",
        "\n",
        "$Ax = b \\longrightarrow QRx=b \\longrightarrow  Rx = Q^{-1}b \\longrightarrow$ (Let $y = Q^{-1}b$) $\\longrightarrow Rx = y \\longrightarrow x = R^{-1}y$\n",
        "\n",
        "The direct solver function uses QR_fac to factorize A into Q and R. Since Q is an orthogonal matrix $Q^{-1} = Q^T$. Using the $Q^T$b to calculate y. Then using Algorithm 5.2 (Backward substitution) Chapter 5 to solve the equation $x = R^{-1}y$. Returning x.\n",
        "\n",
        "The backward substitution function is used since R is a upper triangular matrix. The function starts from the last component of the solution vector x. The inner loop is a scalar product between vector x and the i:th row of the matrix R. (Chapter 5, p.87)"
      ],
      "metadata": {
        "id": "aFJwoL9eMY3h"
      }
    },
    {
      "cell_type": "code",
      "source": [
        "# Input: (real, quadratic) matrix A, vector b\n",
        "# Output: vector x=A^(-1)b\n",
        "\n",
        "def direct_solver(A, b):\n",
        "  Q, R = QR_fac(A)\n",
        "  Q1 = np.transpose(Q)\n",
        "  y = matrix_vector_product(b, Q1)\n",
        "  x = backward_substitution(R, y)\n",
        "  return x\n",
        "\n",
        "def backward_substitution(R, y):\n",
        "  n = len(y)\n",
        "  x = np.zeros(shape=(n, 1))\n",
        "  x[n-1] = y[n-1]/R[n-1,n-1]\n",
        "  for i in range(n-2, -1, -1):\n",
        "    sum = 0\n",
        "    for j in range(i, n):\n",
        "      sum = sum + R[i,j]*x[j]\n",
        "    x[i] = (y[i] - sum)/R[i,i]\n",
        "  return x"
      ],
      "metadata": {
        "id": "TYMj791xFOBN"
      },
      "execution_count": null,
      "outputs": []
    },
    {
      "cell_type": "markdown",
      "metadata": {
        "id": "SsQLT38gVbn_"
      },
      "source": [
        "# **Results**"
      ]
    },
    {
      "cell_type": "markdown",
      "metadata": {
        "id": "RLwlnOzuV-Cd"
      },
      "source": [
        "The tests of each function is made below. All tests made should pass and are further described in the code below."
      ]
    },
    {
      "cell_type": "code",
      "source": [
        "# Tests 1: sparce matrix-vector product \n",
        "val1 = np.array([3, 2, 2, 2, 1, 1, 3, 2, 1, 2, 3])\n",
        "col_idx1 = np.array([1, 2, 4, 2, 3, 3, 3, 4, 5, 5, 6])\n",
        "row_ptr1 = np.array([1, 4, 6, 7, 9, 10, 12])\n",
        "x1 = np.array([1, 2, 3, 4, 5, 6])\n",
        "\n",
        "val2 = np.array([1, 2, 1, 2, 3, 1 , 2])\n",
        "col_idx2 = np.array([0, 2, 0, 2, 3, 1, 3])\n",
        "row_ptr2 = np.array([0, 2, 2, 5, 7])\n",
        "x2 = np.array([1, 2, 8, 3])\n",
        "\n",
        "# test and verify accuracy against dense matrix-vector product\n",
        "assert (sparse_matrix_vector_product(x1, val1, col_idx1, row_ptr1)).all() == (test_smvp(x1, val1, col_idx1, row_ptr1)).all()\n",
        "assert (sparse_matrix_vector_product(x2, val2, col_idx2, row_ptr2)).all() == (test_smvp(x2, val2, col_idx2, row_ptr2)).all()\n",
        "\n",
        "\n",
        "# Tests 2: QR factorization\n",
        "A = np.array([[2, -1], [-1, 2]])\n",
        "Q, R = QR_fac(A)\n",
        "I = np.identity(shape(Q)[0])\n",
        "\n",
        "A1 = np.array([[2, 3, 4], [5, 0, 1], [6, 4, 3]])\n",
        "Q1, R1 = QR_fac(A1)\n",
        "I1 = np.identity(shape(Q1)[0])\n",
        "\n",
        "assert (matrix_matrix_product(Q, R)).all() == A.all() # test QR = A\n",
        "assert np.allclose(R, np.triu(R)) == True             # test if R is upper triangular\n",
        "assert frobenius_norms(np.transpose(Q), Q, I) == 0    # test ||Q^TQ-I||_F\n",
        "assert frobenius_norms(Q, R, A) == 0                  # test ||QR-A||_F\n",
        "\n",
        "assert (matrix_matrix_product(Q1, R1)).all() == A1.all() # test QR = A\n",
        "assert np.allclose(R1, np.triu(R1)) == True              # test if R is upper triangular\n",
        "assert frobenius_norms(np.transpose(Q1), Q1, I1) == 0    # test ||Q^TQ-I||_F\n",
        "assert frobenius_norms(Q1, R1, A1) == 0                  # test ||QR-A||_F\n",
        "\n",
        "\n",
        "\n",
        "# Tests 3: direct solver Ax=b, residual || Ax-b ||, and || x-y || \n",
        "A2 = np.array([[5, 6, 33, 1], \n",
        "              [34, 2, 1, 0], \n",
        "              [0, 21, 5, 67], \n",
        "              [0, 7, 4, 3]])\n",
        "b2 = np.array([1, 6, 0, 99])\n",
        "real_x2 = np.array([-327395/406086, 7391219/406086, -607246/203043, -2226017/406086])\n",
        "x2 = direct_solver(A2, b2)\n",
        "\n",
        "A3 = np.array([[1, -1], [0, 2]])\n",
        "b3 = np.array([1, 1])\n",
        "real_x3 = np.array([1.5, 0.5])\n",
        "x3 = direct_solver(A3, b3)\n",
        "\n",
        "# residual ||Ax - b||, lower than 10^(-10) is OK\n",
        "assert euclidian_dist(matrix_vector_product(x2, A2), b2) <= 10**(-10) \n",
        "assert euclidian_dist(matrix_vector_product(x3, A3), b3) <= 10**(-10)\n",
        "\n",
        "# ||x - y|| , lower than 10^(-10) is OK\n",
        "assert euclidian_dist(real_x3, x3) <= 10**(-10)                     \n",
        "assert euclidian_dist(real_x2, x2) <= 10**(-10) \n"
      ],
      "metadata": {
        "id": "BFz6MEnp5MZ1"
      },
      "execution_count": null,
      "outputs": []
    },
    {
      "cell_type": "markdown",
      "metadata": {
        "id": "_4GLBv0zWr7m"
      },
      "source": [
        "# **Discussion**"
      ]
    },
    {
      "cell_type": "markdown",
      "metadata": {
        "id": "6bcsDSoRXHZe"
      },
      "source": [
        "I thought it was interesting to see how the QR factorization can be used to solve equations on the form of Ax=b.  "
      ]
    }
  ]
}