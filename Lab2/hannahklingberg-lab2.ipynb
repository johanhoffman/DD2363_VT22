{
  "nbformat": 4,
  "nbformat_minor": 0,
  "metadata": {
    "colab": {
      "name": "Kopia av template-report-lab-X.ipynb",
      "provenance": [],
      "include_colab_link": true
    },
    "kernelspec": {
      "name": "python3",
      "display_name": "Python 3"
    }
  },
  "cells": [
    {
      "cell_type": "markdown",
      "metadata": {
        "id": "view-in-github",
        "colab_type": "text"
      },
      "source": [
        "<a href=\"https://colab.research.google.com/github/johanhoffman/DD2363_VT22/blob/hannahklingberg-lab2/Lab2/hannahklingberg-lab2.ipynb\" target=\"_parent\"><img src=\"https://colab.research.google.com/assets/colab-badge.svg\" alt=\"Open In Colab\"/></a>"
      ]
    },
    {
      "cell_type": "markdown",
      "metadata": {
        "id": "6RgtXlfYO_i7"
      },
      "source": [
        "# **Lab 2: Matrix Factorization**\n",
        "**Hanna Klingberg**"
      ]
    },
    {
      "cell_type": "markdown",
      "metadata": {
        "id": "9x_J5FVuPzbm"
      },
      "source": [
        "# **Abstract**"
      ]
    },
    {
      "cell_type": "markdown",
      "metadata": {
        "id": "6UFTSzW7P8kL"
      },
      "source": [
        "\n",
        "\n",
        "```\n",
        "# This is formatted as code\n",
        "```\n",
        "\n",
        "Short summary of the lab report. State the objectives, methods used, main results and conlusions. "
      ]
    },
    {
      "cell_type": "markdown",
      "metadata": {
        "id": "yJipbXtnjrJZ"
      },
      "source": [
        ""
      ]
    },
    {
      "cell_type": "markdown",
      "metadata": {
        "id": "OkT8J7uOWpT3"
      },
      "source": [
        "#**About the code**"
      ]
    },
    {
      "cell_type": "markdown",
      "metadata": {
        "id": "HmB2noTr1Oyo"
      },
      "source": [
        "A short statement on who is the author of the file, and if the code is distributed under a certain license. "
      ]
    },
    {
      "cell_type": "code",
      "metadata": {
        "id": "Pdll1Xc9WP0e",
        "colab": {
          "base_uri": "https://localhost:8080/",
          "height": 36
        },
        "outputId": "d6eeb12c-62e8-4432-9bb5-7b1f2c491e27"
      },
      "source": [
        "\"\"\"This program is a template for lab reports in the course\"\"\"\n",
        "\"\"\"DD2363 Methods in Scientific Computing, \"\"\"\n",
        "\"\"\"KTH Royal Institute of Technology, Stockholm, Sweden.\"\"\"\n",
        "\n",
        "# Copyright (C) 2020 Johan Hoffman (jhoffman@kth.se)\n",
        "\n",
        "# This file is part of the course DD2365 Advanced Computation in Fluid Mechanics\n",
        "# KTH Royal Institute of Technology, Stockholm, Sweden\n",
        "#\n",
        "# This is free software: you can redistribute it and/or modify\n",
        "# it under the terms of the GNU Lesser General Public License as published by\n",
        "# the Free Software Foundation, either version 3 of the License, or\n",
        "# (at your option) any later version.\n",
        "\n",
        "# This template is maintained by Johan Hoffman\n",
        "# Please report problems to jhoffman@kth.se"
      ],
      "execution_count": 41,
      "outputs": [
        {
          "output_type": "execute_result",
          "data": {
            "application/vnd.google.colaboratory.intrinsic+json": {
              "type": "string"
            },
            "text/plain": [
              "'KTH Royal Institute of Technology, Stockholm, Sweden.'"
            ]
          },
          "metadata": {},
          "execution_count": 41
        }
      ]
    },
    {
      "cell_type": "markdown",
      "metadata": {
        "id": "28xLGz8JX3Hh"
      },
      "source": [
        "# **Set up environment**"
      ]
    },
    {
      "cell_type": "markdown",
      "metadata": {
        "id": "D2PYNusD08Wa"
      },
      "source": [
        "To have access to the neccessary modules you have to run this cell. If you need additional modules, this is where you add them. "
      ]
    },
    {
      "cell_type": "code",
      "metadata": {
        "id": "Xw7VlErAX7NS"
      },
      "source": [
        "# Load neccessary modules.\n",
        "from google.colab import files\n",
        "\n",
        "import time\n",
        "import numpy as np\n",
        "import math\n",
        "\n",
        "\n",
        "#try:\n",
        "#    from dolfin import *; from mshr import *\n",
        "#except ImportError as e:\n",
        "#    !apt-get install -y -qq software-properties-common \n",
        "#    !add-apt-repository -y ppa:fenics-packages/fenics\n",
        "#    !apt-get update -qq\n",
        "#    !apt install -y --no-install-recommends fenics\n",
        "#    from dolfin import *; from mshr import *\n",
        "    \n",
        "#import dolfin.common.plotting as fenicsplot\n",
        "\n",
        "from matplotlib import pyplot as plt\n",
        "from matplotlib import tri\n",
        "from matplotlib import axes\n",
        "from mpl_toolkits.mplot3d import Axes3D"
      ],
      "execution_count": 42,
      "outputs": []
    },
    {
      "cell_type": "markdown",
      "metadata": {
        "id": "gnO3lhAigLev"
      },
      "source": [
        "# **Introduction**"
      ]
    },
    {
      "cell_type": "markdown",
      "metadata": {
        "id": "l5zMzgPlRAF6"
      },
      "source": [
        "This lab explores methods for matrix factorization and multiplication. By factorizing a matrix into other matrices of types that are easier to work with, a number of matrix calculations become easier to do. In this lab, QR-factorization is done and used to compute a directt solution of a linear equation system Ax=b. A method for multiplying with sparse matrices is also calculated. \n",
        "\n"
      ]
    },
    {
      "cell_type": "markdown",
      "metadata": {
        "id": "jOQvukXZq5U5"
      },
      "source": [
        "# **Method**"
      ]
    },
    {
      "cell_type": "markdown",
      "metadata": {
        "id": "zF4iBj5VURZx"
      },
      "source": [
        "The functions, how they work and how they are tested is described in their own section. "
      ]
    },
    {
      "cell_type": "markdown",
      "source": [
        "# **Sparse matrix-vector product**\n",
        "A sparse matrix is a matrix A $\\in R^{nxn}$ where most of its components are zero, more specifically if $\\mathcal{O}(n)$ of its components are non-zero. A sparse matrix can be represented in more space-efficient ways, such as the Compressed Row Storage format (CRS). This format has three components:\n",
        "\n",
        "  $\\circ \\textit{val}$, array containing the nonzero values of the matrix \\\\\n",
        "  $\\circ \\textit{col_idx}$, array containing the column indices of the items in $\\textit{val}$ \\\\\n",
        "  $\\circ \\textit{row_ptr}$, array indicating the start points of each row and ends with the number of non-zero components + 1\n",
        "\n",
        "(Reference: Chapter 5, Course Book)\n",
        "\n",
        "The function takes a vector x, and the CRS representation of matrix A, given with the arrays val, col_idx and row_ptr. The algorithm used is the one presented in Algorithm 5.9 in the course book, but adapted to the way Python handles indices. \n",
        "\n",
        "The tests compare the computed sparse matrix-vector product to the actual inner product of the matrix and vector (calculated by hand).  \n",
        "\n"
      ],
      "metadata": {
        "id": "-Dz_nyRWEyS1"
      }
    },
    {
      "cell_type": "code",
      "source": [
        "#sparse matrix-vector product\n",
        "#implemented from pseudo code from Algorithm 5.9 (course book chapter 5.8)\n",
        "def sparse_mat_vec_prod(x, val, col_idx, row_ptr):\n",
        "  b = np.zeros(len(x))\n",
        "  for i in range(len(x)):\n",
        "    for j in range(row_ptr[i], row_ptr[i+1]):\n",
        "      b[i] += val[j-1]*x[col_idx[j-1]-1]\n",
        "  return b\n"
      ],
      "metadata": {
        "id": "_tPGkMiTE6Oy"
      },
      "execution_count": 43,
      "outputs": []
    },
    {
      "cell_type": "code",
      "source": [
        "def test_mat_vec_prod():\n",
        "  passed = False\n",
        "  val1 = np.array([3,2,2,2,1,1,3,2,1,2,3])\n",
        "  col_idx1 = np.array([1,2,4,2,3,3,3,4,5,5,6])\n",
        "  row_ptr1 = np.array([1,4,6,7,9,10,12])\n",
        "  x1 = np.array([1,2,3,0,1,2])\n",
        "  result1 = np.array([7,7,3,9,1,8]) #result calculated by hand\n",
        "  test1 = sparse_mat_vec_prod(x1,val1,col_idx1,row_ptr1)\n",
        "  if np.array_equal(test1,result1):\n",
        "    passed = True\n",
        "  else:\n",
        "    return False\n",
        "  return passed \n",
        "  \n"
      ],
      "metadata": {
        "id": "KI6H6bxeNB_D"
      },
      "execution_count": 44,
      "outputs": []
    },
    {
      "cell_type": "markdown",
      "source": [
        "# **QR factorization**\n",
        "\n",
        "QR factorization is the factorization of a matrix $A \\in R^{nxn} $ into two matrices Q and R, such that A = QR where Q is an orthogonal matrix and R is an upper triangular matrix. Doing this can facilitate solving systems of linear equations of the form Ax=b, since finding the inverse to Q and R is easier than finding the inverse to A. \n",
        "\n",
        "The algorithm inmplemented in this function is the modified Gram-Schmidt iteration, where A is factorized into Q and R by multiplicating by an upper triangular matrix $R_k$ from the right side such that\n",
        "\n",
        "Q = $AR_1R_2...R_n$\n",
        "and then \n",
        "$R^{-1} = R_1R_2...R_n$, $(R^{-1})^{-1}$, which leads to A = QR\n",
        "(Reference: Chapter 5.3 in Course Book)\n",
        "The function is implemented after the pseudo-code given in Algorithm 5.3. It takes a matrix A as input. Q and R are initiated as zero matrices with the same shape as A, and as we iterate through A they are filled with the correct values. Q and R are returned. \n",
        "\n",
        "The tests assert that R is upper triangular and that the Frobenius norms of $Q^TQ-I$ and $QR-A$ are 0. The former asserts that Q is an orthogonal matrix, which gives that $Q^TQ = I$ and thus $||Q^TQ-I|| = 0$. The latter asserts that the QR factorization of A is correct. If it is, then $||QR-A||$ is 0.  "
      ],
      "metadata": {
        "id": "6ZbwUng3E8rG"
      }
    },
    {
      "cell_type": "code",
      "source": [
        "#QR factorization\n",
        "def QR_factorization(A):\n",
        "  Q = np.zeros((A.shape))\n",
        "  R = np.zeros((A.shape))\n",
        "  for j in range(len(A)):\n",
        "    v = np.array([x[j] for x in A])\n",
        "    for i in range(0,j):\n",
        "      Q_col = np.array([y[i] for y in Q])\n",
        "      R[i][j] = np.dot(Q_col, v)\n",
        "      v = v - R[i,j]*Q_col\n",
        "    R[j][j] = np.linalg.norm(v)\n",
        "    Q[:,j] = v/R[j][j]\n",
        "  return Q, R"
      ],
      "metadata": {
        "id": "hgotihihFAN0"
      },
      "execution_count": 45,
      "outputs": []
    },
    {
      "cell_type": "code",
      "source": [
        "def test_QR():\n",
        "  passed = False\n",
        "  Atest = np.array([[2,-1],[-1,2]])\n",
        "  Qtest1, Rtest1 = QR_factorization(Atest)\n",
        "  Qresult =(1/math.sqrt(5)) * np.array([[2,1], [-1,2]])\n",
        "  Rresult = (1/math.sqrt(5)) * np.array([[5,-4],[0,3]])\n",
        "  #is R upper triangular?\n",
        "  triangular = False\n",
        "  for i in range(1,len(Rtest1)):\n",
        "    for j in range(i):\n",
        "      if Rtest1[i][j] == 0:\n",
        "        triangular = True\n",
        "      else:\n",
        "        triangular = False\n",
        "        break\n",
        "    #Frobenius Norm\n",
        "    #QTQ - I\n",
        "  QTQ = np.matmul(np.transpose(Qtest1), Qtest1)\n",
        "  QTQI = QTQ - np.identity(len(QTQ))\n",
        "  QR = np.matmul(Qtest1, Rtest1)\n",
        "  #print(QR)\n",
        "  QRA = QR - Atest\n",
        "  frobeniusQ = 0\n",
        "  frobeniusA = 0\n",
        "  #print(QTQI)\n",
        "  for i in range(len(QTQI)):\n",
        "    for j in range(len(QTQI)):\n",
        "      frobeniusQ += (QTQI[i][j])**2\n",
        "      frobeniusA += (QRA[i][j])**2\n",
        "  frobeniusQ = math.sqrt(frobeniusQ)\n",
        "  frobeniusA = math.sqrt(frobeniusA)\n",
        "  passed = np.isclose(frobeniusQ, 0, 10**-10)\n",
        "  if not passed:\n",
        "    return False\n",
        "  passed = np.isclose(frobeniusA, 0, 10**-10)\n",
        "  if not passed:\n",
        "    return False\n",
        "  if not triangular:\n",
        "    return False\n",
        "  return passed\n",
        "\n",
        "test_QR()"
      ],
      "metadata": {
        "id": "M935MOTHZMCG",
        "colab": {
          "base_uri": "https://localhost:8080/"
        },
        "outputId": "af2926c5-bf82-454e-ad3a-a7e477f045ba"
      },
      "execution_count": 46,
      "outputs": [
        {
          "output_type": "execute_result",
          "data": {
            "text/plain": [
              "True"
            ]
          },
          "metadata": {},
          "execution_count": 46
        }
      ]
    },
    {
      "cell_type": "markdown",
      "source": [
        "# **Direct Solver Ax=b**\n",
        "For solving the matrix equation $Ax=b$, where x is unknown, one could express the solution as $x = A^{-1}b$. But the inverse of A can be hard to calculate, which is why it might be simpler to factorize $A=QR$ as done above, because the inverses of an orthogonal matrix and upper triangular matrix is easier to construct. \n",
        "\n",
        "The inverse of Q is its transpose, $Q^{-1} = Q^T$, but the inverse of R has to be calculated using the backwards substitution algorithm, given as pseudocode in Algorithm 5.1. This algorithm takes an upper triangular matrix U and a vector b as input, such that Ux = b, and returns the solution vector x. \n",
        "\n",
        "For constructing the solver for Ax = b, I first factorize A = QR.\n",
        "Then since:\n",
        "$QRx = b \\\\ Rx = Q^{-1}b $\n",
        "\n",
        "We can use $Q^{-1}b$ as the new b in backwards substitution, and solve for x.  \n",
        "\n",
        "The code is implemented from the pseudocode given in algorithm 5.2, and the theory is from chapter 5.2 in the course book. \n",
        "\n",
        "The tests are done by comparing the residual from both $||Ax-b||$ and $||x-x_2||$, where $x_2$ is the manufactured solution and $x$ is the solution calculated by the algorithm. We assert that they are equal up to $10^{-10}$ decimal point. \n"
      ],
      "metadata": {
        "id": "piYqXR5wZ0kg"
      }
    },
    {
      "cell_type": "code",
      "source": [
        "def backwards_substitution(U,b):\n",
        "  n = b.size\n",
        "  x = np.zeros(n)\n",
        "  x[n-1] = b[n-1] / U[n-1][n-1]\n",
        "  for i in range(n-2, -1, -1):\n",
        "    sum = 0\n",
        "    for j in range(i+1, n):\n",
        "      sum += U[i][j]*x[j]\n",
        "    x[i] = (b[i]-sum)/U[i][i]\n",
        "  return x "
      ],
      "metadata": {
        "id": "eC94NWrdvnOn"
      },
      "execution_count": 47,
      "outputs": []
    },
    {
      "cell_type": "code",
      "source": [
        "#Direct solver\n",
        "def direct_solver(A,b):\n",
        "  Q1, R1 = QR_factorization(A)\n",
        "  x = backwards_substitution(R1, np.dot(np.transpose(Q1), b))\n",
        "  return x\n"
      ],
      "metadata": {
        "id": "cHBxrrD2FHHD"
      },
      "execution_count": 48,
      "outputs": []
    },
    {
      "cell_type": "code",
      "source": [
        "def test_direct_solver():\n",
        "  passed = False\n",
        "  A = np.array([[1,2],[3,4]])\n",
        "  x = np.array([1,2])\n",
        "  b = np.dot(A,x)\n",
        "  x2 = direct_solver(A,b)\n",
        "  residual1 = np.linalg.norm(np.dot(A,x2)-b) # ||Ax-b||\n",
        "  residual2 = np.linalg.norm(x-x2) # ||x-y||\n",
        "  passed = np.isclose(residual1, 0, 10**-10) #are residual close up to 10^-10 decimal point?\n",
        "  if not passed:\n",
        "    return False\n",
        "  passed = np.isclose(residual2, 0, 10**-10)\n",
        "  return passed\n",
        "\n",
        "test_direct_solver()"
      ],
      "metadata": {
        "colab": {
          "base_uri": "https://localhost:8080/"
        },
        "id": "VmqHVdfCx7uN",
        "outputId": "c1921701-237a-4ab4-dd68-9d3f5cf9560b"
      },
      "execution_count": 49,
      "outputs": [
        {
          "output_type": "execute_result",
          "data": {
            "text/plain": [
              "True"
            ]
          },
          "metadata": {},
          "execution_count": 49
        }
      ]
    },
    {
      "cell_type": "markdown",
      "metadata": {
        "id": "SsQLT38gVbn_"
      },
      "source": [
        "# **Results**"
      ]
    },
    {
      "cell_type": "markdown",
      "metadata": {
        "id": "RLwlnOzuV-Cd"
      },
      "source": [
        "The tests for each function is described in each function definition. If any of the described test criteria are not fulfilled, the test function will return False. All functions passed their tests. "
      ]
    },
    {
      "cell_type": "code",
      "source": [
        "def test_functions():\n",
        "  passed = 0\n",
        "  sparse = test_mat_vec_prod()\n",
        "  if sparse:\n",
        "    passed +=1\n",
        "    print(\"Sparse matrix-vector product passed the test\")\n",
        "  QR = test_QR()\n",
        "  if QR: \n",
        "    passed +=1\n",
        "    print(\"QR factorization passed the test\")\n",
        "  solver = test_direct_solver()\n",
        "  if solver:\n",
        "    passed +=1\n",
        "    print(\"Direct solver passed the test\")\n",
        "  print(\"%d of 3 functions passed their tests\" %(passed))\n",
        "\n",
        "test_functions()"
      ],
      "metadata": {
        "colab": {
          "base_uri": "https://localhost:8080/"
        },
        "id": "oXQyLiE7k3Gr",
        "outputId": "b411256e-d64b-431c-da40-13560389028a"
      },
      "execution_count": 50,
      "outputs": [
        {
          "output_type": "stream",
          "name": "stdout",
          "text": [
            "Sparse matrix-vector product passed the test\n",
            "QR factorization passed the test\n",
            "Direct solver passed the test\n",
            "3 of 3 functions passed their tests\n"
          ]
        }
      ]
    },
    {
      "cell_type": "markdown",
      "metadata": {
        "id": "_4GLBv0zWr7m"
      },
      "source": [
        "# **Discussion**"
      ]
    },
    {
      "cell_type": "markdown",
      "metadata": {
        "id": "6bcsDSoRXHZe"
      },
      "source": [
        "The functions all passed their tests. The tests are done with small matrices of 2x2 and 3x3 sizes. If larger matrices were to be used, the sparse-matrix vector product could be used to facilitate some of the calculations instead of using np.dot and similar functions. Some operations such as inner product and norm are calculated using the numpy library, since they are not central to the lab. I have not included tests that verify that the input of the functions is correct, since it was not specified to do so in the problem description. "
      ]
    }
  ]
}