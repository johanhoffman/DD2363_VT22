{
  "nbformat": 4,
  "nbformat_minor": 0,
  "metadata": {
    "colab": {
      "name": "PeterTKovacs_lab2.ipynb",
      "provenance": [],
      "collapsed_sections": [],
      "include_colab_link": true
    },
    "kernelspec": {
      "name": "python3",
      "display_name": "Python 3"
    }
  },
  "cells": [
    {
      "cell_type": "markdown",
      "metadata": {
        "id": "view-in-github",
        "colab_type": "text"
      },
      "source": [
        "<a href=\"https://colab.research.google.com/github/johanhoffman/DD2363_VT22/blob/PeterTKovacs_lab2/Lab2/PeterTKovacs_lab2.ipynb\" target=\"_parent\"><img src=\"https://colab.research.google.com/assets/colab-badge.svg\" alt=\"Open In Colab\"/></a>"
      ]
    },
    {
      "cell_type": "markdown",
      "metadata": {
        "id": "6RgtXlfYO_i7"
      },
      "source": [
        "# **Lab 2: matrix factorization**\n",
        "**Péter Kovács**"
      ]
    },
    {
      "cell_type": "markdown",
      "metadata": {
        "id": "9x_J5FVuPzbm"
      },
      "source": [
        "# **Abstract**"
      ]
    },
    {
      "cell_type": "markdown",
      "metadata": {
        "id": "yJipbXtnjrJZ"
      },
      "source": [
        "Implemented problems 1-3 and 5 from the homework assignment which are pretty straightforward after reading the lecture slides, so I will keep textual explanation to minimum"
      ]
    },
    {
      "cell_type": "markdown",
      "metadata": {
        "id": "OkT8J7uOWpT3"
      },
      "source": [
        "#**About the code**"
      ]
    },
    {
      "cell_type": "markdown",
      "metadata": {
        "id": "HmB2noTr1Oyo"
      },
      "source": [
        "A short statement on who is the author of the file, and if the code is distributed under a certain license. "
      ]
    },
    {
      "cell_type": "code",
      "metadata": {
        "id": "Pdll1Xc9WP0e",
        "colab": {
          "base_uri": "https://localhost:8080/",
          "height": 35
        },
        "outputId": "9874b053-be8f-43fc-91b2-b4cb4ec75217"
      },
      "source": [
        "\"\"\"This program is a template for lab reports in the course\"\"\"\n",
        "\"\"\"DD2363 Methods in Scientific Computing, \"\"\"\n",
        "\"\"\"KTH Royal Institute of Technology, Stockholm, Sweden.\"\"\"\n",
        "\n",
        "# Copyright (C) 2022 Péter Kovács (ptkovacs@kth.se)\n",
        "\n",
        "# This file is part of the course DD2363 Methods in Scientific Computing\n",
        "# KTH Royal Institute of Technology, Stockholm, Sweden\n",
        "#\n",
        "# This is free software: you can redistribute it and/or modify\n",
        "# it under the terms of the GNU Lesser General Public License as published by\n",
        "# the Free Software Foundation, either version 3 of the License, or\n",
        "# (at your option) any later version.\n",
        "\n",
        "# This template is maintained by Johan Hoffman\n",
        "# Please report problems to jhoffman@kth.se"
      ],
      "execution_count": 38,
      "outputs": [
        {
          "output_type": "execute_result",
          "data": {
            "application/vnd.google.colaboratory.intrinsic+json": {
              "type": "string"
            },
            "text/plain": [
              "'KTH Royal Institute of Technology, Stockholm, Sweden.'"
            ]
          },
          "metadata": {},
          "execution_count": 38
        }
      ]
    },
    {
      "cell_type": "markdown",
      "metadata": {
        "id": "28xLGz8JX3Hh"
      },
      "source": [
        "# **Set up environment**"
      ]
    },
    {
      "cell_type": "code",
      "metadata": {
        "id": "Xw7VlErAX7NS"
      },
      "source": [
        "# Load neccessary modules.\n",
        "from google.colab import files\n",
        "import numpy as np\n"
      ],
      "execution_count": 39,
      "outputs": []
    },
    {
      "cell_type": "markdown",
      "metadata": {
        "id": "gnO3lhAigLev"
      },
      "source": [
        "# **Introduction**"
      ]
    },
    {
      "cell_type": "markdown",
      "metadata": {
        "id": "l5zMzgPlRAF6"
      },
      "source": [
        "In this submission, I solve some standard problems in linear algebra. Since it is just implementing well-known concepts, I will keep explanatory text to the minimal necessary amount.\n",
        "\n",
        "In most cases, I will rely on the numpy package for python, which is just designed to work with tensors of any dimension (vectors, matrices, etc.)\n",
        "\n",
        "\n"
      ]
    },
    {
      "cell_type": "markdown",
      "metadata": {
        "id": "jOQvukXZq5U5"
      },
      "source": [
        "# **Method**"
      ]
    },
    {
      "cell_type": "markdown",
      "metadata": {
        "id": "zF4iBj5VURZx"
      },
      "source": [
        "My solution will be organized according to the problem statements. I felt that the testing should be placed right after the code for different problems so I organized my submission accordingly."
      ]
    },
    {
      "cell_type": "markdown",
      "source": [
        "### 1) sparse matix-vector product with CRS notation\n",
        "\n",
        "in this part, I implement the CRS routine covered in lecture.\n",
        "\n",
        "The method is pretty easy on the conceptual level and we discussed it in detail in lecture so I feel justified not to describe it in plain text. Variable names speak for themselves"
      ],
      "metadata": {
        "id": "qaCelHGGbQv8"
      }
    },
    {
      "cell_type": "code",
      "source": [
        "\n",
        "def sparse_product(A_entries,A_column_indices,A_row_pointers,b):\n",
        "  \"\"\"\n",
        "  here, A is supposed to be given in a CRS way (with three arrays), b as an oridinary vector, all given as numpy arrays\n",
        "\n",
        "  to follow mathematical convention, indexing starts from 1!\n",
        "  \"\"\"\n",
        "\n",
        "  r=A_row_pointers.shape[0]-1 # number of rows\n",
        "\n",
        "  x=np.zeros(r,float)\n",
        "\n",
        "  for i in range(r):\n",
        "    for j in range(A_row_pointers[i]-1,A_row_pointers[i+1]-1):\n",
        "      x[i]+=A_entries[j]*b[A_column_indices[j]-1]\n",
        "\n",
        "  return x\n"
      ],
      "metadata": {
        "id": "unOAqdJ_bQhG"
      },
      "execution_count": 40,
      "outputs": []
    },
    {
      "cell_type": "code",
      "source": [
        "def to_dense(A_entries,A_column_indices,A_row_pointers,col):\n",
        "  '''\n",
        "  auxiliary function to transform CRS to dense representation\n",
        "  '''\n",
        "  r=A_row_pointers.shape[0]-1 # number of rows\n",
        "  c=col # CRS does not define the number of columns uniquely (zero padding possible)\n",
        "\n",
        "  A_dense=np.zeros((r,c),float)\n",
        "\n",
        "  for i in range(r):\n",
        "    for j in range(A_row_pointers[i]-1,A_row_pointers[i+1]-1):\n",
        "      A_dense[i,A_column_indices[j]-1]=A_entries[j]\n",
        "\n",
        "  return A_dense\n",
        "\n",
        "\n"
      ],
      "metadata": {
        "id": "zHqKCouBe6kt"
      },
      "execution_count": 41,
      "outputs": []
    },
    {
      "cell_type": "code",
      "source": [
        "A_entries=np.array([1.,2.,3.,4.,5.,1.,9.])\n",
        "A_column_indices=np.array([1,4,1,6,2,5,3])\n",
        "A_row_pointers=np.array([1,3,4,4,5,8]) # note that we have an empty column\n",
        "b=np.array([1.,-3.,0.,0.,0.,9.])"
      ],
      "metadata": {
        "id": "G8XpqNTxgQb_"
      },
      "execution_count": 42,
      "outputs": []
    },
    {
      "cell_type": "code",
      "source": [
        "sparse_product(A_entries,A_column_indices,A_row_pointers,b)"
      ],
      "metadata": {
        "id": "QNc5sN0qg5eY",
        "outputId": "e4bd6fa9-4193-4b68-a872-40aa5d7aedc6",
        "colab": {
          "base_uri": "https://localhost:8080/"
        }
      },
      "execution_count": 43,
      "outputs": [
        {
          "output_type": "execute_result",
          "data": {
            "text/plain": [
              "array([  1.,   3.,   0.,  36., -15.])"
            ]
          },
          "metadata": {},
          "execution_count": 43
        }
      ]
    },
    {
      "cell_type": "code",
      "source": [
        "A=to_dense(A_entries,A_column_indices,A_row_pointers,6)\n",
        "print(A)"
      ],
      "metadata": {
        "id": "vqlyb2QOhZ_v",
        "outputId": "53b09614-b4d4-4d55-b334-b1a62c655278",
        "colab": {
          "base_uri": "https://localhost:8080/"
        }
      },
      "execution_count": 44,
      "outputs": [
        {
          "output_type": "stream",
          "name": "stdout",
          "text": [
            "[[1. 0. 0. 2. 0. 0.]\n",
            " [3. 0. 0. 0. 0. 0.]\n",
            " [0. 0. 0. 0. 0. 0.]\n",
            " [0. 0. 0. 0. 0. 4.]\n",
            " [0. 5. 9. 0. 1. 0.]]\n"
          ]
        }
      ]
    },
    {
      "cell_type": "code",
      "source": [
        "A.dot(b)"
      ],
      "metadata": {
        "id": "nE8gRCr2hixV",
        "outputId": "23711d07-aa56-40ed-fe99-401bd92200ff",
        "colab": {
          "base_uri": "https://localhost:8080/"
        }
      },
      "execution_count": 45,
      "outputs": [
        {
          "output_type": "execute_result",
          "data": {
            "text/plain": [
              "array([  1.,   3.,   0.,  36., -15.])"
            ]
          },
          "metadata": {},
          "execution_count": 45
        }
      ]
    },
    {
      "cell_type": "markdown",
      "source": [
        "So verification against builtin functions is OK\n",
        "### 2) QR factorization with the Gram-Schmidt method\n",
        "\n",
        "in this problem, I decided to work with the Gram-Schmidt method, which is one of the numerous approaches we covered in lecture\n",
        "\n",
        "the main idea is to construct an orthonormal basis from the columns of the input matrix A such that $span(a_{*,1},a_{*,2},...,a_{*,i})=span(q_{*,1},q_{*,2},...,q_{*,i})$ in our usual notation. It follows then that the expansion coefficients of the column vectors above the new basis will follow an upper triangular pattern\n",
        "\n",
        "Picking up the notes' notaion, we will construct the $P_j$ projector as a product of projectors to the orthogonal complement of the basis vectors' associated 1D spaces."
      ],
      "metadata": {
        "id": "UWjkh0J_KDyK"
      }
    },
    {
      "cell_type": "code",
      "source": [
        "def next_basis_vector(a_j,P_j_1):\n",
        "  '''\n",
        "  computes the next basis vector from the latest projector and the next column of a \n",
        "\n",
        "  returns q_j and the new projector\n",
        "  '''\n",
        "\n",
        "  v_j=P_j_1.dot(a_j)\n",
        "\n",
        "  try:\n",
        "    q_j=v_j/np.linalg.norm(v_j)\n",
        "\n",
        "  except:\n",
        "    print('zero division')\n",
        "\n",
        "  return q_j,P_j_1.dot(np.eye(P_j_1.shape[0],P_j_1.shape[0],0,float)-np.outer(q_j,q_j)) # construct the new projector and return it"
      ],
      "metadata": {
        "id": "juP5znnPjnQe"
      },
      "execution_count": 46,
      "outputs": []
    },
    {
      "cell_type": "code",
      "source": [
        "def qr_gram_schmidt(A):\n",
        "  '''\n",
        "  input: A n by n matrix\n",
        "\n",
        "  OBS! we don't explicitly check for being non-singular since this would not really be a realistic event with floating point numbers\n",
        "  otherwise, we should update our protocol such that the leftover q_j shall be freely chosen to give an orthonormal system\n",
        "\n",
        "  '''\n",
        "\n",
        "  Q=np.zeros(A.shape,float)\n",
        "  R=np.zeros(A.shape,float)\n",
        "  P=np.eye(A.shape[0],A.shape[0],0,float)\n",
        "\n",
        "  for i in range(A.shape[0]):\n",
        "    Q[:,i],P=next_basis_vector(A[:,i],P)\n",
        "\n",
        "  R=Q.T.dot(A)\n",
        "\n",
        "  for i in range(A.shape[0]):\n",
        "    for j in range(i):\n",
        "      R[i,j]=0. # this is a nasty trick, I know, but makes life much easier and makes checking R being upper triangular redundant\n",
        "\n",
        "  return Q,R"
      ],
      "metadata": {
        "id": "ft2goLICmkUA"
      },
      "execution_count": 47,
      "outputs": []
    },
    {
      "cell_type": "code",
      "source": [
        "A=np.random.standard_normal((10,10))"
      ],
      "metadata": {
        "id": "S7kxrgdvqx9J"
      },
      "execution_count": 48,
      "outputs": []
    },
    {
      "cell_type": "code",
      "source": [
        "Q,R=qr_gram_schmidt(A)"
      ],
      "metadata": {
        "id": "-Jlf3IzFq6Z-"
      },
      "execution_count": 49,
      "outputs": []
    },
    {
      "cell_type": "code",
      "source": [
        "print('Frobenius norm of A: %f \\n Frobenius norm of A-QR: %f \\n Frobenius norm of Q: %f \\n Frobenius norm of QQ$^T$-I: %f'\n",
        "      % (np.linalg.norm(A,ord='fro'),\n",
        "         np.linalg.norm(A-Q.dot(R),ord='fro'),\n",
        "         np.linalg.norm(Q,ord='fro'),\n",
        "         np.linalg.norm(Q.dot(Q.T)-np.eye(A.shape[0],A.shape[0],0,float),ord='fro')))"
      ],
      "metadata": {
        "id": "Ee5-cXFhsJH_",
        "outputId": "b4aa7dfe-0596-4e71-85c1-5bc8bca61e8d",
        "colab": {
          "base_uri": "https://localhost:8080/"
        }
      },
      "execution_count": 50,
      "outputs": [
        {
          "output_type": "stream",
          "name": "stdout",
          "text": [
            "Frobenius norm of A: 10.139571 \n",
            " Frobenius norm of A-QR: 0.000000 \n",
            " Frobenius norm of Q: 3.162278 \n",
            " Frobenius norm of QQ$^T$-I: 0.000000\n"
          ]
        }
      ]
    },
    {
      "cell_type": "markdown",
      "source": [
        "We are just fine again\n",
        "\n",
        "### 3) direct solver for $Ax=b$\n",
        "\n",
        "we invert A by the QR machinery we just set up\n",
        "\n",
        "For convenience, we check with builtin functions if A is full rank or not"
      ],
      "metadata": {
        "id": "loPYEIh6Mt-u"
      }
    },
    {
      "cell_type": "code",
      "source": [
        "def direct_solver(A,b):\n",
        "  '''\n",
        "  direct solver for Ax=b, assuming that A,b are numpy arrays with matching size\n",
        "\n",
        "  if A ain't full rank, return error message. The rank is checked with numpy builtin, see docs for exact working\n",
        "  '''\n",
        "\n",
        "  n=b.shape[0]\n",
        "\n",
        "  if np.linalg.matrix_rank(A)<n:\n",
        "    print('singular matrix')\n",
        "    return -1\n",
        "\n",
        "  Q,R=qr_gram_schmidt(A)\n",
        "\n",
        "  # inverting Q is easy, for R, we use algorithm 5.2 (backward substitution) to solve Rx=Q^T b\n",
        "\n",
        "  return backward_substitution(R,Q.T.dot(b))\n",
        "\n"
      ],
      "metadata": {
        "id": "3XlntQ9KvXIG"
      },
      "execution_count": 51,
      "outputs": []
    },
    {
      "cell_type": "code",
      "source": [
        "def backward_substitution(U,b):\n",
        "  '''\n",
        "  implements backward substitution pseudocode (algorithm 5.2) for upper triangular matrices\n",
        "  '''\n",
        "\n",
        "  n=U.shape[0]\n",
        "  x=np.zeros(n,float)\n",
        "\n",
        "  x[n-1]=b[n-1]/U[n-1,n-1]\n",
        "\n",
        "  for i in range(n-1):\n",
        "    sum=0\n",
        "    for j in range(n-1-i,n):\n",
        "      sum+=U[n-2-i,j]*x[j]\n",
        "    x[n-2-i]=(b[n-2-i]-sum)/U[n-2-i,n-2-i]\n",
        "\n",
        "  return x"
      ],
      "metadata": {
        "id": "Q7S1p7vavxZP"
      },
      "execution_count": 52,
      "outputs": []
    },
    {
      "cell_type": "code",
      "source": [
        "A=np.random.standard_normal((10,10))\n",
        "b=np.random.standard_normal(10)"
      ],
      "metadata": {
        "id": "gTf0J0ULz0NJ"
      },
      "execution_count": 53,
      "outputs": []
    },
    {
      "cell_type": "code",
      "source": [
        "x=direct_solver(A,b)\n",
        "print(\n",
        "    'Ax-b norm: %f \\n x-y norm: %f' % (np.linalg.norm(A.dot(x)-b),np.linalg.norm(x-np.linalg.inv(A).dot(b)))\n",
        ")"
      ],
      "metadata": {
        "id": "JhrezTiK0PJ1",
        "outputId": "e744a150-ba6f-432d-8e73-3c901de5d87e",
        "colab": {
          "base_uri": "https://localhost:8080/"
        }
      },
      "execution_count": 54,
      "outputs": [
        {
          "output_type": "stream",
          "name": "stdout",
          "text": [
            "Ax-b norm: 0.000000 \n",
            " x-y norm: 0.000000\n"
          ]
        }
      ]
    },
    {
      "cell_type": "markdown",
      "source": [
        "We are fine again\n",
        "\n",
        "### 5) QR algorithm for eigenvalues\n",
        "\n",
        "Here we use the standard QR algorithm dicussed in lecture (algorithm 6.1) to approximate the eigenvalues and eigenvectors of a real, symmetric matrix A "
      ],
      "metadata": {
        "id": "tItUbf3MOP6P"
      }
    },
    {
      "cell_type": "code",
      "source": [
        "\n",
        "def qr_eival(A,n=100):\n",
        "  '''\n",
        "  algorithm that performs the QR routine on symmetric A and returns the matrix U with eigenvetors and array l with corresponding eigenvalues (both approximate)\n",
        "\n",
        "  the inner iteration is performed n times\n",
        "  '''\n",
        "\n",
        "  A_=np.array(A,copy=True)\n",
        "  U=np.eye(A.shape[0],A.shape[0],0,float)\n",
        "\n",
        "\n",
        "  for i in range(n):\n",
        "    Q,R=qr_gram_schmidt(A_)\n",
        "    A_=R.dot(Q)\n",
        "    U=U.dot(Q)\n",
        "\n",
        "  return U,np.array([A_[j,j] for j in range(A.shape[0])])\n"
      ],
      "metadata": {
        "id": "4q4sgnU548e6"
      },
      "execution_count": 24,
      "outputs": []
    },
    {
      "cell_type": "code",
      "source": [
        "I=np.eye(10,10,0,float)"
      ],
      "metadata": {
        "id": "fFgEzDV57XUM"
      },
      "execution_count": 27,
      "outputs": []
    },
    {
      "cell_type": "code",
      "source": [
        "A=np.random.standard_normal((10,10))\n",
        "S=A.dot(A.T)"
      ],
      "metadata": {
        "id": "rKOvAwzE60qD"
      },
      "execution_count": 32,
      "outputs": []
    },
    {
      "cell_type": "markdown",
      "source": [
        "we can see that our results are OK, with oncreasing iteration number, the precision also increases"
      ],
      "metadata": {
        "id": "2UDyZd0m8IhM"
      }
    },
    {
      "cell_type": "code",
      "source": [
        "U,l=qr_eival(S,100)"
      ],
      "metadata": {
        "id": "7RCDDe386w8T"
      },
      "execution_count": 33,
      "outputs": []
    },
    {
      "cell_type": "code",
      "source": [
        "for i in range(10):\n",
        "  print(np.linalg.det(S-l[i]*I))"
      ],
      "metadata": {
        "colab": {
          "base_uri": "https://localhost:8080/"
        },
        "id": "hM6I9_l27Nd5",
        "outputId": "a6df7e63-6cd5-4494-88a6-1d02c1e485b0"
      },
      "execution_count": 34,
      "outputs": [
        {
          "output_type": "stream",
          "name": "stdout",
          "text": [
            "-0.0012939949350018237\n",
            "0.09630334427441885\n",
            "-1.2565623492483307\n",
            "-1.0335075910868983\n",
            "-1.744405378776008e-05\n",
            "-1.566193712882744e-05\n",
            "9.45932619969221e-08\n",
            "1.2346683125765276e-08\n",
            "2.3404555457802962e-08\n",
            "1.0151069863874527e-06\n"
          ]
        }
      ]
    },
    {
      "cell_type": "code",
      "source": [
        "U,l=qr_eival(S,1000)"
      ],
      "metadata": {
        "id": "W30OVzO-8BLB"
      },
      "execution_count": 35,
      "outputs": []
    },
    {
      "cell_type": "code",
      "source": [
        "for i in range(10):\n",
        "  print(np.linalg.det(S-l[i]*I))"
      ],
      "metadata": {
        "colab": {
          "base_uri": "https://localhost:8080/"
        },
        "id": "-OwnLM3_8ERE",
        "outputId": "4a8c63df-7f40-4749-a193-de70e428885c"
      },
      "execution_count": 36,
      "outputs": [
        {
          "output_type": "stream",
          "name": "stdout",
          "text": [
            "-0.0012939949350018237\n",
            "2.743245202355759e-05\n",
            "-1.1165817888056388e-05\n",
            "-1.018319997819677e-06\n",
            "-6.002351158191196e-07\n",
            "-1.439826004998157e-07\n",
            "9.45932619969221e-08\n",
            "1.2346683125765276e-08\n",
            "2.3404555457802962e-08\n",
            "1.0151069863874527e-06\n"
          ]
        }
      ]
    },
    {
      "cell_type": "markdown",
      "source": [
        "testing eigenvectors: since the 'residual' norm is tiny, we can assure ourselves that the method indeed works"
      ],
      "metadata": {
        "id": "bZHEQ4JV8dn3"
      }
    },
    {
      "cell_type": "code",
      "source": [
        "for i in range(10):\n",
        "  print(np.linalg.norm(S.dot(U[:,i])-l[i]*U[:,i]))"
      ],
      "metadata": {
        "colab": {
          "base_uri": "https://localhost:8080/"
        },
        "id": "2wETOCag8fw0",
        "outputId": "af10ac43-8d10-43ce-8f6d-5dcb909e54f4"
      },
      "execution_count": 37,
      "outputs": [
        {
          "output_type": "stream",
          "name": "stdout",
          "text": [
            "5.109535366184423e-14\n",
            "6.514285039799014e-14\n",
            "1.3691242250970083e-13\n",
            "2.070379903241111e-14\n",
            "2.483011995083922e-14\n",
            "1.825663469143644e-14\n",
            "1.8811012470629483e-14\n",
            "3.311206726819265e-14\n",
            "6.496444208540889e-14\n",
            "2.5658787141431296e-13\n"
          ]
        }
      ]
    },
    {
      "cell_type": "markdown",
      "metadata": {
        "id": "SsQLT38gVbn_"
      },
      "source": [
        "\n",
        "# **Summary, discussion**"
      ]
    },
    {
      "cell_type": "markdown",
      "metadata": {
        "id": "RLwlnOzuV-Cd"
      },
      "source": [
        "To sum up, our methods just work as expected, which is kind of non-surprising for such basic tasks."
      ]
    }
  ]
}