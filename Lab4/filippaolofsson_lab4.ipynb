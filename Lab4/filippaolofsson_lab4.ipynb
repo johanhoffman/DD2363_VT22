{
  "nbformat": 4,
  "nbformat_minor": 0,
  "metadata": {
    "colab": {
      "name": "Kopia av template-report-lab-X.ipynb",
      "provenance": [],
      "include_colab_link": true
    },
    "kernelspec": {
      "name": "python3",
      "display_name": "Python 3"
    }
  },
  "cells": [
    {
      "cell_type": "markdown",
      "metadata": {
        "id": "view-in-github",
        "colab_type": "text"
      },
      "source": [
        "<a href=\"https://colab.research.google.com/github/johanhoffman/DD2363_VT22/blob/filippaolofsson-lab4/Lab4/filippaolofsson_lab4.ipynb\" target=\"_parent\"><img src=\"https://colab.research.google.com/assets/colab-badge.svg\" alt=\"Open In Colab\"/></a>"
      ]
    },
    {
      "cell_type": "markdown",
      "metadata": {
        "id": "6RgtXlfYO_i7"
      },
      "source": [
        "# **Lab 4: Approximation**\n",
        "**Filippa Olofsson**"
      ]
    },
    {
      "cell_type": "markdown",
      "metadata": {
        "id": "9x_J5FVuPzbm"
      },
      "source": [
        "# **Abstract**"
      ]
    },
    {
      "cell_type": "markdown",
      "metadata": {
        "id": "yJipbXtnjrJZ"
      },
      "source": [
        "This lab consists of an implementation of an algorithm that approximates a function f. The algorithm approximates the function f through L2 projection to point wise linear approximation over a 1D mesh. The accuracy of the algorithm was tested by plotting the function f against the approximated function. "
      ]
    },
    {
      "cell_type": "markdown",
      "metadata": {
        "id": "28xLGz8JX3Hh"
      },
      "source": [
        "# **Set up environment**"
      ]
    },
    {
      "cell_type": "markdown",
      "metadata": {
        "id": "D2PYNusD08Wa"
      },
      "source": [
        "To have access to the neccessary modules you have to run this cell. If you need additional modules, this is where you add them. "
      ]
    },
    {
      "cell_type": "code",
      "metadata": {
        "id": "Xw7VlErAX7NS"
      },
      "source": [
        "# Load neccessary modules.\n",
        "from google.colab import files\n",
        "\n",
        "import time\n",
        "import numpy as np\n",
        "from matplotlib import pyplot as plt\n",
        "from matplotlib import tri\n",
        "from matplotlib import axes\n",
        "from mpl_toolkits.mplot3d import Axes3D\n",
        "from scipy import integrate"
      ],
      "execution_count": 199,
      "outputs": []
    },
    {
      "cell_type": "markdown",
      "metadata": {
        "id": "gnO3lhAigLev"
      },
      "source": [
        "# **Introduction**"
      ]
    },
    {
      "cell_type": "markdown",
      "metadata": {
        "id": "l5zMzgPlRAF6"
      },
      "source": [
        "This lab uses L2 projection to point wise linear approximation over a 1D mesh to approximate a function f.\n",
        "\n"
      ]
    },
    {
      "cell_type": "markdown",
      "metadata": {
        "id": "jOQvukXZq5U5"
      },
      "source": [
        "# **Method**"
      ]
    },
    {
      "cell_type": "markdown",
      "source": [
        "### 1. Function: L2 projection to pw linear approximation over mesh in 1D"
      ],
      "metadata": {
        "id": "GIfKV4xzYD-I"
      }
    },
    {
      "cell_type": "markdown",
      "metadata": {
        "id": "zF4iBj5VURZx"
      },
      "source": [
        "We will iterate through all intervals of the mesh and for each of the intervals we will calculate the inner product of the local functions and add that to the global matrix and vector. \n",
        "\n",
        "when we have a Hilbert space V we can construct an approximation of $f \\in V$ in a finite dimensional subspace $V_N \\subset V$ in the form of the orthogonal projection onto $V_N$ which we call $P_Nf$. This is the best possible approximation of $f$ in $V_N$ (Theorem 1.8, Chapter 1). It is defined as:\n",
        "\n",
        "\\begin{equation}(P_Nf, v) = (f, v) \\ \\ \\ \\ \\forall v \\in V_N \\ (9.14)\\end{equation}\n",
        "\n",
        "If $V_N$ is spanned by the basis {$\\phi_i$}$_{i=1}^N$, which is defined by the mesh, we can rewrite the above expression to:\n",
        "\\begin{equation}\\sum_{j=1}^N \\alpha_j(\\phi_j, \\phi_i) = (f, \\phi_i) \\ \\ \\ \\ \\forall \\ i=1,...,N \\ (9.15)\\end{equation}\n",
        "\n",
        "This corresponds to a matrix equation $A\\alpha = b$, where $A = (a_{ij})$ and $b = (b_i)$\n",
        "\\begin{equation} a_{ij} = (\\phi_j, \\phi_i) = \\int_a^b \\phi_j(x) \\phi_i(x) dx \\ (9.16)\\end{equation}\n",
        "\n",
        "\\begin{equation} b_{i} = (f, \\phi_i) = \\int_a^b f(x) \\phi_i(x) dx \\ (9.17) \\end{equation}\n",
        "\n",
        "By finding the coordinates $\\alpha$ we can get the $L^2$ projection \n",
        "\\begin{equation} P_Nf(x) = \\sum_{j=1}^N \\alpha_j \\phi_j(x) \\end{equation}\n"
      ]
    },
    {
      "cell_type": "markdown",
      "source": [
        "\n",
        "\n",
        "---\n",
        "\n"
      ],
      "metadata": {
        "id": "YiTMJkZ_xG7r"
      }
    },
    {
      "cell_type": "markdown",
      "source": [
        "The function integrate vector uses the scipy **integrate.quad** to calculate the integral. We have that $b_i$ can be written as:\n",
        "\\begin{equation} b_i = \\int_{I_k}f(x)\\lambda_{k, 1}(x) dx + \\int_{I_{k+1}}f(x)\\lambda_{k+1,0}(x) dx \\end{equation}\n",
        "\n",
        "We will only calculate the integral over one interval at a time and therefore checks if i=0 or i=1, depending on if the interval is $I_k = [x_{k-1}, x_k]$ or $I_{k+1} = [x_k, x_{k+1}]$"
      ],
      "metadata": {
        "id": "HP3gjm5TVI79"
      }
    },
    {
      "cell_type": "code",
      "source": [
        "def integrate_vector(f, k, i, m):\n",
        "  a, b = m[k], m[k+1]\n",
        "  h = b - a\n",
        "  if i == 0:\n",
        "    p = lambda x: f(x)*(b - x)/h\n",
        "  else:\n",
        "    p = lambda x: f(x)*(x - a)/h \n",
        "  return integrate.quad(p, a, b)[0]"
      ],
      "metadata": {
        "id": "KiabetiwNask"
      },
      "execution_count": 200,
      "outputs": []
    },
    {
      "cell_type": "markdown",
      "source": [
        "The Integrate matrix function is based on the fact that:\n",
        "\n",
        " $(a_{ij})$ = $\\frac{h}{3}$ if i=j and \n",
        "\n",
        " $(a_{ij}) = \\frac{h}{6}$ if $\\mid i - j \\mid$ = 1, where h is the length of the interval. (Chapter 9, p. 201-202)"
      ],
      "metadata": {
        "id": "ucys_WvlUBD6"
      }
    },
    {
      "cell_type": "code",
      "source": [
        "def integrate_matrix(k, i ,j, m):\n",
        "  h = m[k+1] - m[k] #interval length\n",
        "  if i==j: a_ij = h/3\n",
        "  else: a_ij = h/6\n",
        "  return a_ij"
      ],
      "metadata": {
        "id": "FPe1n0VU6F--"
      },
      "execution_count": 201,
      "outputs": []
    },
    {
      "cell_type": "markdown",
      "source": [
        "**Assemble system** is based on the algorithm 9.2 in Chapter 9. The function takes the function **f** and mesh **m** as inputs. The algorithm iterates thorugh all intervals of the mesh, the inner products are calculated and added to the global matrix A and vector b."
      ],
      "metadata": {
        "id": "yE1XLwYKuqK8"
      }
    },
    {
      "cell_type": "code",
      "source": [
        "def assemble_system(f, m, A, b):\n",
        "  n = len(m)\n",
        "  for k in range(0, n-1):\n",
        "    q = 2\n",
        "    A_local, b_local = np.zeros((q, q)), np.zeros(q)\n",
        "    for i in range(0, q):\n",
        "      b_local[i] = integrate_vector(f, k, i, m)\n",
        "      for j in range(0, q):\n",
        "        A_local[i][j] = integrate_matrix(k, i, j, m)\n",
        "      b[k:k+q] += b_local\n",
        "      A[k:k+q, k:k+q] += A_local\n",
        "  return A, b"
      ],
      "metadata": {
        "id": "z9EU1tyWfQXF"
      },
      "execution_count": 202,
      "outputs": []
    },
    {
      "cell_type": "markdown",
      "source": [
        "The $L^2$ projection calls the assemble system function and then solve the linear equation. I am using numpy since it is the shortest implementation of the solution, but a function from an older lab could have been used. "
      ],
      "metadata": {
        "id": "bLQh3mBpvFrC"
      }
    },
    {
      "cell_type": "code",
      "source": [
        "def L2_proj(f, m):\n",
        "  A_glob = np.zeros((len(m), len(m)))\n",
        "  b_glob = np.zeros(len(m))\n",
        "  A, b = assemble_system(f, m, A_glob, b_glob)\n",
        "  alpha = np.linalg.solve(A, b)\n",
        "  return alpha"
      ],
      "metadata": {
        "id": "FkY2DknzYC1-"
      },
      "execution_count": 203,
      "outputs": []
    },
    {
      "cell_type": "markdown",
      "metadata": {
        "id": "SsQLT38gVbn_"
      },
      "source": [
        "# **Results**"
      ]
    },
    {
      "cell_type": "markdown",
      "metadata": {
        "id": "RLwlnOzuV-Cd"
      },
      "source": [
        "The easiest way to see if the approximation is good is to plot the original function **f** and the approximated one. Here we can clearly see that the performance of the approximation increases when we use a finer mesh."
      ]
    },
    {
      "cell_type": "code",
      "source": [
        "x = np.linspace(0, 8, 100)\n",
        "f = lambda x: np.sin(x)**2 + x/6\n",
        "for i in [8, 14, 25]:\n",
        "  y = np.linspace(0, 8, i)\n",
        "  alpha = L2_proj(f, y)\n",
        "  plt.plot(x, f(x))\n",
        "  plt.plot(y, alpha, '--', color=\"red\")\n",
        "  plt.show()"
      ],
      "metadata": {
        "colab": {
          "base_uri": "https://localhost:8080/",
          "height": 765
        },
        "id": "oJGIQmOnfNmM",
        "outputId": "b8028a71-00f8-4e0e-a2ee-b00a900d8faf"
      },
      "execution_count": 212,
      "outputs": [
        {
          "output_type": "display_data",
          "data": {
            "image/png": "[encoded data removed]",
            "text/plain": [
              "<Figure size 432x288 with 1 Axes>"
            ]
          },
          "metadata": {
            "needs_background": "light"
          }
        },
        {
          "output_type": "display_data",
          "data": {
            "image/png": "[encoded data removed]",
            "text/plain": [
              "<Figure size 432x288 with 1 Axes>"
            ]
          },
          "metadata": {
            "needs_background": "light"
          }
        },
        {
          "output_type": "display_data",
          "data": {
            "image/png": "[encoded data removed]",
            "text/plain": [
              "<Figure size 432x288 with 1 Axes>"
            ]
          },
          "metadata": {
            "needs_background": "light"
          }
        }
      ]
    },
    {
      "cell_type": "markdown",
      "metadata": {
        "id": "_4GLBv0zWr7m"
      },
      "source": [
        "# **Discussion**"
      ]
    },
    {
      "cell_type": "markdown",
      "metadata": {
        "id": "6bcsDSoRXHZe"
      },
      "source": [
        "The results where suprisingly good since the algorithm seems to give a quite good approximation of the function even when the mesh is quite coarse. Overall, I think this lab was a bit tricky to implement. I had to discuss the lab with classmates and look at previous years student to get a better understanding on how it was supposed to be implemented."
      ]
    }
  ]
}