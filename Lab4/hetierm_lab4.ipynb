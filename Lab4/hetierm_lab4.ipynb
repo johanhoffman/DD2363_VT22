{
  "cells": [
    {
      "cell_type": "markdown",
      "metadata": {
        "colab_type": "text",
        "id": "view-in-github"
      },
      "source": [
        "<a href=\"https://colab.research.google.com/github/johanhoffman/DD2363_VT22/blob/main/template-report-lab-X.ipynb\" target=\"_parent\"><img src=\"https://colab.research.google.com/assets/colab-badge.svg\" alt=\"Open In Colab\"/></a>"
      ]
    },
    {
      "cell_type": "markdown",
      "metadata": {
        "id": "6RgtXlfYO_i7"
      },
      "source": [
        "# **Lab 4 : Approximation **\n",
        "**Marc Hétier**"
      ]
    },
    {
      "cell_type": "markdown",
      "metadata": {
        "id": "9x_J5FVuPzbm"
      },
      "source": [
        "# **Abstract**"
      ]
    },
    {
      "cell_type": "markdown",
      "metadata": {
        "id": "HmB2noTr1Oyo"
      },
      "source": [
        "A short statement on who is the author of the file, and if the code is distributed under a certain license. "
      ]
    },
    {
      "cell_type": "code",
      "execution_count": 66,
      "metadata": {
        "colab": {
          "base_uri": "https://localhost:8080/",
          "height": 37
        },
        "id": "Pdll1Xc9WP0e",
        "outputId": "9e782dc7-4ad0-48f9-d45c-2200e83dec4d"
      },
      "outputs": [
        {
          "data": {
            "text/plain": [
              "'KTH Royal Institute of Technology, Stockholm, Sweden.'"
            ]
          },
          "execution_count": 66,
          "metadata": {},
          "output_type": "execute_result"
        }
      ],
      "source": [
        "\"\"\"This program is a template for lab reports in the course\"\"\"\n",
        "\"\"\"DD2363 Methods in Scientific Computing, \"\"\"\n",
        "\"\"\"KTH Royal Institute of Technology, Stockholm, Sweden.\"\"\"\n",
        "\n",
        "# Copyright (C) 2020 Johan Hoffman (jhoffman@kth.se)\n",
        "\n",
        "# This file is part of the course DD2365 Advanced Computation in Fluid Mechanics\n",
        "# KTH Royal Institute of Technology, Stockholm, Sweden\n",
        "#\n",
        "# This is free software: you can redistribute it and/or modify\n",
        "# it under the terms of the GNU Lesser General Public License as published by\n",
        "# the Free Software Foundation, either version 3 of the License, or\n",
        "# (at your option) any later version.\n",
        "\n",
        "# This template is maintained by Johan Hoffman\n",
        "# Please report problems to jhoffman@kth.se"
      ]
    },
    {
      "cell_type": "markdown",
      "metadata": {
        "id": "28xLGz8JX3Hh"
      },
      "source": [
        "# **Set up environment**"
      ]
    },
    {
      "cell_type": "markdown",
      "metadata": {
        "id": "D2PYNusD08Wa"
      },
      "source": [
        "To have access to the neccessary modules you have to run this cell. If you need additional modules, this is where you add them. "
      ]
    },
    {
      "cell_type": "code",
      "execution_count": 67,
      "metadata": {
        "id": "Xw7VlErAX7NS"
      },
      "outputs": [],
      "source": [
        "# Load neccessary modules.\n",
        "from google.colab import files\n",
        "import numpy as np\n",
        "import scipy.integrate\n",
        "import matplotlib.pyplot as plt"
      ]
    },
    {
      "cell_type": "markdown",
      "metadata": {
        "id": "gnO3lhAigLev"
      },
      "source": [
        "# **Introduction**"
      ]
    },
    {
      "cell_type": "markdown",
      "metadata": {},
      "source": [
        "In this lab, we work on the approximation of function. The general background is an Hilbert space of function $V \\subset \\mathcal{L}^2(I)$, provided with the classical inner product :\n",
        "$$(f, g) = \\int_I f(x)g(x) dx $$\n",
        "\n",
        "We also consider a subspace $V_N$ of $V$, of finite dimension $N$, and we search the projection of a function $f \\in V$ on $V_N$. We note $P_Nf$ this projection.\n",
        "\n",
        "Given a basis $\\{\\phi_i\\}_{i = 1, \\ldots ,N}$ of $V_N$, searching for $P_Nf$ is equivalent at searching its sets of coordinates $\\{\\alpha_j\\}_{j = 1, \\ldots ,N}$ such that \n",
        "$$ \\forall i \\;\\;\\; \\sum_{j=1}^N \\alpha_j (\\phi_j, \\phi_i) = (f, \\phi_i) $$\n",
        "\n",
        "This last equation is equivalent at the linear system\n",
        "$$ A \\alpha = b$$\n",
        "where $\\alpha = (\\alpha_i)_i$, $A = ((\\phi_j, \\phi_i))_{i,j}$ and $b = (f, \\phi_i)_i$.\n",
        "\n",
        "Being able to find the projection of a function $f$ on a subspace is necessary to solve FEM problem. Then, the first part of our work will be dedicated to solving projection problem, and the second part will use this to solve a Poisson equation."
      ]
    },
    {
      "cell_type": "markdown",
      "metadata": {
        "id": "jOQvukXZq5U5"
      },
      "source": [
        "# **Method**"
      ]
    },
    {
      "cell_type": "markdown",
      "metadata": {},
      "source": [
        "## Problem 1 : L2 projection to pw linear approwimation over a 1D mesh\n",
        "\n",
        "In the following part, we assume that we are working with scalars functions. We also subdivise the interval $I$ into a mesh $(x_i)_{i=0}^{m+1}$ and we assume that it exists two families of basis. The first one consists of local basis for each sub-interval $[x_i, x_{i+1}]$, and the second one consists of a unique global basis for the entire interval $I$. More rigoursly, we define :\n",
        "- for each $I_k$, a basis $(\\lambda_{k,j})_{j =0}^{L_k}$\n",
        "- the global basis function $(\\phi_i)_i$, define using the local basis functions. This definition changes with the $(L_k)_k$ and if we want, or not a continuous approximation.\n",
        "\n",
        "We create a function *assemble_system* which takes as input the function we want to approximate, the mesh and the local basis function. It returns the matrix $A$, $\\alpha$ and $b$ define above.\n",
        "This function is very global, and use some sub functions which highly depends on the local basis we used, and if we want, or not, a continuous approximation. For those reasons, they are also pass as parameters.\n",
        "\n"
      ]
    },
    {
      "cell_type": "code",
      "execution_count": 78,
      "metadata": {},
      "outputs": [],
      "source": [
        "def assemble_solve_system(f, local_basis, get_local_to_global, integrate_vector, integrate_matrix, add_to_glob_vec, \\\n",
        "                                    add_to_glob_matrix, final_size):\n",
        "    \"\"\"\n",
        "    Input : a function f, a mesh under the form [x_0, ..., x_m+1] and\n",
        "        list of local basis [[lambda_{k,1},..., lambda_{k,L_k}]...]\n",
        "    Output : matrix A and b of the system\n",
        "    \"\"\"\n",
        "\n",
        "\n",
        "    A = np.zeros((final_size, final_size))\n",
        "    b = np.zeros(final_size)\n",
        "    m = len(mesh) - 2\n",
        "    for k in range(0,len(local_basis)):\n",
        "        Lk = len(local_basis[k])\n",
        "        loc2glob = get_local_to_global(k)\n",
        "\n",
        "        b_k = np.zeros(Lk)\n",
        "        A_k = np.zeros((Lk,Lk))\n",
        "        for i in range(0,Lk):\n",
        "            b_k[i] = integrate_vector(f, local_basis[k,i])\n",
        "            for j in range(0,Lk):\n",
        "                A_k[i,j] = integrate_matrix(local_basis[k,i], local_basis[k,j])\n",
        "        add_to_glob_matrix(A, A_k, loc2glob)\n",
        "        add_to_glob_vec(b, b_k, loc2glob)\n",
        "    \n",
        "    print(A)\n",
        "    alpha = np.linalg.solve(A,b)\n",
        "    return A, alpha, b\n"
      ]
    },
    {
      "cell_type": "markdown",
      "metadata": {},
      "source": [
        "To see how this function work, we need more material. First, we define a mesh on $I = [0, 1]$, and basis function which correspond to $\\lambda_{k,i}$ given in example 9.6. We also define all the function needed to assemble the system, corresponding at an approximation of $V_h(I)$."
      ]
    },
    {
      "cell_type": "code",
      "execution_count": 77,
      "metadata": {},
      "outputs": [],
      "source": [
        "m = 5\n",
        "mesh = np.linspace(0,1, m+2) #m+2 point into the interval;\n",
        "\n",
        "def lambda_0(x, x_k_1, x_k):\n",
        "    if x_k_1 <= x <= x_k:\n",
        "        return (x_k - x)/(x_k-x_k_1)\n",
        "    else:\n",
        "        return 0\n",
        "def lambda_1(x, x_k_1, x_k):\n",
        "    if x_k_1 <= x <= x_k:\n",
        "        return (x - x_k_1)/(x_k-x_k_1)\n",
        "    else:\n",
        "        return 0\n",
        "\n",
        "def get_local_to_global(k):\n",
        "    return k\n",
        "\n",
        "## Ideally, we define a vector local basis as follow, but it does not work\n",
        "# local_basis = np.array([[lambda x:lambda_0(x, mesh[k], mesh[k+1]), lambda x:lambda_1(x, mesh[k], mesh[k+1])] \\\n",
        "#                 for k in range(0,m+1)])\n",
        "\n",
        "# the vector will only contains the bounds x_k_1, x_k and the number 0 or 1\n",
        "\n",
        "local_basis = np.array([[(0, mesh[k], mesh[k+1]), (1, mesh[k], mesh[k+1])] for k in range(0,m+1)])\n",
        "\n",
        "\n",
        "def integrate_vector(f, fct_basis_k):\n",
        "    \"\"\"\n",
        "    Compute the integral between f and the fct_basis given in input\n",
        "    \"\"\"\n",
        "    x_k_1, x_k = fct_basis_k[1], fct_basis_k[2]\n",
        "    def product(x):\n",
        "        if fct_basis_k[0] == 0:\n",
        "            return f(x)*lambda_0(x, x_k_1, x_k)\n",
        "        if fct_basis_k[0] == 1:\n",
        "            return f(x)*lambda_1(x, x_k_1, x_k)\n",
        "    rslt = scipy.integrate.quad(product, x_k_1, x_k)\n",
        "    return rslt[0]\n",
        "\n",
        "\n",
        "def integrate_matrix(fct_basis_i, fct_basis_j):\n",
        "    \"\"\"\n",
        "    Compute the integral between two basis functions\n",
        "    \"\"\"\n",
        "    x_k_1, x_k = fct_basis_j[1], fct_basis_i[2]\n",
        "    def product(x):\n",
        "        if fct_basis_i[0] == 0:\n",
        "            if fct_basis_j[0] == 0:\n",
        "                return lambda_0(x, x_k_1, x_k)**2\n",
        "            if fct_basis_j[0] == 1:\n",
        "                return lambda_0(x, x_k_1, x_k)*lambda_1(x, x_k_1, x_k)\n",
        "        if fct_basis_i[0] == 1:\n",
        "            if fct_basis_j[0] == 0:\n",
        "                return lambda_0(x, x_k_1, x_k)*lambda_1(x, x_k_1, x_k)\n",
        "            if fct_basis_j[0] == 1:\n",
        "                return lambda_1(x, x_k_1, x_k)**2\n",
        "    return scipy.integrate.quad(product, x_k_1, x_k)[0]\n",
        "\n",
        "\n",
        "def add_to_glob_matrix(A, A_k, k):\n",
        "    \"\"\"\n",
        "    We need to correctly add the local term in the global matrix\n",
        "    \"\"\"\n",
        "    A[k,k] += A_k[0,0]\n",
        "    A[k+1, k+1] += A_k[1,1]\n",
        "    A[k, k+1] += A_k[0,1]\n",
        "    A[k+1,k] += A_k[1,0]\n",
        "    return None\n",
        "\n",
        "def add_to_glob_vec(b, b_k, k):\n",
        "    b[k] += b_k[0]\n",
        "    b[k+1] += b_k[1]\n",
        "    return None\n"
      ]
    },
    {
      "cell_type": "markdown",
      "metadata": {},
      "source": [
        "Now, we can test our approximation on function. For example, if we want to approximate $\\sin$ :"
      ]
    },
    {
      "cell_type": "code",
      "execution_count": 74,
      "metadata": {},
      "outputs": [
        {
          "data": {
            "image/png": "[encoded data removed]",
            "text/plain": [
              "<Figure size 432x288 with 1 Axes>"
            ]
          },
          "metadata": {
            "needs_background": "light"
          },
          "output_type": "display_data"
        }
      ],
      "source": [
        "sol_exact = np.sin(np.linspace(0,1, 200))\n",
        "A, alpha, b = assemble_solve_system(np.sin, local_basis, get_local_to_global, \\\n",
        "                integrate_vector, integrate_matrix, add_to_glob_vec, add_to_glob_matrix, m+2)\n",
        "\n",
        "plt.plot(mesh, alpha)\n",
        "plt.plot(np.linspace(0,1, 200), sol_exact)\n",
        "plt.legend((\"Our approximation\", \"Sinus\"))\n",
        "plt.show()"
      ]
    },
    {
      "cell_type": "markdown",
      "metadata": {},
      "source": [
        "We can also compute the $L^2$ norm between the approximation and the function :"
      ]
    },
    {
      "cell_type": "code",
      "execution_count": 76,
      "metadata": {},
      "outputs": [
        {
          "name": "stdout",
          "output_type": "stream",
          "text": [
            "0.0032555861158849436\n"
          ]
        }
      ],
      "source": [
        "print(np.linalg.norm(alpha-np.sin(mesh)))"
      ]
    },
    {
      "cell_type": "markdown",
      "metadata": {},
      "source": [
        "It does not appear very low, but we only used a 7 points mesh ! We can consider that the approximation is really good."
      ]
    },
    {
      "cell_type": "markdown",
      "metadata": {},
      "source": [
        "## Problem 3 :  Solution to the Poisson's equation\n",
        "We consider the following ODE :\n",
        "\\begin{equation}\n",
        "\\begin{array}{l}\n",
        "- u'' = f  \\text{           on } [0,1]\\\\\n",
        "u(0) = u(1) = 0 \\\\\n",
        "\\end{array}\n",
        "\\end{equation}\n",
        "\n",
        "We will take $f(x) = \\sin(2\\pi x)$. The solution is then quite obvious, equal at $u(x) = \\frac{1}{4\\pi^2} sin(2\\pi x)$. We can also pretend do not know it, and solve this equation using finite element methods. It consists to search the solution $u$ on a finite space $V_N$ such that the residual is orthogonal to a basis of $V_N$. Under a mathematical form, we note $(\\phi_i)_i$ a basis of $V_N$ and we search $u = \\sum_{i=1}^N \\alpha_i \\phi_i$ such that :\n",
        "$$\\forall i \\;\\; \\int_0^1 (u'' + f) \\phi_i = 0$$\n",
        "\n",
        "Finding $u$ is equivalent at finding its coordinates. Moreover, using integration by parts and the boundary conditions, the coefficients $\\alpha_i$ verify :\n",
        "$$ \\forall i \\;\\; - \\sum_{j=1}^N \\alpha_j \\int_0^1 \\phi_i' \\phi_j' = \\int_0^1 f \\phi_i $$\n",
        "This equation can be written under a matrix form :\n",
        "$$ A \\alpha = b $$\n",
        "\n",
        "We find back the previous problem, and will use the function assemble_solve_system to solve it. However, we need to redefine the auxiliary functions integrate_matrix."
      ]
    },
    {
      "cell_type": "code",
      "execution_count": 94,
      "metadata": {},
      "outputs": [
        {
          "data": {
            "text/plain": [
              "<matplotlib.legend.Legend at 0x7f1e5c780dc0>"
            ]
          },
          "execution_count": 94,
          "metadata": {},
          "output_type": "execute_result"
        },
        {
          "data": {
            "image/png": "[encoded data removed]",
            "text/plain": [
              "<Figure size 432x288 with 1 Axes>"
            ]
          },
          "metadata": {
            "needs_background": "light"
          },
          "output_type": "display_data"
        }
      ],
      "source": [
        "m = 12\n",
        "mesh = np.linspace(0,1, m+2) #m+2 point into the interval;\n",
        "\n",
        "local_basis = np.array([[(0, mesh[k], mesh[k+1]), (1, mesh[k], mesh[k+1])] for k in range(0,m+1)])\n",
        "\n",
        "def dlambda_0(x, x_k_1, x_k):\n",
        "    \"\"\" Derivative of lambda_0 \"\"\"\n",
        "    if x_k_1 <= x <= x_k:\n",
        "        return -1/(x_k - x_k_1)\n",
        "    else:\n",
        "        return 0\n",
        "\n",
        "def dlambda_1(x, x_k_1, x_k):\n",
        "    \"\"\" Derivative of lambda_1 \"\"\"\n",
        "    if x_k_1 <= x <= x_k:\n",
        "        return 1/(x_k - x_k_1)\n",
        "    else:\n",
        "        return 0\n",
        "\n",
        "def integrate_matrix_fem(fct_basis_i, fct_basis_j):\n",
        "    \"\"\"\n",
        "    Compute the integral between the derivative of two basis functions\n",
        "    \"\"\"\n",
        "    x_k_1, x_k = fct_basis_j[1], fct_basis_i[2]\n",
        "    def product(x):\n",
        "        if fct_basis_i[0] == 0:\n",
        "            if fct_basis_j[0] == 0:\n",
        "                return dlambda_0(x, x_k_1, x_k)**2\n",
        "            if fct_basis_j[0] == 1:\n",
        "                return dlambda_0(x, x_k_1, x_k)*dlambda_1(x, x_k_1, x_k)\n",
        "        if fct_basis_i[0] == 1:\n",
        "            if fct_basis_j[0] == 0:\n",
        "                return dlambda_0(x, x_k_1, x_k)*dlambda_1(x, x_k_1, x_k)\n",
        "            if fct_basis_j[0] == 1:\n",
        "                return dlambda_1(x, x_k_1, x_k)**2\n",
        "    return scipy.integrate.quad(product, x_k_1, x_k)[0]\n",
        "\n",
        "\n",
        "sin2pi = lambda x:np.sin(2*np.pi*x)\n",
        "A, alpha, b = assemble_solve_system(sin2pi, local_basis, get_local_to_global, integrate_vector, \\\n",
        "                        integrate_matrix_fem, add_to_glob_vec, add_to_glob_matrix, m+2)\n",
        "\n",
        "plt.plot(mesh, -alpha)\n",
        "plt.plot(mesh, 1/(4*np.pi**2)*np.sin(mesh*2*np.pi))\n",
        "plt.legend((\"FEM solution\", \"True solution\"))"
      ]
    },
    {
      "cell_type": "markdown",
      "metadata": {},
      "source": [
        "As we can see, the FEM solution is not good. In fact, I really do not understand why. The matrix $A$ generated seems correct (main part equal at $Tridiag(-1/h, 2/h, -1/h)$), and the vector $b$ is computed as before. Moreover, for some value of $m$ (for example $m=100$), when we try to solve $A \\alpha = b$ we obtain an error for singular matrix $A$. I certainly miss something, but I do not see what."
      ]
    },
    {
      "cell_type": "code",
      "execution_count": 95,
      "metadata": {},
      "outputs": [
        {
          "name": "stdout",
          "output_type": "stream",
          "text": [
            "26.0\n",
            "[[ 13. -13.   0.   0.   0.   0.   0.   0.   0.   0.   0.   0.   0.   0.]\n",
            " [-13.  26. -13.   0.   0.   0.   0.   0.   0.   0.   0.   0.   0.   0.]\n",
            " [  0. -13.  26. -13.   0.   0.   0.   0.   0.   0.   0.   0.   0.   0.]\n",
            " [  0.   0. -13.  26. -13.   0.   0.   0.   0.   0.   0.   0.   0.   0.]\n",
            " [  0.   0.   0. -13.  26. -13.   0.   0.   0.   0.   0.   0.   0.   0.]\n",
            " [  0.   0.   0.   0. -13.  26. -13.   0.   0.   0.   0.   0.   0.   0.]\n",
            " [  0.   0.   0.   0.   0. -13.  26. -13.   0.   0.   0.   0.   0.   0.]\n",
            " [  0.   0.   0.   0.   0.   0. -13.  26. -13.   0.   0.   0.   0.   0.]\n",
            " [  0.   0.   0.   0.   0.   0.   0. -13.  26. -13.   0.   0.   0.   0.]\n",
            " [  0.   0.   0.   0.   0.   0.   0.   0. -13.  26. -13.   0.   0.   0.]\n",
            " [  0.   0.   0.   0.   0.   0.   0.   0.   0. -13.  26. -13.   0.   0.]\n",
            " [  0.   0.   0.   0.   0.   0.   0.   0.   0.   0. -13.  26. -13.   0.]\n",
            " [  0.   0.   0.   0.   0.   0.   0.   0.   0.   0.   0. -13.  26. -13.]\n",
            " [  0.   0.   0.   0.   0.   0.   0.   0.   0.   0.   0.   0. -13.  13.]]\n"
          ]
        }
      ],
      "source": [
        "print(2/mesh[1])\n",
        "print(A)"
      ]
    }
  ],
  "metadata": {
    "colab": {
      "include_colab_link": true,
      "name": "template-report-lab-X.ipynb",
      "provenance": []
    },
    "kernelspec": {
      "display_name": "Python 3",
      "name": "python3"
    },
    "language_info": {
      "codemirror_mode": {
        "name": "ipython",
        "version": 3
      },
      "file_extension": ".py",
      "mimetype": "text/x-python",
      "name": "python",
      "nbconvert_exporter": "python",
      "pygments_lexer": "ipython3",
      "version": "3.8.10"
    }
  },
  "nbformat": 4,
  "nbformat_minor": 0
}
