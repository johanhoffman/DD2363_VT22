{
  "cells": [
    {
      "cell_type": "markdown",
      "metadata": {
        "colab_type": "text",
        "id": "view-in-github"
      },
      "source": [
        "<a href=\"https://colab.research.google.com/github/johanhoffman/DD2363_VT22/blob/main/template-report-lab-X.ipynb\" target=\"_parent\"><img src=\"https://colab.research.google.com/assets/colab-badge.svg\" alt=\"Open In Colab\"/></a>"
      ]
    },
    {
      "cell_type": "markdown",
      "metadata": {
        "id": "6RgtXlfYO_i7"
      },
      "source": [
        "# **Lab 4 : Approximation **\n",
        "**Marc Hétier**"
      ]
    },
    {
      "cell_type": "markdown",
      "metadata": {
        "id": "9x_J5FVuPzbm"
      },
      "source": [
        "# **Abstract**"
      ]
    },
    {
      "cell_type": "markdown",
      "metadata": {
        "id": "HmB2noTr1Oyo"
      },
      "source": [
        "A short statement on who is the author of the file, and if the code is distributed under a certain license. "
      ]
    },
    {
      "cell_type": "code",
      "execution_count": 1,
      "metadata": {
        "colab": {
          "base_uri": "https://localhost:8080/",
          "height": 37
        },
        "id": "Pdll1Xc9WP0e",
        "outputId": "9e782dc7-4ad0-48f9-d45c-2200e83dec4d"
      },
      "outputs": [
        {
          "data": {
            "text/plain": [
              "'KTH Royal Institute of Technology, Stockholm, Sweden.'"
            ]
          },
          "execution_count": 1,
          "metadata": {},
          "output_type": "execute_result"
        }
      ],
      "source": [
        "\"\"\"This program is a template for lab reports in the course\"\"\"\n",
        "\"\"\"DD2363 Methods in Scientific Computing, \"\"\"\n",
        "\"\"\"KTH Royal Institute of Technology, Stockholm, Sweden.\"\"\"\n",
        "\n",
        "# Copyright (C) 2020 Johan Hoffman (jhoffman@kth.se)\n",
        "\n",
        "# This file is part of the course DD2365 Advanced Computation in Fluid Mechanics\n",
        "# KTH Royal Institute of Technology, Stockholm, Sweden\n",
        "#\n",
        "# This is free software: you can redistribute it and/or modify\n",
        "# it under the terms of the GNU Lesser General Public License as published by\n",
        "# the Free Software Foundation, either version 3 of the License, or\n",
        "# (at your option) any later version.\n",
        "\n",
        "# This template is maintained by Johan Hoffman\n",
        "# Please report problems to jhoffman@kth.se"
      ]
    },
    {
      "cell_type": "markdown",
      "metadata": {
        "id": "28xLGz8JX3Hh"
      },
      "source": [
        "# **Set up environment**"
      ]
    },
    {
      "cell_type": "markdown",
      "metadata": {
        "id": "D2PYNusD08Wa"
      },
      "source": [
        "To have access to the neccessary modules you have to run this cell. If you need additional modules, this is where you add them. "
      ]
    },
    {
      "cell_type": "code",
      "execution_count": 2,
      "metadata": {
        "id": "Xw7VlErAX7NS"
      },
      "outputs": [],
      "source": [
        "# Load neccessary modules.\n",
        "# from google.colab import files\n",
        "import numpy as np\n",
        "import scipy as sp\n",
        "from copy import deepcopy"
      ]
    },
    {
      "cell_type": "markdown",
      "metadata": {
        "id": "gnO3lhAigLev"
      },
      "source": [
        "# **Introduction**"
      ]
    },
    {
      "cell_type": "markdown",
      "metadata": {},
      "source": [
        "In this lab, we work on the approximation of function. The general background is an Hilbert space of function $V \\subset \\mathcal{L}^2(I)$, provided with the classical inner product :\n",
        "$$(f, g) = \\int_I f(x)g(x) dx $$\n",
        "\n",
        "We also consider a subspace $V_N$ of $V$, of finite dimension $N$, and we search the projection of a function $f \\in V$ on $V_N$. We note $P_Nf$ this projection.\n",
        "\n",
        "Given a basis $\\{\\phi_i\\}_{i = 1, \\ldots ,N}$ of $V_N$, searching for $P_Nf$ is equivalent at searching its sets of coordinates $\\{\\alpha_j\\}_{j = 1, \\ldots ,N}$ such that \n",
        "$$ \\forall i \\;\\;\\; \\sum_{j=1}^N \\alpha_j (\\phi_j, \\phi_i) = (f, \\phi_i) $$\n",
        "\n",
        "This last equation is equivalent at the linear system\n",
        "$$ A \\alpha = b$$\n",
        "where $\\alpha = (\\alpha_i)_i$, $A = ((\\phi_j, \\phi_i))_{i,j}$ and $b = (f, \\phi_i)_i$.\n",
        "\n",
        "Being able to find the projection of a function $f$ on a subspace is necessary to solve FEM problem. Then, the first part of our work will be dedicated to solving projection problem, and the second part will use this to solve a Poisson equation."
      ]
    },
    {
      "cell_type": "markdown",
      "metadata": {
        "id": "jOQvukXZq5U5"
      },
      "source": [
        "# **Method**"
      ]
    },
    {
      "cell_type": "markdown",
      "metadata": {},
      "source": [
        "## Problem 1 : L2 projection to pw linear approwimation over a 1D mesh\n",
        "\n",
        "In the following part, we assume that we are working with scalars functions. We also subdivise the interval $I$ into a mesh $(x_i)_{i=0}^{m+1}$ and we assume that it exists two families of basis. The first one consists of local basis for each sub-interval $[x_i, x_{i+1}]$, and the second one consists of a unique global basis for the entire interval $I$. More rigoursly, we define :\n",
        "- for each $I_k$, a basis $(\\lambda_{k,j})_{j =0}^{L_k}$\n",
        "- the global basis function $(\\phi_i)_i$, define using the local basis functions. This definition changes with the $(L_k)_k$ and if we want, or not a continuous approximation.\n",
        "\n",
        "We create a function *assemble_system* which takes as input the function we want to approximate, the mesh and the local basis function. It returns the matrix $A$ and $b$ define above.\n",
        "This function is very global, and use some sub functions which highly depends on the local basis we used, and if we want, or not, a continuous approximation. For those reasons, they are also pass as parameters.\n",
        "\n"
      ]
    },
    {
      "cell_type": "code",
      "execution_count": 3,
      "metadata": {},
      "outputs": [],
      "source": [
        "def assemble_system(f, mesh, local_basis, get_local_to_global):\n",
        "    \"\"\"\n",
        "    Input : a function f, a mesh under the form [x_0, ..., x_m+1] and\n",
        "        list of local basis [[lambda_{k,1},..., lambda_{k,L_k}]...]\n",
        "    Output : matrix A and b of the system\n",
        "    \"\"\"\n",
        "    A = np.zeros()\n",
        "    m = len(mesh) - 2\n",
        "    for k in range(0,m+2):\n",
        "        Lk = len(local_basis[k]) ## Since we are working in 1D, there is only two local basis function\n",
        "        loc2glob = get_local_to_global(k)\n",
        "\n",
        "        b_k = np.zeros(Lk)\n",
        "        A_k = np.zeros((Lk,Lk))\n",
        "        for i in range(0,Lk):\n",
        "            b_k[i] = sp.integrate.quad(f, local_basis[k,i])\n",
        "            for j in range(0,Lk):\n",
        "                A_k[i,j] = sp.integrate.quad(local_basis[k,i], local_basis[k,j])\n",
        "        \n",
        "        A[loc2glob:Lk+1, loc2glob:Lk+1] = A_k\n",
        "        b[loc2glob:Lk+1] = b_k\n",
        "\n"
      ]
    },
    {
      "cell_type": "markdown",
      "metadata": {
        "id": "_4GLBv0zWr7m"
      },
      "source": [
        "# **Discussion**"
      ]
    }
  ],
  "metadata": {
    "colab": {
      "include_colab_link": true,
      "name": "template-report-lab-X.ipynb",
      "provenance": []
    },
    "kernelspec": {
      "display_name": "Python 3",
      "name": "python3"
    },
    "language_info": {
      "codemirror_mode": {
        "name": "ipython",
        "version": 3
      },
      "file_extension": ".py",
      "mimetype": "text/x-python",
      "name": "python",
      "nbconvert_exporter": "python",
      "pygments_lexer": "ipython3",
      "version": "3.8.10"
    }
  },
  "nbformat": 4,
  "nbformat_minor": 0
}
