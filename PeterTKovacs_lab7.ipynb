{
  "nbformat": 4,
  "nbformat_minor": 0,
  "metadata": {
    "colab": {
      "name": "PeterTKovacs_lab7.ipynb",
      "provenance": [],
      "collapsed_sections": [],
      "include_colab_link": true
    },
    "kernelspec": {
      "name": "python3",
      "display_name": "Python 3"
    }
  },
  "cells": [
    {
      "cell_type": "markdown",
      "metadata": {
        "id": "view-in-github",
        "colab_type": "text"
      },
      "source": [
        "<a href=\"https://colab.research.google.com/github/johanhoffman/DD2363_VT22/blob/PeterTKovacs_lab7/PeterTKovacs_lab7.ipynb\" target=\"_parent\"><img src=\"https://colab.research.google.com/assets/colab-badge.svg\" alt=\"Open In Colab\"/></a>"
      ]
    },
    {
      "cell_type": "markdown",
      "metadata": {
        "id": "6RgtXlfYO_i7"
      },
      "source": [
        "# **Lab 7: optimization methods**\n",
        "**Péter Kovács**"
      ]
    },
    {
      "cell_type": "markdown",
      "metadata": {
        "id": "9x_J5FVuPzbm"
      },
      "source": [
        "# **Abstract**"
      ]
    },
    {
      "cell_type": "markdown",
      "metadata": {
        "id": "yJipbXtnjrJZ"
      },
      "source": [
        "In this lab assignment, we implement two widely known, standard methods for optimization: the gradient descent and Newton's method.\n",
        "\n",
        "\n",
        "\n"
      ]
    },
    {
      "cell_type": "markdown",
      "metadata": {
        "id": "OkT8J7uOWpT3"
      },
      "source": [
        "#**About the code**"
      ]
    },
    {
      "cell_type": "markdown",
      "metadata": {
        "id": "HmB2noTr1Oyo"
      },
      "source": [
        "A short statement on who is the author of the file, and if the code is distributed under a certain license. "
      ]
    },
    {
      "cell_type": "code",
      "metadata": {
        "id": "Pdll1Xc9WP0e",
        "colab": {
          "base_uri": "https://localhost:8080/",
          "height": 35
        },
        "outputId": "ac22475d-f8c3-432b-82f2-6ec3d4a024c2"
      },
      "source": [
        "\"\"\"This program is a template for lab reports in the course\"\"\"\n",
        "\"\"\"DD2363 Methods in Scientific Computing, \"\"\"\n",
        "\"\"\"KTH Royal Institute of Technology, Stockholm, Sweden.\"\"\"\n",
        "\n",
        "# Copyright (C) 2022 Péter Kovács (ptkovacs@kth.se)\n",
        "\n",
        "# This file is part of the course DD2363 Methods in Scientific Computing\n",
        "# KTH Royal Institute of Technology, Stockholm, Sweden\n",
        "#\n",
        "# This is free software: you can redistribute it and/or modify\n",
        "# it under the terms of the GNU Lesser General Public License as published by\n",
        "# the Free Software Foundation, either version 3 of the License, or\n",
        "# (at your option) any later version.\n",
        "\n",
        "# This template is maintained by Johan Hoffman\n",
        "# Please report problems to jhoffman@kth.se"
      ],
      "execution_count": 1,
      "outputs": [
        {
          "output_type": "execute_result",
          "data": {
            "application/vnd.google.colaboratory.intrinsic+json": {
              "type": "string"
            },
            "text/plain": [
              "'KTH Royal Institute of Technology, Stockholm, Sweden.'"
            ]
          },
          "metadata": {},
          "execution_count": 1
        }
      ]
    },
    {
      "cell_type": "markdown",
      "metadata": {
        "id": "28xLGz8JX3Hh"
      },
      "source": [
        "# **Set up environment**"
      ]
    },
    {
      "cell_type": "code",
      "metadata": {
        "id": "Xw7VlErAX7NS"
      },
      "source": [
        "# Load neccessary modules.\n",
        "from google.colab import files\n",
        "import numpy as np\n",
        "import theano\n",
        "import theano.tensor as tt\n",
        "import matplotlib.pyplot as plt"
      ],
      "execution_count": 2,
      "outputs": []
    },
    {
      "cell_type": "markdown",
      "metadata": {
        "id": "gnO3lhAigLev"
      },
      "source": [
        "# **Introduction**"
      ]
    },
    {
      "cell_type": "markdown",
      "metadata": {
        "id": "l5zMzgPlRAF6"
      },
      "source": [
        "Optimization problems arise in many walks of industry and business, practically everywhere where the output of the investigated process depends on several variables we control.\n",
        "\n",
        "The ultimate truth of global optimizaton that there is no 'best method', the performance of algoritms depends on the function we optimize. Hence, there are numerous proposed strategies that come in even more numerous variants depending on the exact implementation details.\n",
        "\n",
        "In this report, I implement the gradient descent and Newton's method, which both are based on approximating the optimized function locally by its Taylor-series and then taking a step in the 'best' direction that is dictated by the applied approximation.\n",
        "\n",
        "\n"
      ]
    },
    {
      "cell_type": "markdown",
      "metadata": {
        "id": "jOQvukXZq5U5"
      },
      "source": [
        "# **Method**"
      ]
    },
    {
      "cell_type": "markdown",
      "source": [
        "### 1) Gradient descent\n",
        "\n",
        "The idea is to use a first order approximation of the objective $f$, and such, take a step in the direction of the negative gradient, which is the 'direction of steepest descent'. \n",
        "\n",
        "$x_{k+1}= x_k - \\alpha_k ∇ f (x_k)$\n",
        "\n",
        "Here, the parameter $α_k$ is the step size, which can be a fixed positive number or determined by some linesearch method to ensure the amount of progress is optimal ot at least leads to decreasing objective.\n",
        "\n",
        "Linesearch methods are a distinct disciplne by themselves. Without going into much detail, we use the Goldstein-rule for accepting an $α$ value. Let $g_k(α)=f(x_k-α ∇f(x_k)) $, then the criteria:\n",
        "\n",
        "$g_k(α) \\leq g_k(0)+α g_k'(0) \\cdot \\epsilon$\n",
        "\n",
        "$g_k(α) \\geq g_k(0)+α g_k'(0) \\cdot (1-\\epsilon)$,\n",
        "\n",
        " with $ 0<ϵ<\\frac{1}{2} $ real parameter\n",
        "\n",
        "This ensures that the step size is not too small but the objective decreases.\n",
        "\n"
      ],
      "metadata": {
        "id": "qaCelHGGbQv8"
      }
    },
    {
      "cell_type": "code",
      "source": [
        "from theano.tensor.basic import xor\n",
        "def goldstein_linesearch(g,dg_0,epsilon):\n",
        "  \"\"\"\n",
        "  do binary search for step length and stop when the Goldstein criterion is satisfied\n",
        "  the starting points will be 0 (left) and some \\alpha_0 (right) which is chosen by the algorithm\n",
        "\n",
        "  arguments: g - the function along the line we search\n",
        "            dg_0 - the derivative of g at zero (supposed to be negative, since we step in a descent direction)\n",
        "            epsilon - the parameter of the Goldstein test, 0<epsilon<0.5 is assumed\n",
        "  returns: an alpha value satisfying the test\n",
        "  \"\"\"\n",
        "\n",
        "  left=0\n",
        "  right=1\n",
        "\n",
        "  goldstein_1=lambda x: g(x)<=g(0)+x*dg_0*epsilon\n",
        "  goldstein_2=lambda x: g(x)>=g(0)+x*dg_0*(1-epsilon)\n",
        "\n",
        "  while(not goldstein_2(right)):\n",
        "    right*=2\n",
        "  \n",
        "  # now, there is at least one acceptable point between right and left\n",
        "\n",
        "  middle=0.5*(right+left)\n",
        "\n",
        "  while(not(goldstein_1(middle) and goldstein_2(middle))):\n",
        "    if(not goldstein_1(middle)): # go to left\n",
        "      right=middle\n",
        "      middle=0.5*(right+left)\n",
        "    elif(not goldstein_2(middle)):\n",
        "      left=middle\n",
        "      middle=0.5*(right+left)\n",
        "\n",
        "    # print(middle)\n",
        "\n",
        "  return middle\n",
        "\n",
        "\n",
        "def gradient_descent(f,df,x0,epsilon,tol,n_max=1e6):\n",
        "  \"\"\"\n",
        "  gradient descent for f\n",
        "\n",
        "  arguments: f - callable function\n",
        "             df - gradient, callable\n",
        "             x0 - starting point\n",
        "             epsilon: epsilon for Goldstein search\n",
        "             tol: stopping criterion for iteration: |df(x)| < tol\n",
        "             n_max: number of maximal iterations \n",
        "\n",
        "  returns: endpoint \n",
        "  \"\"\"\n",
        "  x_list=[x0]\n",
        "\n",
        "\n",
        "  x=x0\n",
        "  i=0\n",
        "\n",
        "  while(np.linalg.norm(df(*x))>tol and i<n_max):\n",
        "    x=x-df(*x)*goldstein_linesearch(lambda a: f(*(x-a*df(*x))),\n",
        "                                   -df(*x).dot(df(*x)),\n",
        "                                   epsilon)\n",
        "    i+=1\n",
        "    x_list.append(x)\n",
        "    print(np.linalg.norm(df(*x)))\n",
        "\n",
        "  return x_list\n",
        "\n"
      ],
      "metadata": {
        "id": "lv1fhSL_ljok"
      },
      "execution_count": 3,
      "outputs": []
    },
    {
      "cell_type": "code",
      "source": [
        "def visualize(x,f):\n",
        "  \"\"\"\n",
        "  function to visualize the objective and our progress\n",
        "  \n",
        "  \"\"\"\n",
        "  xx=np.linspace(min([i[0] for i in x])-3,max([i[0] for i in x])+3,num=100)\n",
        "  yy=np.linspace(min([i[1] for i in x])-3,max([i[1] for i in x])+3,num=100)\n",
        "  z=np.zeros((100,100),dtype=float)\n",
        "  for i in range(100):\n",
        "      for j in range(100):\n",
        "          z[j,i]=f(xx[i],yy[j])\n",
        "\n",
        "\n",
        "\n",
        "  plt.figure(figsize=(10,10))\n",
        "  c=plt.contourf(xx,yy,z,levels=30)\n",
        "  plt.colorbar(c)\n",
        "  plt.plot([i[0] for i in x],[i[1] for i in x],'-o',c='m')\n",
        "  plt.xlabel('x')\n",
        "  plt.ylabel('y')\n",
        "\n"
      ],
      "metadata": {
        "id": "JOOXXMcktbts"
      },
      "execution_count": 4,
      "outputs": []
    },
    {
      "cell_type": "code",
      "source": [
        "def visualize_vec(x,f):\n",
        "  \"\"\"\n",
        "  function to visualize the objective and our progress\n",
        "  \n",
        "  \"\"\"\n",
        "  xx=np.linspace(min([i[0] for i in x])-3,max([i[0] for i in x])+3,num=100)\n",
        "  yy=np.linspace(min([i[1] for i in x])-3,max([i[1] for i in x])+3,num=100)\n",
        "  z=np.zeros((100,100),dtype=float)\n",
        "  for i in range(100):\n",
        "      for j in range(100):\n",
        "          z[j,i]=f(np.array([xx[i],yy[j]]))\n",
        "\n",
        "\n",
        "\n",
        "  plt.figure(figsize=(10,10))\n",
        "  c=plt.contourf(xx,yy,z,levels=30)\n",
        "  plt.colorbar(c)\n",
        "  plt.plot([i[0] for i in x],[i[1] for i in x],'-o',c='m')\n",
        "  plt.xlabel('x')\n",
        "  plt.ylabel('y')"
      ],
      "metadata": {
        "id": "4ehiHzHFUi3f"
      },
      "execution_count": 5,
      "outputs": []
    },
    {
      "cell_type": "markdown",
      "source": [
        "#### tests\n",
        "\n",
        "We test with a quadratic and a 'power four' function.\n",
        "Since determining the exact solution only works for the quadratic case (it is unique then), we inspect convergence on a contour plot showing the values of the objective and our progress.\n",
        "\n",
        "During optomization, the norm of the gradients is printed"
      ],
      "metadata": {
        "id": "CIWSg2ySJryN"
      }
    },
    {
      "cell_type": "markdown",
      "source": [
        "$f_1(x,y)=3x^2+4y^2-xy-3x+4y$"
      ],
      "metadata": {
        "id": "qGyhz2AUMUNI"
      }
    },
    {
      "cell_type": "code",
      "source": [
        "xx=tt.dscalar()\n",
        "yy=tt.dscalar()\n",
        "zz=3*xx**2+4*yy**2-xx*yy-3*xx+4*yy\n",
        "dzz=tt.grad(zz,[xx,yy])\n",
        "\n",
        "f=theano.function([xx,yy],zz)\n",
        "df=theano.function([xx,yy],dzz)\n",
        "\n",
        "x=gradient_descent(f,lambda y,z: np.array(df(y,z)),np.array([10.,10.]),0.3,0.02)"
      ],
      "metadata": {
        "colab": {
          "base_uri": "https://localhost:8080/"
        },
        "id": "cp258y7csjSu",
        "outputId": "0bc0dadb-c187-4365-b223-d039fe386d9d"
      },
      "execution_count": 6,
      "outputs": [
        {
          "output_type": "stream",
          "name": "stdout",
          "text": [
            "21.806320757982075\n",
            "6.5347814914215\n",
            "2.594423505365944\n",
            "1.0399418601877706\n",
            "0.3099969036578316\n",
            "0.12320980381082763\n",
            "0.03707671237753387\n",
            "0.014707477774870983\n"
          ]
        }
      ]
    },
    {
      "cell_type": "code",
      "source": [
        "visualize(x,f)"
      ],
      "metadata": {
        "colab": {
          "base_uri": "https://localhost:8080/",
          "height": 606
        },
        "id": "gs9Fjjn6I7r5",
        "outputId": "9b0aeedd-553b-4db9-efb0-4231062213b5"
      },
      "execution_count": 7,
      "outputs": [
        {
          "output_type": "display_data",
          "data": {
            "image/png": "[encoded data removed]",
            "text/plain": [
              "<Figure size 720x720 with 2 Axes>"
            ]
          },
          "metadata": {
            "needs_background": "light"
          }
        }
      ]
    },
    {
      "cell_type": "markdown",
      "source": [
        "$f_2(x,y)=3x^4+8y^2-8x^2y-5x+4y$"
      ],
      "metadata": {
        "id": "uKm5xhDLMgZZ"
      }
    },
    {
      "cell_type": "code",
      "source": [
        "xx=tt.dscalar()\n",
        "yy=tt.dscalar()\n",
        "zz=3*xx**4+8*yy**2-8*xx**2*yy-5*xx+4*yy\n",
        "dzz=tt.grad(zz,[xx,yy])\n",
        "\n",
        "f=theano.function([xx,yy],zz)\n",
        "df=theano.function([xx,yy],dzz)\n",
        "\n",
        "x=gradient_descent(f,lambda y,z: np.array(df(y,z)),np.array([1.,10.]),0.3,0.02)"
      ],
      "metadata": {
        "colab": {
          "base_uri": "https://localhost:8080/"
        },
        "id": "QRdenfmfJO74",
        "outputId": "31305274-44c3-4a77-a03a-2b0157614f86"
      },
      "execution_count": 8,
      "outputs": [
        {
          "output_type": "stream",
          "name": "stdout",
          "text": [
            "312.8037701993608\n",
            "81.68834186065986\n",
            "67.5583897457515\n",
            "57.87351474651341\n",
            "45.80345140782891\n",
            "39.022544482020855\n",
            "56.86486138579476\n",
            "39.07227744050052\n",
            "57.09884827353569\n",
            "32.96928947823386\n",
            "40.13209140705817\n",
            "23.97128611232214\n",
            "37.12090960883563\n",
            "18.06759559023886\n",
            "44.19379394016793\n",
            "9.96278625400586\n",
            "6.661403139481448\n",
            "4.671879093489574\n",
            "5.930735127354561\n",
            "2.7159198361253925\n",
            "2.9433139919530626\n",
            "1.1295053068516367\n",
            "0.8729070990041011\n",
            "0.7487841336929383\n",
            "0.3428107379709682\n",
            "0.0976626837850851\n",
            "0.06055660185467535\n",
            "0.021896928932757576\n",
            "0.006882785669673134\n"
          ]
        }
      ]
    },
    {
      "cell_type": "code",
      "source": [
        "visualize(x,f)"
      ],
      "metadata": {
        "colab": {
          "base_uri": "https://localhost:8080/",
          "height": 606
        },
        "id": "eqE0ADLzJXqc",
        "outputId": "6402ed4b-6637-4558-db0a-b94f59f3d3ca"
      },
      "execution_count": 9,
      "outputs": [
        {
          "output_type": "display_data",
          "data": {
            "image/png": "[encoded data removed]",
            "text/plain": [
              "<Figure size 720x720 with 2 Axes>"
            ]
          },
          "metadata": {
            "needs_background": "light"
          }
        }
      ]
    },
    {
      "cell_type": "markdown",
      "source": [
        "As general remark, we can say that the gradient method works, but the speed of convergence indeed depends on the 'complexity' of the function we want to optimize.\n",
        "\n",
        "For the second function, we can also observe a typical phenomenon associated with gradient methods: the 'zigzagging' behaviour.\n",
        "\n",
        "I also remark, that the value of TOL indeed had a great impact on convergence. I observed cases when the method did not converge because at the end, a small gradient 'zigzag' prevented the method from terminating.\n",
        "\n",
        "In conclusion, we can say that the vanilla GD may not be the best optimization method, but we cannot give a definitive verdict, since as usual, everything depends on the objective"
      ],
      "metadata": {
        "id": "Xw9Yb_z_LFDA"
      }
    },
    {
      "cell_type": "markdown",
      "source": [
        "### 2) Newton method\n",
        "\n",
        "This method is based on the second order Taylor-series approximation of the objective function.\n",
        "\n",
        "$f(x) ≈ f(x_k) + ∇f(x_k) (x-x_k) + \\frac{1}{2} (x-x_k)^{T} f''(x_k) (x-x_k)$\n",
        "\n",
        "It is easy to check that if the Hessian is positive definite, then the RHS is minimized by $x_{k+1}=x_k-(f''(x_k)^{-1} ∇f(x_k)$, which is indeed the update formula applied in the method"
      ],
      "metadata": {
        "id": "aj_UsOVPh27x"
      }
    },
    {
      "cell_type": "code",
      "source": [
        "def newton_optimizer(df,Hf,x0,tol,n_max=10000):\n",
        "  '''\n",
        "  Newton optimizer for f(x), assuming that df,Hf are functions for the gradient of f and its Jacobian\n",
        "\n",
        "  stopping criterion: |df(x)|<tol\n",
        "  '''\n",
        "\n",
        "\n",
        "  x_list=[x0]\n",
        "  x=x0\n",
        "  i=0\n",
        "\n",
        "  while(np.linalg.norm(df(x))>tol and i<n_max):\n",
        "    x=x-np.linalg.inv(Hf(x)).dot(df(x))\n",
        "    i+=1\n",
        "    x_list.append(x)\n",
        "    print(np.linalg.norm(df(x)))\n",
        "\n",
        "  return x_list\n",
        "\n",
        "\n"
      ],
      "metadata": {
        "id": "4q4sgnU548e6"
      },
      "execution_count": 10,
      "outputs": []
    },
    {
      "cell_type": "markdown",
      "source": [
        "we use the second function from above:\n",
        "$f_2(x,y)=3x^4+8y^2-8x^2y-5x+4y$"
      ],
      "metadata": {
        "id": "BoA-skp-VTeL"
      }
    },
    {
      "cell_type": "code",
      "source": [
        "\n",
        "x=tt.dvector()\n",
        "z=3*x[0]**4+8*x[1]**2-8*x[0]**2*x[1]-5*x[0]+4*x[1]\n",
        "dz=tt.grad(z,x)\n",
        "Hz=theano.gradient.hessian(z,x)\n",
        "\n",
        "\n",
        "f=theano.function([x],z)\n",
        "df=theano.function([x],dz)\n",
        "Hf=theano.function([x],Hz)\n",
        "\n",
        "\n",
        "x=newton_optimizer(df,Hf,np.array([1.,10.]),0.02)"
      ],
      "metadata": {
        "colab": {
          "base_uri": "https://localhost:8080/"
        },
        "id": "5vSGN6PZNO9s",
        "outputId": "a227a286-7d51-4232-dc45-28ae47dfcbd2"
      },
      "execution_count": 11,
      "outputs": [
        {
          "output_type": "stream",
          "name": "stdout",
          "text": [
            "3.352160904916733\n",
            "0.8094517621624759\n",
            "0.037386211755899186\n",
            "0.00012068972569301964\n"
          ]
        }
      ]
    },
    {
      "cell_type": "code",
      "source": [
        "visualize_vec(x,f)"
      ],
      "metadata": {
        "colab": {
          "base_uri": "https://localhost:8080/",
          "height": 606
        },
        "id": "JUKRx3N5mECH",
        "outputId": "5a063e07-3f17-4d1f-8cb9-bcf4ca5d3677"
      },
      "execution_count": 12,
      "outputs": [
        {
          "output_type": "display_data",
          "data": {
            "image/png": "[encoded data removed]",
            "text/plain": [
              "<Figure size 720x720 with 2 Axes>"
            ]
          },
          "metadata": {
            "needs_background": "light"
          }
        }
      ]
    },
    {
      "cell_type": "markdown",
      "source": [
        "we can see that in our case, the Newton method is superior to gradient descent, but it scales poorly to higher dimensions, since it involves computing and inverting the Hessian\n",
        "\n",
        "this may be the reason that gradient methods with some kind of momentum are very common in high dimensional optimization "
      ],
      "metadata": {
        "id": "32MzGAihU1zS"
      }
    },
    {
      "cell_type": "markdown",
      "metadata": {
        "id": "SsQLT38gVbn_"
      },
      "source": [
        "\n",
        "# **Summary, discussion**"
      ]
    },
    {
      "cell_type": "markdown",
      "metadata": {
        "id": "RLwlnOzuV-Cd"
      },
      "source": [
        "Conclusions after each method.\n",
        "\n",
        "It is very hard to make general comments on global optimization, since everything depends on the function we want to minimize.\n",
        "\n",
        "It is the best to know multiple methods and actively supervise the optimization process"
      ]
    },
    {
      "cell_type": "code",
      "source": [
        ""
      ],
      "metadata": {
        "id": "G6dWmBvRnGYm"
      },
      "execution_count": 12,
      "outputs": []
    }
  ]
}