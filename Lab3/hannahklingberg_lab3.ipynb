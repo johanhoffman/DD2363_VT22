{
  "nbformat": 4,
  "nbformat_minor": 0,
  "metadata": {
    "colab": {
      "name": "Kopia av Lab 3 Hanna Klingberg.ipynb",
      "provenance": [],
      "include_colab_link": true
    },
    "kernelspec": {
      "name": "python3",
      "display_name": "Python 3"
    }
  },
  "cells": [
    {
      "cell_type": "markdown",
      "metadata": {
        "id": "view-in-github",
        "colab_type": "text"
      },
      "source": [
        "<a href=\"https://colab.research.google.com/github/johanhoffman/DD2363_VT22/blob/hannahklingberg-Lab3/Lab3/hannahklingberg_lab3.ipynb\" target=\"_parent\"><img src=\"https://colab.research.google.com/assets/colab-badge.svg\" alt=\"Open In Colab\"/></a>"
      ]
    },
    {
      "cell_type": "markdown",
      "metadata": {
        "id": "6RgtXlfYO_i7"
      },
      "source": [
        "# **Lab 3: Iterative Methods**\n",
        "**Hanna Klingberg**"
      ]
    },
    {
      "cell_type": "markdown",
      "metadata": {
        "id": "9x_J5FVuPzbm"
      },
      "source": [
        "# **Abstract**"
      ]
    },
    {
      "cell_type": "markdown",
      "metadata": {
        "id": "yJipbXtnjrJZ"
      },
      "source": [
        "This lab explores fundamental methods to iteratively solve non-linear equations and equation systems. The functions defined in this lab are Jacobi iteration, Gauss-Seidel iteration, Newtons method for solving non-linear equations and Newtons method for solving non-linear equation systems. All functions and the theory behind them are described below. All defined algorithms passed their tests."
      ]
    },
    {
      "cell_type": "markdown",
      "metadata": {
        "id": "OkT8J7uOWpT3"
      },
      "source": [
        "#**About the code**"
      ]
    },
    {
      "cell_type": "markdown",
      "metadata": {
        "id": "HmB2noTr1Oyo"
      },
      "source": [
        "A short statement on who is the author of the file, and if the code is distributed under a certain license. "
      ]
    },
    {
      "cell_type": "code",
      "metadata": {
        "id": "Pdll1Xc9WP0e",
        "colab": {
          "base_uri": "https://localhost:8080/",
          "height": 36
        },
        "outputId": "49308f09-9b56-4761-ca57-f27e8aca8778"
      },
      "source": [
        "\"\"\"This program is a template for lab reports in the course\"\"\"\n",
        "\"\"\"DD2363 Methods in Scientific Computing, \"\"\"\n",
        "\"\"\"KTH Royal Institute of Technology, Stockholm, Sweden.\"\"\"\n",
        "\n",
        "# Copyright (C) 2020 Johan Hoffman (jhoffman@kth.se)\n",
        "\n",
        "# This file is part of the course DD2365 Advanced Computation in Fluid Mechanics\n",
        "# KTH Royal Institute of Technology, Stockholm, Sweden\n",
        "#\n",
        "# This is free software: you can redistribute it and/or modify\n",
        "# it under the terms of the GNU Lesser General Public License as published by\n",
        "# the Free Software Foundation, either version 3 of the License, or\n",
        "# (at your option) any later version.\n",
        "\n",
        "# This template is maintained by Johan Hoffman\n",
        "# Please report problems to jhoffman@kth.se"
      ],
      "execution_count": 55,
      "outputs": [
        {
          "output_type": "execute_result",
          "data": {
            "application/vnd.google.colaboratory.intrinsic+json": {
              "type": "string"
            },
            "text/plain": [
              "'KTH Royal Institute of Technology, Stockholm, Sweden.'"
            ]
          },
          "metadata": {},
          "execution_count": 55
        }
      ]
    },
    {
      "cell_type": "markdown",
      "metadata": {
        "id": "28xLGz8JX3Hh"
      },
      "source": [
        "# **Set up environment**"
      ]
    },
    {
      "cell_type": "markdown",
      "metadata": {
        "id": "D2PYNusD08Wa"
      },
      "source": [
        "To have access to the neccessary modules you have to run this cell. If you need additional modules, this is where you add them. "
      ]
    },
    {
      "cell_type": "code",
      "metadata": {
        "id": "Xw7VlErAX7NS"
      },
      "source": [
        "# Load neccessary modules.\n",
        "from google.colab import files\n",
        "\n",
        "import time\n",
        "import numpy as np\n",
        "import math\n",
        "\n",
        "#try:\n",
        "#    from dolfin import *; from mshr import *\n",
        "#except ImportError as e:\n",
        "#    !apt-get install -y -qq software-properties-common \n",
        "#    !add-apt-repository -y ppa:fenics-packages/fenics\n",
        "#    !apt-get update -qq\n",
        "#    !apt install -y --no-install-recommends fenics\n",
        "#    from dolfin import *; from mshr import *\n",
        "    \n",
        "#import dolfin.common.plotting as fenicsplot\n",
        "\n",
        "from matplotlib import pyplot as plt\n",
        "from matplotlib import tri\n",
        "from matplotlib import axes\n",
        "from mpl_toolkits.mplot3d import Axes3D"
      ],
      "execution_count": 56,
      "outputs": []
    },
    {
      "cell_type": "markdown",
      "metadata": {
        "id": "gnO3lhAigLev"
      },
      "source": [
        "# **Introduction**"
      ]
    },
    {
      "cell_type": "markdown",
      "metadata": {
        "id": "l5zMzgPlRAF6"
      },
      "source": [
        "This lab explores iterative methods to solve non linear equations and equation systems. \n",
        "\n"
      ]
    },
    {
      "cell_type": "markdown",
      "metadata": {
        "id": "jOQvukXZq5U5"
      },
      "source": [
        "# **Method**"
      ]
    },
    {
      "cell_type": "markdown",
      "metadata": {
        "id": "zF4iBj5VURZx"
      },
      "source": [
        "The theory behind the functions is described in the section of each function, as well as the method for testing the algorithms. "
      ]
    },
    {
      "cell_type": "markdown",
      "source": [
        "# **Jacobi Iteration for Ax=b**\n",
        "\n",
        "Jacobi Iteration iterates a solution x to Ax=b. The function takes A and b as input, and iterates according to the formula:\n",
        "$x_i^{(k+1)} = a_{ii}^{-1}\\Bigg( b_i - \\sum_{j \\neq i} a_{ij}x_j^{(k)} \\Bigg) $              $\\forall i$\n",
        "\n",
        "The function uses the matrix D as the matrix with all diagonal elements of A, and D_inv as the inverse of A. The variable 'residual' is used as a stopping criteria for the iteration and it is defined as 1 initially and then redefined as the norm ||Ax-b|| after each iteration. The iteration continues until residual is smaller than $10^{-8}$, or until the number of max iterations is reached. The initial vector x is always defined as a zero vector. \n",
        "\n",
        "The tests are done by testing the residual norm ||Ax-b||, where x is the vector returned from the Jacobi iteration, and ||x-y||, where y is the manufactured solution to the equation Ax=b. \n",
        "\n",
        "(Reference: Chapter 7.7 of course book)"
      ],
      "metadata": {
        "id": "SbMTkP4xkSd_"
      }
    },
    {
      "cell_type": "code",
      "source": [
        "def jacobi_it(A,b):\n",
        "  max_iter = 1000\n",
        "  iter = 0\n",
        "  n = A.shape[0]\n",
        "  D = np.zeros((A.shape))\n",
        "  for i in range(len(D)):\n",
        "    D[i][i] = A[i][i]\n",
        "  D_inv = np.linalg.inv(D)\n",
        "  x1 = np.zeros(n)\n",
        "  x2 = np.zeros(n)\n",
        "  residual = 1\n",
        "  while residual > 10**-8 and iter < max_iter:\n",
        "    for i in range(n):\n",
        "      sum = 0\n",
        "      for j in range(n):\n",
        "        if i != j:\n",
        "          sum += A[i][j]*x1[j]\n",
        "      x2[i] = D_inv[i][i] *(b[i]-sum)\n",
        "    for i in range(n):\n",
        "      x1[i] = x2[i]\n",
        "    residual = np.linalg.norm(np.dot(A,x2)-b)\n",
        "    iter += 1\n",
        "  if np.isclose(np.linalg.norm(np.dot(A,x2)-b), 0, 10**-6):\n",
        "    return x2\n",
        "  else:\n",
        "    return \"did not converge\""
      ],
      "metadata": {
        "id": "aNeZK1ackWXv"
      },
      "execution_count": 57,
      "outputs": []
    },
    {
      "cell_type": "code",
      "source": [
        "def test_jacobi():\n",
        "  passed = False\n",
        "  A = np.array([[2,1],[1,2]])\n",
        "  b = np.array([3,3])\n",
        "  y = np.dot(np.linalg.inv(A), b)\n",
        "  x = jacobi_it(A,b)\n",
        "  test = np.subtract(x, y) \n",
        "  if not np.isclose(np.linalg.norm(test), 0, 10**-6):\n",
        "    return False\n",
        "  passed = True\n",
        "  if not np.isclose(np.linalg.norm(np.dot(A,x) - b), 0, 10**-6):\n",
        "    return False\n",
        "  return passed\n"
      ],
      "metadata": {
        "id": "O9eei0OOmDMG"
      },
      "execution_count": 58,
      "outputs": []
    },
    {
      "cell_type": "markdown",
      "source": [
        "# **Gauss-Seidel iteration for Ax=b**\n",
        "\n",
        "Gauss-Seidel iteration is an iterative method to find the solution x for Ax = b, where x is iteratively calculated as:\n",
        "\n",
        "$x_i^{(k+1)} = a_{ii}^{-1} \\Bigg( b_i - \\sum_{j < i} a_{ij} x_j^{(k+1)} - \\sum_{j > i} a_{ij}x_j^{(k)} \\Bigg)$ $\\forall i $\n",
        "\n",
        "The function takes a matrix A and vector b as input. It assumes the initial x as a zero vector, and then iteratively calculates x in the while loop. The stopping criteria are the same as for the Jacobi iteration. The initial vector x is always defined as a zero vector. \n",
        "\n",
        "The function is tested by checking the norms ||x-y||, where y is the manufactured solution to Ax=b, and ||Ax-b|| for the vector x returned by the function. \n",
        "\n",
        "(Reference: Chapter 7.7 of course book)"
      ],
      "metadata": {
        "id": "BihdlGCSoXqF"
      }
    },
    {
      "cell_type": "code",
      "source": [
        "def gauss_seidel(A,b):\n",
        "  max_iter = 1000\n",
        "  iter = 0\n",
        "  n = A.shape[0]\n",
        "  x = np.zeros(n)\n",
        "  residual = 1\n",
        "  while residual > 10**-8 and iter < max_iter:\n",
        "    for i in range(n):\n",
        "      sum1 = 0\n",
        "      sum2 = 0 \n",
        "      for j in range(i):\n",
        "          sum1 += A[i][j]*x[j]\n",
        "      for j in range(i+1, n):\n",
        "        sum2 += A[i][j]*x[j] \n",
        "      x[i] =(1/A[i,i])*(b[i]-sum1 - sum2)\n",
        "    residual = np.linalg.norm(np.dot(A,x)-b)\n",
        "    iter += 1\n",
        "  if np.isclose(np.linalg.norm(np.dot(A,x)-b), 0, 10**-6):\n",
        "    return x\n",
        "  else:\n",
        "    return \"did not converge\" "
      ],
      "metadata": {
        "id": "3im5pCuUocqp"
      },
      "execution_count": 59,
      "outputs": []
    },
    {
      "cell_type": "code",
      "source": [
        "def test_gauss_seidel():\n",
        "  passed = False\n",
        "  A = np.array([[2,1],[1,2]])\n",
        "  b = np.array([3,3])\n",
        "  y = np.dot(np.linalg.inv(A), b)\n",
        "  x = gauss_seidel(A,b)\n",
        "  test = np.subtract(x, y) \n",
        "  if not np.isclose(np.linalg.norm(test), 0, 10**-6):\n",
        "    return False\n",
        "  passed = True\n",
        "  if not np.isclose(np.linalg.norm(np.dot(A,x) - b), 0, 10**-6):\n",
        "    return False\n",
        "  return passed\n"
      ],
      "metadata": {
        "id": "v1z1-3PsovSc"
      },
      "execution_count": 60,
      "outputs": []
    },
    {
      "cell_type": "markdown",
      "source": [
        "# **Newtons Method for the Non-linear Equation**\n",
        "\n",
        "Newtons method is an iterative method for solving non linear equation $f(x) = 0$. The method can be interpreted as that $x^{(k+1)}$ is determined by the tangent line of the function $f(x)$ at $x^{(k)}$\n",
        "\n",
        "The algorithm takes the function and its derivative as input, and itertatively approximates x. The initial guess $x_0$ is always 1. The iteration ends when either the absolute vale of f(x) is less than $10^{-8}$ or when the maximum number of iterations is reached. The solution is checked before it's returned, and it is determined whether it is a correct solution or if the function did not converge. \n",
        "\n",
        "The testing is done by checking that |f(x)| = 0 and |x-y| = 0 where x is the solution returned by the algorithm and y is the manufactured solution to the algorithm. \n",
        "\n",
        "(Reference: Chapter 8.3 of course book)"
      ],
      "metadata": {
        "id": "CH6-xWRlxWaV"
      }
    },
    {
      "cell_type": "code",
      "source": [
        "\n",
        "def newtons_method(f, derivative):\n",
        "  x = 1\n",
        "  TOL = 10**-8\n",
        "  iter = 0\n",
        "  max_iter = 1000\n",
        "  while abs(f(x)) > TOL and iter < max_iter:\n",
        "    fx = f(x)\n",
        "    derivativex = derivative(x)\n",
        "    if derivativex == 0:\n",
        "      return \"Error, derivative is 0\"\n",
        "    x -= fx / derivativex\n",
        "    iter +=1\n",
        "  if np.isclose(f(x), 0, 10**-6):\n",
        "    return x \n",
        "  else:\n",
        "    return \"did not converge\""
      ],
      "metadata": {
        "id": "pUGLndT4bQw8"
      },
      "execution_count": 61,
      "outputs": []
    },
    {
      "cell_type": "code",
      "source": [
        "def test_newton():\n",
        "  passed = False\n",
        "  test1 = newtons_method(lambda x: math.cos(x), lambda x: -math.sin(x))\n",
        "  if np.isclose(math.cos(test1), 0, 10**-6):\n",
        "    passed = True\n",
        "  else:\n",
        "     return False\n",
        "  if np.isclose((math.pi/2) - test1, 0, 10**-6):\n",
        "    passed = True\n",
        "  else:\n",
        "    return False\n",
        "  func2 = lambda x: x**2 - 3\n",
        "  deriv2 = lambda x: 2*x \n",
        "  test2 = newtons_method(func2, deriv2)\n",
        "  if np.isclose(func2(test2), 0, 10**-6):\n",
        "    passed = True\n",
        "  else:\n",
        "    return False\n",
        "  if np.isclose(math.sqrt(3) - test2, 0, 10**-6):\n",
        "    passed = True\n",
        "  else:\n",
        "    return False\n",
        "  return passed\n"
      ],
      "metadata": {
        "id": "PuACjr8kcdLO"
      },
      "execution_count": 62,
      "outputs": []
    },
    {
      "cell_type": "markdown",
      "source": [
        "# **Newtons Method for vector nonlinear equation**\n",
        "Newtons method for vector nonlinear equation is an iterative method for solving a system of non-linear equations. The algorithm is implemented according to the pseudo-code given in algorithm 8.4 (chapter 8.4, course book). \n",
        "\n",
        "The algorithm takes as input a function f, its jacobian matrix df and n, which is the length of the output vector x. It returns the estimated solution x such that f(x) = 0. \n",
        "\n",
        "The testing is done by calculating ||f(x)|| and ||x-y||, where x is the returned solution and y is a manufactured solution. The function and matrix used as test input is taken from a former students work (https://github.com/johanhoffman/DD2363-VT20/blob/master/Lab-3/iZafiro_lab3.ipynb )\n",
        "\n",
        "(Reference: Chapter 8.4 of course book)\n"
      ],
      "metadata": {
        "id": "lww82xvpAHa4"
      }
    },
    {
      "cell_type": "code",
      "source": [
        "def newtons_vec_met(f, df, n):\n",
        "  x = np.zeros(n)\n",
        "  residual = 1\n",
        "  while residual > 10**-8:\n",
        "    fx = f(x)\n",
        "    dfx = df(x)\n",
        "    if np.linalg.det(dfx) == 0:\n",
        "      return \"determinant of jacobian is 0, so it is not invertible\"\n",
        "    dx = - np.dot(np.linalg.inv(dfx), fx)\n",
        "    x += dx\n",
        "    residual = np.linalg.norm(fx)\n",
        "  if np.isclose(np.linalg.norm(f(x)), 0, 10**-6):\n",
        "    return x \n",
        "  else:\n",
        "    return \"did not converge\""
      ],
      "metadata": {
        "id": "kG2Km-LJAHMv"
      },
      "execution_count": 63,
      "outputs": []
    },
    {
      "cell_type": "code",
      "source": [
        "def test_newton_vec():\n",
        "  passed = False\n",
        "  func1 = lambda x: np.array([2*x[0] - 3*x[1] + 5, 4*x[0] - 7*x[1] + 10])\n",
        "  jacob1 = lambda x: np.array([[2, -3], [4, -7]])\n",
        "  test = newtons_vec_met(func1, jacob1, 2)\n",
        "  norm = np.linalg.norm(func1(test))\n",
        "  if not np.isclose(norm, 0, 10**-8):\n",
        "    return False\n",
        "  passed = True\n",
        "  sol = [-2.5, 0]\n",
        "  if not np.isclose(np.linalg.norm(test - sol), 0, 10**-8):\n",
        "    return False\n",
        "  return passed\n",
        "\n"
      ],
      "metadata": {
        "id": "GvlPeiWqCdUB"
      },
      "execution_count": 64,
      "outputs": []
    },
    {
      "cell_type": "markdown",
      "metadata": {
        "id": "SsQLT38gVbn_"
      },
      "source": [
        "# **Results**"
      ]
    },
    {
      "cell_type": "markdown",
      "metadata": {
        "id": "RLwlnOzuV-Cd"
      },
      "source": [
        "All functions passed their tests, as can be seen below. The test conditions are defined in the definition of each function. "
      ]
    },
    {
      "cell_type": "code",
      "source": [
        "def test_all():\n",
        "  passed = 0\n",
        "  if test_jacobi():\n",
        "    passed +=1\n",
        "    print(\"Jacobi Iteration passed the tests\")\n",
        "  if test_gauss_seidel():\n",
        "    passed +=1\n",
        "    print(\"Gauss Seidel Iteration passed the tests\")\n",
        "  if test_newton():\n",
        "    passed +=1\n",
        "    print(\"Newtons Method passed the tests\")\n",
        "  if test_newton_vec():\n",
        "    passed += 1\n",
        "    print(\"Newtons Vector Method passed the tests\")\n",
        "  print(\"%d of 4 functions passed their tests\" %(passed))\n",
        "test_all()\n",
        "  "
      ],
      "metadata": {
        "colab": {
          "base_uri": "https://localhost:8080/"
        },
        "id": "uthClzkH5w8I",
        "outputId": "92246509-b9fa-444b-e946-4e2fac3b754a"
      },
      "execution_count": 65,
      "outputs": [
        {
          "output_type": "stream",
          "name": "stdout",
          "text": [
            "Jacobi Iteration passed the tests\n",
            "Gauss Seidel Iteration passed the tests\n",
            "Newtons Method passed the tests\n",
            "Newtons Vector Method passed the tests\n",
            "4 of 4 functions passed their tests\n"
          ]
        }
      ]
    },
    {
      "cell_type": "markdown",
      "metadata": {
        "id": "_4GLBv0zWr7m"
      },
      "source": [
        "# **Discussion**"
      ]
    },
    {
      "cell_type": "markdown",
      "metadata": {
        "id": "6bcsDSoRXHZe"
      },
      "source": [
        "All functions passed their tests, and are thus correctly implemented. I have not implemented any error handling, and thus assume that the input is correct, which is a weakness of the algorithms. The two first iteration functions, Jacobi and Gauss-Seidel, could also be solved with the use of Richardson iteration, but I chose not to do so and instead use the equations as defined in the book. For the Newtons method to solve non-linear equation systems I had some trouble to come up with a test case, so I used one from a former student. "
      ]
    }
  ]
}