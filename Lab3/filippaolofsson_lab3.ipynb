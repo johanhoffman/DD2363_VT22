{
  "nbformat": 4,
  "nbformat_minor": 0,
  "metadata": {
    "colab": {
      "name": "Kopia av template-report-lab-X.ipynb",
      "provenance": [],
      "include_colab_link": true
    },
    "kernelspec": {
      "name": "python3",
      "display_name": "Python 3"
    }
  },
  "cells": [
    {
      "cell_type": "markdown",
      "metadata": {
        "id": "view-in-github",
        "colab_type": "text"
      },
      "source": [
        "<a href=\"https://colab.research.google.com/github/johanhoffman/DD2363_VT22/blob/filippaolofsson-lab3/Lab3/filippaolofsson_lab3.ipynb\" target=\"_parent\"><img src=\"https://colab.research.google.com/assets/colab-badge.svg\" alt=\"Open In Colab\"/></a>"
      ]
    },
    {
      "cell_type": "markdown",
      "metadata": {
        "id": "6RgtXlfYO_i7"
      },
      "source": [
        "# **Lab: iterative methods**\n",
        "**Filippa Olofsson**"
      ]
    },
    {
      "cell_type": "markdown",
      "metadata": {
        "id": "9x_J5FVuPzbm"
      },
      "source": [
        "# **Abstract**"
      ]
    },
    {
      "cell_type": "markdown",
      "metadata": {
        "id": "yJipbXtnjrJZ"
      },
      "source": [
        "This lab consists of three assignments, Jacobi iteration and Gauss-Seidel iteration for Ax=b, and Newton's method for scalar nonlinear equation f(x)=0. "
      ]
    },
    {
      "cell_type": "markdown",
      "metadata": {
        "id": "OkT8J7uOWpT3"
      },
      "source": [
        "#**About the code**"
      ]
    },
    {
      "cell_type": "markdown",
      "metadata": {
        "id": "HmB2noTr1Oyo"
      },
      "source": [
        "A short statement on who is the author of the file, and if the code is distributed under a certain license. "
      ]
    },
    {
      "cell_type": "code",
      "metadata": {
        "id": "Pdll1Xc9WP0e",
        "colab": {
          "base_uri": "https://localhost:8080/",
          "height": 35
        },
        "outputId": "4f8c383e-0eba-44fc-dac8-ac0ae32a2260"
      },
      "source": [
        "\"\"\"This program is a template for lab reports in the course\"\"\"\n",
        "\"\"\"DD2363 Methods in Scientific Computing, \"\"\"\n",
        "\"\"\"KTH Royal Institute of Technology, Stockholm, Sweden.\"\"\"\n",
        "\n",
        "# Copyright (C) 2020 Johan Hoffman (jhoffman@kth.se)\n",
        "\n",
        "# This file is part of the course DD2365 Advanced Computation in Fluid Mechanics\n",
        "# KTH Royal Institute of Technology, Stockholm, Sweden\n",
        "#\n",
        "# This is free software: you can redistribute it and/or modify\n",
        "# it under the terms of the GNU Lesser General Public License as published by\n",
        "# the Free Software Foundation, either version 3 of the License, or\n",
        "# (at your option) any later version.\n",
        "\n",
        "# This template is maintained by Johan Hoffman\n",
        "# Please report problems to jhoffman@kth.se"
      ],
      "execution_count": 1,
      "outputs": [
        {
          "output_type": "execute_result",
          "data": {
            "application/vnd.google.colaboratory.intrinsic+json": {
              "type": "string"
            },
            "text/plain": [
              "'KTH Royal Institute of Technology, Stockholm, Sweden.'"
            ]
          },
          "metadata": {},
          "execution_count": 1
        }
      ]
    },
    {
      "cell_type": "markdown",
      "metadata": {
        "id": "28xLGz8JX3Hh"
      },
      "source": [
        "# **Set up environment**"
      ]
    },
    {
      "cell_type": "markdown",
      "metadata": {
        "id": "D2PYNusD08Wa"
      },
      "source": [
        "To have access to the neccessary modules you have to run this cell. If you need additional modules, this is where you add them. "
      ]
    },
    {
      "cell_type": "code",
      "metadata": {
        "id": "Xw7VlErAX7NS"
      },
      "source": [
        "# Load neccessary modules.\n",
        "from google.colab import files\n",
        "\n",
        "import time\n",
        "import numpy as np\n",
        "from matplotlib import pyplot as plt\n",
        "from matplotlib import tri\n",
        "from matplotlib import axes\n",
        "from mpl_toolkits.mplot3d import Axes3D"
      ],
      "execution_count": 2,
      "outputs": []
    },
    {
      "cell_type": "markdown",
      "metadata": {
        "id": "gnO3lhAigLev"
      },
      "source": [
        "# **Introduction**"
      ]
    },
    {
      "cell_type": "markdown",
      "metadata": {
        "id": "l5zMzgPlRAF6"
      },
      "source": [
        "In this lab three different iterative methods for solving equations is made. The first two are for solving matrix equations on the form Ax=b and the third one is the Newtons method for approximating x in a solution of a nonlinear equation f(x) = 0. \n"
      ]
    },
    {
      "cell_type": "markdown",
      "metadata": {
        "id": "jOQvukXZq5U5"
      },
      "source": [
        "# **Method**"
      ]
    },
    {
      "cell_type": "markdown",
      "source": [
        "### **1. Function: Jacobi iteration for Ax=b**"
      ],
      "metadata": {
        "id": "eDZV0RxAYw9o"
      }
    },
    {
      "cell_type": "markdown",
      "source": [
        "The Jacobi iteration is a stationary iterative method to find a solution of x for equations Ax=b. Jacobo iteration is shown to converge if A is diagonally dominant(Chapter 7, p. 152). Therefore the algorithm checks if the matrix A is diagonally dominant, with the equation: \n",
        "$|a_{ii}| \\geq \\sum_{i\\neq j} |a_{ij}| $ \n",
        "\n",
        "The convergence criterion $\\parallel$M$\\parallel$ < 1 is also checked if the matrix A is not diagonally dominant. \n",
        "\n",
        "The function Jacobi iteration is based on the formulas in example 7.8, Chapter 7, which iterativly finds a solution x.\n",
        "\n",
        "$x_{i}^{(k+1)} = a_{ii}^{-1} \\left( b_i - \\sum_{j\\neq i} a_{ij}x_j^{(k)} \\right)$\n",
        "\n",
        "The initial vector x is a zero-vector.  "
      ],
      "metadata": {
        "id": "lbfRpJs1ECRY"
      }
    },
    {
      "cell_type": "code",
      "source": [
        "def diagonally_dominant(D, R, n):\n",
        "    for i in range(0, n):\n",
        "      D_sum = np.sum(np.abs(D[i]))\n",
        "      R_sum = np.sum(np.abs(R[i]))\n",
        "      if D_sum < R_sum or (D_sum == 0 and R_sum == 0):\n",
        "        return False\n",
        "    return True"
      ],
      "metadata": {
        "id": "SunSv3DL5mIV"
      },
      "execution_count": 3,
      "outputs": []
    },
    {
      "cell_type": "code",
      "source": [
        "#Input: matrix A, vector b\n",
        "#Output: vector x\n",
        "\n",
        "def Jacobi_iteration(A, b):\n",
        "  n = len(b)\n",
        "  D = np.diag(np.diag(A))\n",
        "  R = A - D\n",
        "  Dinv = np.linalg.inv(D)\n",
        "  M_norm = np.linalg.norm(np.identity(n) - np.dot(Dinv, A))\n",
        "  dia_dom = diagonally_dominant(D, R, n)\n",
        "  if dia_dom is False and M_norm >= 1:\n",
        "    return \"Will not converge\"\n",
        "  \n",
        "  x1 = np.zeros(n)\n",
        "  x2 = np.zeros(n)\n",
        "  residual = np.linalg.norm(np.dot(A, x2) - b)\n",
        "  while residual > 1e-10:\n",
        "    for i in range(0, n):\n",
        "      sum = 0\n",
        "      for j in range(0, n):\n",
        "        if j != i:\n",
        "          sum += A[i][j]*x1[j]\n",
        "      x2[i] = Dinv[i][i] * (b[i] - sum)\n",
        "    for k in range(0, n):\n",
        "      x1[k] = x2[k]\n",
        "    residual = np.linalg.norm(np.dot(A, x2) - b)\n",
        "  return x2\n"
      ],
      "metadata": {
        "id": "bDMhlk5MYwFo"
      },
      "execution_count": 4,
      "outputs": []
    },
    {
      "cell_type": "markdown",
      "source": [
        "### **2. Function: Gauss-Seidel iteration for Ax=b**"
      ],
      "metadata": {
        "id": "UU42OZpjY5Qh"
      }
    },
    {
      "cell_type": "markdown",
      "source": [
        "The Gauss-Seidel iteration function is based on the Example 7.9. It is an iterative method to finding a solution of x for equations Ax = b. The function checks if the matrix A is diagonally dominant and if any diagonal element in A = 0. The convergence criterion $\\parallel Ι - L^{-1}$A $\\parallel < 1$, is also considered when the matrix A is not diagonally dominant. The initial vector x is a zero-vector.\n",
        "\n",
        "$x_{i}^{(k+1)} = a_{ii}^{-1} \\left( b_i - \\sum_{j < i} a_{ij}x_j^{(k+1)} - \\sum_{j > i} a_{ij}x_j^{(k)}\\right)$"
      ],
      "metadata": {
        "id": "I-JmWL6xrj6R"
      }
    },
    {
      "cell_type": "code",
      "source": [
        "#nput: matrix A, vector b\n",
        "#Output: vector x\n",
        "\n",
        "def Gauss_Seidel_iteration(A, b):\n",
        "  n = len(b) \n",
        "  D = np.diag(np.diag(A))\n",
        "  R = A - D\n",
        "  L = np.tril(A)\n",
        "  M = np.linalg.norm(np.identity(n) - np.dot(np.linalg.inv(L), A))\n",
        "  dia_dom = diagonally_dominant(D, R, n)\n",
        "  if dia_dom == False and M > 1:\n",
        "    return \"Will not converge\"\n",
        "  \n",
        "  x1 = np.zeros(n)\n",
        "  x2 = np.zeros(n)\n",
        "  residual = np.linalg.norm(np.dot(A, x2) - b)\n",
        "  while residual > 1e-10:\n",
        "    for i in range(0, n):\n",
        "      sum1 = 0\n",
        "      sum2 = 0\n",
        "      for j in range(0, n):\n",
        "        if j < i:\n",
        "          sum1 += A[i][j]*x2[j]\n",
        "        elif j > i:\n",
        "          sum2 += A[i][j]*x1[j]\n",
        "      x2[i] = (1/A[i][i]) * (b[i] - sum1 - sum2)\n",
        "      for k in range(0, n):\n",
        "        x1[i] = x2[i]\n",
        "      residual = np.linalg.norm(np.dot(A, x2) - b)\n",
        "  return x2 "
      ],
      "metadata": {
        "id": "pt3-t_UIY9Y0"
      },
      "execution_count": 5,
      "outputs": []
    },
    {
      "cell_type": "markdown",
      "source": [
        "### **3. Function: Newton's method for scalar nonlinear equation f(x)=0**"
      ],
      "metadata": {
        "id": "DTjG4_wFY-OU"
      }
    },
    {
      "cell_type": "markdown",
      "source": [
        "The function Newtons method is used to find an approximate solution to a nonlinear function f(x) = 0. \n",
        "This algorithm is based on algorithm 8.2, Chapter 8. The function begins with an initial guess of x and then iteratively computing a new x until the function f(x) is close to zero. \n",
        "\n",
        "$ x^{(k+1)} = x^{(k)} - \\frac{f(x^{(k)})}{f'(x^{(k)})}$"
      ],
      "metadata": {
        "id": "aozI9BZAg_qG"
      }
    },
    {
      "cell_type": "code",
      "source": [
        "#Input: scalar function f(x)\n",
        "#Output: real number x\n",
        "\n",
        "def Newtons_method(f, x0):\n",
        "  x = x0 #initial guess \n",
        "  TOL = 1e-10\n",
        "  h = 1e-10\n",
        "  while np.abs(f(x)) > TOL:\n",
        "    df = (f(x + h) - f(x)) / h\n",
        "    x = x - f(x)/df\n",
        "  return x"
      ],
      "metadata": {
        "id": "01tP4gafZD2_"
      },
      "execution_count": 6,
      "outputs": []
    },
    {
      "cell_type": "markdown",
      "metadata": {
        "id": "SsQLT38gVbn_"
      },
      "source": [
        "# **Results**"
      ]
    },
    {
      "cell_type": "markdown",
      "metadata": {
        "id": "RLwlnOzuV-Cd"
      },
      "source": [
        "There are 3 testcases for each problem, the tests are described with comments in the code below. "
      ]
    },
    {
      "cell_type": "code",
      "source": [
        "A1 = np.array([[9, 7], \n",
        "               [6, 6]])\n",
        "A2 = np.array([[10, 5],\n",
        "               [0, 6]])\n",
        "A3 = np.array([[8, 3, 2], \n",
        "               [4, 11, 0], \n",
        "               [6, 2, 9]])\n",
        "\n",
        "b1 = np.array([6, 7])\n",
        "b2 = np.array([1, 0])\n",
        "b3 = np.array([10, 1, 7])\n",
        "\n",
        "# 1. Tests Jacobi iteration\n",
        "x1 = Jacobi_iteration(A1, b1)\n",
        "x2 = Jacobi_iteration(A2, b2)\n",
        "x3 = Jacobi_iteration(A3, b3)\n",
        "\n",
        "# || x-y || for manufactured/exact solution y \n",
        "assert np.linalg.norm(x1 - np.dot(np.linalg.inv(A1), b1)) <= 1e-10\n",
        "assert np.linalg.norm(x2 - np.dot(np.linalg.inv(A2), b2)) <= 1e-10\n",
        "assert np.linalg.norm(x3 - np.dot(np.linalg.inv(A3), b3)) <= 1e-10\n",
        "\n",
        "# || Ax-b || \n",
        "assert np.linalg.norm(np.dot(A1, x1) - b1) <= 1e-10\n",
        "assert np.linalg.norm(np.dot(A2, x2) - b2) <= 1e-10\n",
        "assert np.linalg.norm(np.dot(A3, x3) - b3) <= 1e-10\n",
        "\n",
        "print(\"Test 1: passed\")\n",
        "\n",
        "\n",
        "# 2. Tests Gauss Seidel iteration\n",
        "y1 = Gauss_Seidel_iteration(A1, b1)\n",
        "y2 = Gauss_Seidel_iteration(A2, b2)\n",
        "y3 = Gauss_Seidel_iteration(A3, b3)\n",
        "\n",
        "# || x-y || for manufactured/exact solution y\n",
        "assert np.linalg.norm(x1 - np.dot(np.linalg.inv(A1), b1)) <= 1e-10\n",
        "assert np.linalg.norm(x2 - np.dot(np.linalg.inv(A2), b2)) <= 1e-10\n",
        "assert np.linalg.norm(x3 - np.dot(np.linalg.inv(A3), b3)) <= 1e-10\n",
        "\n",
        "# || Ax-b || \n",
        "assert np.linalg.norm(np.dot(A1, x1) - b1) <= 1e-10\n",
        "assert np.linalg.norm(np.dot(A2, x2) - b2) <= 1e-10\n",
        "assert np.linalg.norm(np.dot(A3, x3) - b3) <= 1e-10\n",
        "\n",
        "print(\"Test 2: passed\")\n",
        "\n",
        "\n",
        "# 3. Tests Newtons Method\n",
        "def f1(x):\n",
        "  return np.cos(x) \n",
        "\n",
        "def f2(x):\n",
        "  return np.sin(x) + x\n",
        "\n",
        "def f3(x):\n",
        "  return x**2 - 3\n",
        "\n",
        "x1 = Newtons_method(f1, 1)\n",
        "x2 = Newtons_method(f2, 1)\n",
        "x3 = Newtons_method(f3, 1)\n",
        "\n",
        "# convergence of residual |f(x)|\n",
        "assert np.linalg.norm(f1(x1)) <= 1e-10\n",
        "assert np.linalg.norm(f2(x2)) <= 1e-10\n",
        "assert np.linalg.norm(f3(x3)) <= 1e-10\n",
        "\n",
        "# |x-y| for manufactured/exact solution y\n",
        "assert (x1 - np.pi/2) <= 1e-10\n",
        "assert (x2 - 0) <= 1e-10\n",
        "assert (x3 - np.sqrt(3)) <= 1e-10\n",
        "\n",
        "print(\"Test 3: passed\")"
      ],
      "metadata": {
        "colab": {
          "base_uri": "https://localhost:8080/"
        },
        "id": "bxEAv_KXbxTe",
        "outputId": "aef89b97-4f88-4b10-e236-9e3c5573b06b"
      },
      "execution_count": 7,
      "outputs": [
        {
          "output_type": "stream",
          "name": "stdout",
          "text": [
            "Test 1: passed\n",
            "Test 2: passed\n",
            "Test 3: passed\n"
          ]
        }
      ]
    },
    {
      "cell_type": "markdown",
      "metadata": {
        "id": "_4GLBv0zWr7m"
      },
      "source": [
        "# **Discussion**"
      ]
    },
    {
      "cell_type": "markdown",
      "metadata": {
        "id": "6bcsDSoRXHZe"
      },
      "source": [
        "I think this lab was interesting and the results where expected. "
      ]
    }
  ]
}