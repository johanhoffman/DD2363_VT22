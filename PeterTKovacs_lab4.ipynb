{
  "nbformat": 4,
  "nbformat_minor": 0,
  "metadata": {
    "colab": {
      "name": "PeterTKovacs_lab4.ipynb",
      "provenance": [],
      "collapsed_sections": [],
      "include_colab_link": true
    },
    "kernelspec": {
      "name": "python3",
      "display_name": "Python 3"
    }
  },
  "cells": [
    {
      "cell_type": "markdown",
      "metadata": {
        "id": "view-in-github",
        "colab_type": "text"
      },
      "source": [
        "<a href=\"https://colab.research.google.com/github/johanhoffman/DD2363_VT22/blob/PeterTKovacs_lab4/PeterTKovacs_lab4.ipynb\" target=\"_parent\"><img src=\"https://colab.research.google.com/assets/colab-badge.svg\" alt=\"Open In Colab\"/></a>"
      ]
    },
    {
      "cell_type": "markdown",
      "metadata": {
        "id": "6RgtXlfYO_i7"
      },
      "source": [
        "**Lab 4: function approximation**\n",
        "\n",
        "\n",
        "**Péter Kovács**"
      ]
    },
    {
      "cell_type": "markdown",
      "metadata": {
        "id": "9x_J5FVuPzbm"
      },
      "source": [
        "# **Abstract**"
      ]
    },
    {
      "cell_type": "markdown",
      "metadata": {
        "id": "yJipbXtnjrJZ"
      },
      "source": [
        "In this lab assignment, we deal with projection methods for function approximation.\n",
        "\n",
        "First, a linear piecewise approximation is computed, then we apply the FEM method to estimate the solution of the Poisson-equation."
      ]
    },
    {
      "cell_type": "markdown",
      "metadata": {
        "id": "OkT8J7uOWpT3"
      },
      "source": [
        "#**About the code**"
      ]
    },
    {
      "cell_type": "markdown",
      "metadata": {
        "id": "HmB2noTr1Oyo"
      },
      "source": [
        "A short statement on who is the author of the file, and if the code is distributed under a certain license. "
      ]
    },
    {
      "cell_type": "code",
      "metadata": {
        "id": "Pdll1Xc9WP0e",
        "colab": {
          "base_uri": "https://localhost:8080/",
          "height": 35
        },
        "outputId": "ef03dd4f-68a4-49d9-cc5d-9d0adf151bb8"
      },
      "source": [
        "\"\"\"This program is a template for lab reports in the course\"\"\"\n",
        "\"\"\"DD2363 Methods in Scientific Computing, \"\"\"\n",
        "\"\"\"KTH Royal Institute of Technology, Stockholm, Sweden.\"\"\"\n",
        "\n",
        "# Copyright (C) 2022 Péter Kovács (ptkovacs@kth.se)\n",
        "\n",
        "# This file is part of the course DD2363 Methods in Scientific Computing\n",
        "# KTH Royal Institute of Technology, Stockholm, Sweden\n",
        "#\n",
        "# This is free software: you can redistribute it and/or modify\n",
        "# it under the terms of the GNU Lesser General Public License as published by\n",
        "# the Free Software Foundation, either version 3 of the License, or\n",
        "# (at your option) any later version.\n",
        "\n",
        "# This template is maintained by Johan Hoffman\n",
        "# Please report problems to jhoffman@kth.se"
      ],
      "execution_count": null,
      "outputs": [
        {
          "output_type": "execute_result",
          "data": {
            "application/vnd.google.colaboratory.intrinsic+json": {
              "type": "string"
            },
            "text/plain": [
              "'KTH Royal Institute of Technology, Stockholm, Sweden.'"
            ]
          },
          "metadata": {},
          "execution_count": 58
        }
      ]
    },
    {
      "cell_type": "markdown",
      "metadata": {
        "id": "28xLGz8JX3Hh"
      },
      "source": [
        "# **Set up environment**"
      ]
    },
    {
      "cell_type": "code",
      "metadata": {
        "id": "Xw7VlErAX7NS"
      },
      "source": [
        "# Load neccessary modules.\n",
        "from google.colab import files\n",
        "import numpy as np\n",
        "from scipy import integrate\n",
        "import theano\n",
        "import theano.tensor as tt\n"
      ],
      "execution_count": 1,
      "outputs": []
    },
    {
      "cell_type": "markdown",
      "metadata": {
        "id": "gnO3lhAigLev"
      },
      "source": [
        "# **Introduction**"
      ]
    },
    {
      "cell_type": "markdown",
      "metadata": {
        "id": "l5zMzgPlRAF6"
      },
      "source": [
        "Projection methods are an useful tool to estimate functions over a finite basis. Since the method is conceptually the same as projections for any vector space, we won't spend much time on describing the details which can be found in the course materials or any standard textbook.\n",
        "\n",
        "The main point of FEM is to reduce the estimation of the solution of PDEs to solving a system of linear equations. The general formulation of problem:\n",
        "\n",
        "a(u,v)=L(v)\n",
        "\n",
        "where **u** is the solution and **v** is an abitrary vector from the $V$ Sobolev-space associated with the problem. Symbols a(.,.) and L(.) stand for bilinear and linear forms respectively.\n",
        "\n",
        "In FEM, we want to approximate the true **u** solution by some **U** lying in a finite dimensional $V_N$ subspace of $V$. To achieve this, we only require the weak form of the PDE to hold for test functions from $V_N$. So then it follows, that if a(.,.) is appropriate to define an inner product on $V$, the FEM method is in fact an orthogonal projection method to $V_N$ wrt. that inner product!\n",
        "\n",
        "(And also, the solvability of the system of linear equations is then guaranteed by the Riesz representation theorem, so it is indeed crucial to be able to associate an inner product with a(.,.))\n",
        "\n",
        "\n"
      ]
    },
    {
      "cell_type": "markdown",
      "metadata": {
        "id": "jOQvukXZq5U5"
      },
      "source": [
        "# **Method**"
      ]
    },
    {
      "cell_type": "markdown",
      "source": [
        "Since we will use it in multiple contexts, I first implement a general assembly algorithm, similar to algorithm 9.2, with sufficient flexibility and then apply it to projecton. Later, a slightly modified version will be used for the Poisson part, because there, one needs to enforce continuity due to the nature of the bilinear form)\n",
        "\n",
        "### 0) Assembly and utilities\n",
        "\n",
        "Below I implement the assembly algorithm and auxiliary functions - code speaks for itself.\n",
        "\n",
        "I will rely on the scipy package to perform integrals.\n",
        "\n",
        "To avoid super-ugly code, I implement the 1D element class whose member functions will do the weight-lifting for the assembly\n",
        "\n"
      ],
      "metadata": {
        "id": "qaCelHGGbQv8"
      }
    },
    {
      "cell_type": "code",
      "source": [
        "class lagrange_1d_element:\n",
        "  def __init__(self,x0,x1,order):\n",
        "\n",
        "    self.order=order\n",
        "    self.x0=x0\n",
        "    self.x1=x1\n",
        "    \n",
        "\n",
        "    self.nodes=np.linspace(x0,x1,order+1) # support points for Lagrange basis\n",
        "    self.n=self.nodes.shape[0]\n",
        "\n",
        "  def local_shape(self,k,x): # implements the Lagrange nodal basis\n",
        "\n",
        "    denominator=1.\n",
        "    numerator=1.\n",
        "\n",
        "    if(x<self.x0 or x>=self.x1):\n",
        "      return 0.\n",
        "\n",
        "    for i in range(self.n):\n",
        "      if i!=k:\n",
        "        denominator*=self.nodes[k]-self.nodes[i]\n",
        "        numerator*=x-self.nodes[i]\n",
        "\n",
        "    return numerator/denominator\n",
        "\n",
        "  def get_local_shape_no(self):\n",
        "    return self.n\n",
        "\n",
        "  def integrate_matrix(self,i,j):\n",
        "    f_i=lambda x: self.local_shape(i,x)\n",
        "    f_j=lambda x: self.local_shape(j,x)\n",
        "\n",
        "    f=lambda x: f_i(x)*f_j(x)\n",
        "\n",
        "    return integrate.quad(f,self.x0,self.x1)[0]\n",
        "\n",
        "  def integrate_vector(self,i,g):\n",
        "    f_i=lambda x: self.local_shape(i,x)\n",
        "\n",
        "    f=lambda x: f_i(x)*g(x)\n",
        "\n",
        "    return integrate.quad(f,self.x0,self.x1)[0]"
      ],
      "metadata": {
        "id": "GiImw0QJmaOJ"
      },
      "execution_count": 2,
      "outputs": []
    },
    {
      "cell_type": "code",
      "source": [
        "class poisson_1d_element(lagrange_1d_element): # inherits from the basic Lagrange element, the matrix part is the only thing to override\n",
        "\n",
        "  def integrate_matrix(self,i,j):\n",
        "\n",
        "    integral=integrate.quad(lambda x: self.local_shape_d(i,x)*self.local_shape_d(j,x),self.x0,self.x1)[0]\n",
        "\n",
        "    return integral\n",
        "\n",
        "  def local_shape_d(self,k,x):\n",
        "\n",
        "      denominator=1.\n",
        "      numerator=1.\n",
        "\n",
        "      x_i=tt.dscalar()\n",
        "\n",
        "      _i=1.\n",
        "\n",
        "      if(x<self.x0 or x>=self.x1):\n",
        "        return 0.\n",
        "\n",
        "      for i in range(self.n):\n",
        "        if i!=k:\n",
        "          _i*=(x_i-self.nodes[i])/(self.nodes[k]-self.nodes[i])\n",
        "\n",
        "      df_i=tt.grad(_i,x_i)\n",
        "\n",
        "      di=theano.function([x_i],df_i)\n",
        "\n",
        "      return di(x)\n",
        "\n",
        " "
      ],
      "metadata": {
        "id": "usUO-61_LkQC"
      },
      "execution_count": 20,
      "outputs": []
    },
    {
      "cell_type": "code",
      "source": [
        "def assembly(f,mesh):\n",
        "  \"\"\"\n",
        "  Assembly algorithm for 1D applications\n",
        "  Arguments: f function and the mesh: a list of elements\n",
        "  returns A and b as the assembled system which then can be used for later computations \n",
        "  \"\"\"\n",
        "\n",
        "  \n",
        "  n=len(mesh)\n",
        "  local_shape_no=np.array([mesh[i].get_local_shape_no() for i in range(n)])\n",
        "  m=np.sum(local_shape_no)\n",
        "\n",
        "  A=np.zeros((m,m),float)\n",
        "  b=np.zeros(m,float)\n",
        "\n",
        "  loc2glob = lambda x: np.sum(local_shape_no[:x[0]])+x[1] # x is a 2-tuple of indices (global,local) \n",
        "\n",
        "  for i in range(n):\n",
        "    for j in range(local_shape_no[i]):\n",
        "      b[loc2glob((i,j))]=mesh[i].integrate_vector(j,f)\n",
        "      for k in range(local_shape_no[i]):\n",
        "        A[loc2glob((i,j)),loc2glob((i,k))]=mesh[i].integrate_matrix(j,k)\n",
        "\n",
        "  return A,b\n"
      ],
      "metadata": {
        "id": "unOAqdJ_bQhG"
      },
      "execution_count": 4,
      "outputs": []
    },
    {
      "cell_type": "markdown",
      "source": [
        "### 1) L2 projection for linear approximation\n",
        "\n",
        "In this part, we harvest the results of preliminary code.\n",
        "\n",
        "We do the projection with first order Lagrange shape functions (no continuity criterion enforced) and the assembly algorithm"
      ],
      "metadata": {
        "id": "YedicScAmHid"
      }
    },
    {
      "cell_type": "code",
      "source": [
        "def l2_linear_approx(f,xx):\n",
        "  \"\"\"\n",
        "  function for L2 standard linear approximation of input function f\n",
        "  xx is supposed to be the ordered list of mesh points\n",
        "\n",
        "  returns f' approximating function evaluated in the mesh points - right endpoint approximation, when possible\n",
        "  \"\"\"\n",
        "\n",
        "  mesh=[lagrange_1d_element(xx[i],xx[i+1],1) for i in range(len(xx)-1)]\n",
        " \n",
        "  A,b=assembly(f,mesh)\n",
        "\n",
        "  yy=np.linalg.solve(A,b)\n",
        "\n",
        "  return [yy[0]]+[yy[2*j+1] for j in range(len(mesh))]\n",
        "  "
      ],
      "metadata": {
        "id": "cZg32kfRmHO1"
      },
      "execution_count": 5,
      "outputs": []
    },
    {
      "cell_type": "code",
      "source": [
        "f=lambda x: np.sin(x)*x**2"
      ],
      "metadata": {
        "id": "_6R3MYxx0xFu"
      },
      "execution_count": 6,
      "outputs": []
    },
    {
      "cell_type": "code",
      "source": [
        "xx=np.linspace(-1,1,15)"
      ],
      "metadata": {
        "id": "AnE7zryN1CRc"
      },
      "execution_count": 7,
      "outputs": []
    },
    {
      "cell_type": "code",
      "source": [
        "y=l2_linear_approx(f,xx)"
      ],
      "metadata": {
        "id": "HRtQbGkhpL-3"
      },
      "execution_count": 8,
      "outputs": []
    },
    {
      "cell_type": "code",
      "source": [
        "import matplotlib.pyplot as plt"
      ],
      "metadata": {
        "id": "h9Zxxgxq11Og"
      },
      "execution_count": 9,
      "outputs": []
    },
    {
      "cell_type": "code",
      "source": [
        "plt.figure(figsize=(10,10))\n",
        "plt.plot(xx,[f(x) for x in xx],c='y')\n",
        "plt.scatter(xx,y)\n",
        "plt.show()"
      ],
      "metadata": {
        "colab": {
          "base_uri": "https://localhost:8080/",
          "height": 592
        },
        "id": "higPLazc2ytQ",
        "outputId": "14522055-4ef4-4a2b-d22e-fa2b0661c74f"
      },
      "execution_count": 10,
      "outputs": [
        {
          "output_type": "display_data",
          "data": {
            "image/png": "[encoded data removed]",
            "text/plain": [
              "<Figure size 720x720 with 1 Axes>"
            ]
          },
          "metadata": {
            "needs_background": "light"
          }
        }
      ]
    },
    {
      "cell_type": "code",
      "source": [
        "for n in [10,20,40,100,200]:\n",
        "  xx=np.linspace(-1,1,n)\n",
        "  y=l2_linear_approx(f,xx)\n",
        "\n",
        "  print(\"node no: %d\\tmax deviation: %f\"%(n,np.max(np.abs(np.array(y)-np.array([f(x) for x in xx])))))\n"
      ],
      "metadata": {
        "colab": {
          "base_uri": "https://localhost:8080/"
        },
        "id": "Y4RrJEkf2H0Y",
        "outputId": "5a73cbb8-055d-4ada-f13a-2749f7b22b03"
      },
      "execution_count": 11,
      "outputs": [
        {
          "output_type": "stream",
          "name": "stdout",
          "text": [
            "node no: 10\tmax deviation: 0.013099\n",
            "node no: 20\tmax deviation: 0.002959\n",
            "node no: 40\tmax deviation: 0.000703\n",
            "node no: 100\tmax deviation: 0.000109\n",
            "node no: 200\tmax deviation: 0.000027\n"
          ]
        }
      ]
    },
    {
      "cell_type": "markdown",
      "source": [
        "### 2) FEM for Poisson with Dirichlet boundary conditions\n",
        "\n",
        "As mentioned in the introduction, the FEM method is conceptually very similar to the pure projection, but now the inner product is defined with the a(.,.) bilinear form. \n",
        "\n",
        "The first step is to write out the weak form of the Poisson equation. Using the observation from class regarding partial intgeration and boundary conditions, \n",
        "\n",
        "$a(u,v) = \\int_0^1 u'(x) v'(x)~dx$ and\n",
        "\n",
        "$L(v)=\\int_0^1 f(x) v(x)~dx$\n",
        "\n",
        "(recall that the Poisson equation reads as $-u''(x) = f(x)$ and the BC are $u(0)=u(1)=0$)\n",
        "\n",
        "Thus we proceed in a very similar manner as for the L2 projection. The only thing to note that is when assemblying the system to solve, we do not consider the 'border nodes' - this impicitly enforces the Dirichlet boundary condition.\n",
        "\n",
        "Also observe that we use second order shape functions since the Poisson equaiton involves second derivatives. We require our approximate soliution to be continuous, otherwise the trick with partial integration (which is an essential step in obtaining an unique solution) fails."
      ],
      "metadata": {
        "id": "uvUPwkV1CwXr"
      }
    },
    {
      "cell_type": "code",
      "source": [
        "def assembly_continuous(f,mesh):\n",
        "  \"\"\"\n",
        "  Assembly algorithm for 1D applications, where the border nodes of the mesh are 'glued together' enforcing continuity\n",
        "  Arguments: f function and the mesh: a list of elements\n",
        "  returns A and b as the assembled system which then can be used for later computations \n",
        "  \"\"\"\n",
        "\n",
        "  \n",
        "  n=len(mesh)\n",
        "  local_shape_no=np.array([mesh[i].get_local_shape_no() for i in range(n)])\n",
        "  m=np.sum(local_shape_no)\n",
        "\n",
        "  _A=np.zeros((m-n+1,m-n+1),float)\n",
        "  _b=np.zeros(m-n+1,float)\n",
        "\n",
        "  loc2glob = lambda x: np.sum(local_shape_no[:x[0]])+x[1]-x[0] # x is a 2-tuple of indices (global,local) \n",
        "\n",
        "  for i in range(n):\n",
        "    for j in range(local_shape_no[i]):\n",
        "      _b[loc2glob((i,j))]+=mesh[i].integrate_vector(j,f)\n",
        "      for k in range(local_shape_no[i]):\n",
        "        _A[loc2glob((i,j)),loc2glob((i,k))]+=mesh[i].integrate_matrix(j,k)\n",
        "\n",
        " \n",
        "\n",
        "                                                                                 \n",
        "\n",
        "  return _A,_b"
      ],
      "metadata": {
        "id": "DtdUi_z_KJ-v"
      },
      "execution_count": 12,
      "outputs": []
    },
    {
      "cell_type": "code",
      "source": [
        "def fem_poisson(f,xx):\n",
        "  \"\"\"\n",
        "  function for FEM solution of the Poisson equation: f + u'' = 0 \n",
        "  function f is the source term\n",
        "  xx is supposed to be the ordered list of mesh points\n",
        "\n",
        "  returns u approximating function evaluated in the mesh points - right endpoint approximation, when possible\n",
        "\n",
        "  The solution uses second order Lagrange elements.\n",
        "  \"\"\"\n",
        "\n",
        "  mesh=[poisson_1d_element(xx[i],xx[i+1],2) for i in range(len(xx)-1)]\n",
        "\n",
        "  _A,_b=assembly_continuous(f,mesh) # benefits of modular coding :P\n",
        "\n",
        "  A=_A[1:-1,1:-1] # leave out nodes at border: enforce Dirichlet\n",
        "  b=_b[1:-1]\n",
        "\n",
        "  yy=np.linalg.solve(A,b)\n",
        "\n",
        "  return [0]+[yy[2*j] for j in range(len(mesh)-1)] +[0] # we utilize that the Lagrange basis is nodal\n"
      ],
      "metadata": {
        "id": "K0-Iy6IOO2MQ"
      },
      "execution_count": 13,
      "outputs": []
    },
    {
      "cell_type": "code",
      "source": [
        "f=lambda x: 1.*(x<0.6)*(x>0.4)"
      ],
      "metadata": {
        "id": "YiBkRtSIRNZN"
      },
      "execution_count": 14,
      "outputs": []
    },
    {
      "cell_type": "code",
      "source": [
        "f_exact=lambda x: (x<0.4)*0.1*x-(x>=0.4)*(x<0.6)*((x-0.5)**2-0.045)+(x>0.6)*(1-x)*0.1 # exact solution"
      ],
      "metadata": {
        "id": "So6RCYeDY-rv"
      },
      "execution_count": 16,
      "outputs": []
    },
    {
      "cell_type": "code",
      "source": [
        "xx=np.linspace(0,1,20)\n",
        "xxx=np.linspace(0,1,10)"
      ],
      "metadata": {
        "id": "Y_6kse3XRY0t"
      },
      "execution_count": 21,
      "outputs": []
    },
    {
      "cell_type": "code",
      "source": [
        "y=fem_poisson(f,xx)"
      ],
      "metadata": {
        "id": "D-s-tPDbTj_P"
      },
      "execution_count": 22,
      "outputs": []
    },
    {
      "cell_type": "code",
      "source": [
        "yy=fem_poisson(f,xxx)"
      ],
      "metadata": {
        "id": "OA90mqYTaenQ"
      },
      "execution_count": 23,
      "outputs": []
    },
    {
      "cell_type": "markdown",
      "source": [
        "The solutions are both quite close to the exact function."
      ],
      "metadata": {
        "id": "75ryg0FaegBB"
      }
    },
    {
      "cell_type": "code",
      "source": [
        "plt.figure()\n",
        "plt.plot(xx,y)\n",
        "plt.plot(xxx,yy)\n",
        "plt.plot(xx,[f_exact(x) for x in xx])\n",
        "plt.show()"
      ],
      "metadata": {
        "colab": {
          "base_uri": "https://localhost:8080/",
          "height": 265
        },
        "id": "0SmVU6ApTQSv",
        "outputId": "b2446821-830f-4fce-8e34-f90110e408e8"
      },
      "execution_count": 24,
      "outputs": [
        {
          "output_type": "display_data",
          "data": {
            "image/png": "[encoded data removed]",
            "text/plain": [
              "<Figure size 432x288 with 1 Axes>"
            ]
          },
          "metadata": {
            "needs_background": "light"
          }
        }
      ]
    },
    {
      "cell_type": "markdown",
      "metadata": {
        "id": "SsQLT38gVbn_"
      },
      "source": [
        "\n",
        "# **Summary, discussion**"
      ]
    },
    {
      "cell_type": "markdown",
      "metadata": {
        "id": "RLwlnOzuV-Cd"
      },
      "source": [
        "Both methods work as expected.\n",
        "\n",
        "The soluiton of the Poisson equation with FEM takes surprisingly long time. Most probably, I should have computed the integrals only once and store them (at least for the matrix elements).\n",
        "\n",
        "The FEM part may be a bit less documented, but I hope it's ok since this was not a compusory assignment."
      ]
    },
    {
      "cell_type": "code",
      "source": [
        ""
      ],
      "metadata": {
        "id": "G6dWmBvRnGYm"
      },
      "execution_count": null,
      "outputs": []
    }
  ]
}