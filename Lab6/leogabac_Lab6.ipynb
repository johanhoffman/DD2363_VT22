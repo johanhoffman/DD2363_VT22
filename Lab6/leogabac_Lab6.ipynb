{
  "cells": [
    {
      "cell_type": "markdown",
      "metadata": {
        "id": "view-in-github",
        "colab_type": "text"
      },
      "source": [
        "<a href=\"https://colab.research.google.com/github/johanhoffman/DD2363_VT22/blob/leogabac-Lab6/Lab6/leogabac_Lab6.ipynb\" target=\"_parent\"><img src=\"https://colab.research.google.com/assets/colab-badge.svg\" alt=\"Open In Colab\"/></a>"
      ]
    },
    {
      "cell_type": "markdown",
      "metadata": {
        "id": "6RgtXlfYO_i7"
      },
      "source": [
        "# **Lab 6: Differential Equations**\n",
        "**Leonardo Gabriel Alanis Cantú**"
      ]
    },
    {
      "cell_type": "markdown",
      "metadata": {
        "id": "9x_J5FVuPzbm"
      },
      "source": [
        "# **Abstract**"
      ]
    },
    {
      "cell_type": "markdown",
      "metadata": {
        "id": "P1X-FYSVUym9"
      },
      "source": [
        "In this report, we will look at some basic numerical methods for solving Ordinary Differential equations, that can be used to solve Higher Order ODEs, and systems of ODEs. The first tasks consits on solving a scalar IVP, whereas the second is a System of IVPs solver. The method implemented in code is called the _Heun's method_, which is explained in greater detail in the introduction section. The solvers are put to test with some solved problems against their analytical solutions. There results were acceptable."
      ]
    },
    {
      "cell_type": "code",
      "execution_count": null,
      "metadata": {
        "colab": {
          "base_uri": "https://localhost:8080/",
          "height": 37
        },
        "id": "Pdll1Xc9WP0e",
        "outputId": "9e782dc7-4ad0-48f9-d45c-2200e83dec4d"
      },
      "outputs": [
        {
          "data": {
            "text/plain": [
              "'KTH Royal Institute of Technology, Stockholm, Sweden.'"
            ]
          },
          "execution_count": 1,
          "metadata": {},
          "output_type": "execute_result"
        }
      ],
      "source": [
        "\"\"\"This program is a template for lab reports in the course\"\"\"\n",
        "\"\"\"DD2363 Methods in Scientific Computing, \"\"\"\n",
        "\"\"\"KTH Royal Institute of Technology, Stockholm, Sweden.\"\"\"\n",
        "\n",
        "# Copyright (C) 2020 Johan Hoffman (jhoffman@kth.se)\n",
        "\n",
        "# This file is part of the course DD2365 Advanced Computation in Fluid Mechanics\n",
        "# KTH Royal Institute of Technology, Stockholm, Sweden\n",
        "#\n",
        "# This is free software: you can redistribute it and/or modify\n",
        "# it under the terms of the GNU Lesser General Public License as published by\n",
        "# the Free Software Foundation, either version 3 of the License, or\n",
        "# (at your option) any later version.\n",
        "\n",
        "# This template is maintained by Johan Hoffman\n",
        "# Please report problems to jhoffman@kth.se"
      ]
    },
    {
      "cell_type": "markdown",
      "metadata": {
        "id": "28xLGz8JX3Hh"
      },
      "source": [
        "# **Set up environment**"
      ]
    },
    {
      "cell_type": "code",
      "execution_count": null,
      "metadata": {
        "id": "Xw7VlErAX7NS"
      },
      "outputs": [],
      "source": [
        "# Load neccessary modules.\n",
        "from google.colab import files\n",
        "\n",
        "import time\n",
        "import numpy as np\n",
        "from math import *\n",
        "from numpy import mean\n",
        "\n",
        "from matplotlib import pyplot as plt\n",
        "from matplotlib import tri\n",
        "from matplotlib import axes\n",
        "from mpl_toolkits.mplot3d import Axes3D"
      ]
    },
    {
      "cell_type": "markdown",
      "metadata": {
        "id": "gnO3lhAigLev"
      },
      "source": [
        "# **Introduction**"
      ]
    },
    {
      "cell_type": "markdown",
      "metadata": {
        "id": "l5zMzgPlRAF6"
      },
      "source": [
        "## The scalar IVP\n",
        "Considering the following ODE for a scalar function $u: [0,T] \\to \\mathbb{R}$\n",
        "\n",
        "$$\n",
        "\\dot{u}(t) = f(u(t),t)\\\\\n",
        "u(0) = u_0\n",
        "$$\n",
        "\n",
        "We can solve it by time-stepping if we integrate both sides from $t_{n-1}$ to $t_n$ to get the following integral equation.\n",
        "\n",
        "$$\n",
        "u(t_n) = u(t_{n-1}) + \\int_{t_{n-1}}^{t_n} f(u(t),t) \\text{ d}t.\n",
        "$$\n",
        "\n",
        "Depending on how we decide to solve the integral, we will get a whole family of different methods. Using the trapezoidal rule\n",
        "\n",
        "$$\n",
        "\\int_{t_{n-1}}^{t_n} f(u(t),t) \\text{ d}t \\approx \\dfrac{h}{2}\\left[ f(u_{n-1},t_{n-1}) + f(u_{n},t_{n}) \\right],\n",
        "$$\n",
        "\n",
        "we get the _Trapezoidal rule_ for time-stepping.\n",
        "\n",
        "$$\n",
        "u_n = u_{n-1} + \\dfrac{h}{2}\\left[ f(u_{n-1},t_{n-1}) + f(u_{n},t_{n}) \\right].\n",
        "$$\n",
        "\n",
        "Note that this is an implicit method, which requires to solve a root-finding problem at each step. One way of avoiding it is by replacing\n",
        "\n",
        "$$\n",
        "u_n = u_{n-1} + \\dfrac{h}{2}\\left[ f(u_{n-1},t_{n-1}) + f(\\tilde{u}_{n},t_{n}) \\right].\n",
        "$$\n",
        "\n",
        "where $\\tilde{u}_n$ is an ansatz given by the forward Euler's method.\n",
        "\n",
        "$$\n",
        "\\tilde{u}_n = u_{n-1} + hf(u_{n-1},t_{n-1}).\n",
        "$$\n",
        "\n",
        "This process is called _Heun's method_.\n",
        "\n",
        "## Systems of IVPs\n",
        "Here we consider the system of IVPs given as\n",
        "\n",
        "$$\n",
        "\\dot{u} = (\\dot{u}_1, \\dot{u}_2, \\ldots , \\dot{u}_n )^\\text{T}\n",
        "$$\n",
        "\n",
        "which represents a system of $n$ First order DE that can be solved symultaneously using the same methods as in the previous case. In this report (but time-stepping several equations instead of just one), the Heun's method will be implemented in both cases."
      ]
    },
    {
      "cell_type": "markdown",
      "metadata": {
        "id": "jOQvukXZq5U5"
      },
      "source": [
        "# **Method**"
      ]
    },
    {
      "cell_type": "markdown",
      "metadata": {
        "id": "zF4iBj5VURZx"
      },
      "source": [
        "Heun's method for scalar IVP."
      ]
    },
    {
      "cell_type": "code",
      "execution_count": null,
      "metadata": {
        "id": "FIArC-VOUynD"
      },
      "outputs": [],
      "source": [
        "def euler_ansatz(f,u_old,t_old,h):\n",
        "    return u_old + h*f(u_old,t_old)\n",
        "\n",
        "def heun(f,u0,t0,T,h = 0.1):\n",
        "    # ===== INPUT ===== #\n",
        "    # f: function-derivative\n",
        "    # Initial condition\n",
        "    # t0: Initial time\n",
        "    # T: Final time\n",
        "    # h: Step\n",
        "    \n",
        "    # ===== OUTPUT ===== #\n",
        "    # Solutions as columns of a matrix.\n",
        "    t = np.arange(t0,T+h,h)\n",
        "    u = np.zeros(len(t))\n",
        "    u[0] = u0\n",
        "    \n",
        "    for n in range(1,len(t)):\n",
        "        u_tilde = euler_ansatz(f, u[n-1], t[n-1], h)\n",
        "        add = f(u_tilde,t[n]) + f(u[n-1],t[n-1])\n",
        "        u[n] = u[n-1] + 0.5*h*add\n",
        "    \n",
        "    return (t,u)"
      ]
    },
    {
      "cell_type": "markdown",
      "metadata": {
        "id": "8u8CnE52UynD"
      },
      "source": [
        "Systems of IVPs."
      ]
    },
    {
      "cell_type": "code",
      "execution_count": null,
      "metadata": {
        "id": "n6d6ukkzUynE"
      },
      "outputs": [],
      "source": [
        "def bigF(fv,u,t):\n",
        "    # ===== INPUT ===== #\n",
        "    # fv: Vector of function-derivatives\n",
        "    # u: Vector of u's\n",
        "    # t: time\n",
        "    # ===== OUTPUT ===== #\n",
        "    # [f1(u_1,...u_n,t), ... , fn(u_1,...u_n,t) ]\n",
        "    return np.array([fi(u,t) for fi in fv])\n",
        "\n",
        "def heun2(f,u0,t0,T,h = 0.1):\n",
        "    # ===== INPUT ===== #\n",
        "    # f: Vector of function-derivatives\n",
        "    # u0: Vector of initial conditions\n",
        "    # t0: Initial time\n",
        "    # T: Final time\n",
        "    # h: Step\n",
        "    \n",
        "    # ===== OUTPUT ===== #\n",
        "    # Solutions as columns of a matrix.\n",
        "    \n",
        "    t = np.arange(t0,T+h,h)\n",
        "    u = np.zeros((len(t), len(u0)))\n",
        "    u[0] = u0\n",
        "    \n",
        "    for n in range(1,len(t)):\n",
        "        u_tilde = euler_ansatz(f, u[n-1], t[n-1], h)\n",
        "        add = f(u_tilde,t[n]) + f(u[n-1],t[n-1])\n",
        "        u[n,:] = u[n-1,:] + 0.5*h*add\n",
        "    \n",
        "    return (t,u)"
      ]
    },
    {
      "cell_type": "markdown",
      "metadata": {
        "id": "SsQLT38gVbn_"
      },
      "source": [
        "# **Results**"
      ]
    },
    {
      "cell_type": "markdown",
      "metadata": {
        "id": "i7XxomelUynE"
      },
      "source": [
        "We will test accuracy of the method by solving analytical problems, in this first case the DE\n",
        "\n",
        "$$\n",
        "\\dot{u} = \\ln(t), \\quad u(0) = -1\n",
        "$$\n",
        "\n",
        "with particular solution\n",
        "\n",
        "$$\n",
        "u(t) = t\\ln(t) - t\n",
        "$$\n",
        "\n",
        "Note that we are using a quite big step size, just to test how _good enough_ the method can perform under these conditions."
      ]
    },
    {
      "cell_type": "code",
      "execution_count": null,
      "metadata": {
        "id": "39drjRbcUynE",
        "outputId": "36c5cd01-487c-4e7a-d5ba-b2b57a313386"
      },
      "outputs": [
        {
          "name": "stdout",
          "output_type": "stream",
          "text": [
            "Normed residual: 0.06841297241889623\n",
            "Max residual: 0.01858718813171123\n",
            "Min residual: 0.0\n",
            "Mean residual: 0.014987563409612855\n"
          ]
        },
        {
          "data": {
            "image/png": "[encoded data removed]",
            "text/plain": [
              "<Figure size 432x288 with 1 Axes>"
            ]
          },
          "metadata": {
            "needs_background": "light"
          },
          "output_type": "display_data"
        }
      ],
      "source": [
        "def f(u,t):\n",
        "    return log(t)\n",
        "\n",
        "(t,u_approx) = heun(f, -1,1, 10, h = 0.5)\n",
        "u_real = t * np.log(t) - t \n",
        "\n",
        "diff = abs(u_approx - u_real)\n",
        "\n",
        "print(\"Normed residual:\", np.linalg.norm(diff))\n",
        "print(\"Max residual:\", np.max(diff))\n",
        "print(\"Min residual:\", np.min(diff))\n",
        "print(\"Mean residual:\", np.mean(diff))\n",
        "\n",
        "plt.plot(t,u_approx, 'o', markersize = 3)\n",
        "plt.plot(t,u_real)\n",
        "plt.title(\"h = 0.5\")\n",
        "plt.legend([\"Approximate\", \"Real\"])\n",
        "plt.show()"
      ]
    },
    {
      "cell_type": "markdown",
      "metadata": {
        "id": "NdrEuiKzUynF"
      },
      "source": [
        "Just for reference, we can test with some other step sizes"
      ]
    },
    {
      "cell_type": "code",
      "execution_count": null,
      "metadata": {
        "id": "_fmEsxzBUynF",
        "outputId": "3e0f7181-996b-43eb-bc65-fedb0cfa4c02"
      },
      "outputs": [
        {
          "name": "stdout",
          "output_type": "stream",
          "text": [
            "Normed residual: 0.5597765342463774\n",
            "Max residual: 0.27658287299621875\n",
            "Min residual: 0.0\n",
            "Mean residual: 0.20726182220579806\n"
          ]
        },
        {
          "data": {
            "image/png": "[encoded data removed]",
            "text/plain": [
              "<Figure size 432x288 with 1 Axes>"
            ]
          },
          "metadata": {
            "needs_background": "light"
          },
          "output_type": "display_data"
        }
      ],
      "source": [
        "(t,u_approx) = heun(f, -1,1, 10, h = 2)\n",
        "u_real = t * np.log(t) - t \n",
        "\n",
        "diff = abs(u_approx - u_real)\n",
        "\n",
        "print(\"Normed residual:\", np.linalg.norm(diff))\n",
        "print(\"Max residual:\", np.max(diff))\n",
        "print(\"Min residual:\", np.min(diff))\n",
        "print(\"Mean residual:\", np.mean(diff))\n",
        "\n",
        "plt.plot(t,u_approx, 'o', markersize = 3)\n",
        "plt.plot(t,u_real)\n",
        "plt.title(\"h = 2\")\n",
        "plt.legend([\"Approximate\", \"Real\"])\n",
        "plt.show()"
      ]
    },
    {
      "cell_type": "code",
      "execution_count": null,
      "metadata": {
        "id": "So_FI1XBUynF",
        "outputId": "65de430f-d30d-4f77-c82e-8d8a090fcd9b"
      },
      "outputs": [
        {
          "name": "stdout",
          "output_type": "stream",
          "text": [
            "Normed residual: 0.00019182667910589966\n",
            "Max residual: 7.4999722610158415e-06\n",
            "Min residual: 0.0\n",
            "Mean residual: 6.198555582607999e-06\n"
          ]
        },
        {
          "data": {
            "image/png": "[encoded data removed]",
            "text/plain": [
              "<Figure size 432x288 with 1 Axes>"
            ]
          },
          "metadata": {
            "needs_background": "light"
          },
          "output_type": "display_data"
        }
      ],
      "source": [
        "(t,u_approx) = heun(f, -1,1, 10, h = 0.01)\n",
        "u_real = t * np.log(t) - t \n",
        "\n",
        "diff = abs(u_approx - u_real)\n",
        "\n",
        "print(\"Normed residual:\", np.linalg.norm(diff))\n",
        "print(\"Max residual:\", np.max(diff))\n",
        "print(\"Min residual:\", np.min(diff))\n",
        "print(\"Mean residual:\", np.mean(diff))\n",
        "\n",
        "plt.plot(t,u_approx, 'o', markersize = 2)\n",
        "plt.plot(t,u_real)\n",
        "plt.title(\"h = 0.01\")\n",
        "plt.legend([\"Approximate\", \"Real\"])\n",
        "plt.show()"
      ]
    },
    {
      "cell_type": "markdown",
      "metadata": {
        "id": "YGelrFgeUynG"
      },
      "source": [
        "To test a system of IVPs we will look at the 2nd order ODE of the Classical Harmonic Oscillator\n",
        "\n",
        "$$\n",
        "\\ddot{u} + \\dfrac{k}{m}u = 0, \\quad u(0) = u_0, \\dot{u}(0) = v_0.\n",
        "$$\n",
        "\n",
        "We can treat this problem as a system of two ODEs that must be solved simultaneously.\n",
        "\n",
        "$$\n",
        "\\dot{u} = v, \\quad u(0) = u_0\\\\\n",
        "\\dot{v} = -\\dfrac{k}{m}, \\quad \\dot{u}(0) = v_0.\n",
        "$$\n",
        "\n",
        "with solution\n",
        "\n",
        "$$\n",
        "u(t) = u_0 \\cos(\\omega t) + \\dfrac{v_0}{\\omega}\\sin(\\omega t), \\quad \\omega = \\sqrt{k/m}\n",
        "$$"
      ]
    },
    {
      "cell_type": "code",
      "execution_count": null,
      "metadata": {
        "id": "G4sjhWkAUynG",
        "outputId": "56e4e612-5090-42c1-852e-00a24b456126"
      },
      "outputs": [
        {
          "name": "stdout",
          "output_type": "stream",
          "text": [
            "Normed residual: 1.188543227407857\n",
            "Max residual: 0.5549887369298097\n",
            "Min residual: 0.0\n",
            "Mean residual: 0.20141413950727904\n"
          ]
        },
        {
          "data": {
            "image/png": "[encoded data removed]",
            "text/plain": [
              "<Figure size 432x288 with 1 Axes>"
            ]
          },
          "metadata": {
            "needs_background": "light"
          },
          "output_type": "display_data"
        }
      ],
      "source": [
        "(k,m) = (3,3)\n",
        "omega = sqrt(k/m)\n",
        "\n",
        "def f1(u,t):\n",
        "    return u[1]\n",
        "\n",
        "def f2(u,t):\n",
        "    return -(k/m)*u[0]\n",
        "\n",
        "def f(u,t):\n",
        "    return bigF([f1,f2], u ,t)\n",
        "\n",
        "initial_conditions = [1,1]\n",
        "(t, u_approx) = heun2(f, initial_conditions, 0, 10, h = 0.5)\n",
        "\n",
        "x_approx = u_approx[:,0]\n",
        "x_real = initial_conditions[0]*np.cos(omega*t) + (initial_conditions[1]/omega)*np.sin(omega*t)\n",
        "\n",
        "diff = abs(x_approx - x_real)\n",
        "\n",
        "print(\"Normed residual:\", np.linalg.norm(diff))\n",
        "print(\"Max residual:\", np.max(diff))\n",
        "print(\"Min residual:\", np.min(diff))\n",
        "print(\"Mean residual:\", np.mean(diff))\n",
        "\n",
        "plt.plot(t,x_approx, 'o', markersize = 3)\n",
        "plt.plot(t,x_real)\n",
        "plt.title(\"h = 0.5\")\n",
        "plt.legend([\"Approximate\", \"Real\"])\n",
        "plt.show()"
      ]
    },
    {
      "cell_type": "markdown",
      "metadata": {
        "id": "7c3LY4S_UynG"
      },
      "source": [
        "And some other tests."
      ]
    },
    {
      "cell_type": "code",
      "execution_count": null,
      "metadata": {
        "id": "bIePjD2FUynH",
        "outputId": "8b72986b-6908-4240-8526-4e52d068f3be"
      },
      "outputs": [
        {
          "name": "stdout",
          "output_type": "stream",
          "text": [
            "Normed residual: 79.91317210208834\n",
            "Max residual: 77.61690736003418\n",
            "Min residual: 0.0\n",
            "Mean residual: 18.031449608719647\n"
          ]
        },
        {
          "data": {
            "image/png": "[encoded data removed]",
            "text/plain": [
              "<Figure size 432x288 with 1 Axes>"
            ]
          },
          "metadata": {
            "needs_background": "light"
          },
          "output_type": "display_data"
        }
      ],
      "source": [
        "initial_conditions = [1,1]\n",
        "(t, u_approx) = heun2(f, initial_conditions, 0, 10, h = 2)\n",
        "\n",
        "x_approx = u_approx[:,0]\n",
        "x_real = initial_conditions[0]*np.cos(omega*t) + (initial_conditions[1]/omega)*np.sin(omega*t)\n",
        "\n",
        "diff = abs(x_approx - x_real)\n",
        "\n",
        "print(\"Normed residual:\", np.linalg.norm(diff))\n",
        "print(\"Max residual:\", np.max(diff))\n",
        "print(\"Min residual:\", np.min(diff))\n",
        "print(\"Mean residual:\", np.mean(diff))\n",
        "\n",
        "plt.plot(t,x_approx, 'o', markersize = 3)\n",
        "plt.plot(t,x_real)\n",
        "plt.title(\"h = 2\")\n",
        "plt.legend([\"Approximate\", \"Real\"])\n",
        "plt.show()"
      ]
    },
    {
      "cell_type": "code",
      "execution_count": null,
      "metadata": {
        "id": "wQ2iB3s5UynH",
        "outputId": "afa1036d-f2f1-4f5a-b21c-bf6115f13c09"
      },
      "outputs": [
        {
          "name": "stdout",
          "output_type": "stream",
          "text": [
            "Normed residual: 0.003118349474173584\n",
            "Max residual: 0.00020515356882208624\n",
            "Min residual: 0.0\n",
            "Mean residual: 7.743305438876663e-05\n"
          ]
        },
        {
          "data": {
            "image/png": "[encoded data removed]",
            "text/plain": [
              "<Figure size 432x288 with 1 Axes>"
            ]
          },
          "metadata": {
            "needs_background": "light"
          },
          "output_type": "display_data"
        }
      ],
      "source": [
        "initial_conditions = [1,1]\n",
        "(t, u_approx) = heun2(f, initial_conditions, 0, 10, h = 0.01)\n",
        "\n",
        "x_approx = u_approx[:,0]\n",
        "x_real = initial_conditions[0]*np.cos(omega*t) + (initial_conditions[1]/omega)*np.sin(omega*t)\n",
        "\n",
        "diff = abs(x_approx - x_real)\n",
        "\n",
        "print(\"Normed residual:\", np.linalg.norm(diff))\n",
        "print(\"Max residual:\", np.max(diff))\n",
        "print(\"Min residual:\", np.min(diff))\n",
        "print(\"Mean residual:\", np.mean(diff))\n",
        "\n",
        "plt.plot(t,x_approx, 'o', markersize = 1)\n",
        "plt.plot(t,x_real)\n",
        "plt.title(\"h = 0.01\")\n",
        "plt.legend([\"Approximate\", \"Real\"])\n",
        "plt.show()"
      ]
    },
    {
      "cell_type": "markdown",
      "metadata": {
        "id": "_4GLBv0zWr7m"
      },
      "source": [
        "# **Discussion**"
      ]
    },
    {
      "cell_type": "markdown",
      "metadata": {
        "id": "6bcsDSoRXHZe"
      },
      "source": [
        "In this report, we looked primarily at the Heun's method for solving IVPs of Differential Equations. Generally speaking, the implemented code and the method impressed me a lot. At first glance we can consider it \"A slight modification of Euler's method\", and I did not expect really good results.\n",
        "\n",
        "As seen in the scalar test, the method is really accurate and stable, even for big step sizes. This is more likely to be consequence of the nature of the ODE. Note how the solution on the interval is a monotonically increasing function, i.e. it does not vary much, and can only increase. This behaviour makes it fairly easy for the method to have such good stability.\n",
        "\n",
        "The complete opposite happens in the System of IVPs, since we tested with an oscillatory function, with fairly big step sizes, the algorithm looses accuracy really fast; in fact, notice how the greater the frequency of oscillation, it deviates highly from the true solution."
      ]
    },
    {
      "cell_type": "code",
      "execution_count": null,
      "metadata": {
        "id": "TywmIFmJUynI",
        "outputId": "6d8e4038-2153-4f07-c7ba-b7b7e8d07f91"
      },
      "outputs": [
        {
          "name": "stdout",
          "output_type": "stream",
          "text": [
            "Normed residual: 9.886904167793887\n",
            "Max residual: 5.450881873528636\n",
            "Min residual: 0.0\n",
            "Mean residual: 1.5723561066446838\n"
          ]
        },
        {
          "data": {
            "image/png": "[encoded data removed]",
            "text/plain": [
              "<Figure size 432x288 with 1 Axes>"
            ]
          },
          "metadata": {
            "needs_background": "light"
          },
          "output_type": "display_data"
        }
      ],
      "source": [
        "(k,m) = (10,3)\n",
        "omega = sqrt(k/m)\n",
        "\n",
        "def f1(u,t):\n",
        "    return u[1]\n",
        "\n",
        "def f2(u,t):\n",
        "    return -(k/m)*u[0]\n",
        "\n",
        "def f(u,t):\n",
        "    return bigF([f1,f2], u ,t)\n",
        "\n",
        "initial_conditions = [1,1]\n",
        "(t, u_approx) = heun2(f, initial_conditions, 0, 10, h = 0.5)\n",
        "\n",
        "x_approx = u_approx[:,0]\n",
        "x_real = initial_conditions[0]*np.cos(omega*t) + (initial_conditions[1]/omega)*np.sin(omega*t)\n",
        "\n",
        "diff = abs(x_approx - x_real)\n",
        "\n",
        "print(\"Normed residual:\", np.linalg.norm(diff))\n",
        "print(\"Max residual:\", np.max(diff))\n",
        "print(\"Min residual:\", np.min(diff))\n",
        "print(\"Mean residual:\", np.mean(diff))\n",
        "\n",
        "plt.plot(t,x_approx, 'o', markersize = 3)\n",
        "plt.plot(t,x_real)\n",
        "plt.title(\"h = 0.5, k =10\")\n",
        "plt.legend([\"Approximate\", \"Real\"])\n",
        "plt.show()"
      ]
    },
    {
      "cell_type": "markdown",
      "metadata": {
        "id": "WOB6OBtWUynI"
      },
      "source": [
        "The moral of these experiments, is that not only the step size plays a role in the accurace (As seen in class on the study of error), but also the behaviour affects on how small errors evolve over time."
      ]
    },
    {
      "cell_type": "markdown",
      "metadata": {
        "id": "8eFibCLUUynI"
      },
      "source": [
        "Finally, just for the fun of it. I wanted to solve the Lorenz attractor system of equations\n",
        "\n",
        "$$\n",
        "\\begin{aligned}\n",
        "\\frac{\\mathrm{d} x}{\\mathrm{~d} t} &=\\sigma(y-x) \\\\\n",
        "\\frac{\\mathrm{d} y}{\\mathrm{~d} t} &=x(\\rho-z)-y \\\\\n",
        "\\frac{\\mathrm{d} z}{\\mathrm{~d} t} &=x y-\\beta z\n",
        "\\end{aligned}\n",
        "$$\n",
        "\n",
        "Note how on this chaotic system, even if we use $h=0.1$. It completely blows up"
      ]
    },
    {
      "cell_type": "code",
      "execution_count": null,
      "metadata": {
        "scrolled": false,
        "id": "5r_uJVSAUynI",
        "outputId": "67281596-dccd-4bf9-c17d-0adb66d7f61e"
      },
      "outputs": [
        {
          "name": "stderr",
          "output_type": "stream",
          "text": [
            "c:\\users\\leoga\\appdata\\local\\programs\\python\\python37\\lib\\site-packages\\ipykernel_launcher.py:9: RuntimeWarning: overflow encountered in double_scalars\n",
            "  if __name__ == '__main__':\n",
            "c:\\users\\leoga\\appdata\\local\\programs\\python\\python37\\lib\\site-packages\\ipykernel_launcher.py:12: RuntimeWarning: overflow encountered in double_scalars\n",
            "  if sys.path[0] == '':\n",
            "c:\\users\\leoga\\appdata\\local\\programs\\python\\python37\\lib\\site-packages\\ipykernel_launcher.py:12: RuntimeWarning: invalid value encountered in double_scalars\n",
            "  if sys.path[0] == '':\n",
            "c:\\users\\leoga\\appdata\\local\\programs\\python\\python37\\lib\\site-packages\\ipykernel_launcher.py:2: RuntimeWarning: invalid value encountered in add\n",
            "  \n"
          ]
        }
      ],
      "source": [
        "sigma = 10\n",
        "beta = 8/3\n",
        "rho = 28\n",
        "\n",
        "def f1(u,t):\n",
        "    return sigma*(u[1] - u[0])\n",
        "\n",
        "def f2(u,t):\n",
        "    return u[0]*(rho - u[2]) - u[1]\n",
        "\n",
        "def f3(u,t):\n",
        "    return u[0]*u[1] - beta*u[2]\n",
        "\n",
        "def f(u,t):\n",
        "    return bigF([f1,f2,f3], u ,t)\n",
        "\n",
        "initial_conditions = [1,2,3]\n",
        "(t, u_approx) = heun2(f, initial_conditions, 0, 50, h = 0.1)\n"
      ]
    },
    {
      "cell_type": "markdown",
      "metadata": {
        "id": "8_ZpKg8IUynJ"
      },
      "source": [
        "But being a bit more careful, we can reproduce the expected results."
      ]
    },
    {
      "cell_type": "code",
      "execution_count": null,
      "metadata": {
        "id": "8r6FP2kvUynJ",
        "outputId": "6370379d-3ea7-47d3-b94f-22251fb87756"
      },
      "outputs": [
        {
          "data": {
            "image/png": "[encoded data removed]",
            "text/plain": [
              "<Figure size 432x288 with 1 Axes>"
            ]
          },
          "metadata": {
            "needs_background": "light"
          },
          "output_type": "display_data"
        }
      ],
      "source": [
        "initial_conditions = [1,2,3]\n",
        "(t, u_approx) = heun2(f, initial_conditions, 0, 50, h = 0.01)\n",
        "\n",
        "x = u_approx[:,0]\n",
        "y = u_approx[:,1]\n",
        "z = u_approx[:,2]\n",
        "\n",
        "ax = plt.axes(projection = '3d')\n",
        "ax.plot(x, y, z)\n",
        "plt.title('Lorenz System')\n",
        "plt.show()"
      ]
    }
  ],
  "metadata": {
    "colab": {
      "name": "leogabac_Lab6.ipynb",
      "provenance": [],
      "include_colab_link": true
    },
    "kernelspec": {
      "display_name": "Python 3",
      "language": "python",
      "name": "python3"
    },
    "language_info": {
      "codemirror_mode": {
        "name": "ipython",
        "version": 3
      },
      "file_extension": ".py",
      "mimetype": "text/x-python",
      "name": "python",
      "nbconvert_exporter": "python",
      "pygments_lexer": "ipython3",
      "version": "3.7.8"
    }
  },
  "nbformat": 4,
  "nbformat_minor": 0
}